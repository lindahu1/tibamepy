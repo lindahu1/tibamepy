{
  "nbformat": 4,
  "nbformat_minor": 0,
  "metadata": {
    "colab": {
      "name": "Demo20200516.ipynb",
      "provenance": [],
      "collapsed_sections": []
    },
    "kernelspec": {
      "name": "python3",
      "display_name": "Python 3"
    }
  },
  "cells": [
    {
      "cell_type": "markdown",
      "metadata": {
        "id": "NbDrhT_RQCAa",
        "colab_type": "text"
      },
      "source": [
        "## 小作業\n",
        "- 請蒐集證交所109年度第一季所有上市公司各產業EPS統計資訊(https://mops.twse.com.tw/mops/web/t163sb19)\n",
        "- 使用Pandas 整理出資料表格\n",
        "- 請找出各產業基本每股盈餘(元)的第一名\n",
        "- 最後將資料儲存於 SQLite 中"
      ]
    },
    {
      "cell_type": "markdown",
      "metadata": {
        "id": "0UvH0BXhQIIO",
        "colab_type": "text"
      },
      "source": [
        "###爬取EPS資訊"
      ]
    },
    {
      "cell_type": "code",
      "metadata": {
        "id": "c70aLuyPHblh",
        "colab_type": "code",
        "colab": {}
      },
      "source": [
        "import requests\n",
        "payload = {\n",
        "  'encodeURIComponent': '1',\n",
        "  'step': '1',\n",
        "  'firstin': '1',\n",
        "  'TYPEK': 'sii',\n",
        "  'year': '109',\n",
        "  'season': '01'    \n",
        "}\n",
        "\n",
        "url = 'https://mops.twse.com.tw/mops/web/ajax_t163sb19'\n",
        "\n",
        "res = requests.post(url, data = payload)"
      ],
      "execution_count": 0,
      "outputs": []
    },
    {
      "cell_type": "code",
      "metadata": {
        "id": "tNeJn7T7JFed",
        "colab_type": "code",
        "colab": {}
      },
      "source": [
        "import pandas\n",
        "dfs = pandas.read_html(res.text)"
      ],
      "execution_count": 0,
      "outputs": []
    },
    {
      "cell_type": "code",
      "metadata": {
        "id": "Ud8mvn20JLBH",
        "colab_type": "code",
        "colab": {
          "base_uri": "https://localhost:8080/",
          "height": 35
        },
        "outputId": "d84826a4-6116-46bf-b1c1-c9c3f4ca10ac"
      },
      "source": [
        "len(dfs)"
      ],
      "execution_count": 4,
      "outputs": [
        {
          "output_type": "execute_result",
          "data": {
            "text/plain": [
              "28"
            ]
          },
          "metadata": {
            "tags": []
          },
          "execution_count": 4
        }
      ]
    },
    {
      "cell_type": "code",
      "metadata": {
        "id": "-o9iksSQJr1P",
        "colab_type": "code",
        "colab": {
          "base_uri": "https://localhost:8080/",
          "height": 35
        },
        "outputId": "73957d16-9d95-4fcb-9620-b5c682c1df8f"
      },
      "source": [
        "type(dfs)"
      ],
      "execution_count": 5,
      "outputs": [
        {
          "output_type": "execute_result",
          "data": {
            "text/plain": [
              "list"
            ]
          },
          "metadata": {
            "tags": []
          },
          "execution_count": 5
        }
      ]
    },
    {
      "cell_type": "code",
      "metadata": {
        "id": "N38pTOmJJtth",
        "colab_type": "code",
        "colab": {
          "base_uri": "https://localhost:8080/",
          "height": 402
        },
        "outputId": "6dbb9243-08fb-4138-fb84-9dabad3ef692"
      },
      "source": [
        "df = dfs[0]\n",
        "df[df['產業別'] != '加權平均數']"
      ],
      "execution_count": 7,
      "outputs": [
        {
          "output_type": "execute_result",
          "data": {
            "text/html": [
              "<div>\n",
              "<style scoped>\n",
              "    .dataframe tbody tr th:only-of-type {\n",
              "        vertical-align: middle;\n",
              "    }\n",
              "\n",
              "    .dataframe tbody tr th {\n",
              "        vertical-align: top;\n",
              "    }\n",
              "\n",
              "    .dataframe thead th {\n",
              "        text-align: right;\n",
              "    }\n",
              "</style>\n",
              "<table border=\"1\" class=\"dataframe\">\n",
              "  <thead>\n",
              "    <tr style=\"text-align: right;\">\n",
              "      <th></th>\n",
              "      <th>公司代號</th>\n",
              "      <th>公司名稱</th>\n",
              "      <th>產業別</th>\n",
              "      <th>基本每股盈餘(元)</th>\n",
              "      <th>普通股每股面額</th>\n",
              "      <th>營業收入</th>\n",
              "      <th>營業利益</th>\n",
              "      <th>營業外收入及支出</th>\n",
              "      <th>稅後淨利</th>\n",
              "    </tr>\n",
              "  </thead>\n",
              "  <tbody>\n",
              "    <tr>\n",
              "      <th>0</th>\n",
              "      <td>1101</td>\n",
              "      <td>台灣水泥股份有限公司</td>\n",
              "      <td>水泥工業</td>\n",
              "      <td>0.55</td>\n",
              "      <td>新台幣 10.0000元</td>\n",
              "      <td>21976200.0</td>\n",
              "      <td>4460154.0</td>\n",
              "      <td>273722.0</td>\n",
              "      <td>3481119.0</td>\n",
              "    </tr>\n",
              "    <tr>\n",
              "      <th>1</th>\n",
              "      <td>1109</td>\n",
              "      <td>信大水泥股份有限公司</td>\n",
              "      <td>水泥工業</td>\n",
              "      <td>0.27</td>\n",
              "      <td>新台幣 10.0000元</td>\n",
              "      <td>1165580.0</td>\n",
              "      <td>217284.0</td>\n",
              "      <td>-29077.0</td>\n",
              "      <td>137170.0</td>\n",
              "    </tr>\n",
              "    <tr>\n",
              "      <th>2</th>\n",
              "      <td>1102</td>\n",
              "      <td>亞洲水泥股份有限公司</td>\n",
              "      <td>水泥工業</td>\n",
              "      <td>0.24</td>\n",
              "      <td>新台幣 10.0000元</td>\n",
              "      <td>13138882.0</td>\n",
              "      <td>2021639.0</td>\n",
              "      <td>-453351.0</td>\n",
              "      <td>1130599.0</td>\n",
              "    </tr>\n",
              "    <tr>\n",
              "      <th>3</th>\n",
              "      <td>1108</td>\n",
              "      <td>幸福水泥股份有限公司</td>\n",
              "      <td>水泥工業</td>\n",
              "      <td>0.23</td>\n",
              "      <td>新台幣 10.0000元</td>\n",
              "      <td>1104720.0</td>\n",
              "      <td>110132.0</td>\n",
              "      <td>-5836.0</td>\n",
              "      <td>93609.0</td>\n",
              "    </tr>\n",
              "    <tr>\n",
              "      <th>4</th>\n",
              "      <td>1104</td>\n",
              "      <td>環球水泥股份有限公司</td>\n",
              "      <td>水泥工業</td>\n",
              "      <td>0.07</td>\n",
              "      <td>新台幣 10.0000元</td>\n",
              "      <td>1253758.0</td>\n",
              "      <td>67425.0</td>\n",
              "      <td>-16843.0</td>\n",
              "      <td>48161.0</td>\n",
              "    </tr>\n",
              "    <tr>\n",
              "      <th>6</th>\n",
              "      <td>1110</td>\n",
              "      <td>東南水泥股份有限公司</td>\n",
              "      <td>水泥工業</td>\n",
              "      <td>-0.05</td>\n",
              "      <td>新台幣 10.0000元</td>\n",
              "      <td>387944.0</td>\n",
              "      <td>-12597.0</td>\n",
              "      <td>-17552.0</td>\n",
              "      <td>-30941.0</td>\n",
              "    </tr>\n",
              "    <tr>\n",
              "      <th>7</th>\n",
              "      <td>1103</td>\n",
              "      <td>嘉新水泥股份有限公司</td>\n",
              "      <td>水泥工業</td>\n",
              "      <td>-0.33</td>\n",
              "      <td>新台幣 10.0000元</td>\n",
              "      <td>495334.0</td>\n",
              "      <td>-158911.0</td>\n",
              "      <td>-46824.0</td>\n",
              "      <td>-214194.0</td>\n",
              "    </tr>\n",
              "  </tbody>\n",
              "</table>\n",
              "</div>"
            ],
            "text/plain": [
              "   公司代號        公司名稱   產業別  ...       營業利益  營業外收入及支出       稅後淨利\n",
              "0  1101  台灣水泥股份有限公司  水泥工業  ...  4460154.0  273722.0  3481119.0\n",
              "1  1109  信大水泥股份有限公司  水泥工業  ...   217284.0  -29077.0   137170.0\n",
              "2  1102  亞洲水泥股份有限公司  水泥工業  ...  2021639.0 -453351.0  1130599.0\n",
              "3  1108  幸福水泥股份有限公司  水泥工業  ...   110132.0   -5836.0    93609.0\n",
              "4  1104  環球水泥股份有限公司  水泥工業  ...    67425.0  -16843.0    48161.0\n",
              "6  1110  東南水泥股份有限公司  水泥工業  ...   -12597.0  -17552.0   -30941.0\n",
              "7  1103  嘉新水泥股份有限公司  水泥工業  ...  -158911.0  -46824.0  -214194.0\n",
              "\n",
              "[7 rows x 9 columns]"
            ]
          },
          "metadata": {
            "tags": []
          },
          "execution_count": 7
        }
      ]
    },
    {
      "cell_type": "markdown",
      "metadata": {
        "id": "DWUpi2G2QL75",
        "colab_type": "text"
      },
      "source": [
        "### 資料預處理"
      ]
    },
    {
      "cell_type": "code",
      "metadata": {
        "id": "svfTkOY8J0qC",
        "colab_type": "code",
        "colab": {}
      },
      "source": [
        "# method 1\n",
        "industry_ary = []\n",
        "for industry in dfs:\n",
        "  industry_ary.append(industry[industry['產業別'] != '加權平均數'])\n",
        "industry_df = pandas.concat(industry_ary)"
      ],
      "execution_count": 0,
      "outputs": []
    },
    {
      "cell_type": "code",
      "metadata": {
        "id": "AIk5dicKKWbi",
        "colab_type": "code",
        "colab": {}
      },
      "source": [
        "# method 2\n",
        "industry_df = pandas.concat(dfs)\n",
        "industry_df = industry_df[industry_df['產業別'] != '加權平均數']\n",
        "industry_df.dropna(inplace=True)"
      ],
      "execution_count": 0,
      "outputs": []
    },
    {
      "cell_type": "code",
      "metadata": {
        "id": "pzgoZfDXKpEw",
        "colab_type": "code",
        "colab": {
          "base_uri": "https://localhost:8080/",
          "height": 306
        },
        "outputId": "2d0fa799-dfb6-4889-da8f-08ce1aec7e3b"
      },
      "source": [
        "industry_df.head()"
      ],
      "execution_count": 13,
      "outputs": [
        {
          "output_type": "execute_result",
          "data": {
            "text/html": [
              "<div>\n",
              "<style scoped>\n",
              "    .dataframe tbody tr th:only-of-type {\n",
              "        vertical-align: middle;\n",
              "    }\n",
              "\n",
              "    .dataframe tbody tr th {\n",
              "        vertical-align: top;\n",
              "    }\n",
              "\n",
              "    .dataframe thead th {\n",
              "        text-align: right;\n",
              "    }\n",
              "</style>\n",
              "<table border=\"1\" class=\"dataframe\">\n",
              "  <thead>\n",
              "    <tr style=\"text-align: right;\">\n",
              "      <th></th>\n",
              "      <th>公司代號</th>\n",
              "      <th>公司名稱</th>\n",
              "      <th>產業別</th>\n",
              "      <th>基本每股盈餘(元)</th>\n",
              "      <th>普通股每股面額</th>\n",
              "      <th>營業收入</th>\n",
              "      <th>營業利益</th>\n",
              "      <th>營業外收入及支出</th>\n",
              "      <th>稅後淨利</th>\n",
              "    </tr>\n",
              "  </thead>\n",
              "  <tbody>\n",
              "    <tr>\n",
              "      <th>0</th>\n",
              "      <td>1101</td>\n",
              "      <td>台灣水泥股份有限公司</td>\n",
              "      <td>水泥工業</td>\n",
              "      <td>0.55</td>\n",
              "      <td>新台幣 10.0000元</td>\n",
              "      <td>21976200.0</td>\n",
              "      <td>4.46015e+06</td>\n",
              "      <td>273722</td>\n",
              "      <td>3481119.0</td>\n",
              "    </tr>\n",
              "    <tr>\n",
              "      <th>1</th>\n",
              "      <td>1109</td>\n",
              "      <td>信大水泥股份有限公司</td>\n",
              "      <td>水泥工業</td>\n",
              "      <td>0.27</td>\n",
              "      <td>新台幣 10.0000元</td>\n",
              "      <td>1165580.0</td>\n",
              "      <td>217284</td>\n",
              "      <td>-29077</td>\n",
              "      <td>137170.0</td>\n",
              "    </tr>\n",
              "    <tr>\n",
              "      <th>2</th>\n",
              "      <td>1102</td>\n",
              "      <td>亞洲水泥股份有限公司</td>\n",
              "      <td>水泥工業</td>\n",
              "      <td>0.24</td>\n",
              "      <td>新台幣 10.0000元</td>\n",
              "      <td>13138882.0</td>\n",
              "      <td>2.02164e+06</td>\n",
              "      <td>-453351</td>\n",
              "      <td>1130599.0</td>\n",
              "    </tr>\n",
              "    <tr>\n",
              "      <th>3</th>\n",
              "      <td>1108</td>\n",
              "      <td>幸福水泥股份有限公司</td>\n",
              "      <td>水泥工業</td>\n",
              "      <td>0.23</td>\n",
              "      <td>新台幣 10.0000元</td>\n",
              "      <td>1104720.0</td>\n",
              "      <td>110132</td>\n",
              "      <td>-5836</td>\n",
              "      <td>93609.0</td>\n",
              "    </tr>\n",
              "    <tr>\n",
              "      <th>4</th>\n",
              "      <td>1104</td>\n",
              "      <td>環球水泥股份有限公司</td>\n",
              "      <td>水泥工業</td>\n",
              "      <td>0.07</td>\n",
              "      <td>新台幣 10.0000元</td>\n",
              "      <td>1253758.0</td>\n",
              "      <td>67425</td>\n",
              "      <td>-16843</td>\n",
              "      <td>48161.0</td>\n",
              "    </tr>\n",
              "  </tbody>\n",
              "</table>\n",
              "</div>"
            ],
            "text/plain": [
              "   公司代號        公司名稱   產業別  ...         營業利益 營業外收入及支出       稅後淨利\n",
              "0  1101  台灣水泥股份有限公司  水泥工業  ...  4.46015e+06   273722  3481119.0\n",
              "1  1109  信大水泥股份有限公司  水泥工業  ...       217284   -29077   137170.0\n",
              "2  1102  亞洲水泥股份有限公司  水泥工業  ...  2.02164e+06  -453351  1130599.0\n",
              "3  1108  幸福水泥股份有限公司  水泥工業  ...       110132    -5836    93609.0\n",
              "4  1104  環球水泥股份有限公司  水泥工業  ...        67425   -16843    48161.0\n",
              "\n",
              "[5 rows x 9 columns]"
            ]
          },
          "metadata": {
            "tags": []
          },
          "execution_count": 13
        }
      ]
    },
    {
      "cell_type": "markdown",
      "metadata": {
        "id": "j0fM6rcrQQ9Q",
        "colab_type": "text"
      },
      "source": [
        "### 資料統計與分析"
      ]
    },
    {
      "cell_type": "code",
      "metadata": {
        "id": "qFNUwrXKLL83",
        "colab_type": "code",
        "colab": {
          "base_uri": "https://localhost:8080/",
          "height": 537
        },
        "outputId": "d57c565a-e339-44e6-f399-f7c139e83a70"
      },
      "source": [
        "# SELECT 產業別, max(基本每股盈餘(元)) from industry_df GROUP BY 產業別;\n",
        "industry_df.groupby('產業別')['基本每股盈餘(元)'].max()"
      ],
      "execution_count": 14,
      "outputs": [
        {
          "output_type": "execute_result",
          "data": {
            "text/plain": [
              "產業別\n",
              "光電業         50.10\n",
              "其他           3.28\n",
              "其他電子業        5.09\n",
              "化學工業         2.50\n",
              "半導體業         8.20\n",
              "塑膠工業         1.45\n",
              "建材營造         3.21\n",
              "橡膠工業         1.55\n",
              "水泥工業         0.55\n",
              "汽車工業         6.35\n",
              "油電燃氣業        0.70\n",
              "玻璃陶瓷         0.48\n",
              "生技醫療業        2.62\n",
              "紡織纖維         3.06\n",
              "航運業          0.64\n",
              "觀光事業         1.68\n",
              "貿易百貨         5.61\n",
              "資訊服務業        1.86\n",
              "通信網路業        1.86\n",
              "造紙工業         0.81\n",
              "金融保險業        1.00\n",
              "鋼鐵工業         1.40\n",
              "電器電纜         2.15\n",
              "電子通路業        2.51\n",
              "電子零組件業       5.51\n",
              "電機機械         3.39\n",
              "電腦及週邊設備業     8.37\n",
              "食品工業         1.66\n",
              "Name: 基本每股盈餘(元), dtype: float64"
            ]
          },
          "metadata": {
            "tags": []
          },
          "execution_count": 14
        }
      ]
    },
    {
      "cell_type": "code",
      "metadata": {
        "id": "AbBJk4BhLqca",
        "colab_type": "code",
        "colab": {}
      },
      "source": [
        "#  SELECT '公司代號',\t'公司名稱', '產業別' '基本每股盈餘(元)_max' FROM\n",
        "#  industry_df a INNER JOIN\n",
        "# (SELECT 產業別, max(基本每股盈餘(元) as 基本每股盈餘(元)_max) from industry_df GROUP BY 產業別) b\n",
        "# ON a.產業別 = b.產業別 "
      ],
      "execution_count": 0,
      "outputs": []
    },
    {
      "cell_type": "code",
      "metadata": {
        "id": "13o1H5MmNHRS",
        "colab_type": "code",
        "colab": {
          "base_uri": "https://localhost:8080/",
          "height": 35
        },
        "outputId": "732566cb-7daf-4a85-eb2b-a6be09b6331a"
      },
      "source": [
        "len(industry_df)"
      ],
      "execution_count": 19,
      "outputs": [
        {
          "output_type": "execute_result",
          "data": {
            "text/plain": [
              "929"
            ]
          },
          "metadata": {
            "tags": []
          },
          "execution_count": 19
        }
      ]
    },
    {
      "cell_type": "code",
      "metadata": {
        "id": "L8YHZfa6Nb1B",
        "colab_type": "code",
        "colab": {}
      },
      "source": [
        "industry_df['基本每股盈餘(元)_max'] = industry_df.groupby('產業別')['基本每股盈餘(元)'].transform(max)"
      ],
      "execution_count": 0,
      "outputs": []
    },
    {
      "cell_type": "code",
      "metadata": {
        "id": "s5mMakApNhlR",
        "colab_type": "code",
        "colab": {
          "base_uri": "https://localhost:8080/",
          "height": 1000
        },
        "outputId": "2f4625cb-5d0a-4d75-cf94-6d32ea81df7f"
      },
      "source": [
        "ret_df"
      ],
      "execution_count": 30,
      "outputs": [
        {
          "output_type": "execute_result",
          "data": {
            "text/html": [
              "<div>\n",
              "<style scoped>\n",
              "    .dataframe tbody tr th:only-of-type {\n",
              "        vertical-align: middle;\n",
              "    }\n",
              "\n",
              "    .dataframe tbody tr th {\n",
              "        vertical-align: top;\n",
              "    }\n",
              "\n",
              "    .dataframe thead th {\n",
              "        text-align: right;\n",
              "    }\n",
              "</style>\n",
              "<table border=\"1\" class=\"dataframe\">\n",
              "  <thead>\n",
              "    <tr style=\"text-align: right;\">\n",
              "      <th></th>\n",
              "      <th>公司代號</th>\n",
              "      <th>公司名稱</th>\n",
              "      <th>產業別</th>\n",
              "      <th>基本每股盈餘(元)</th>\n",
              "      <th>普通股每股面額</th>\n",
              "      <th>營業收入</th>\n",
              "      <th>營業利益</th>\n",
              "      <th>營業外收入及支出</th>\n",
              "      <th>稅後淨利</th>\n",
              "      <th>基本每股盈餘(元)_max</th>\n",
              "    </tr>\n",
              "  </thead>\n",
              "  <tbody>\n",
              "    <tr>\n",
              "      <th>0</th>\n",
              "      <td>1101</td>\n",
              "      <td>台灣水泥股份有限公司</td>\n",
              "      <td>水泥工業</td>\n",
              "      <td>0.55</td>\n",
              "      <td>新台幣 10.0000元</td>\n",
              "      <td>21976200.0</td>\n",
              "      <td>4.46015e+06</td>\n",
              "      <td>273722</td>\n",
              "      <td>3481119.0</td>\n",
              "      <td>0.55</td>\n",
              "    </tr>\n",
              "    <tr>\n",
              "      <th>0</th>\n",
              "      <td>1232</td>\n",
              "      <td>大統益股份有限公司</td>\n",
              "      <td>食品工業</td>\n",
              "      <td>1.66</td>\n",
              "      <td>新台幣 10.0000元</td>\n",
              "      <td>4073683.0</td>\n",
              "      <td>327369</td>\n",
              "      <td>13952</td>\n",
              "      <td>273011.0</td>\n",
              "      <td>1.66</td>\n",
              "    </tr>\n",
              "    <tr>\n",
              "      <th>0</th>\n",
              "      <td>1325</td>\n",
              "      <td>恒大股份有限公司</td>\n",
              "      <td>塑膠工業</td>\n",
              "      <td>1.45</td>\n",
              "      <td>新台幣 10.0000元</td>\n",
              "      <td>428099.0</td>\n",
              "      <td>160997</td>\n",
              "      <td>3776</td>\n",
              "      <td>135215.0</td>\n",
              "      <td>1.45</td>\n",
              "    </tr>\n",
              "    <tr>\n",
              "      <th>0</th>\n",
              "      <td>4439</td>\n",
              "      <td>冠星集團控股有限公司</td>\n",
              "      <td>紡織纖維</td>\n",
              "      <td>3.06</td>\n",
              "      <td>新台幣 10.0000元</td>\n",
              "      <td>1424316.0</td>\n",
              "      <td>117149</td>\n",
              "      <td>10798</td>\n",
              "      <td>96369.0</td>\n",
              "      <td>3.06</td>\n",
              "    </tr>\n",
              "    <tr>\n",
              "      <th>0</th>\n",
              "      <td>1530</td>\n",
              "      <td>亞崴機電股份有限公司</td>\n",
              "      <td>電機機械</td>\n",
              "      <td>3.39</td>\n",
              "      <td>新台幣 10.0000元</td>\n",
              "      <td>591116.0</td>\n",
              "      <td>-16718</td>\n",
              "      <td>526915</td>\n",
              "      <td>545391.0</td>\n",
              "      <td>3.39</td>\n",
              "    </tr>\n",
              "    <tr>\n",
              "      <th>0</th>\n",
              "      <td>5283</td>\n",
              "      <td>禾聯碩股份有限公司</td>\n",
              "      <td>電器電纜</td>\n",
              "      <td>2.15</td>\n",
              "      <td>新台幣 10.0000元</td>\n",
              "      <td>1196022.0</td>\n",
              "      <td>194156</td>\n",
              "      <td>12771</td>\n",
              "      <td>163490.0</td>\n",
              "      <td>2.15</td>\n",
              "    </tr>\n",
              "    <tr>\n",
              "      <th>0</th>\n",
              "      <td>1817</td>\n",
              "      <td>凱撒衛浴股份有限公司</td>\n",
              "      <td>玻璃陶瓷</td>\n",
              "      <td>0.48</td>\n",
              "      <td>新台幣 10.0000元</td>\n",
              "      <td>481608.0</td>\n",
              "      <td>43590</td>\n",
              "      <td>265</td>\n",
              "      <td>34618.0</td>\n",
              "      <td>0.48</td>\n",
              "    </tr>\n",
              "    <tr>\n",
              "      <th>0</th>\n",
              "      <td>1904</td>\n",
              "      <td>正隆股份有限公司</td>\n",
              "      <td>造紙工業</td>\n",
              "      <td>0.81</td>\n",
              "      <td>新台幣 10.0000元</td>\n",
              "      <td>9074859.0</td>\n",
              "      <td>1.24925e+06</td>\n",
              "      <td>-126656</td>\n",
              "      <td>897554.0</td>\n",
              "      <td>0.81</td>\n",
              "    </tr>\n",
              "    <tr>\n",
              "      <th>0</th>\n",
              "      <td>3004</td>\n",
              "      <td>豐達科技股份有限公司(原宏達)</td>\n",
              "      <td>鋼鐵工業</td>\n",
              "      <td>1.40</td>\n",
              "      <td>新台幣 10.0000元</td>\n",
              "      <td>653665.0</td>\n",
              "      <td>86560</td>\n",
              "      <td>-627</td>\n",
              "      <td>73871.0</td>\n",
              "      <td>1.40</td>\n",
              "    </tr>\n",
              "    <tr>\n",
              "      <th>0</th>\n",
              "      <td>2114</td>\n",
              "      <td>鑫永銓股份有限公司</td>\n",
              "      <td>橡膠工業</td>\n",
              "      <td>1.55</td>\n",
              "      <td>新台幣 10.0000元</td>\n",
              "      <td>389975.0</td>\n",
              "      <td>132998</td>\n",
              "      <td>4122</td>\n",
              "      <td>109696.0</td>\n",
              "      <td>1.55</td>\n",
              "    </tr>\n",
              "    <tr>\n",
              "      <th>0</th>\n",
              "      <td>2207</td>\n",
              "      <td>和泰汽車股份有限公司</td>\n",
              "      <td>汽車工業</td>\n",
              "      <td>6.35</td>\n",
              "      <td>新台幣 10.0000元</td>\n",
              "      <td>57437924.0</td>\n",
              "      <td>--</td>\n",
              "      <td>--</td>\n",
              "      <td>4077415.0</td>\n",
              "      <td>6.35</td>\n",
              "    </tr>\n",
              "    <tr>\n",
              "      <th>0</th>\n",
              "      <td>5534</td>\n",
              "      <td>長虹建設股份有限公司</td>\n",
              "      <td>建材營造</td>\n",
              "      <td>3.21</td>\n",
              "      <td>新台幣 10.0000元</td>\n",
              "      <td>2573106.0</td>\n",
              "      <td>908598</td>\n",
              "      <td>58266</td>\n",
              "      <td>932873.0</td>\n",
              "      <td>3.21</td>\n",
              "    </tr>\n",
              "    <tr>\n",
              "      <th>0</th>\n",
              "      <td>2608</td>\n",
              "      <td>嘉里大榮物流股份有限公司</td>\n",
              "      <td>航運業</td>\n",
              "      <td>0.64</td>\n",
              "      <td>新台幣 10.0000元</td>\n",
              "      <td>2963631.0</td>\n",
              "      <td>413813</td>\n",
              "      <td>-18591</td>\n",
              "      <td>315246.0</td>\n",
              "      <td>0.64</td>\n",
              "    </tr>\n",
              "    <tr>\n",
              "      <th>0</th>\n",
              "      <td>8462</td>\n",
              "      <td>柏文健康事業股份有限公司</td>\n",
              "      <td>觀光事業</td>\n",
              "      <td>1.68</td>\n",
              "      <td>新台幣 10.0000元</td>\n",
              "      <td>873407.0</td>\n",
              "      <td>154417</td>\n",
              "      <td>-13317</td>\n",
              "      <td>114510.0</td>\n",
              "      <td>1.68</td>\n",
              "    </tr>\n",
              "    <tr>\n",
              "      <th>0</th>\n",
              "      <td>2823</td>\n",
              "      <td>中國人壽保險股份有限公司</td>\n",
              "      <td>金融保險業</td>\n",
              "      <td>1.00</td>\n",
              "      <td>新台幣 10.0000元</td>\n",
              "      <td>70861463.0</td>\n",
              "      <td>5255281</td>\n",
              "      <td>2212</td>\n",
              "      <td>4458858.0</td>\n",
              "      <td>1.00</td>\n",
              "    </tr>\n",
              "    <tr>\n",
              "      <th>0</th>\n",
              "      <td>2915</td>\n",
              "      <td>潤泰全球股份有限公司</td>\n",
              "      <td>貿易百貨</td>\n",
              "      <td>5.61</td>\n",
              "      <td>新台幣 10.0000元</td>\n",
              "      <td>697845.0</td>\n",
              "      <td>-23464</td>\n",
              "      <td>3078557</td>\n",
              "      <td>3013512.0</td>\n",
              "      <td>5.61</td>\n",
              "    </tr>\n",
              "    <tr>\n",
              "      <th>0</th>\n",
              "      <td>6670</td>\n",
              "      <td>復盛應用科技股份有限公司</td>\n",
              "      <td>其他</td>\n",
              "      <td>3.28</td>\n",
              "      <td>新台幣 10.0000元</td>\n",
              "      <td>3626255.0</td>\n",
              "      <td>483840</td>\n",
              "      <td>36338</td>\n",
              "      <td>445953.0</td>\n",
              "      <td>3.28</td>\n",
              "    </tr>\n",
              "    <tr>\n",
              "      <th>0</th>\n",
              "      <td>4763</td>\n",
              "      <td>濟南大自然新材料股份有限公司</td>\n",
              "      <td>化學工業</td>\n",
              "      <td>2.50</td>\n",
              "      <td>新台幣 10.0000元</td>\n",
              "      <td>524292.0</td>\n",
              "      <td>105366</td>\n",
              "      <td>33829</td>\n",
              "      <td>128099.0</td>\n",
              "      <td>2.50</td>\n",
              "    </tr>\n",
              "    <tr>\n",
              "      <th>0</th>\n",
              "      <td>4119</td>\n",
              "      <td>旭富製藥科技股份有限公司</td>\n",
              "      <td>生技醫療業</td>\n",
              "      <td>2.62</td>\n",
              "      <td>新台幣 10.0000元</td>\n",
              "      <td>784328.0</td>\n",
              "      <td>280202</td>\n",
              "      <td>-14387</td>\n",
              "      <td>208331.0</td>\n",
              "      <td>2.62</td>\n",
              "    </tr>\n",
              "    <tr>\n",
              "      <th>0</th>\n",
              "      <td>8926</td>\n",
              "      <td>台灣汽電共生股份有限公司</td>\n",
              "      <td>油電燃氣業</td>\n",
              "      <td>0.70</td>\n",
              "      <td>新台幣 10.0000元</td>\n",
              "      <td>2615701.0</td>\n",
              "      <td>75772</td>\n",
              "      <td>351109</td>\n",
              "      <td>413255.0</td>\n",
              "      <td>0.70</td>\n",
              "    </tr>\n",
              "    <tr>\n",
              "      <th>0</th>\n",
              "      <td>5269</td>\n",
              "      <td>祥碩科技股份有限公司</td>\n",
              "      <td>半導體業</td>\n",
              "      <td>8.20</td>\n",
              "      <td>新台幣 10.0000元</td>\n",
              "      <td>1585805.0</td>\n",
              "      <td>583527</td>\n",
              "      <td>19087</td>\n",
              "      <td>492600.0</td>\n",
              "      <td>8.20</td>\n",
              "    </tr>\n",
              "    <tr>\n",
              "      <th>0</th>\n",
              "      <td>6669</td>\n",
              "      <td>緯穎科技服務股份有限公司</td>\n",
              "      <td>電腦及週邊設備業</td>\n",
              "      <td>8.37</td>\n",
              "      <td>新台幣 10.0000元</td>\n",
              "      <td>35137124.0</td>\n",
              "      <td>1.81021e+06</td>\n",
              "      <td>24056</td>\n",
              "      <td>1462505.0</td>\n",
              "      <td>8.37</td>\n",
              "    </tr>\n",
              "    <tr>\n",
              "      <th>0</th>\n",
              "      <td>3008</td>\n",
              "      <td>大立光電股份有限公司</td>\n",
              "      <td>光電業</td>\n",
              "      <td>50.10</td>\n",
              "      <td>新台幣 10.0000元</td>\n",
              "      <td>13214517.0</td>\n",
              "      <td>7.85784e+06</td>\n",
              "      <td>414639</td>\n",
              "      <td>6720273.0</td>\n",
              "      <td>50.10</td>\n",
              "    </tr>\n",
              "    <tr>\n",
              "      <th>0</th>\n",
              "      <td>2345</td>\n",
              "      <td>智邦科技股份有限公司</td>\n",
              "      <td>通信網路業</td>\n",
              "      <td>1.86</td>\n",
              "      <td>新台幣 10.0000元</td>\n",
              "      <td>11724252.0</td>\n",
              "      <td>1.11604e+06</td>\n",
              "      <td>175382</td>\n",
              "      <td>1032374.0</td>\n",
              "      <td>1.86</td>\n",
              "    </tr>\n",
              "    <tr>\n",
              "      <th>0</th>\n",
              "      <td>2327</td>\n",
              "      <td>國巨股份有限公司</td>\n",
              "      <td>電子零組件業</td>\n",
              "      <td>5.51</td>\n",
              "      <td>新台幣 10.0000元</td>\n",
              "      <td>10023486.0</td>\n",
              "      <td>2.56234e+06</td>\n",
              "      <td>309029</td>\n",
              "      <td>2350314.0</td>\n",
              "      <td>5.51</td>\n",
              "    </tr>\n",
              "    <tr>\n",
              "      <th>0</th>\n",
              "      <td>5434</td>\n",
              "      <td>崇越科技股份有限公司</td>\n",
              "      <td>電子通路業</td>\n",
              "      <td>2.51</td>\n",
              "      <td>新台幣 10.0000元</td>\n",
              "      <td>8789852.0</td>\n",
              "      <td>500551</td>\n",
              "      <td>106870</td>\n",
              "      <td>454700.0</td>\n",
              "      <td>2.51</td>\n",
              "    </tr>\n",
              "    <tr>\n",
              "      <th>0</th>\n",
              "      <td>3130</td>\n",
              "      <td>一零四資訊科技股份有限公司</td>\n",
              "      <td>資訊服務業</td>\n",
              "      <td>1.86</td>\n",
              "      <td>新台幣 10.0000元</td>\n",
              "      <td>396918.0</td>\n",
              "      <td>71588</td>\n",
              "      <td>5208</td>\n",
              "      <td>61582.0</td>\n",
              "      <td>1.86</td>\n",
              "    </tr>\n",
              "    <tr>\n",
              "      <th>0</th>\n",
              "      <td>2474</td>\n",
              "      <td>可成科技股份有限公司</td>\n",
              "      <td>其他電子業</td>\n",
              "      <td>5.09</td>\n",
              "      <td>新台幣 10.0000元</td>\n",
              "      <td>17616374.0</td>\n",
              "      <td>2.83421e+06</td>\n",
              "      <td>2.54446e+06</td>\n",
              "      <td>3928657.0</td>\n",
              "      <td>5.09</td>\n",
              "    </tr>\n",
              "  </tbody>\n",
              "</table>\n",
              "</div>"
            ],
            "text/plain": [
              "   公司代號             公司名稱       產業別  ...     營業外收入及支出       稅後淨利  基本每股盈餘(元)_max\n",
              "0  1101       台灣水泥股份有限公司      水泥工業  ...       273722  3481119.0           0.55\n",
              "0  1232        大統益股份有限公司      食品工業  ...        13952   273011.0           1.66\n",
              "0  1325         恒大股份有限公司      塑膠工業  ...         3776   135215.0           1.45\n",
              "0  4439       冠星集團控股有限公司      紡織纖維  ...        10798    96369.0           3.06\n",
              "0  1530       亞崴機電股份有限公司      電機機械  ...       526915   545391.0           3.39\n",
              "0  5283        禾聯碩股份有限公司      電器電纜  ...        12771   163490.0           2.15\n",
              "0  1817       凱撒衛浴股份有限公司      玻璃陶瓷  ...          265    34618.0           0.48\n",
              "0  1904         正隆股份有限公司      造紙工業  ...      -126656   897554.0           0.81\n",
              "0  3004  豐達科技股份有限公司(原宏達)      鋼鐵工業  ...         -627    73871.0           1.40\n",
              "0  2114        鑫永銓股份有限公司      橡膠工業  ...         4122   109696.0           1.55\n",
              "0  2207       和泰汽車股份有限公司      汽車工業  ...           --  4077415.0           6.35\n",
              "0  5534       長虹建設股份有限公司      建材營造  ...        58266   932873.0           3.21\n",
              "0  2608     嘉里大榮物流股份有限公司       航運業  ...       -18591   315246.0           0.64\n",
              "0  8462     柏文健康事業股份有限公司      觀光事業  ...       -13317   114510.0           1.68\n",
              "0  2823     中國人壽保險股份有限公司     金融保險業  ...         2212  4458858.0           1.00\n",
              "0  2915       潤泰全球股份有限公司      貿易百貨  ...      3078557  3013512.0           5.61\n",
              "0  6670     復盛應用科技股份有限公司        其他  ...        36338   445953.0           3.28\n",
              "0  4763   濟南大自然新材料股份有限公司      化學工業  ...        33829   128099.0           2.50\n",
              "0  4119     旭富製藥科技股份有限公司     生技醫療業  ...       -14387   208331.0           2.62\n",
              "0  8926     台灣汽電共生股份有限公司     油電燃氣業  ...       351109   413255.0           0.70\n",
              "0  5269       祥碩科技股份有限公司      半導體業  ...        19087   492600.0           8.20\n",
              "0  6669     緯穎科技服務股份有限公司  電腦及週邊設備業  ...        24056  1462505.0           8.37\n",
              "0  3008       大立光電股份有限公司       光電業  ...       414639  6720273.0          50.10\n",
              "0  2345       智邦科技股份有限公司     通信網路業  ...       175382  1032374.0           1.86\n",
              "0  2327         國巨股份有限公司    電子零組件業  ...       309029  2350314.0           5.51\n",
              "0  5434       崇越科技股份有限公司     電子通路業  ...       106870   454700.0           2.51\n",
              "0  3130    一零四資訊科技股份有限公司     資訊服務業  ...         5208    61582.0           1.86\n",
              "0  2474       可成科技股份有限公司     其他電子業  ...  2.54446e+06  3928657.0           5.09\n",
              "\n",
              "[28 rows x 10 columns]"
            ]
          },
          "metadata": {
            "tags": []
          },
          "execution_count": 30
        }
      ]
    },
    {
      "cell_type": "code",
      "metadata": {
        "id": "LBAupTWlMbSi",
        "colab_type": "code",
        "colab": {}
      },
      "source": [
        "ret_df = industry_df[industry_df['基本每股盈餘(元)'] == industry_df.groupby('產業別')['基本每股盈餘(元)'].transform(max)]"
      ],
      "execution_count": 0,
      "outputs": []
    },
    {
      "cell_type": "markdown",
      "metadata": {
        "id": "8ma37kRCQWGh",
        "colab_type": "text"
      },
      "source": [
        "### 資料儲存"
      ]
    },
    {
      "cell_type": "code",
      "metadata": {
        "id": "gEMtC5b0Mf4u",
        "colab_type": "code",
        "colab": {}
      },
      "source": [
        "import sqlite3 as lite\n",
        "with lite.connect('stock.sqlite') as con:\n",
        "  industry_df.to_sql('industry_stat', con = con, if_exists='replace')"
      ],
      "execution_count": 0,
      "outputs": []
    },
    {
      "cell_type": "code",
      "metadata": {
        "id": "IIAgYOMyOcjQ",
        "colab_type": "code",
        "colab": {
          "base_uri": "https://localhost:8080/",
          "height": 202
        },
        "outputId": "c0174097-4c70-443e-8518-e74c7b05c584"
      },
      "source": [
        "import sqlite3 as lite\n",
        "with lite.connect('stock.sqlite') as con:\n",
        "  df2 = pandas.read_sql_query(\n",
        "      'SELECT `產業別`,  MAX(`基本每股盈餘(元)`) FROM industry_stat GROUP BY `產業別`;', con = con)\n",
        "df2.head()"
      ],
      "execution_count": 28,
      "outputs": [
        {
          "output_type": "execute_result",
          "data": {
            "text/html": [
              "<div>\n",
              "<style scoped>\n",
              "    .dataframe tbody tr th:only-of-type {\n",
              "        vertical-align: middle;\n",
              "    }\n",
              "\n",
              "    .dataframe tbody tr th {\n",
              "        vertical-align: top;\n",
              "    }\n",
              "\n",
              "    .dataframe thead th {\n",
              "        text-align: right;\n",
              "    }\n",
              "</style>\n",
              "<table border=\"1\" class=\"dataframe\">\n",
              "  <thead>\n",
              "    <tr style=\"text-align: right;\">\n",
              "      <th></th>\n",
              "      <th>產業別</th>\n",
              "      <th>MAX(`基本每股盈餘(元)`)</th>\n",
              "    </tr>\n",
              "  </thead>\n",
              "  <tbody>\n",
              "    <tr>\n",
              "      <th>0</th>\n",
              "      <td>光電業</td>\n",
              "      <td>50.10</td>\n",
              "    </tr>\n",
              "    <tr>\n",
              "      <th>1</th>\n",
              "      <td>其他</td>\n",
              "      <td>3.28</td>\n",
              "    </tr>\n",
              "    <tr>\n",
              "      <th>2</th>\n",
              "      <td>其他電子業</td>\n",
              "      <td>5.09</td>\n",
              "    </tr>\n",
              "    <tr>\n",
              "      <th>3</th>\n",
              "      <td>化學工業</td>\n",
              "      <td>2.50</td>\n",
              "    </tr>\n",
              "    <tr>\n",
              "      <th>4</th>\n",
              "      <td>半導體業</td>\n",
              "      <td>8.20</td>\n",
              "    </tr>\n",
              "  </tbody>\n",
              "</table>\n",
              "</div>"
            ],
            "text/plain": [
              "     產業別  MAX(`基本每股盈餘(元)`)\n",
              "0    光電業             50.10\n",
              "1     其他              3.28\n",
              "2  其他電子業              5.09\n",
              "3   化學工業              2.50\n",
              "4   半導體業              8.20"
            ]
          },
          "metadata": {
            "tags": []
          },
          "execution_count": 28
        }
      ]
    },
    {
      "cell_type": "code",
      "metadata": {
        "id": "YRqGLq7rOviB",
        "colab_type": "code",
        "colab": {}
      },
      "source": [
        "\n",
        "a = pandas.DataFrame([{'a':1}])\n",
        "b = pandas.DataFrame([{'a':2}])\n",
        "c = pandas.DataFrame([{'a':3}])\n",
        "\n",
        "li = [a,b,c]\n"
      ],
      "execution_count": 0,
      "outputs": []
    },
    {
      "cell_type": "code",
      "metadata": {
        "id": "eT4lkX3QTmY0",
        "colab_type": "code",
        "colab": {
          "base_uri": "https://localhost:8080/",
          "height": 79
        },
        "outputId": "1a51578b-997e-4b9c-d045-79597213db44"
      },
      "source": [
        "li[1]"
      ],
      "execution_count": 38,
      "outputs": [
        {
          "output_type": "execute_result",
          "data": {
            "text/html": [
              "<div>\n",
              "<style scoped>\n",
              "    .dataframe tbody tr th:only-of-type {\n",
              "        vertical-align: middle;\n",
              "    }\n",
              "\n",
              "    .dataframe tbody tr th {\n",
              "        vertical-align: top;\n",
              "    }\n",
              "\n",
              "    .dataframe thead th {\n",
              "        text-align: right;\n",
              "    }\n",
              "</style>\n",
              "<table border=\"1\" class=\"dataframe\">\n",
              "  <thead>\n",
              "    <tr style=\"text-align: right;\">\n",
              "      <th></th>\n",
              "      <th>a</th>\n",
              "    </tr>\n",
              "  </thead>\n",
              "  <tbody>\n",
              "    <tr>\n",
              "      <th>0</th>\n",
              "      <td>2</td>\n",
              "    </tr>\n",
              "  </tbody>\n",
              "</table>\n",
              "</div>"
            ],
            "text/plain": [
              "   a\n",
              "0  2"
            ]
          },
          "metadata": {
            "tags": []
          },
          "execution_count": 38
        }
      ]
    },
    {
      "cell_type": "code",
      "metadata": {
        "id": "_nyy3KgvTBZJ",
        "colab_type": "code",
        "colab": {
          "base_uri": "https://localhost:8080/",
          "height": 141
        },
        "outputId": "15c3e9c4-22f2-48e2-a36d-e7b4adc90c13"
      },
      "source": [
        "pandas.concat(li, axis = 0)"
      ],
      "execution_count": 40,
      "outputs": [
        {
          "output_type": "execute_result",
          "data": {
            "text/html": [
              "<div>\n",
              "<style scoped>\n",
              "    .dataframe tbody tr th:only-of-type {\n",
              "        vertical-align: middle;\n",
              "    }\n",
              "\n",
              "    .dataframe tbody tr th {\n",
              "        vertical-align: top;\n",
              "    }\n",
              "\n",
              "    .dataframe thead th {\n",
              "        text-align: right;\n",
              "    }\n",
              "</style>\n",
              "<table border=\"1\" class=\"dataframe\">\n",
              "  <thead>\n",
              "    <tr style=\"text-align: right;\">\n",
              "      <th></th>\n",
              "      <th>a</th>\n",
              "    </tr>\n",
              "  </thead>\n",
              "  <tbody>\n",
              "    <tr>\n",
              "      <th>0</th>\n",
              "      <td>1</td>\n",
              "    </tr>\n",
              "    <tr>\n",
              "      <th>0</th>\n",
              "      <td>2</td>\n",
              "    </tr>\n",
              "    <tr>\n",
              "      <th>0</th>\n",
              "      <td>3</td>\n",
              "    </tr>\n",
              "  </tbody>\n",
              "</table>\n",
              "</div>"
            ],
            "text/plain": [
              "   a\n",
              "0  1\n",
              "0  2\n",
              "0  3"
            ]
          },
          "metadata": {
            "tags": []
          },
          "execution_count": 40
        }
      ]
    },
    {
      "cell_type": "code",
      "metadata": {
        "id": "z6klTmGqTvB6",
        "colab_type": "code",
        "colab": {
          "base_uri": "https://localhost:8080/",
          "height": 79
        },
        "outputId": "978dbb6f-ff6e-400d-9dc4-4f21eb6b80e6"
      },
      "source": [
        "pandas.concat(li, axis = 1)"
      ],
      "execution_count": 39,
      "outputs": [
        {
          "output_type": "execute_result",
          "data": {
            "text/html": [
              "<div>\n",
              "<style scoped>\n",
              "    .dataframe tbody tr th:only-of-type {\n",
              "        vertical-align: middle;\n",
              "    }\n",
              "\n",
              "    .dataframe tbody tr th {\n",
              "        vertical-align: top;\n",
              "    }\n",
              "\n",
              "    .dataframe thead th {\n",
              "        text-align: right;\n",
              "    }\n",
              "</style>\n",
              "<table border=\"1\" class=\"dataframe\">\n",
              "  <thead>\n",
              "    <tr style=\"text-align: right;\">\n",
              "      <th></th>\n",
              "      <th>a</th>\n",
              "      <th>a</th>\n",
              "      <th>a</th>\n",
              "    </tr>\n",
              "  </thead>\n",
              "  <tbody>\n",
              "    <tr>\n",
              "      <th>0</th>\n",
              "      <td>1</td>\n",
              "      <td>2</td>\n",
              "      <td>3</td>\n",
              "    </tr>\n",
              "  </tbody>\n",
              "</table>\n",
              "</div>"
            ],
            "text/plain": [
              "   a  a  a\n",
              "0  1  2  3"
            ]
          },
          "metadata": {
            "tags": []
          },
          "execution_count": 39
        }
      ]
    },
    {
      "cell_type": "markdown",
      "metadata": {
        "id": "CiLwJdi0UEI1",
        "colab_type": "text"
      },
      "source": [
        "## 找出 colab 的網路連結"
      ]
    },
    {
      "cell_type": "code",
      "metadata": {
        "id": "zA-RneHATGrB",
        "colab_type": "code",
        "colab": {
          "base_uri": "https://localhost:8080/",
          "height": 35
        },
        "outputId": "22225c65-612f-4380-928c-00f6a3497b96"
      },
      "source": [
        "from google.colab.output import eval_js\n",
        "print(eval_js(\"google.colab.kernel.proxyPort(8000)\"))"
      ],
      "execution_count": 35,
      "outputs": [
        {
          "output_type": "stream",
          "text": [
            "https://fzjj09mxsbw-496ff2e9c6d22116-8000-colab.googleusercontent.com/\n"
          ],
          "name": "stdout"
        }
      ]
    },
    {
      "cell_type": "code",
      "metadata": {
        "id": "5_GTrJw3TRN3",
        "colab_type": "code",
        "colab": {
          "base_uri": "https://localhost:8080/",
          "height": 156
        },
        "outputId": "0a99584d-6603-41bc-f104-5cdaecdcba62"
      },
      "source": [
        "!python -m http.server 8000"
      ],
      "execution_count": 41,
      "outputs": [
        {
          "output_type": "stream",
          "text": [
            "Serving HTTP on 0.0.0.0 port 8000 (http://0.0.0.0:8000/) ...\n",
            "127.0.0.1 - - [16/May/2020 02:30:21] \"GET / HTTP/1.1\" 200 -\n",
            "127.0.0.1 - - [16/May/2020 02:30:21] code 404, message File not found\n",
            "127.0.0.1 - - [16/May/2020 02:30:21] \"GET /favicon.ico HTTP/1.1\" 404 -\n",
            "127.0.0.1 - - [16/May/2020 02:30:36] \"GET /stock.sqlite HTTP/1.1\" 200 -\n",
            "\n",
            "Keyboard interrupt received, exiting.\n",
            "^C\n"
          ],
          "name": "stdout"
        }
      ]
    },
    {
      "cell_type": "markdown",
      "metadata": {
        "id": "nMBQ49SRXPMr",
        "colab_type": "text"
      },
      "source": [
        "## 敘述性統計"
      ]
    },
    {
      "cell_type": "code",
      "metadata": {
        "id": "hRSKN9mwTU58",
        "colab_type": "code",
        "colab": {}
      },
      "source": [
        "from  pandas_datareader import DataReader"
      ],
      "execution_count": 0,
      "outputs": []
    },
    {
      "cell_type": "code",
      "metadata": {
        "id": "Zkb4lcOMXkD6",
        "colab_type": "code",
        "colab": {}
      },
      "source": [
        "?DataReader"
      ],
      "execution_count": 0,
      "outputs": []
    },
    {
      "cell_type": "code",
      "metadata": {
        "id": "bRG05pitXSwt",
        "colab_type": "code",
        "colab": {}
      },
      "source": [
        "tw2330 = DataReader('2330.TW', data_source = 'yahoo', start = '2000-01-01')"
      ],
      "execution_count": 0,
      "outputs": []
    },
    {
      "cell_type": "code",
      "metadata": {
        "id": "ziBBVG9SXbA9",
        "colab_type": "code",
        "colab": {
          "base_uri": "https://localhost:8080/",
          "height": 233
        },
        "outputId": "88d3322e-ad95-4e06-dd18-c23f1673bfc4"
      },
      "source": [
        "tw2330.head()"
      ],
      "execution_count": 51,
      "outputs": [
        {
          "output_type": "execute_result",
          "data": {
            "text/html": [
              "<div>\n",
              "<style scoped>\n",
              "    .dataframe tbody tr th:only-of-type {\n",
              "        vertical-align: middle;\n",
              "    }\n",
              "\n",
              "    .dataframe tbody tr th {\n",
              "        vertical-align: top;\n",
              "    }\n",
              "\n",
              "    .dataframe thead th {\n",
              "        text-align: right;\n",
              "    }\n",
              "</style>\n",
              "<table border=\"1\" class=\"dataframe\">\n",
              "  <thead>\n",
              "    <tr style=\"text-align: right;\">\n",
              "      <th></th>\n",
              "      <th>High</th>\n",
              "      <th>Low</th>\n",
              "      <th>Open</th>\n",
              "      <th>Close</th>\n",
              "      <th>Volume</th>\n",
              "      <th>Adj Close</th>\n",
              "    </tr>\n",
              "    <tr>\n",
              "      <th>Date</th>\n",
              "      <th></th>\n",
              "      <th></th>\n",
              "      <th></th>\n",
              "      <th></th>\n",
              "      <th></th>\n",
              "      <th></th>\n",
              "    </tr>\n",
              "  </thead>\n",
              "  <tbody>\n",
              "    <tr>\n",
              "      <th>2000-01-04</th>\n",
              "      <td>69.649002</td>\n",
              "      <td>68.475197</td>\n",
              "      <td>69.649002</td>\n",
              "      <td>69.649002</td>\n",
              "      <td>2.006623e+11</td>\n",
              "      <td>37.328552</td>\n",
              "    </tr>\n",
              "    <tr>\n",
              "      <th>2000-01-05</th>\n",
              "      <td>71.214104</td>\n",
              "      <td>68.866302</td>\n",
              "      <td>69.649002</td>\n",
              "      <td>71.214104</td>\n",
              "      <td>4.024668e+11</td>\n",
              "      <td>38.167374</td>\n",
              "    </tr>\n",
              "    <tr>\n",
              "      <th>2000-01-06</th>\n",
              "      <td>71.214104</td>\n",
              "      <td>69.649002</td>\n",
              "      <td>70.822899</td>\n",
              "      <td>69.649002</td>\n",
              "      <td>1.975457e+11</td>\n",
              "      <td>37.328552</td>\n",
              "    </tr>\n",
              "    <tr>\n",
              "      <th>2000-01-07</th>\n",
              "      <td>68.475197</td>\n",
              "      <td>66.518600</td>\n",
              "      <td>67.301300</td>\n",
              "      <td>67.692497</td>\n",
              "      <td>2.352703e+11</td>\n",
              "      <td>36.279961</td>\n",
              "    </tr>\n",
              "    <tr>\n",
              "      <th>2000-01-10</th>\n",
              "      <td>70.431396</td>\n",
              "      <td>68.475197</td>\n",
              "      <td>69.649002</td>\n",
              "      <td>70.040199</td>\n",
              "      <td>2.761717e+11</td>\n",
              "      <td>37.538216</td>\n",
              "    </tr>\n",
              "  </tbody>\n",
              "</table>\n",
              "</div>"
            ],
            "text/plain": [
              "                 High        Low       Open      Close        Volume  Adj Close\n",
              "Date                                                                           \n",
              "2000-01-04  69.649002  68.475197  69.649002  69.649002  2.006623e+11  37.328552\n",
              "2000-01-05  71.214104  68.866302  69.649002  71.214104  4.024668e+11  38.167374\n",
              "2000-01-06  71.214104  69.649002  70.822899  69.649002  1.975457e+11  37.328552\n",
              "2000-01-07  68.475197  66.518600  67.301300  67.692497  2.352703e+11  36.279961\n",
              "2000-01-10  70.431396  68.475197  69.649002  70.040199  2.761717e+11  37.538216"
            ]
          },
          "metadata": {
            "tags": []
          },
          "execution_count": 51
        }
      ]
    },
    {
      "cell_type": "code",
      "metadata": {
        "id": "0kkZOVNQX1xI",
        "colab_type": "code",
        "colab": {
          "base_uri": "https://localhost:8080/",
          "height": 233
        },
        "outputId": "ebd76fad-b079-4765-a6e2-36d4629b7fa3"
      },
      "source": [
        "tw2330.tail()"
      ],
      "execution_count": 52,
      "outputs": [
        {
          "output_type": "execute_result",
          "data": {
            "text/html": [
              "<div>\n",
              "<style scoped>\n",
              "    .dataframe tbody tr th:only-of-type {\n",
              "        vertical-align: middle;\n",
              "    }\n",
              "\n",
              "    .dataframe tbody tr th {\n",
              "        vertical-align: top;\n",
              "    }\n",
              "\n",
              "    .dataframe thead th {\n",
              "        text-align: right;\n",
              "    }\n",
              "</style>\n",
              "<table border=\"1\" class=\"dataframe\">\n",
              "  <thead>\n",
              "    <tr style=\"text-align: right;\">\n",
              "      <th></th>\n",
              "      <th>High</th>\n",
              "      <th>Low</th>\n",
              "      <th>Open</th>\n",
              "      <th>Close</th>\n",
              "      <th>Volume</th>\n",
              "      <th>Adj Close</th>\n",
              "    </tr>\n",
              "    <tr>\n",
              "      <th>Date</th>\n",
              "      <th></th>\n",
              "      <th></th>\n",
              "      <th></th>\n",
              "      <th></th>\n",
              "      <th></th>\n",
              "      <th></th>\n",
              "    </tr>\n",
              "  </thead>\n",
              "  <tbody>\n",
              "    <tr>\n",
              "      <th>2020-05-11</th>\n",
              "      <td>301.5</td>\n",
              "      <td>298.5</td>\n",
              "      <td>300.0</td>\n",
              "      <td>301.0</td>\n",
              "      <td>28727019.0</td>\n",
              "      <td>301.0</td>\n",
              "    </tr>\n",
              "    <tr>\n",
              "      <th>2020-05-12</th>\n",
              "      <td>298.5</td>\n",
              "      <td>295.0</td>\n",
              "      <td>297.5</td>\n",
              "      <td>295.0</td>\n",
              "      <td>52089788.0</td>\n",
              "      <td>295.0</td>\n",
              "    </tr>\n",
              "    <tr>\n",
              "      <th>2020-05-13</th>\n",
              "      <td>297.0</td>\n",
              "      <td>292.5</td>\n",
              "      <td>293.0</td>\n",
              "      <td>297.0</td>\n",
              "      <td>26156418.0</td>\n",
              "      <td>297.0</td>\n",
              "    </tr>\n",
              "    <tr>\n",
              "      <th>2020-05-14</th>\n",
              "      <td>295.0</td>\n",
              "      <td>292.5</td>\n",
              "      <td>293.0</td>\n",
              "      <td>293.0</td>\n",
              "      <td>34315948.0</td>\n",
              "      <td>293.0</td>\n",
              "    </tr>\n",
              "    <tr>\n",
              "      <th>2020-05-15</th>\n",
              "      <td>298.5</td>\n",
              "      <td>294.5</td>\n",
              "      <td>297.5</td>\n",
              "      <td>298.0</td>\n",
              "      <td>42494804.0</td>\n",
              "      <td>298.0</td>\n",
              "    </tr>\n",
              "  </tbody>\n",
              "</table>\n",
              "</div>"
            ],
            "text/plain": [
              "             High    Low   Open  Close      Volume  Adj Close\n",
              "Date                                                         \n",
              "2020-05-11  301.5  298.5  300.0  301.0  28727019.0      301.0\n",
              "2020-05-12  298.5  295.0  297.5  295.0  52089788.0      295.0\n",
              "2020-05-13  297.0  292.5  293.0  297.0  26156418.0      297.0\n",
              "2020-05-14  295.0  292.5  293.0  293.0  34315948.0      293.0\n",
              "2020-05-15  298.5  294.5  297.5  298.0  42494804.0      298.0"
            ]
          },
          "metadata": {
            "tags": []
          },
          "execution_count": 52
        }
      ]
    },
    {
      "cell_type": "code",
      "metadata": {
        "id": "xL9aI2KfX44P",
        "colab_type": "code",
        "colab": {
          "base_uri": "https://localhost:8080/",
          "height": 243
        },
        "outputId": "3063bb52-2925-40bb-fb1d-4947efe6400c"
      },
      "source": [
        "tw2330.info()"
      ],
      "execution_count": 53,
      "outputs": [
        {
          "output_type": "stream",
          "text": [
            "<class 'pandas.core.frame.DataFrame'>\n",
            "DatetimeIndex: 5016 entries, 2000-01-04 to 2020-05-15\n",
            "Data columns (total 6 columns):\n",
            " #   Column     Non-Null Count  Dtype  \n",
            "---  ------     --------------  -----  \n",
            " 0   High       5016 non-null   float64\n",
            " 1   Low        5016 non-null   float64\n",
            " 2   Open       5016 non-null   float64\n",
            " 3   Close      5016 non-null   float64\n",
            " 4   Volume     5016 non-null   float64\n",
            " 5   Adj Close  5016 non-null   float64\n",
            "dtypes: float64(6)\n",
            "memory usage: 274.3 KB\n"
          ],
          "name": "stdout"
        }
      ]
    },
    {
      "cell_type": "code",
      "metadata": {
        "id": "szRWTjL_YMPs",
        "colab_type": "code",
        "colab": {
          "base_uri": "https://localhost:8080/",
          "height": 294
        },
        "outputId": "352e33c7-2c16-41a9-8a47-4880e5f2e771"
      },
      "source": [
        "tw2330.describe()"
      ],
      "execution_count": 54,
      "outputs": [
        {
          "output_type": "execute_result",
          "data": {
            "text/html": [
              "<div>\n",
              "<style scoped>\n",
              "    .dataframe tbody tr th:only-of-type {\n",
              "        vertical-align: middle;\n",
              "    }\n",
              "\n",
              "    .dataframe tbody tr th {\n",
              "        vertical-align: top;\n",
              "    }\n",
              "\n",
              "    .dataframe thead th {\n",
              "        text-align: right;\n",
              "    }\n",
              "</style>\n",
              "<table border=\"1\" class=\"dataframe\">\n",
              "  <thead>\n",
              "    <tr style=\"text-align: right;\">\n",
              "      <th></th>\n",
              "      <th>High</th>\n",
              "      <th>Low</th>\n",
              "      <th>Open</th>\n",
              "      <th>Close</th>\n",
              "      <th>Volume</th>\n",
              "      <th>Adj Close</th>\n",
              "    </tr>\n",
              "  </thead>\n",
              "  <tbody>\n",
              "    <tr>\n",
              "      <th>count</th>\n",
              "      <td>5016.000000</td>\n",
              "      <td>5016.000000</td>\n",
              "      <td>5016.000000</td>\n",
              "      <td>5016.000000</td>\n",
              "      <td>5.016000e+03</td>\n",
              "      <td>5016.000000</td>\n",
              "    </tr>\n",
              "    <tr>\n",
              "      <th>mean</th>\n",
              "      <td>103.676775</td>\n",
              "      <td>101.839823</td>\n",
              "      <td>102.792535</td>\n",
              "      <td>102.805166</td>\n",
              "      <td>2.264729e+10</td>\n",
              "      <td>82.139571</td>\n",
              "    </tr>\n",
              "    <tr>\n",
              "      <th>std</th>\n",
              "      <td>72.256231</td>\n",
              "      <td>71.439531</td>\n",
              "      <td>71.884998</td>\n",
              "      <td>71.875966</td>\n",
              "      <td>4.495020e+10</td>\n",
              "      <td>74.622210</td>\n",
              "    </tr>\n",
              "    <tr>\n",
              "      <th>min</th>\n",
              "      <td>27.612900</td>\n",
              "      <td>26.918800</td>\n",
              "      <td>26.995701</td>\n",
              "      <td>27.458401</td>\n",
              "      <td>0.000000e+00</td>\n",
              "      <td>14.716395</td>\n",
              "    </tr>\n",
              "    <tr>\n",
              "      <th>25%</th>\n",
              "      <td>53.982674</td>\n",
              "      <td>52.238800</td>\n",
              "      <td>53.169325</td>\n",
              "      <td>52.939301</td>\n",
              "      <td>3.088450e+07</td>\n",
              "      <td>30.758532</td>\n",
              "    </tr>\n",
              "    <tr>\n",
              "      <th>50%</th>\n",
              "      <td>68.339001</td>\n",
              "      <td>67.253098</td>\n",
              "      <td>67.916298</td>\n",
              "      <td>67.824749</td>\n",
              "      <td>4.838950e+07</td>\n",
              "      <td>42.983719</td>\n",
              "    </tr>\n",
              "    <tr>\n",
              "      <th>75%</th>\n",
              "      <td>138.000000</td>\n",
              "      <td>136.000000</td>\n",
              "      <td>137.000000</td>\n",
              "      <td>136.500000</td>\n",
              "      <td>3.754885e+10</td>\n",
              "      <td>113.900291</td>\n",
              "    </tr>\n",
              "    <tr>\n",
              "      <th>max</th>\n",
              "      <td>346.000000</td>\n",
              "      <td>344.500000</td>\n",
              "      <td>345.500000</td>\n",
              "      <td>346.000000</td>\n",
              "      <td>4.476381e+11</td>\n",
              "      <td>342.673096</td>\n",
              "    </tr>\n",
              "  </tbody>\n",
              "</table>\n",
              "</div>"
            ],
            "text/plain": [
              "              High          Low  ...        Volume    Adj Close\n",
              "count  5016.000000  5016.000000  ...  5.016000e+03  5016.000000\n",
              "mean    103.676775   101.839823  ...  2.264729e+10    82.139571\n",
              "std      72.256231    71.439531  ...  4.495020e+10    74.622210\n",
              "min      27.612900    26.918800  ...  0.000000e+00    14.716395\n",
              "25%      53.982674    52.238800  ...  3.088450e+07    30.758532\n",
              "50%      68.339001    67.253098  ...  4.838950e+07    42.983719\n",
              "75%     138.000000   136.000000  ...  3.754885e+10   113.900291\n",
              "max     346.000000   344.500000  ...  4.476381e+11   342.673096\n",
              "\n",
              "[8 rows x 6 columns]"
            ]
          },
          "metadata": {
            "tags": []
          },
          "execution_count": 54
        }
      ]
    },
    {
      "cell_type": "code",
      "metadata": {
        "id": "miT1SgNCYZcu",
        "colab_type": "code",
        "colab": {
          "base_uri": "https://localhost:8080/",
          "height": 139
        },
        "outputId": "5dea06a2-3b7e-4789-ac9e-d25c7c86ffde"
      },
      "source": [
        "tw2330.dtypes"
      ],
      "execution_count": 55,
      "outputs": [
        {
          "output_type": "execute_result",
          "data": {
            "text/plain": [
              "High         float64\n",
              "Low          float64\n",
              "Open         float64\n",
              "Close        float64\n",
              "Volume       float64\n",
              "Adj Close    float64\n",
              "dtype: object"
            ]
          },
          "metadata": {
            "tags": []
          },
          "execution_count": 55
        }
      ]
    },
    {
      "cell_type": "code",
      "metadata": {
        "id": "VAsRfrAdYugo",
        "colab_type": "code",
        "colab": {
          "base_uri": "https://localhost:8080/",
          "height": 35
        },
        "outputId": "e7a2053f-6a37-440f-bef2-fd81a1ad5177"
      },
      "source": [
        "tw2330['Close'].min()"
      ],
      "execution_count": 56,
      "outputs": [
        {
          "output_type": "execute_result",
          "data": {
            "text/plain": [
              "27.45840072631836"
            ]
          },
          "metadata": {
            "tags": []
          },
          "execution_count": 56
        }
      ]
    },
    {
      "cell_type": "code",
      "metadata": {
        "id": "8RFvZEnhY0Ou",
        "colab_type": "code",
        "colab": {
          "base_uri": "https://localhost:8080/",
          "height": 35
        },
        "outputId": "af4bb104-0e6b-4c46-898b-2403057dfb98"
      },
      "source": [
        "tw2330['Close'].max()"
      ],
      "execution_count": 57,
      "outputs": [
        {
          "output_type": "execute_result",
          "data": {
            "text/plain": [
              "346.0"
            ]
          },
          "metadata": {
            "tags": []
          },
          "execution_count": 57
        }
      ]
    },
    {
      "cell_type": "code",
      "metadata": {
        "id": "0V1QQIq3Y2U2",
        "colab_type": "code",
        "colab": {
          "base_uri": "https://localhost:8080/",
          "height": 35
        },
        "outputId": "1393a99b-c46b-4e2f-aa80-f0ed6fb8b71a"
      },
      "source": [
        "len(tw2330)"
      ],
      "execution_count": 58,
      "outputs": [
        {
          "output_type": "execute_result",
          "data": {
            "text/plain": [
              "5016"
            ]
          },
          "metadata": {
            "tags": []
          },
          "execution_count": 58
        }
      ]
    },
    {
      "cell_type": "code",
      "metadata": {
        "id": "NOn7rL_ZY5GO",
        "colab_type": "code",
        "colab": {
          "base_uri": "https://localhost:8080/",
          "height": 35
        },
        "outputId": "be797afc-5a08-4f69-aecd-428850ce8861"
      },
      "source": [
        "tw2330['Close'].count()"
      ],
      "execution_count": 60,
      "outputs": [
        {
          "output_type": "execute_result",
          "data": {
            "text/plain": [
              "5016"
            ]
          },
          "metadata": {
            "tags": []
          },
          "execution_count": 60
        }
      ]
    },
    {
      "cell_type": "code",
      "metadata": {
        "id": "XgrAqNPBY8Gj",
        "colab_type": "code",
        "colab": {
          "base_uri": "https://localhost:8080/",
          "height": 233
        },
        "outputId": "6379f53b-f370-47fe-ae3f-f9f4f773be89"
      },
      "source": [
        "tw2330.head()"
      ],
      "execution_count": 61,
      "outputs": [
        {
          "output_type": "execute_result",
          "data": {
            "text/html": [
              "<div>\n",
              "<style scoped>\n",
              "    .dataframe tbody tr th:only-of-type {\n",
              "        vertical-align: middle;\n",
              "    }\n",
              "\n",
              "    .dataframe tbody tr th {\n",
              "        vertical-align: top;\n",
              "    }\n",
              "\n",
              "    .dataframe thead th {\n",
              "        text-align: right;\n",
              "    }\n",
              "</style>\n",
              "<table border=\"1\" class=\"dataframe\">\n",
              "  <thead>\n",
              "    <tr style=\"text-align: right;\">\n",
              "      <th></th>\n",
              "      <th>High</th>\n",
              "      <th>Low</th>\n",
              "      <th>Open</th>\n",
              "      <th>Close</th>\n",
              "      <th>Volume</th>\n",
              "      <th>Adj Close</th>\n",
              "    </tr>\n",
              "    <tr>\n",
              "      <th>Date</th>\n",
              "      <th></th>\n",
              "      <th></th>\n",
              "      <th></th>\n",
              "      <th></th>\n",
              "      <th></th>\n",
              "      <th></th>\n",
              "    </tr>\n",
              "  </thead>\n",
              "  <tbody>\n",
              "    <tr>\n",
              "      <th>2000-01-04</th>\n",
              "      <td>69.649002</td>\n",
              "      <td>68.475197</td>\n",
              "      <td>69.649002</td>\n",
              "      <td>69.649002</td>\n",
              "      <td>2.006623e+11</td>\n",
              "      <td>37.328552</td>\n",
              "    </tr>\n",
              "    <tr>\n",
              "      <th>2000-01-05</th>\n",
              "      <td>71.214104</td>\n",
              "      <td>68.866302</td>\n",
              "      <td>69.649002</td>\n",
              "      <td>71.214104</td>\n",
              "      <td>4.024668e+11</td>\n",
              "      <td>38.167374</td>\n",
              "    </tr>\n",
              "    <tr>\n",
              "      <th>2000-01-06</th>\n",
              "      <td>71.214104</td>\n",
              "      <td>69.649002</td>\n",
              "      <td>70.822899</td>\n",
              "      <td>69.649002</td>\n",
              "      <td>1.975457e+11</td>\n",
              "      <td>37.328552</td>\n",
              "    </tr>\n",
              "    <tr>\n",
              "      <th>2000-01-07</th>\n",
              "      <td>68.475197</td>\n",
              "      <td>66.518600</td>\n",
              "      <td>67.301300</td>\n",
              "      <td>67.692497</td>\n",
              "      <td>2.352703e+11</td>\n",
              "      <td>36.279961</td>\n",
              "    </tr>\n",
              "    <tr>\n",
              "      <th>2000-01-10</th>\n",
              "      <td>70.431396</td>\n",
              "      <td>68.475197</td>\n",
              "      <td>69.649002</td>\n",
              "      <td>70.040199</td>\n",
              "      <td>2.761717e+11</td>\n",
              "      <td>37.538216</td>\n",
              "    </tr>\n",
              "  </tbody>\n",
              "</table>\n",
              "</div>"
            ],
            "text/plain": [
              "                 High        Low       Open      Close        Volume  Adj Close\n",
              "Date                                                                           \n",
              "2000-01-04  69.649002  68.475197  69.649002  69.649002  2.006623e+11  37.328552\n",
              "2000-01-05  71.214104  68.866302  69.649002  71.214104  4.024668e+11  38.167374\n",
              "2000-01-06  71.214104  69.649002  70.822899  69.649002  1.975457e+11  37.328552\n",
              "2000-01-07  68.475197  66.518600  67.301300  67.692497  2.352703e+11  36.279961\n",
              "2000-01-10  70.431396  68.475197  69.649002  70.040199  2.761717e+11  37.538216"
            ]
          },
          "metadata": {
            "tags": []
          },
          "execution_count": 61
        }
      ]
    },
    {
      "cell_type": "code",
      "metadata": {
        "id": "xcVUFZJ4Y_49",
        "colab_type": "code",
        "colab": {
          "base_uri": "https://localhost:8080/",
          "height": 233
        },
        "outputId": "0e3c9ee6-10b6-4e44-b69b-c4e6b915232c"
      },
      "source": [
        "tw2330.tail()"
      ],
      "execution_count": 62,
      "outputs": [
        {
          "output_type": "execute_result",
          "data": {
            "text/html": [
              "<div>\n",
              "<style scoped>\n",
              "    .dataframe tbody tr th:only-of-type {\n",
              "        vertical-align: middle;\n",
              "    }\n",
              "\n",
              "    .dataframe tbody tr th {\n",
              "        vertical-align: top;\n",
              "    }\n",
              "\n",
              "    .dataframe thead th {\n",
              "        text-align: right;\n",
              "    }\n",
              "</style>\n",
              "<table border=\"1\" class=\"dataframe\">\n",
              "  <thead>\n",
              "    <tr style=\"text-align: right;\">\n",
              "      <th></th>\n",
              "      <th>High</th>\n",
              "      <th>Low</th>\n",
              "      <th>Open</th>\n",
              "      <th>Close</th>\n",
              "      <th>Volume</th>\n",
              "      <th>Adj Close</th>\n",
              "    </tr>\n",
              "    <tr>\n",
              "      <th>Date</th>\n",
              "      <th></th>\n",
              "      <th></th>\n",
              "      <th></th>\n",
              "      <th></th>\n",
              "      <th></th>\n",
              "      <th></th>\n",
              "    </tr>\n",
              "  </thead>\n",
              "  <tbody>\n",
              "    <tr>\n",
              "      <th>2020-05-11</th>\n",
              "      <td>301.5</td>\n",
              "      <td>298.5</td>\n",
              "      <td>300.0</td>\n",
              "      <td>301.0</td>\n",
              "      <td>28727019.0</td>\n",
              "      <td>301.0</td>\n",
              "    </tr>\n",
              "    <tr>\n",
              "      <th>2020-05-12</th>\n",
              "      <td>298.5</td>\n",
              "      <td>295.0</td>\n",
              "      <td>297.5</td>\n",
              "      <td>295.0</td>\n",
              "      <td>52089788.0</td>\n",
              "      <td>295.0</td>\n",
              "    </tr>\n",
              "    <tr>\n",
              "      <th>2020-05-13</th>\n",
              "      <td>297.0</td>\n",
              "      <td>292.5</td>\n",
              "      <td>293.0</td>\n",
              "      <td>297.0</td>\n",
              "      <td>26156418.0</td>\n",
              "      <td>297.0</td>\n",
              "    </tr>\n",
              "    <tr>\n",
              "      <th>2020-05-14</th>\n",
              "      <td>295.0</td>\n",
              "      <td>292.5</td>\n",
              "      <td>293.0</td>\n",
              "      <td>293.0</td>\n",
              "      <td>34315948.0</td>\n",
              "      <td>293.0</td>\n",
              "    </tr>\n",
              "    <tr>\n",
              "      <th>2020-05-15</th>\n",
              "      <td>298.5</td>\n",
              "      <td>294.5</td>\n",
              "      <td>297.5</td>\n",
              "      <td>298.0</td>\n",
              "      <td>42494804.0</td>\n",
              "      <td>298.0</td>\n",
              "    </tr>\n",
              "  </tbody>\n",
              "</table>\n",
              "</div>"
            ],
            "text/plain": [
              "             High    Low   Open  Close      Volume  Adj Close\n",
              "Date                                                         \n",
              "2020-05-11  301.5  298.5  300.0  301.0  28727019.0      301.0\n",
              "2020-05-12  298.5  295.0  297.5  295.0  52089788.0      295.0\n",
              "2020-05-13  297.0  292.5  293.0  297.0  26156418.0      297.0\n",
              "2020-05-14  295.0  292.5  293.0  293.0  34315948.0      293.0\n",
              "2020-05-15  298.5  294.5  297.5  298.0  42494804.0      298.0"
            ]
          },
          "metadata": {
            "tags": []
          },
          "execution_count": 62
        }
      ]
    },
    {
      "cell_type": "code",
      "metadata": {
        "id": "TPS-xDV9ZB0j",
        "colab_type": "code",
        "colab": {
          "base_uri": "https://localhost:8080/",
          "height": 35
        },
        "outputId": "748f84af-6d41-451c-b6fb-7481fae42bb6"
      },
      "source": [
        "tw2330['Close'].mean()"
      ],
      "execution_count": 63,
      "outputs": [
        {
          "output_type": "execute_result",
          "data": {
            "text/plain": [
              "102.80516629317921"
            ]
          },
          "metadata": {
            "tags": []
          },
          "execution_count": 63
        }
      ]
    },
    {
      "cell_type": "code",
      "metadata": {
        "id": "5nhA29d6aoyU",
        "colab_type": "code",
        "colab": {
          "base_uri": "https://localhost:8080/",
          "height": 35
        },
        "outputId": "cb593bca-c0b5-4e1c-ccc9-82e7ab837985"
      },
      "source": [
        "tw2330['Close'].sum() / len(tw2330)"
      ],
      "execution_count": 64,
      "outputs": [
        {
          "output_type": "execute_result",
          "data": {
            "text/plain": [
              "102.80516629317921"
            ]
          },
          "metadata": {
            "tags": []
          },
          "execution_count": 64
        }
      ]
    },
    {
      "cell_type": "code",
      "metadata": {
        "id": "FiSEDCoSasu1",
        "colab_type": "code",
        "colab": {
          "base_uri": "https://localhost:8080/",
          "height": 35
        },
        "outputId": "2fdb0f59-b5f5-4f2c-980c-171887cbb03b"
      },
      "source": [
        "tw2330['Close'].median()"
      ],
      "execution_count": 65,
      "outputs": [
        {
          "output_type": "execute_result",
          "data": {
            "text/plain": [
              "67.82474899291992"
            ]
          },
          "metadata": {
            "tags": []
          },
          "execution_count": 65
        }
      ]
    },
    {
      "cell_type": "code",
      "metadata": {
        "id": "ylWLVb_saygP",
        "colab_type": "code",
        "colab": {
          "base_uri": "https://localhost:8080/",
          "height": 173
        },
        "outputId": "1b5aa2f3-4985-4944-d53c-48314955037c"
      },
      "source": [
        "tw2330['Close'].describe()"
      ],
      "execution_count": 66,
      "outputs": [
        {
          "output_type": "execute_result",
          "data": {
            "text/plain": [
              "count    5016.000000\n",
              "mean      102.805166\n",
              "std        71.875966\n",
              "min        27.458401\n",
              "25%        52.939301\n",
              "50%        67.824749\n",
              "75%       136.500000\n",
              "max       346.000000\n",
              "Name: Close, dtype: float64"
            ]
          },
          "metadata": {
            "tags": []
          },
          "execution_count": 66
        }
      ]
    },
    {
      "cell_type": "code",
      "metadata": {
        "id": "C3TEcc7obtla",
        "colab_type": "code",
        "colab": {
          "base_uri": "https://localhost:8080/",
          "height": 35
        },
        "outputId": "fc437f47-7c0e-4bae-f069-df0b71263614"
      },
      "source": [
        "tw2330['Close'].quantile(0.5)"
      ],
      "execution_count": 67,
      "outputs": [
        {
          "output_type": "execute_result",
          "data": {
            "text/plain": [
              "67.82474899291992"
            ]
          },
          "metadata": {
            "tags": []
          },
          "execution_count": 67
        }
      ]
    },
    {
      "cell_type": "code",
      "metadata": {
        "id": "lIPc8-MOcCKx",
        "colab_type": "code",
        "colab": {
          "base_uri": "https://localhost:8080/",
          "height": 35
        },
        "outputId": "76a86ca4-d445-4e42-b2f4-e069a986ac3e"
      },
      "source": [
        "tw2330['Close'].quantile(0.75)"
      ],
      "execution_count": 68,
      "outputs": [
        {
          "output_type": "execute_result",
          "data": {
            "text/plain": [
              "136.5"
            ]
          },
          "metadata": {
            "tags": []
          },
          "execution_count": 68
        }
      ]
    },
    {
      "cell_type": "code",
      "metadata": {
        "id": "Y1IkffQzcGLw",
        "colab_type": "code",
        "colab": {
          "base_uri": "https://localhost:8080/",
          "height": 35
        },
        "outputId": "2b50f0eb-816f-425c-9ef4-a3567f017bb4"
      },
      "source": [
        "tw2330['Close'].quantile(0.25)"
      ],
      "execution_count": 69,
      "outputs": [
        {
          "output_type": "execute_result",
          "data": {
            "text/plain": [
              "52.939300537109375"
            ]
          },
          "metadata": {
            "tags": []
          },
          "execution_count": 69
        }
      ]
    },
    {
      "cell_type": "code",
      "metadata": {
        "id": "oOm3Hv_OcHi5",
        "colab_type": "code",
        "colab": {
          "base_uri": "https://localhost:8080/",
          "height": 35
        },
        "outputId": "adfc84bd-6a2d-4873-9ee2-a7ff89021517"
      },
      "source": [
        "tw2330['Close'].quantile(0.75) - tw2330['Close'].quantile(0.25)"
      ],
      "execution_count": 70,
      "outputs": [
        {
          "output_type": "execute_result",
          "data": {
            "text/plain": [
              "83.56069946289062"
            ]
          },
          "metadata": {
            "tags": []
          },
          "execution_count": 70
        }
      ]
    },
    {
      "cell_type": "code",
      "metadata": {
        "id": "n-uZlp7McKtf",
        "colab_type": "code",
        "colab": {
          "base_uri": "https://localhost:8080/",
          "height": 283
        },
        "outputId": "c21fdf7c-09ab-4441-e193-a9c5a843a671"
      },
      "source": [
        "tw2330['Close'].plot(kind = 'box')"
      ],
      "execution_count": 71,
      "outputs": [
        {
          "output_type": "execute_result",
          "data": {
            "text/plain": [
              "<matplotlib.axes._subplots.AxesSubplot at 0x7fb336bd9358>"
            ]
          },
          "metadata": {
            "tags": []
          },
          "execution_count": 71
        },
        {
          "output_type": "display_data",
          "data": {
            "image/png": "[encoded data removed]",
            "text/plain": [
              "<Figure size 432x288 with 1 Axes>"
            ]
          },
          "metadata": {
            "tags": [],
            "needs_background": "light"
          }
        }
      ]
    },
    {
      "cell_type": "markdown",
      "metadata": {
        "id": "D3rZ9w7NcnXx",
        "colab_type": "text"
      },
      "source": [
        "### 箱型圖\n",
        "- 比較數據\n",
        "- 找出離群值"
      ]
    },
    {
      "cell_type": "code",
      "metadata": {
        "id": "hpv0pRDOdHmj",
        "colab_type": "code",
        "colab": {
          "base_uri": "https://localhost:8080/",
          "height": 35
        },
        "outputId": "3b3c5da5-0583-4ee1-d55d-0229b4be8495"
      },
      "source": [
        "import numpy as np\n",
        "np.random.seed(42)\n",
        "np.random.randint(1,42, 6)"
      ],
      "execution_count": 82,
      "outputs": [
        {
          "output_type": "execute_result",
          "data": {
            "text/plain": [
              "array([39, 29, 15,  8, 21, 39])"
            ]
          },
          "metadata": {
            "tags": []
          },
          "execution_count": 82
        }
      ]
    },
    {
      "cell_type": "code",
      "metadata": {
        "id": "-ixD4TmMcWYv",
        "colab_type": "code",
        "colab": {}
      },
      "source": [
        "import numpy as np\n",
        "np.random.seed(42)\n",
        "temp = pandas.Series(np.random.randint(1,40, 100))"
      ],
      "execution_count": 0,
      "outputs": []
    },
    {
      "cell_type": "code",
      "metadata": {
        "id": "JLP5SYIPc54E",
        "colab_type": "code",
        "colab": {
          "base_uri": "https://localhost:8080/",
          "height": 35
        },
        "outputId": "4f3d1f9a-dc7b-4d25-d009-682b984d2f64"
      },
      "source": [
        "temp.mean()"
      ],
      "execution_count": 89,
      "outputs": [
        {
          "output_type": "execute_result",
          "data": {
            "text/plain": [
              "19.43"
            ]
          },
          "metadata": {
            "tags": []
          },
          "execution_count": 89
        }
      ]
    },
    {
      "cell_type": "code",
      "metadata": {
        "id": "uReIslR3dsNj",
        "colab_type": "code",
        "colab": {
          "base_uri": "https://localhost:8080/",
          "height": 35
        },
        "outputId": "cd0a1d20-820a-4b24-b844-c75a74e6aac0"
      },
      "source": [
        "temp.median()"
      ],
      "execution_count": 90,
      "outputs": [
        {
          "output_type": "execute_result",
          "data": {
            "text/plain": [
              "20.5"
            ]
          },
          "metadata": {
            "tags": []
          },
          "execution_count": 90
        }
      ]
    },
    {
      "cell_type": "code",
      "metadata": {
        "id": "5vNoDnmmdt26",
        "colab_type": "code",
        "colab": {
          "base_uri": "https://localhost:8080/",
          "height": 283
        },
        "outputId": "c78935a1-14cc-408e-bed6-5be09e5e94fe"
      },
      "source": [
        "temp.plot(kind = 'box')"
      ],
      "execution_count": 91,
      "outputs": [
        {
          "output_type": "execute_result",
          "data": {
            "text/plain": [
              "<matplotlib.axes._subplots.AxesSubplot at 0x7fb336450b38>"
            ]
          },
          "metadata": {
            "tags": []
          },
          "execution_count": 91
        },
        {
          "output_type": "display_data",
          "data": {
            "image/png": "[encoded data removed]",
            "text/plain": [
              "<Figure size 432x288 with 1 Axes>"
            ]
          },
          "metadata": {
            "tags": [],
            "needs_background": "light"
          }
        }
      ]
    },
    {
      "cell_type": "code",
      "metadata": {
        "id": "nlcMnj1YeCSZ",
        "colab_type": "code",
        "colab": {}
      },
      "source": [
        "temp2 = temp.append(pandas.Series([999,999,999]))"
      ],
      "execution_count": 0,
      "outputs": []
    },
    {
      "cell_type": "code",
      "metadata": {
        "id": "Iu_ZM_WOeTDe",
        "colab_type": "code",
        "colab": {
          "base_uri": "https://localhost:8080/",
          "height": 35
        },
        "outputId": "fdb5313f-2be2-4eba-ba75-51548e9bc03e"
      },
      "source": [
        "temp2.mean()"
      ],
      "execution_count": 98,
      "outputs": [
        {
          "output_type": "execute_result",
          "data": {
            "text/plain": [
              "47.96116504854369"
            ]
          },
          "metadata": {
            "tags": []
          },
          "execution_count": 98
        }
      ]
    },
    {
      "cell_type": "code",
      "metadata": {
        "id": "NJMtL8lTeglC",
        "colab_type": "code",
        "colab": {
          "base_uri": "https://localhost:8080/",
          "height": 35
        },
        "outputId": "605d88ba-16b9-43bc-f31c-a233ddcaf154"
      },
      "source": [
        "temp2.median()"
      ],
      "execution_count": 99,
      "outputs": [
        {
          "output_type": "execute_result",
          "data": {
            "text/plain": [
              "21.0"
            ]
          },
          "metadata": {
            "tags": []
          },
          "execution_count": 99
        }
      ]
    },
    {
      "cell_type": "code",
      "metadata": {
        "id": "xoGSUvJEelqG",
        "colab_type": "code",
        "colab": {
          "base_uri": "https://localhost:8080/",
          "height": 283
        },
        "outputId": "ad0cd3a5-4303-4ac9-ca04-9b913dcd1b94"
      },
      "source": [
        "temp2.plot(kind = 'box')"
      ],
      "execution_count": 100,
      "outputs": [
        {
          "output_type": "execute_result",
          "data": {
            "text/plain": [
              "<matplotlib.axes._subplots.AxesSubplot at 0x7fb3363d0748>"
            ]
          },
          "metadata": {
            "tags": []
          },
          "execution_count": 100
        },
        {
          "output_type": "display_data",
          "data": {
            "image/png": "[encoded data removed]",
            "text/plain": [
              "<Figure size 432x288 with 1 Axes>"
            ]
          },
          "metadata": {
            "tags": [],
            "needs_background": "light"
          }
        }
      ]
    },
    {
      "cell_type": "code",
      "metadata": {
        "id": "rqfF5Hx4evys",
        "colab_type": "code",
        "colab": {
          "base_uri": "https://localhost:8080/",
          "height": 283
        },
        "outputId": "4bb7e422-41d4-4f69-f882-388ab3d5ef8a"
      },
      "source": [
        "temp2[temp2 < 100].plot(kind = 'box')"
      ],
      "execution_count": 102,
      "outputs": [
        {
          "output_type": "execute_result",
          "data": {
            "text/plain": [
              "<matplotlib.axes._subplots.AxesSubplot at 0x7fb3363d0b38>"
            ]
          },
          "metadata": {
            "tags": []
          },
          "execution_count": 102
        },
        {
          "output_type": "display_data",
          "data": {
            "image/png": "[encoded data removed]",
            "text/plain": [
              "<Figure size 432x288 with 1 Axes>"
            ]
          },
          "metadata": {
            "tags": [],
            "needs_background": "light"
          }
        }
      ]
    },
    {
      "cell_type": "code",
      "metadata": {
        "id": "MLFRPqkne8C9",
        "colab_type": "code",
        "colab": {}
      },
      "source": [
        "import pandas\n",
        "rent591 = pandas.read_csv('https://raw.githubusercontent.com/ywchiu/tibamepy/master/data/rent_591_sample2.csv', index_col = 0)"
      ],
      "execution_count": 0,
      "outputs": []
    },
    {
      "cell_type": "code",
      "metadata": {
        "id": "J1PuD6b_fj9D",
        "colab_type": "code",
        "colab": {
          "base_uri": "https://localhost:8080/",
          "height": 742
        },
        "outputId": "b2c70cb6-68e5-45a0-e741-a461215735b2"
      },
      "source": [
        "rent591.head()"
      ],
      "execution_count": 104,
      "outputs": [
        {
          "output_type": "execute_result",
          "data": {
            "text/html": [
              "<div>\n",
              "<style scoped>\n",
              "    .dataframe tbody tr th:only-of-type {\n",
              "        vertical-align: middle;\n",
              "    }\n",
              "\n",
              "    .dataframe tbody tr th {\n",
              "        vertical-align: top;\n",
              "    }\n",
              "\n",
              "    .dataframe thead th {\n",
              "        text-align: right;\n",
              "    }\n",
              "</style>\n",
              "<table border=\"1\" class=\"dataframe\">\n",
              "  <thead>\n",
              "    <tr style=\"text-align: right;\">\n",
              "      <th></th>\n",
              "      <th>detail_url</th>\n",
              "      <th>search_date</th>\n",
              "      <th>title</th>\n",
              "      <th>address</th>\n",
              "      <th>floor_info</th>\n",
              "      <th>price</th>\n",
              "      <th>layout</th>\n",
              "      <th>building_area</th>\n",
              "      <th>building_use</th>\n",
              "      <th>latitude</th>\n",
              "      <th>longitude</th>\n",
              "    </tr>\n",
              "  </thead>\n",
              "  <tbody>\n",
              "    <tr>\n",
              "      <th>0</th>\n",
              "      <td>https://rent.591.com.tw/rent-detail-1050934.html</td>\n",
              "      <td>2017-05-14</td>\n",
              "      <td>套房出租-近東方學院(六~八月可入住)</td>\n",
              "      <td>高雄市湖內區民生街</td>\n",
              "      <td>3F/3F</td>\n",
              "      <td>4,500元/月</td>\n",
              "      <td>NaN</td>\n",
              "      <td>6.0</td>\n",
              "      <td>透天厝/獨立套房</td>\n",
              "      <td>22.878436</td>\n",
              "      <td>120.250810</td>\n",
              "    </tr>\n",
              "    <tr>\n",
              "      <th>1</th>\n",
              "      <td>https://rent.591.com.tw/rent-detail-1008046.html</td>\n",
              "      <td>2017-05-14</td>\n",
              "      <td>好房子【聰明的你、妳快來租吧】</td>\n",
              "      <td>新北市蘆洲區長安街</td>\n",
              "      <td>4F/5F</td>\n",
              "      <td>7,500元/月</td>\n",
              "      <td>NaN</td>\n",
              "      <td>10.0</td>\n",
              "      <td>透天厝/獨立套房</td>\n",
              "      <td>25.081558</td>\n",
              "      <td>121.461868</td>\n",
              "    </tr>\n",
              "    <tr>\n",
              "      <th>2</th>\n",
              "      <td>https://rent.591.com.tw/rent-detail-1586266.html</td>\n",
              "      <td>2017-05-12</td>\n",
              "      <td>陽台大套房(獨立洗衣機)近頂溪捷運站</td>\n",
              "      <td>新北市永和區中山路一段</td>\n",
              "      <td>8F/12F</td>\n",
              "      <td>11,000元/月</td>\n",
              "      <td>NaN</td>\n",
              "      <td>8.0</td>\n",
              "      <td>電梯大樓/分租套房</td>\n",
              "      <td>25.010293</td>\n",
              "      <td>121.511328</td>\n",
              "    </tr>\n",
              "    <tr>\n",
              "      <th>3</th>\n",
              "      <td>https://rent.591.com.tw/rent-detail-1699948.html</td>\n",
              "      <td>2017-05-13</td>\n",
              "      <td>火車站附近~~優質套房</td>\n",
              "      <td>屏東縣潮州鎮六合路</td>\n",
              "      <td>3F/3F</td>\n",
              "      <td>5,000元/月</td>\n",
              "      <td>NaN</td>\n",
              "      <td>8.0</td>\n",
              "      <td>透天厝/獨立套房</td>\n",
              "      <td>22.551346</td>\n",
              "      <td>120.538032</td>\n",
              "    </tr>\n",
              "    <tr>\n",
              "      <th>4</th>\n",
              "      <td>https://rent.591.com.tw/rent-detail-1404725.html</td>\n",
              "      <td>2017-05-12</td>\n",
              "      <td>觀音四維路優質陽台套房</td>\n",
              "      <td>桃園市觀音區四維路</td>\n",
              "      <td>4F/5F</td>\n",
              "      <td>5,000元/月</td>\n",
              "      <td>NaN</td>\n",
              "      <td>7.0</td>\n",
              "      <td>透天厝/分租套房</td>\n",
              "      <td>25.043652</td>\n",
              "      <td>121.141518</td>\n",
              "    </tr>\n",
              "  </tbody>\n",
              "</table>\n",
              "</div>"
            ],
            "text/plain": [
              "                                         detail_url  ...   longitude\n",
              "0  https://rent.591.com.tw/rent-detail-1050934.html  ...  120.250810\n",
              "1  https://rent.591.com.tw/rent-detail-1008046.html  ...  121.461868\n",
              "2  https://rent.591.com.tw/rent-detail-1586266.html  ...  121.511328\n",
              "3  https://rent.591.com.tw/rent-detail-1699948.html  ...  120.538032\n",
              "4  https://rent.591.com.tw/rent-detail-1404725.html  ...  121.141518\n",
              "\n",
              "[5 rows x 11 columns]"
            ]
          },
          "metadata": {
            "tags": []
          },
          "execution_count": 104
        }
      ]
    },
    {
      "cell_type": "code",
      "metadata": {
        "id": "a1F9dMaDfl5M",
        "colab_type": "code",
        "colab": {}
      },
      "source": [
        "rent591['price'] = rent591['price'].map(lambda e: int(e.replace('元/月', '').replace(',', '')))"
      ],
      "execution_count": 0,
      "outputs": []
    },
    {
      "cell_type": "code",
      "metadata": {
        "id": "TlUEDZ07f0Rr",
        "colab_type": "code",
        "colab": {}
      },
      "source": [
        "rent591['city'] = rent591['address'].str.extract('(.+?[市縣]).+')"
      ],
      "execution_count": 0,
      "outputs": []
    },
    {
      "cell_type": "code",
      "metadata": {
        "id": "fHchUs5ogER5",
        "colab_type": "code",
        "colab": {}
      },
      "source": [
        "rent591['price_per_area'] = rent591['price'] / rent591['building_area']"
      ],
      "execution_count": 0,
      "outputs": []
    },
    {
      "cell_type": "code",
      "metadata": {
        "id": "PEhOGJLPgWkC",
        "colab_type": "code",
        "colab": {
          "base_uri": "https://localhost:8080/",
          "height": 202
        },
        "outputId": "a2a92a38-c6f8-45b0-8cc4-901c5c076849"
      },
      "source": [
        "rent591[['city', 'price_per_area']].head()"
      ],
      "execution_count": 110,
      "outputs": [
        {
          "output_type": "execute_result",
          "data": {
            "text/html": [
              "<div>\n",
              "<style scoped>\n",
              "    .dataframe tbody tr th:only-of-type {\n",
              "        vertical-align: middle;\n",
              "    }\n",
              "\n",
              "    .dataframe tbody tr th {\n",
              "        vertical-align: top;\n",
              "    }\n",
              "\n",
              "    .dataframe thead th {\n",
              "        text-align: right;\n",
              "    }\n",
              "</style>\n",
              "<table border=\"1\" class=\"dataframe\">\n",
              "  <thead>\n",
              "    <tr style=\"text-align: right;\">\n",
              "      <th></th>\n",
              "      <th>city</th>\n",
              "      <th>price_per_area</th>\n",
              "    </tr>\n",
              "  </thead>\n",
              "  <tbody>\n",
              "    <tr>\n",
              "      <th>0</th>\n",
              "      <td>高雄市</td>\n",
              "      <td>750.000000</td>\n",
              "    </tr>\n",
              "    <tr>\n",
              "      <th>1</th>\n",
              "      <td>新北市</td>\n",
              "      <td>750.000000</td>\n",
              "    </tr>\n",
              "    <tr>\n",
              "      <th>2</th>\n",
              "      <td>新北市</td>\n",
              "      <td>1375.000000</td>\n",
              "    </tr>\n",
              "    <tr>\n",
              "      <th>3</th>\n",
              "      <td>屏東縣</td>\n",
              "      <td>625.000000</td>\n",
              "    </tr>\n",
              "    <tr>\n",
              "      <th>4</th>\n",
              "      <td>桃園市</td>\n",
              "      <td>714.285714</td>\n",
              "    </tr>\n",
              "  </tbody>\n",
              "</table>\n",
              "</div>"
            ],
            "text/plain": [
              "  city  price_per_area\n",
              "0  高雄市      750.000000\n",
              "1  新北市      750.000000\n",
              "2  新北市     1375.000000\n",
              "3  屏東縣      625.000000\n",
              "4  桃園市      714.285714"
            ]
          },
          "metadata": {
            "tags": []
          },
          "execution_count": 110
        }
      ]
    },
    {
      "cell_type": "code",
      "metadata": {
        "id": "rGOr8adJgaDg",
        "colab_type": "code",
        "colab": {}
      },
      "source": [
        "sample_591 = rent591[['city', 'price_per_area']]\n",
        "sample_591 = sample_591[sample_591['city'].isin(['台北市', '屏東縣'])]"
      ],
      "execution_count": 0,
      "outputs": []
    },
    {
      "cell_type": "markdown",
      "metadata": {
        "id": "kCtA8peXh83s",
        "colab_type": "text"
      },
      "source": [
        "###  Matplotlib 在 Win10 下顯現中文\n",
        "- https://daxpowerbi.com/%E5%A6%82%E4%BD%95%E5%9C%A8win-10%E8%A7%A3%E6%B1%BAmatplotlib%E4%B8%AD%E6%96%87%E9%A1%AF%E7%A4%BA%E7%9A%84%E5%95%8F%E9%A1%8C/\n",
        "\n",
        "- 下載文字\n",
        "https://noto-website-2.storage.googleapis.com/pkgs/NotoSansCJKtc-hinted.zip\n",
        "\n",
        "- 解壓縮以後將otf 放置於C:\\Users\\User\\Anaconda3\\Lib\\site-packages\\matplotlib\\mpl-data\\fonts\\ttf 以下\n",
        "\n",
        "- 清除C:\\Users\\User.matplotlib 所以的檔案\n",
        "\n",
        "- 重啟 jupyter notebook kernel"
      ]
    },
    {
      "cell_type": "code",
      "metadata": {
        "id": "Df-q5RDvh7E_",
        "colab_type": "code",
        "colab": {
          "base_uri": "https://localhost:8080/",
          "height": 228
        },
        "outputId": "f272ebdc-0361-4f9d-85f8-38c9bf466842"
      },
      "source": [
        "! wget https://noto-website-2.storage.googleapis.com/pkgs/NotoSansCJKtc-hinted.zip"
      ],
      "execution_count": 118,
      "outputs": [
        {
          "output_type": "stream",
          "text": [
            "--2020-05-16 03:30:16--  https://noto-website-2.storage.googleapis.com/pkgs/NotoSansCJKtc-hinted.zip\n",
            "Resolving noto-website-2.storage.googleapis.com (noto-website-2.storage.googleapis.com)... 172.217.204.128, 2607:f8b0:400c:c15::80\n",
            "Connecting to noto-website-2.storage.googleapis.com (noto-website-2.storage.googleapis.com)|172.217.204.128|:443... connected.\n",
            "HTTP request sent, awaiting response... 200 OK\n",
            "Length: 121247366 (116M) [application/zip]\n",
            "Saving to: ‘NotoSansCJKtc-hinted.zip’\n",
            "\n",
            "NotoSansCJKtc-hinte 100%[===================>] 115.63M  53.0MB/s    in 2.2s    \n",
            "\n",
            "2020-05-16 03:30:19 (53.0 MB/s) - ‘NotoSansCJKtc-hinted.zip’ saved [121247366/121247366]\n",
            "\n"
          ],
          "name": "stdout"
        }
      ]
    },
    {
      "cell_type": "code",
      "metadata": {
        "id": "oplqj7sfiGcu",
        "colab_type": "code",
        "colab": {
          "base_uri": "https://localhost:8080/",
          "height": 225
        },
        "outputId": "2892be29-700b-4d49-951f-9424acc3f8b6"
      },
      "source": [
        "! unzip NotoSansCJKtc-hinted.zip"
      ],
      "execution_count": 119,
      "outputs": [
        {
          "output_type": "stream",
          "text": [
            "Archive:  NotoSansCJKtc-hinted.zip\n",
            "  inflating: LICENSE_OFL.txt         \n",
            "  inflating: NotoSansCJKtc-Black.otf  \n",
            "  inflating: NotoSansCJKtc-Bold.otf  \n",
            "  inflating: NotoSansCJKtc-DemiLight.otf  \n",
            "  inflating: NotoSansCJKtc-Light.otf  \n",
            "  inflating: NotoSansCJKtc-Medium.otf  \n",
            "  inflating: NotoSansCJKtc-Regular.otf  \n",
            "  inflating: NotoSansCJKtc-Thin.otf  \n",
            "  inflating: NotoSansMonoCJKtc-Bold.otf  \n",
            "  inflating: NotoSansMonoCJKtc-Regular.otf  \n",
            "  inflating: README                  \n"
          ],
          "name": "stdout"
        }
      ]
    },
    {
      "cell_type": "code",
      "metadata": {
        "id": "elPlUTLJi3UC",
        "colab_type": "code",
        "colab": {}
      },
      "source": [
        "!mv NotoSansCJKtc-Regular.otf /usr/share/fonts/truetype/"
      ],
      "execution_count": 0,
      "outputs": []
    },
    {
      "cell_type": "code",
      "metadata": {
        "id": "ngjQnv27jE48",
        "colab_type": "code",
        "colab": {}
      },
      "source": [
        "import matplotlib as mpl\n",
        "import matplotlib.pyplot as plt\n",
        "import matplotlib.font_manager as fm\n",
        "\n",
        "path = '/usr/share/fonts/truetype/NotoSansCJKtc-Regular.otf'\n",
        "fontprop = fm.FontProperties(fname=path)"
      ],
      "execution_count": 0,
      "outputs": []
    },
    {
      "cell_type": "code",
      "metadata": {
        "id": "Zi4BLrW8kEn0",
        "colab_type": "code",
        "colab": {}
      },
      "source": [
        "sample_591['log_price_per_area'] = np.log(sample_591['price_per_area'])"
      ],
      "execution_count": 0,
      "outputs": []
    },
    {
      "cell_type": "code",
      "metadata": {
        "id": "k9OnpRT_gwTt",
        "colab_type": "code",
        "colab": {
          "base_uri": "https://localhost:8080/",
          "height": 492
        },
        "outputId": "029bf05b-e9c3-47c9-bf68-16794b9b87eb"
      },
      "source": [
        "import matplotlib.pyplot as plt\n",
        "import numpy as np\n",
        "\n",
        "sample_591.boxplot('price_per_area', by= 'city', figsize = [20,10])\n",
        "plt.xticks( (1,2),('台北市','屏東縣') ,fontproperties=fontprop)"
      ],
      "execution_count": 137,
      "outputs": [
        {
          "output_type": "execute_result",
          "data": {
            "text/plain": [
              "([<matplotlib.axis.XTick at 0x7fb332a61518>,\n",
              "  <matplotlib.axis.XTick at 0x7fb332a61400>],\n",
              " [Text(0, 0, '台北市'), Text(0, 0, '屏東縣')])"
            ]
          },
          "metadata": {
            "tags": []
          },
          "execution_count": 137
        },
        {
          "output_type": "display_data",
          "data": {
            "image/png": "[encoded data removed]",
            "text/plain": [
              "<Figure size 1440x720 with 1 Axes>"
            ]
          },
          "metadata": {
            "tags": [],
            "needs_background": "light"
          }
        }
      ]
    },
    {
      "cell_type": "code",
      "metadata": {
        "id": "aq95Mi0To205",
        "colab_type": "code",
        "colab": {
          "base_uri": "https://localhost:8080/",
          "height": 35
        },
        "outputId": "83d2dbbe-1c8f-437d-f5ff-4124ab4ad222"
      },
      "source": [
        "a = np.array([1,10,100,1000])\n",
        "np.log10(a)"
      ],
      "execution_count": 144,
      "outputs": [
        {
          "output_type": "execute_result",
          "data": {
            "text/plain": [
              "array([0., 1., 2., 3.])"
            ]
          },
          "metadata": {
            "tags": []
          },
          "execution_count": 144
        }
      ]
    },
    {
      "cell_type": "code",
      "metadata": {
        "id": "syWIVz1tg4Qr",
        "colab_type": "code",
        "colab": {
          "base_uri": "https://localhost:8080/",
          "height": 499
        },
        "outputId": "d8e5c50b-7e16-4e56-e1ce-c304190d5ead"
      },
      "source": [
        "import matplotlib.pyplot as plt\n",
        "import numpy as np\n",
        "sample_591.boxplot('log_price_per_area', by= 'city', figsize = [20,10])\n",
        "plt.xticks( (1,2),('台北市','屏東縣') ,fontproperties=fontprop)"
      ],
      "execution_count": 138,
      "outputs": [
        {
          "output_type": "execute_result",
          "data": {
            "text/plain": [
              "([<matplotlib.axis.XTick at 0x7fb3329da438>,\n",
              "  <matplotlib.axis.XTick at 0x7fb3329da400>],\n",
              " [Text(0, 0, '台北市'), Text(0, 0, '屏東縣')])"
            ]
          },
          "metadata": {
            "tags": []
          },
          "execution_count": 138
        },
        {
          "output_type": "display_data",
          "data": {
            "image/png": "[encoded data removed]",
            "text/plain": [
              "<Figure size 1440x720 with 1 Axes>"
            ]
          },
          "metadata": {
            "tags": [],
            "needs_background": "light"
          }
        }
      ]
    },
    {
      "cell_type": "markdown",
      "metadata": {
        "id": "yodw0FPhqbjO",
        "colab_type": "text"
      },
      "source": [
        "###直方圖"
      ]
    },
    {
      "cell_type": "code",
      "metadata": {
        "id": "wUd2ZG63kPoU",
        "colab_type": "code",
        "colab": {
          "base_uri": "https://localhost:8080/",
          "height": 281
        },
        "outputId": "c224144f-c028-44cc-a52f-1e704dc1f810"
      },
      "source": [
        "tw2330['Close'].plot(kind = 'hist')"
      ],
      "execution_count": 145,
      "outputs": [
        {
          "output_type": "execute_result",
          "data": {
            "text/plain": [
              "<matplotlib.axes._subplots.AxesSubplot at 0x7fb33499ddd8>"
            ]
          },
          "metadata": {
            "tags": []
          },
          "execution_count": 145
        },
        {
          "output_type": "display_data",
          "data": {
            "image/png": "[encoded data removed]",
            "text/plain": [
              "<Figure size 432x288 with 1 Axes>"
            ]
          },
          "metadata": {
            "tags": [],
            "needs_background": "light"
          }
        }
      ]
    },
    {
      "cell_type": "code",
      "metadata": {
        "id": "26-hEvk5qiol",
        "colab_type": "code",
        "colab": {
          "base_uri": "https://localhost:8080/",
          "height": 281
        },
        "outputId": "6bda6515-0128-4f29-e852-50ba4d666147"
      },
      "source": [
        "tw2330['Close'].plot(kind = 'hist', bins = 100)"
      ],
      "execution_count": 146,
      "outputs": [
        {
          "output_type": "execute_result",
          "data": {
            "text/plain": [
              "<matplotlib.axes._subplots.AxesSubplot at 0x7fb3347e5860>"
            ]
          },
          "metadata": {
            "tags": []
          },
          "execution_count": 146
        },
        {
          "output_type": "display_data",
          "data": {
            "image/png": "[encoded data removed]",
            "text/plain": [
              "<Figure size 432x288 with 1 Axes>"
            ]
          },
          "metadata": {
            "tags": [],
            "needs_background": "light"
          }
        }
      ]
    },
    {
      "cell_type": "code",
      "metadata": {
        "id": "fjo1sWIKqySV",
        "colab_type": "code",
        "colab": {
          "base_uri": "https://localhost:8080/",
          "height": 35
        },
        "outputId": "1af5fb0d-3f7a-4d65-c87b-8e42a446c27b"
      },
      "source": [
        "tw2330['Close'].var()"
      ],
      "execution_count": 148,
      "outputs": [
        {
          "output_type": "execute_result",
          "data": {
            "text/plain": [
              "5166.154466900455"
            ]
          },
          "metadata": {
            "tags": []
          },
          "execution_count": 148
        }
      ]
    },
    {
      "cell_type": "code",
      "metadata": {
        "id": "06jCUzH3tQjq",
        "colab_type": "code",
        "colab": {
          "base_uri": "https://localhost:8080/",
          "height": 35
        },
        "outputId": "34498770-6075-4c0f-f00d-d42fa54113a5"
      },
      "source": [
        "np.sqrt(tw2330['Close'].var())"
      ],
      "execution_count": 149,
      "outputs": [
        {
          "output_type": "execute_result",
          "data": {
            "text/plain": [
              "71.87596585020931"
            ]
          },
          "metadata": {
            "tags": []
          },
          "execution_count": 149
        }
      ]
    },
    {
      "cell_type": "code",
      "metadata": {
        "id": "9wnWckG5tU-B",
        "colab_type": "code",
        "colab": {
          "base_uri": "https://localhost:8080/",
          "height": 35
        },
        "outputId": "554ec128-262d-4765-ee1e-03d2cc0d08e3"
      },
      "source": [
        "tw2330['Close'].std()"
      ],
      "execution_count": 150,
      "outputs": [
        {
          "output_type": "execute_result",
          "data": {
            "text/plain": [
              "71.87596585020931"
            ]
          },
          "metadata": {
            "tags": []
          },
          "execution_count": 150
        }
      ]
    },
    {
      "cell_type": "code",
      "metadata": {
        "id": "y9Bh-g1LtZ7t",
        "colab_type": "code",
        "colab": {
          "base_uri": "https://localhost:8080/",
          "height": 139
        },
        "outputId": "91d528db-01ab-4fb0-df2d-f40e9785b8be"
      },
      "source": [
        "tw2330['Close'].pct_change(1).head()"
      ],
      "execution_count": 151,
      "outputs": [
        {
          "output_type": "execute_result",
          "data": {
            "text/plain": [
              "Date\n",
              "2000-01-04         NaN\n",
              "2000-01-05    0.022471\n",
              "2000-01-06   -0.021977\n",
              "2000-01-07   -0.028091\n",
              "2000-01-10    0.034682\n",
              "Name: Close, dtype: float64"
            ]
          },
          "metadata": {
            "tags": []
          },
          "execution_count": 151
        }
      ]
    },
    {
      "cell_type": "code",
      "metadata": {
        "id": "pTOZfcytuv2B",
        "colab_type": "code",
        "colab": {
          "base_uri": "https://localhost:8080/",
          "height": 139
        },
        "outputId": "a175c5c4-9123-49bf-fbb5-5f27cbfe0975"
      },
      "source": [
        "tw2330['Close'].shift(1).head()"
      ],
      "execution_count": 154,
      "outputs": [
        {
          "output_type": "execute_result",
          "data": {
            "text/plain": [
              "Date\n",
              "2000-01-04          NaN\n",
              "2000-01-05    69.649002\n",
              "2000-01-06    71.214104\n",
              "2000-01-07    69.649002\n",
              "2000-01-10    67.692497\n",
              "Name: Close, dtype: float64"
            ]
          },
          "metadata": {
            "tags": []
          },
          "execution_count": 154
        }
      ]
    },
    {
      "cell_type": "code",
      "metadata": {
        "id": "MNVFDv4RvAsJ",
        "colab_type": "code",
        "colab": {
          "base_uri": "https://localhost:8080/",
          "height": 139
        },
        "outputId": "1f4cea84-5a76-4b88-dbfa-b442ae2bbfe1"
      },
      "source": [
        "tw2330['Close'].head()"
      ],
      "execution_count": 157,
      "outputs": [
        {
          "output_type": "execute_result",
          "data": {
            "text/plain": [
              "Date\n",
              "2000-01-04    69.649002\n",
              "2000-01-05    71.214104\n",
              "2000-01-06    69.649002\n",
              "2000-01-07    67.692497\n",
              "2000-01-10    70.040199\n",
              "Name: Close, dtype: float64"
            ]
          },
          "metadata": {
            "tags": []
          },
          "execution_count": 157
        }
      ]
    },
    {
      "cell_type": "code",
      "metadata": {
        "id": "-iQsapklu1JB",
        "colab_type": "code",
        "colab": {
          "base_uri": "https://localhost:8080/",
          "height": 139
        },
        "outputId": "3432f2e4-ce6d-48b9-e2d7-6c3a122458c9"
      },
      "source": [
        "(tw2330['Close'] / tw2330['Close'].shift(1) - 1).head()"
      ],
      "execution_count": 156,
      "outputs": [
        {
          "output_type": "execute_result",
          "data": {
            "text/plain": [
              "Date\n",
              "2000-01-04         NaN\n",
              "2000-01-05    0.022471\n",
              "2000-01-06   -0.021977\n",
              "2000-01-07   -0.028091\n",
              "2000-01-10    0.034682\n",
              "Name: Close, dtype: float64"
            ]
          },
          "metadata": {
            "tags": []
          },
          "execution_count": 156
        }
      ]
    },
    {
      "cell_type": "code",
      "metadata": {
        "id": "l409ubFUu8WT",
        "colab_type": "code",
        "colab": {}
      },
      "source": [
        "tw2330['DailyReturn']  = tw2330['Close'].pct_change(1)"
      ],
      "execution_count": 0,
      "outputs": []
    },
    {
      "cell_type": "code",
      "metadata": {
        "id": "WQw63Me3vSr1",
        "colab_type": "code",
        "colab": {
          "base_uri": "https://localhost:8080/",
          "height": 281
        },
        "outputId": "71aadb8e-0b93-4545-cffb-5d2f79dfdf4d"
      },
      "source": [
        "tw2330['DailyReturn'].plot(kind ='hist')"
      ],
      "execution_count": 159,
      "outputs": [
        {
          "output_type": "execute_result",
          "data": {
            "text/plain": [
              "<matplotlib.axes._subplots.AxesSubplot at 0x7fb332805978>"
            ]
          },
          "metadata": {
            "tags": []
          },
          "execution_count": 159
        },
        {
          "output_type": "display_data",
          "data": {
            "image/png": "[encoded data removed]",
            "text/plain": [
              "<Figure size 432x288 with 1 Axes>"
            ]
          },
          "metadata": {
            "tags": [],
            "needs_background": "light"
          }
        }
      ]
    },
    {
      "cell_type": "code",
      "metadata": {
        "id": "dxPqSt6LvVai",
        "colab_type": "code",
        "colab": {
          "base_uri": "https://localhost:8080/",
          "height": 35
        },
        "outputId": "69b13d60-e7c3-495d-a349-e29922f2c80d"
      },
      "source": [
        "tw2330['DailyReturn'].mean()"
      ],
      "execution_count": 160,
      "outputs": [
        {
          "output_type": "execute_result",
          "data": {
            "text/plain": [
              "0.000492728963195317"
            ]
          },
          "metadata": {
            "tags": []
          },
          "execution_count": 160
        }
      ]
    },
    {
      "cell_type": "code",
      "metadata": {
        "id": "lOQhLCK4vivt",
        "colab_type": "code",
        "colab": {
          "base_uri": "https://localhost:8080/",
          "height": 35
        },
        "outputId": "572e8d95-d83f-4aeb-8521-e4289e2f41af"
      },
      "source": [
        "tw2330['DailyReturn'].std()"
      ],
      "execution_count": 161,
      "outputs": [
        {
          "output_type": "execute_result",
          "data": {
            "text/plain": [
              "0.020167180788670438"
            ]
          },
          "metadata": {
            "tags": []
          },
          "execution_count": 161
        }
      ]
    },
    {
      "cell_type": "code",
      "metadata": {
        "id": "xTrSCFQrvmvd",
        "colab_type": "code",
        "colab": {}
      },
      "source": [
        "stocks = DataReader(['2330.TW', '2498.TW'], data_source = 'yahoo', start = '2014-01-01')['Close']"
      ],
      "execution_count": 0,
      "outputs": []
    },
    {
      "cell_type": "code",
      "metadata": {
        "id": "43sS26mAv3GY",
        "colab_type": "code",
        "colab": {
          "base_uri": "https://localhost:8080/",
          "height": 233
        },
        "outputId": "c4118bfa-7b9a-48df-d990-165ef2a4d22f"
      },
      "source": [
        "stocks.head()"
      ],
      "execution_count": 166,
      "outputs": [
        {
          "output_type": "execute_result",
          "data": {
            "text/html": [
              "<div>\n",
              "<style scoped>\n",
              "    .dataframe tbody tr th:only-of-type {\n",
              "        vertical-align: middle;\n",
              "    }\n",
              "\n",
              "    .dataframe tbody tr th {\n",
              "        vertical-align: top;\n",
              "    }\n",
              "\n",
              "    .dataframe thead th {\n",
              "        text-align: right;\n",
              "    }\n",
              "</style>\n",
              "<table border=\"1\" class=\"dataframe\">\n",
              "  <thead>\n",
              "    <tr style=\"text-align: right;\">\n",
              "      <th>Symbols</th>\n",
              "      <th>2330.TW</th>\n",
              "      <th>2498.TW</th>\n",
              "    </tr>\n",
              "    <tr>\n",
              "      <th>Date</th>\n",
              "      <th></th>\n",
              "      <th></th>\n",
              "    </tr>\n",
              "  </thead>\n",
              "  <tbody>\n",
              "    <tr>\n",
              "      <th>2014-01-02</th>\n",
              "      <td>104.5</td>\n",
              "      <td>138.5</td>\n",
              "    </tr>\n",
              "    <tr>\n",
              "      <th>2014-01-03</th>\n",
              "      <td>102.5</td>\n",
              "      <td>138.5</td>\n",
              "    </tr>\n",
              "    <tr>\n",
              "      <th>2014-01-06</th>\n",
              "      <td>102.5</td>\n",
              "      <td>133.5</td>\n",
              "    </tr>\n",
              "    <tr>\n",
              "      <th>2014-01-07</th>\n",
              "      <td>102.0</td>\n",
              "      <td>131.0</td>\n",
              "    </tr>\n",
              "    <tr>\n",
              "      <th>2014-01-08</th>\n",
              "      <td>104.0</td>\n",
              "      <td>130.0</td>\n",
              "    </tr>\n",
              "  </tbody>\n",
              "</table>\n",
              "</div>"
            ],
            "text/plain": [
              "Symbols     2330.TW  2498.TW\n",
              "Date                        \n",
              "2014-01-02    104.5    138.5\n",
              "2014-01-03    102.5    138.5\n",
              "2014-01-06    102.5    133.5\n",
              "2014-01-07    102.0    131.0\n",
              "2014-01-08    104.0    130.0"
            ]
          },
          "metadata": {
            "tags": []
          },
          "execution_count": 166
        }
      ]
    },
    {
      "cell_type": "code",
      "metadata": {
        "id": "J3d_xBYdv592",
        "colab_type": "code",
        "colab": {}
      },
      "source": [
        "ret = stocks.pct_change(1)"
      ],
      "execution_count": 0,
      "outputs": []
    },
    {
      "cell_type": "code",
      "metadata": {
        "id": "BNNZt1MjwFql",
        "colab_type": "code",
        "colab": {
          "base_uri": "https://localhost:8080/",
          "height": 233
        },
        "outputId": "501c4b28-3c97-4410-ad62-9ecd004ec344"
      },
      "source": [
        "ret.head()"
      ],
      "execution_count": 168,
      "outputs": [
        {
          "output_type": "execute_result",
          "data": {
            "text/html": [
              "<div>\n",
              "<style scoped>\n",
              "    .dataframe tbody tr th:only-of-type {\n",
              "        vertical-align: middle;\n",
              "    }\n",
              "\n",
              "    .dataframe tbody tr th {\n",
              "        vertical-align: top;\n",
              "    }\n",
              "\n",
              "    .dataframe thead th {\n",
              "        text-align: right;\n",
              "    }\n",
              "</style>\n",
              "<table border=\"1\" class=\"dataframe\">\n",
              "  <thead>\n",
              "    <tr style=\"text-align: right;\">\n",
              "      <th>Symbols</th>\n",
              "      <th>2330.TW</th>\n",
              "      <th>2498.TW</th>\n",
              "    </tr>\n",
              "    <tr>\n",
              "      <th>Date</th>\n",
              "      <th></th>\n",
              "      <th></th>\n",
              "    </tr>\n",
              "  </thead>\n",
              "  <tbody>\n",
              "    <tr>\n",
              "      <th>2014-01-02</th>\n",
              "      <td>NaN</td>\n",
              "      <td>NaN</td>\n",
              "    </tr>\n",
              "    <tr>\n",
              "      <th>2014-01-03</th>\n",
              "      <td>-0.019139</td>\n",
              "      <td>0.000000</td>\n",
              "    </tr>\n",
              "    <tr>\n",
              "      <th>2014-01-06</th>\n",
              "      <td>0.000000</td>\n",
              "      <td>-0.036101</td>\n",
              "    </tr>\n",
              "    <tr>\n",
              "      <th>2014-01-07</th>\n",
              "      <td>-0.004878</td>\n",
              "      <td>-0.018727</td>\n",
              "    </tr>\n",
              "    <tr>\n",
              "      <th>2014-01-08</th>\n",
              "      <td>0.019608</td>\n",
              "      <td>-0.007634</td>\n",
              "    </tr>\n",
              "  </tbody>\n",
              "</table>\n",
              "</div>"
            ],
            "text/plain": [
              "Symbols      2330.TW   2498.TW\n",
              "Date                          \n",
              "2014-01-02       NaN       NaN\n",
              "2014-01-03 -0.019139  0.000000\n",
              "2014-01-06  0.000000 -0.036101\n",
              "2014-01-07 -0.004878 -0.018727\n",
              "2014-01-08  0.019608 -0.007634"
            ]
          },
          "metadata": {
            "tags": []
          },
          "execution_count": 168
        }
      ]
    },
    {
      "cell_type": "code",
      "metadata": {
        "id": "P7-8wwftwGVL",
        "colab_type": "code",
        "colab": {
          "base_uri": "https://localhost:8080/",
          "height": 87
        },
        "outputId": "5c753c6a-619e-4180-8ba7-b3292b5f6b07"
      },
      "source": [
        "ret.mean()"
      ],
      "execution_count": 169,
      "outputs": [
        {
          "output_type": "execute_result",
          "data": {
            "text/plain": [
              "Symbols\n",
              "2330.TW    0.000788\n",
              "2498.TW   -0.000642\n",
              "dtype: float64"
            ]
          },
          "metadata": {
            "tags": []
          },
          "execution_count": 169
        }
      ]
    },
    {
      "cell_type": "code",
      "metadata": {
        "id": "0X99LY5IwI3J",
        "colab_type": "code",
        "colab": {
          "base_uri": "https://localhost:8080/",
          "height": 87
        },
        "outputId": "89728e49-3b23-460f-cfb5-699c4b76f1e9"
      },
      "source": [
        "ret.std()"
      ],
      "execution_count": 171,
      "outputs": [
        {
          "output_type": "execute_result",
          "data": {
            "text/plain": [
              "Symbols\n",
              "2330.TW    0.014993\n",
              "2498.TW    0.027606\n",
              "dtype: float64"
            ]
          },
          "metadata": {
            "tags": []
          },
          "execution_count": 171
        }
      ]
    },
    {
      "cell_type": "code",
      "metadata": {
        "id": "X-bmRpuxwOYC",
        "colab_type": "code",
        "colab": {}
      },
      "source": [
        "stocks = DataReader(['2330.TW', '^twii'], data_source = 'yahoo', start = '2014-01-01')['Close']"
      ],
      "execution_count": 0,
      "outputs": []
    },
    {
      "cell_type": "code",
      "metadata": {
        "id": "509KQAiS_lx_",
        "colab_type": "code",
        "colab": {
          "base_uri": "https://localhost:8080/",
          "height": 233
        },
        "outputId": "7fd02e88-416d-4345-8ea4-2bc622c78758"
      },
      "source": [
        "stocks.head()"
      ],
      "execution_count": 173,
      "outputs": [
        {
          "output_type": "execute_result",
          "data": {
            "text/html": [
              "<div>\n",
              "<style scoped>\n",
              "    .dataframe tbody tr th:only-of-type {\n",
              "        vertical-align: middle;\n",
              "    }\n",
              "\n",
              "    .dataframe tbody tr th {\n",
              "        vertical-align: top;\n",
              "    }\n",
              "\n",
              "    .dataframe thead th {\n",
              "        text-align: right;\n",
              "    }\n",
              "</style>\n",
              "<table border=\"1\" class=\"dataframe\">\n",
              "  <thead>\n",
              "    <tr style=\"text-align: right;\">\n",
              "      <th>Symbols</th>\n",
              "      <th>2330.TW</th>\n",
              "      <th>^twii</th>\n",
              "    </tr>\n",
              "    <tr>\n",
              "      <th>Date</th>\n",
              "      <th></th>\n",
              "      <th></th>\n",
              "    </tr>\n",
              "  </thead>\n",
              "  <tbody>\n",
              "    <tr>\n",
              "      <th>2014-01-02</th>\n",
              "      <td>104.5</td>\n",
              "      <td>8612.540039</td>\n",
              "    </tr>\n",
              "    <tr>\n",
              "      <th>2014-01-03</th>\n",
              "      <td>102.5</td>\n",
              "      <td>8546.540039</td>\n",
              "    </tr>\n",
              "    <tr>\n",
              "      <th>2014-01-06</th>\n",
              "      <td>102.5</td>\n",
              "      <td>8500.009766</td>\n",
              "    </tr>\n",
              "    <tr>\n",
              "      <th>2014-01-07</th>\n",
              "      <td>102.0</td>\n",
              "      <td>8512.299805</td>\n",
              "    </tr>\n",
              "    <tr>\n",
              "      <th>2014-01-08</th>\n",
              "      <td>104.0</td>\n",
              "      <td>8556.009766</td>\n",
              "    </tr>\n",
              "  </tbody>\n",
              "</table>\n",
              "</div>"
            ],
            "text/plain": [
              "Symbols     2330.TW        ^twii\n",
              "Date                            \n",
              "2014-01-02    104.5  8612.540039\n",
              "2014-01-03    102.5  8546.540039\n",
              "2014-01-06    102.5  8500.009766\n",
              "2014-01-07    102.0  8512.299805\n",
              "2014-01-08    104.0  8556.009766"
            ]
          },
          "metadata": {
            "tags": []
          },
          "execution_count": 173
        }
      ]
    },
    {
      "cell_type": "code",
      "metadata": {
        "id": "o11KFTFB_n69",
        "colab_type": "code",
        "colab": {
          "base_uri": "https://localhost:8080/",
          "height": 141
        },
        "outputId": "1e3ae9ec-f572-4e27-cf73-bf6f6105f86a"
      },
      "source": [
        "stocks.cov()"
      ],
      "execution_count": 174,
      "outputs": [
        {
          "output_type": "execute_result",
          "data": {
            "text/html": [
              "<div>\n",
              "<style scoped>\n",
              "    .dataframe tbody tr th:only-of-type {\n",
              "        vertical-align: middle;\n",
              "    }\n",
              "\n",
              "    .dataframe tbody tr th {\n",
              "        vertical-align: top;\n",
              "    }\n",
              "\n",
              "    .dataframe thead th {\n",
              "        text-align: right;\n",
              "    }\n",
              "</style>\n",
              "<table border=\"1\" class=\"dataframe\">\n",
              "  <thead>\n",
              "    <tr style=\"text-align: right;\">\n",
              "      <th>Symbols</th>\n",
              "      <th>2330.TW</th>\n",
              "      <th>^twii</th>\n",
              "    </tr>\n",
              "    <tr>\n",
              "      <th>Symbols</th>\n",
              "      <th></th>\n",
              "      <th></th>\n",
              "    </tr>\n",
              "  </thead>\n",
              "  <tbody>\n",
              "    <tr>\n",
              "      <th>2330.TW</th>\n",
              "      <td>3475.982913</td>\n",
              "      <td>5.247184e+04</td>\n",
              "    </tr>\n",
              "    <tr>\n",
              "      <th>^twii</th>\n",
              "      <td>52471.839491</td>\n",
              "      <td>1.000072e+06</td>\n",
              "    </tr>\n",
              "  </tbody>\n",
              "</table>\n",
              "</div>"
            ],
            "text/plain": [
              "Symbols       2330.TW         ^twii\n",
              "Symbols                            \n",
              "2330.TW   3475.982913  5.247184e+04\n",
              "^twii    52471.839491  1.000072e+06"
            ]
          },
          "metadata": {
            "tags": []
          },
          "execution_count": 174
        }
      ]
    },
    {
      "cell_type": "code",
      "metadata": {
        "id": "r58CW4vL_s3U",
        "colab_type": "code",
        "colab": {
          "base_uri": "https://localhost:8080/",
          "height": 141
        },
        "outputId": "0ee7cf0d-91e5-4172-b740-659c9e8c3ad2"
      },
      "source": [
        "stocks.corr()"
      ],
      "execution_count": 175,
      "outputs": [
        {
          "output_type": "execute_result",
          "data": {
            "text/html": [
              "<div>\n",
              "<style scoped>\n",
              "    .dataframe tbody tr th:only-of-type {\n",
              "        vertical-align: middle;\n",
              "    }\n",
              "\n",
              "    .dataframe tbody tr th {\n",
              "        vertical-align: top;\n",
              "    }\n",
              "\n",
              "    .dataframe thead th {\n",
              "        text-align: right;\n",
              "    }\n",
              "</style>\n",
              "<table border=\"1\" class=\"dataframe\">\n",
              "  <thead>\n",
              "    <tr style=\"text-align: right;\">\n",
              "      <th>Symbols</th>\n",
              "      <th>2330.TW</th>\n",
              "      <th>^twii</th>\n",
              "    </tr>\n",
              "    <tr>\n",
              "      <th>Symbols</th>\n",
              "      <th></th>\n",
              "      <th></th>\n",
              "    </tr>\n",
              "  </thead>\n",
              "  <tbody>\n",
              "    <tr>\n",
              "      <th>2330.TW</th>\n",
              "      <td>1.000000</td>\n",
              "      <td>0.889521</td>\n",
              "    </tr>\n",
              "    <tr>\n",
              "      <th>^twii</th>\n",
              "      <td>0.889521</td>\n",
              "      <td>1.000000</td>\n",
              "    </tr>\n",
              "  </tbody>\n",
              "</table>\n",
              "</div>"
            ],
            "text/plain": [
              "Symbols   2330.TW     ^twii\n",
              "Symbols                    \n",
              "2330.TW  1.000000  0.889521\n",
              "^twii    0.889521  1.000000"
            ]
          },
          "metadata": {
            "tags": []
          },
          "execution_count": 175
        }
      ]
    },
    {
      "cell_type": "code",
      "metadata": {
        "id": "mXIbaL23AQWA",
        "colab_type": "code",
        "colab": {}
      },
      "source": [
        "stocks = DataReader(['2330.TW','2881.TW','1101.TW', '2454.TW','2498.TW', '^twii'], data_source = 'yahoo', start = '2014-01-01')['Close']"
      ],
      "execution_count": 0,
      "outputs": []
    },
    {
      "cell_type": "code",
      "metadata": {
        "id": "XrSFG9m0BQBC",
        "colab_type": "code",
        "colab": {
          "base_uri": "https://localhost:8080/",
          "height": 263
        },
        "outputId": "ab130480-89f6-437b-d0f7-72f036e7f50c"
      },
      "source": [
        "stocks.corr()"
      ],
      "execution_count": 179,
      "outputs": [
        {
          "output_type": "execute_result",
          "data": {
            "text/html": [
              "<div>\n",
              "<style scoped>\n",
              "    .dataframe tbody tr th:only-of-type {\n",
              "        vertical-align: middle;\n",
              "    }\n",
              "\n",
              "    .dataframe tbody tr th {\n",
              "        vertical-align: top;\n",
              "    }\n",
              "\n",
              "    .dataframe thead th {\n",
              "        text-align: right;\n",
              "    }\n",
              "</style>\n",
              "<table border=\"1\" class=\"dataframe\">\n",
              "  <thead>\n",
              "    <tr style=\"text-align: right;\">\n",
              "      <th>Symbols</th>\n",
              "      <th>2330.TW</th>\n",
              "      <th>2881.TW</th>\n",
              "      <th>1101.TW</th>\n",
              "      <th>2454.TW</th>\n",
              "      <th>2498.TW</th>\n",
              "      <th>^twii</th>\n",
              "    </tr>\n",
              "    <tr>\n",
              "      <th>Symbols</th>\n",
              "      <th></th>\n",
              "      <th></th>\n",
              "      <th></th>\n",
              "      <th></th>\n",
              "      <th></th>\n",
              "      <th></th>\n",
              "    </tr>\n",
              "  </thead>\n",
              "  <tbody>\n",
              "    <tr>\n",
              "      <th>2330.TW</th>\n",
              "      <td>1.000000</td>\n",
              "      <td>-0.109579</td>\n",
              "      <td>0.339829</td>\n",
              "      <td>-0.192654</td>\n",
              "      <td>-0.796514</td>\n",
              "      <td>0.889521</td>\n",
              "    </tr>\n",
              "    <tr>\n",
              "      <th>2881.TW</th>\n",
              "      <td>-0.109579</td>\n",
              "      <td>1.000000</td>\n",
              "      <td>0.003165</td>\n",
              "      <td>0.108823</td>\n",
              "      <td>0.058381</td>\n",
              "      <td>0.128765</td>\n",
              "    </tr>\n",
              "    <tr>\n",
              "      <th>1101.TW</th>\n",
              "      <td>0.339829</td>\n",
              "      <td>0.003165</td>\n",
              "      <td>1.000000</td>\n",
              "      <td>0.656896</td>\n",
              "      <td>-0.005174</td>\n",
              "      <td>0.495756</td>\n",
              "    </tr>\n",
              "    <tr>\n",
              "      <th>2454.TW</th>\n",
              "      <td>-0.192654</td>\n",
              "      <td>0.108823</td>\n",
              "      <td>0.656896</td>\n",
              "      <td>1.000000</td>\n",
              "      <td>0.558552</td>\n",
              "      <td>0.074786</td>\n",
              "    </tr>\n",
              "    <tr>\n",
              "      <th>2498.TW</th>\n",
              "      <td>-0.796514</td>\n",
              "      <td>0.058381</td>\n",
              "      <td>-0.005174</td>\n",
              "      <td>0.558552</td>\n",
              "      <td>1.000000</td>\n",
              "      <td>-0.561031</td>\n",
              "    </tr>\n",
              "    <tr>\n",
              "      <th>^twii</th>\n",
              "      <td>0.889521</td>\n",
              "      <td>0.128765</td>\n",
              "      <td>0.495756</td>\n",
              "      <td>0.074786</td>\n",
              "      <td>-0.561031</td>\n",
              "      <td>1.000000</td>\n",
              "    </tr>\n",
              "  </tbody>\n",
              "</table>\n",
              "</div>"
            ],
            "text/plain": [
              "Symbols   2330.TW   2881.TW   1101.TW   2454.TW   2498.TW     ^twii\n",
              "Symbols                                                            \n",
              "2330.TW  1.000000 -0.109579  0.339829 -0.192654 -0.796514  0.889521\n",
              "2881.TW -0.109579  1.000000  0.003165  0.108823  0.058381  0.128765\n",
              "1101.TW  0.339829  0.003165  1.000000  0.656896 -0.005174  0.495756\n",
              "2454.TW -0.192654  0.108823  0.656896  1.000000  0.558552  0.074786\n",
              "2498.TW -0.796514  0.058381 -0.005174  0.558552  1.000000 -0.561031\n",
              "^twii    0.889521  0.128765  0.495756  0.074786 -0.561031  1.000000"
            ]
          },
          "metadata": {
            "tags": []
          },
          "execution_count": 179
        }
      ]
    },
    {
      "cell_type": "markdown",
      "metadata": {
        "id": "RriAK-nTGSeL",
        "colab_type": "text"
      },
      "source": [
        "## 資料視覺化"
      ]
    },
    {
      "cell_type": "code",
      "metadata": {
        "id": "2qA5IgqFBSWS",
        "colab_type": "code",
        "colab": {}
      },
      "source": [
        "stocks  = DataReader(['FB', 'AMZN' , 'NFLX' , 'GOOG'], data_source='yahoo', start = '2014-01-01')['Close']"
      ],
      "execution_count": 0,
      "outputs": []
    },
    {
      "cell_type": "code",
      "metadata": {
        "id": "O3zEave3GRSO",
        "colab_type": "code",
        "colab": {
          "base_uri": "https://localhost:8080/",
          "height": 233
        },
        "outputId": "d50acbb3-1b66-4d9f-b5dd-45facb47c9b1"
      },
      "source": [
        "stocks.head()"
      ],
      "execution_count": 181,
      "outputs": [
        {
          "output_type": "execute_result",
          "data": {
            "text/html": [
              "<div>\n",
              "<style scoped>\n",
              "    .dataframe tbody tr th:only-of-type {\n",
              "        vertical-align: middle;\n",
              "    }\n",
              "\n",
              "    .dataframe tbody tr th {\n",
              "        vertical-align: top;\n",
              "    }\n",
              "\n",
              "    .dataframe thead th {\n",
              "        text-align: right;\n",
              "    }\n",
              "</style>\n",
              "<table border=\"1\" class=\"dataframe\">\n",
              "  <thead>\n",
              "    <tr style=\"text-align: right;\">\n",
              "      <th>Symbols</th>\n",
              "      <th>FB</th>\n",
              "      <th>AMZN</th>\n",
              "      <th>NFLX</th>\n",
              "      <th>GOOG</th>\n",
              "    </tr>\n",
              "    <tr>\n",
              "      <th>Date</th>\n",
              "      <th></th>\n",
              "      <th></th>\n",
              "      <th></th>\n",
              "      <th></th>\n",
              "    </tr>\n",
              "  </thead>\n",
              "  <tbody>\n",
              "    <tr>\n",
              "      <th>2014-01-02</th>\n",
              "      <td>54.709999</td>\n",
              "      <td>397.970001</td>\n",
              "      <td>51.831429</td>\n",
              "      <td>554.481689</td>\n",
              "    </tr>\n",
              "    <tr>\n",
              "      <th>2014-01-03</th>\n",
              "      <td>54.560001</td>\n",
              "      <td>396.440002</td>\n",
              "      <td>51.871429</td>\n",
              "      <td>550.436829</td>\n",
              "    </tr>\n",
              "    <tr>\n",
              "      <th>2014-01-06</th>\n",
              "      <td>57.200001</td>\n",
              "      <td>393.630005</td>\n",
              "      <td>51.367142</td>\n",
              "      <td>556.573853</td>\n",
              "    </tr>\n",
              "    <tr>\n",
              "      <th>2014-01-07</th>\n",
              "      <td>57.919998</td>\n",
              "      <td>398.029999</td>\n",
              "      <td>48.500000</td>\n",
              "      <td>567.303589</td>\n",
              "    </tr>\n",
              "    <tr>\n",
              "      <th>2014-01-08</th>\n",
              "      <td>58.230000</td>\n",
              "      <td>401.920013</td>\n",
              "      <td>48.712856</td>\n",
              "      <td>568.484192</td>\n",
              "    </tr>\n",
              "  </tbody>\n",
              "</table>\n",
              "</div>"
            ],
            "text/plain": [
              "Symbols            FB        AMZN       NFLX        GOOG\n",
              "Date                                                    \n",
              "2014-01-02  54.709999  397.970001  51.831429  554.481689\n",
              "2014-01-03  54.560001  396.440002  51.871429  550.436829\n",
              "2014-01-06  57.200001  393.630005  51.367142  556.573853\n",
              "2014-01-07  57.919998  398.029999  48.500000  567.303589\n",
              "2014-01-08  58.230000  401.920013  48.712856  568.484192"
            ]
          },
          "metadata": {
            "tags": []
          },
          "execution_count": 181
        }
      ]
    },
    {
      "cell_type": "code",
      "metadata": {
        "id": "HvN3h5dmGWsN",
        "colab_type": "code",
        "colab": {
          "base_uri": "https://localhost:8080/",
          "height": 285
        },
        "outputId": "b6331ba0-bef9-49d7-b3c2-243bb22aa590"
      },
      "source": [
        "stocks['AMZN'].plot(kind = 'line')"
      ],
      "execution_count": 182,
      "outputs": [
        {
          "output_type": "execute_result",
          "data": {
            "text/plain": [
              "<matplotlib.axes._subplots.AxesSubplot at 0x7fb3326b9390>"
            ]
          },
          "metadata": {
            "tags": []
          },
          "execution_count": 182
        },
        {
          "output_type": "display_data",
          "data": {
            "image/png": "[encoded data removed]",
            "text/plain": [
              "<Figure size 432x288 with 1 Axes>"
            ]
          },
          "metadata": {
            "tags": [],
            "needs_background": "light"
          }
        }
      ]
    },
    {
      "cell_type": "code",
      "metadata": {
        "id": "2J15l-fQGl1s",
        "colab_type": "code",
        "colab": {
          "base_uri": "https://localhost:8080/",
          "height": 281
        },
        "outputId": "dd7b3b1e-c265-40a7-cbeb-9169663478e6"
      },
      "source": [
        "%pylab inline\n",
        "from matplotlib import pyplot as plt\n",
        "plt.plot(stocks.index, stocks['AMZN'])"
      ],
      "execution_count": 184,
      "outputs": [
        {
          "output_type": "execute_result",
          "data": {
            "text/plain": [
              "[<matplotlib.lines.Line2D at 0x7fb3326779b0>]"
            ]
          },
          "metadata": {
            "tags": []
          },
          "execution_count": 184
        },
        {
          "output_type": "display_data",
          "data": {
            "image/png": "[encoded data removed]",
            "text/plain": [
              "<Figure size 432x288 with 1 Axes>"
            ]
          },
          "metadata": {
            "tags": [],
            "needs_background": "light"
          }
        }
      ]
    },
    {
      "cell_type": "code",
      "metadata": {
        "id": "d3wbv-JTHBEf",
        "colab_type": "code",
        "colab": {
          "base_uri": "https://localhost:8080/",
          "height": 349
        },
        "outputId": "d3f6a9e0-8c4e-4a2f-b410-1b646a8fb0e6"
      },
      "source": [
        "stocks['AMZN'].plot(kind = 'line', figsize=[10,5], title= \"AMZN\",legend=True, grid=True)"
      ],
      "execution_count": 185,
      "outputs": [
        {
          "output_type": "execute_result",
          "data": {
            "text/plain": [
              "<matplotlib.axes._subplots.AxesSubplot at 0x7fb332535748>"
            ]
          },
          "metadata": {
            "tags": []
          },
          "execution_count": 185
        },
        {
          "output_type": "display_data",
          "data": {
            "image/png": "[encoded data removed]",
            "text/plain": [
              "<Figure size 720x360 with 1 Axes>"
            ]
          },
          "metadata": {
            "tags": [],
            "needs_background": "light"
          }
        }
      ]
    },
    {
      "cell_type": "code",
      "metadata": {
        "id": "a4iVkh6wHb9s",
        "colab_type": "code",
        "colab": {
          "base_uri": "https://localhost:8080/",
          "height": 315
        },
        "outputId": "de373334-c167-4f4d-bc14-b0ad82d485a5"
      },
      "source": [
        "%pylab inline\n",
        "from matplotlib import pyplot as plt\n",
        "plt.plot(stocks.index, stocks['AMZN'])\n",
        "plt.legend(labels = ['AMZN'])\n",
        "plt.title('AMZN')"
      ],
      "execution_count": 191,
      "outputs": [
        {
          "output_type": "stream",
          "text": [
            "Populating the interactive namespace from numpy and matplotlib\n"
          ],
          "name": "stdout"
        },
        {
          "output_type": "execute_result",
          "data": {
            "text/plain": [
              "Text(0.5, 1.0, 'AMZN')"
            ]
          },
          "metadata": {
            "tags": []
          },
          "execution_count": 191
        },
        {
          "output_type": "display_data",
          "data": {
            "image/png": "[encoded data removed]",
            "text/plain": [
              "<Figure size 432x288 with 1 Axes>"
            ]
          },
          "metadata": {
            "tags": [],
            "needs_background": "light"
          }
        }
      ]
    },
    {
      "cell_type": "code",
      "metadata": {
        "id": "2U2Vz1y6HhTW",
        "colab_type": "code",
        "colab": {}
      },
      "source": [
        "stocks['ma30']  = stocks['AMZN'].rolling(window = 30).mean()"
      ],
      "execution_count": 0,
      "outputs": []
    },
    {
      "cell_type": "code",
      "metadata": {
        "id": "J9Pl5lTvIKFn",
        "colab_type": "code",
        "colab": {
          "base_uri": "https://localhost:8080/",
          "height": 333
        },
        "outputId": "74909bf9-e266-4f1c-b3b3-dcbbc85f20bc"
      },
      "source": [
        "stocks[['AMZN', 'ma30']].plot(kind = 'line', figsize = [10,5])"
      ],
      "execution_count": 195,
      "outputs": [
        {
          "output_type": "execute_result",
          "data": {
            "text/plain": [
              "<matplotlib.axes._subplots.AxesSubplot at 0x7fb3326460b8>"
            ]
          },
          "metadata": {
            "tags": []
          },
          "execution_count": 195
        },
        {
          "output_type": "display_data",
          "data": {
            "image/png": "[encoded data removed]",
            "text/plain": [
              "<Figure size 720x360 with 1 Axes>"
            ]
          },
          "metadata": {
            "tags": [],
            "needs_background": "light"
          }
        }
      ]
    },
    {
      "cell_type": "code",
      "metadata": {
        "id": "EAQIGCcsIUrP",
        "colab_type": "code",
        "colab": {}
      },
      "source": [
        "stocks['ma360']  = stocks['AMZN'].rolling(window = 360).mean()"
      ],
      "execution_count": 0,
      "outputs": []
    },
    {
      "cell_type": "code",
      "metadata": {
        "id": "IZTcOqQgIgr8",
        "colab_type": "code",
        "colab": {
          "base_uri": "https://localhost:8080/",
          "height": 333
        },
        "outputId": "55591ea6-9531-4555-beac-01e94f977185"
      },
      "source": [
        "stocks[['AMZN', 'ma30', 'ma360']].plot(kind = 'line', figsize = [10,5])"
      ],
      "execution_count": 197,
      "outputs": [
        {
          "output_type": "execute_result",
          "data": {
            "text/plain": [
              "<matplotlib.axes._subplots.AxesSubplot at 0x7fb332c90160>"
            ]
          },
          "metadata": {
            "tags": []
          },
          "execution_count": 197
        },
        {
          "output_type": "display_data",
          "data": {
            "image/png": "[encoded data removed]",
            "text/plain": [
              "<Figure size 720x360 with 1 Axes>"
            ]
          },
          "metadata": {
            "tags": [],
            "needs_background": "light"
          }
        }
      ]
    },
    {
      "cell_type": "code",
      "metadata": {
        "id": "Hxwdb_sCIjEs",
        "colab_type": "code",
        "colab": {
          "base_uri": "https://localhost:8080/",
          "height": 315
        },
        "outputId": "941ba39d-498e-4299-d7df-41a8f04983a1"
      },
      "source": [
        "%pylab inline\n",
        "from matplotlib import pyplot as plt\n",
        "plt.plot(stocks.index, stocks['AMZN'])\n",
        "plt.plot(stocks.index, stocks['ma30'])\n",
        "plt.legend(labels = ['AMZN', 'ma30'])\n",
        "plt.title('AMZN vs ma30')"
      ],
      "execution_count": 198,
      "outputs": [
        {
          "output_type": "stream",
          "text": [
            "Populating the interactive namespace from numpy and matplotlib\n"
          ],
          "name": "stdout"
        },
        {
          "output_type": "execute_result",
          "data": {
            "text/plain": [
              "Text(0.5, 1.0, 'AMZN vs ma30')"
            ]
          },
          "metadata": {
            "tags": []
          },
          "execution_count": 198
        },
        {
          "output_type": "display_data",
          "data": {
            "image/png": "[encoded data removed]",
            "text/plain": [
              "<Figure size 432x288 with 1 Axes>"
            ]
          },
          "metadata": {
            "tags": [],
            "needs_background": "light"
          }
        }
      ]
    },
    {
      "cell_type": "code",
      "metadata": {
        "id": "JWrHcMp5JY7N",
        "colab_type": "code",
        "colab": {}
      },
      "source": [
        "stocks2 = DataReader('AMZN', data_source = 'yahoo', start = '2014-01-01')"
      ],
      "execution_count": 0,
      "outputs": []
    },
    {
      "cell_type": "code",
      "metadata": {
        "id": "hYfOQp2fI3Fr",
        "colab_type": "code",
        "colab": {
          "base_uri": "https://localhost:8080/",
          "height": 463
        },
        "outputId": "7fdc9037-ff08-4b03-9674-db3fca74e803"
      },
      "source": [
        "stocks2.loc[stocks2.index >= '2020-04-01' , 'Volume'].plot(\n",
        "    kind='bar', figsize=[10,5], title=\"AMZN\", legend=True)\n"
      ],
      "execution_count": 202,
      "outputs": [
        {
          "output_type": "execute_result",
          "data": {
            "text/plain": [
              "<matplotlib.axes._subplots.AxesSubplot at 0x7fb332166630>"
            ]
          },
          "metadata": {
            "tags": []
          },
          "execution_count": 202
        },
        {
          "output_type": "display_data",
          "data": {
            "image/png": "[encoded data removed]",
            "text/plain": [
              "<Figure size 720x360 with 1 Axes>"
            ]
          },
          "metadata": {
            "tags": [],
            "needs_background": "light"
          }
        }
      ]
    },
    {
      "cell_type": "code",
      "metadata": {
        "id": "3pRUy_oxJUIS",
        "colab_type": "code",
        "colab": {
          "base_uri": "https://localhost:8080/",
          "height": 281
        },
        "outputId": "44c9e613-09c0-41ca-d104-67cd20e81376"
      },
      "source": [
        "stocks3 = stocks2.loc[stocks2.index >= '2020-04-01' , :]\n",
        "plt.bar(stocks3.index, stocks3['Close'])\n"
      ],
      "execution_count": 209,
      "outputs": [
        {
          "output_type": "execute_result",
          "data": {
            "text/plain": [
              "<BarContainer object of 32 artists>"
            ]
          },
          "metadata": {
            "tags": []
          },
          "execution_count": 209
        },
        {
          "output_type": "display_data",
          "data": {
            "image/png": "[encoded data removed]",
            "text/plain": [
              "<Figure size 432x288 with 1 Axes>"
            ]
          },
          "metadata": {
            "tags": [],
            "needs_background": "light"
          }
        }
      ]
    },
    {
      "cell_type": "code",
      "metadata": {
        "id": "H3Dj6lEuJuKz",
        "colab_type": "code",
        "colab": {}
      },
      "source": [
        "stocks['AMZN_RETURN'] = stocks['AMZN'].pct_change(1)"
      ],
      "execution_count": 0,
      "outputs": []
    },
    {
      "cell_type": "code",
      "metadata": {
        "id": "6t06AlGOKrvY",
        "colab_type": "code",
        "colab": {}
      },
      "source": [
        "ret_stat = (stocks['AMZN_RETURN'] > 0).value_counts()"
      ],
      "execution_count": 0,
      "outputs": []
    },
    {
      "cell_type": "code",
      "metadata": {
        "id": "IS1FiqgOK0Xc",
        "colab_type": "code",
        "colab": {
          "base_uri": "https://localhost:8080/",
          "height": 337
        },
        "outputId": "c6ca827b-e6ab-468b-e5a3-370658883a83"
      },
      "source": [
        "ret_stat.plot(kind = 'pie', startangle = 90, counterclock = False, figsize = [5,5], legend = True, title = 'AMZN Performance')"
      ],
      "execution_count": 225,
      "outputs": [
        {
          "output_type": "execute_result",
          "data": {
            "text/plain": [
              "<matplotlib.axes._subplots.AxesSubplot at 0x7fb330a7f668>"
            ]
          },
          "metadata": {
            "tags": []
          },
          "execution_count": 225
        },
        {
          "output_type": "display_data",
          "data": {
            "image/png": "[encoded data removed]",
            "text/plain": [
              "<Figure size 360x360 with 1 Axes>"
            ]
          },
          "metadata": {
            "tags": []
          }
        }
      ]
    },
    {
      "cell_type": "code",
      "metadata": {
        "id": "igaZMAiyLBi6",
        "colab_type": "code",
        "colab": {
          "base_uri": "https://localhost:8080/",
          "height": 317
        },
        "outputId": "77f2013d-33f4-4003-910b-99524ddf44f8"
      },
      "source": [
        "plt.pie(ret_stat)"
      ],
      "execution_count": 226,
      "outputs": [
        {
          "output_type": "execute_result",
          "data": {
            "text/plain": [
              "([<matplotlib.patches.Wedge at 0x7fb330a04278>,\n",
              "  <matplotlib.patches.Wedge at 0x7fb330a04710>],\n",
              " [Text(-0.15674026728536256, 1.0887756833302777, ''),\n",
              "  Text(0.15674036922389809, -1.0887756686551902, '')])"
            ]
          },
          "metadata": {
            "tags": []
          },
          "execution_count": 226
        },
        {
          "output_type": "display_data",
          "data": {
            "image/png": "[encoded data removed]",
            "text/plain": [
              "<Figure size 432x288 with 1 Axes>"
            ]
          },
          "metadata": {
            "tags": []
          }
        }
      ]
    },
    {
      "cell_type": "code",
      "metadata": {
        "id": "xJxw0r6VL-Of",
        "colab_type": "code",
        "colab": {
          "base_uri": "https://localhost:8080/",
          "height": 281
        },
        "outputId": "f2b27a0a-f653-4d08-ba8d-17a5af15c4fa"
      },
      "source": [
        "stocks['AMZN'].pct_change(1).plot(kind = 'hist')"
      ],
      "execution_count": 227,
      "outputs": [
        {
          "output_type": "execute_result",
          "data": {
            "text/plain": [
              "<matplotlib.axes._subplots.AxesSubplot at 0x7fb330ab7048>"
            ]
          },
          "metadata": {
            "tags": []
          },
          "execution_count": 227
        },
        {
          "output_type": "display_data",
          "data": {
            "image/png": "[encoded data removed]",
            "text/plain": [
              "<Figure size 432x288 with 1 Axes>"
            ]
          },
          "metadata": {
            "tags": [],
            "needs_background": "light"
          }
        }
      ]
    },
    {
      "cell_type": "code",
      "metadata": {
        "id": "c1Ho4LtaMPiC",
        "colab_type": "code",
        "colab": {
          "base_uri": "https://localhost:8080/",
          "height": 281
        },
        "outputId": "837a6ae8-3b9d-4787-d9df-2cfd72afc167"
      },
      "source": [
        "stocks['AMZN'].pct_change(1).plot(kind = 'hist', bins = 50)"
      ],
      "execution_count": 228,
      "outputs": [
        {
          "output_type": "execute_result",
          "data": {
            "text/plain": [
              "<matplotlib.axes._subplots.AxesSubplot at 0x7fb3309dd0f0>"
            ]
          },
          "metadata": {
            "tags": []
          },
          "execution_count": 228
        },
        {
          "output_type": "display_data",
          "data": {
            "image/png": "[encoded data removed]",
            "text/plain": [
              "<Figure size 432x288 with 1 Axes>"
            ]
          },
          "metadata": {
            "tags": [],
            "needs_background": "light"
          }
        }
      ]
    },
    {
      "cell_type": "code",
      "metadata": {
        "id": "FjuPIXI3MgHl",
        "colab_type": "code",
        "colab": {
          "base_uri": "https://localhost:8080/",
          "height": 283
        },
        "outputId": "a70fcd79-3115-4da2-f290-828bfe911e12"
      },
      "source": [
        "stocks['AMZN'].pct_change(1).plot(kind = 'box')"
      ],
      "execution_count": 229,
      "outputs": [
        {
          "output_type": "execute_result",
          "data": {
            "text/plain": [
              "<matplotlib.axes._subplots.AxesSubplot at 0x7fb3309bd518>"
            ]
          },
          "metadata": {
            "tags": []
          },
          "execution_count": 229
        },
        {
          "output_type": "display_data",
          "data": {
            "image/png": "[encoded data removed]",
            "text/plain": [
              "<Figure size 432x288 with 1 Axes>"
            ]
          },
          "metadata": {
            "tags": [],
            "needs_background": "light"
          }
        }
      ]
    },
    {
      "cell_type": "code",
      "metadata": {
        "id": "J4bdWZbgMoDw",
        "colab_type": "code",
        "colab": {}
      },
      "source": [
        "stocks  = DataReader(['FB', 'AMZN' , 'NFLX' , 'GOOG'], data_source='yahoo', start = '2014-01-01')['Close']"
      ],
      "execution_count": 0,
      "outputs": []
    },
    {
      "cell_type": "code",
      "metadata": {
        "id": "lvLiJO6ONr-F",
        "colab_type": "code",
        "colab": {
          "base_uri": "https://localhost:8080/",
          "height": 285
        },
        "outputId": "cedcc79a-ad49-49aa-8588-9871fb3458a2"
      },
      "source": [
        "stocks.plot(kind = 'line')"
      ],
      "execution_count": 232,
      "outputs": [
        {
          "output_type": "execute_result",
          "data": {
            "text/plain": [
              "<matplotlib.axes._subplots.AxesSubplot at 0x7fb330785240>"
            ]
          },
          "metadata": {
            "tags": []
          },
          "execution_count": 232
        },
        {
          "output_type": "display_data",
          "data": {
            "image/png": "[encoded data removed]",
            "text/plain": [
              "<Figure size 432x288 with 1 Axes>"
            ]
          },
          "metadata": {
            "tags": [],
            "needs_background": "light"
          }
        }
      ]
    },
    {
      "cell_type": "code",
      "metadata": {
        "id": "7gN22bGOO8Lk",
        "colab_type": "code",
        "colab": {
          "base_uri": "https://localhost:8080/",
          "height": 333
        },
        "outputId": "28dd65df-cd6d-4d58-a4d5-a809d2f2b54e"
      },
      "source": [
        "(stocks / stocks.iloc[0,:]).plot(kind = 'line', figsize = [10,5])"
      ],
      "execution_count": 250,
      "outputs": [
        {
          "output_type": "execute_result",
          "data": {
            "text/plain": [
              "<matplotlib.axes._subplots.AxesSubplot at 0x7fb3256c6c18>"
            ]
          },
          "metadata": {
            "tags": []
          },
          "execution_count": 250
        },
        {
          "output_type": "display_data",
          "data": {
            "image/png": "[encoded data removed]",
            "text/plain": [
              "<Figure size 720x360 with 1 Axes>"
            ]
          },
          "metadata": {
            "tags": [],
            "needs_background": "light"
          }
        }
      ]
    },
    {
      "cell_type": "code",
      "metadata": {
        "id": "WUrbrodzPaZ2",
        "colab_type": "code",
        "colab": {}
      },
      "source": [
        "rets = stocks.pct_change(1)"
      ],
      "execution_count": 0,
      "outputs": []
    },
    {
      "cell_type": "code",
      "metadata": {
        "id": "g3uukN1uQAOc",
        "colab_type": "code",
        "colab": {
          "base_uri": "https://localhost:8080/",
          "height": 295
        },
        "outputId": "af990855-4e2a-43ac-8b46-828ab0ed2fb0"
      },
      "source": [
        "rets.plot(kind='scatter', x='GOOG', y= 'AMZN')"
      ],
      "execution_count": 252,
      "outputs": [
        {
          "output_type": "execute_result",
          "data": {
            "text/plain": [
              "<matplotlib.axes._subplots.AxesSubplot at 0x7fb3257a4a90>"
            ]
          },
          "metadata": {
            "tags": []
          },
          "execution_count": 252
        },
        {
          "output_type": "display_data",
          "data": {
            "image/png": "[encoded data removed]",
            "text/plain": [
              "<Figure size 432x288 with 1 Axes>"
            ]
          },
          "metadata": {
            "tags": [],
            "needs_background": "light"
          }
        }
      ]
    },
    {
      "cell_type": "code",
      "metadata": {
        "id": "FsKOq2HcQFKX",
        "colab_type": "code",
        "colab": {
          "base_uri": "https://localhost:8080/",
          "height": 407
        },
        "outputId": "69575460-ddd1-460a-a3bb-fd1edb8322d4"
      },
      "source": [
        "cor_matrix = rets.corr()\n",
        "plt.imshow(cor_matrix, cmap='hot', interpolation='none')\n",
        "plt.colorbar()\n",
        "plt.xticks(range(len(cor_matrix)), cor_matrix.columns)\n",
        "plt.yticks(range(len(cor_matrix)), cor_matrix.columns)"
      ],
      "execution_count": 253,
      "outputs": [
        {
          "output_type": "execute_result",
          "data": {
            "text/plain": [
              "([<matplotlib.axis.YTick at 0x7fb322de66a0>,\n",
              "  <matplotlib.axis.YTick at 0x7fb322de6080>,\n",
              "  <matplotlib.axis.YTick at 0x7fb322dc0668>,\n",
              "  <matplotlib.axis.YTick at 0x7fb322d4c438>],\n",
              " [Text(0, 0, 'FB'),\n",
              "  Text(0, 0, 'AMZN'),\n",
              "  Text(0, 0, 'NFLX'),\n",
              "  Text(0, 0, 'GOOG')])"
            ]
          },
          "metadata": {
            "tags": []
          },
          "execution_count": 253
        },
        {
          "output_type": "display_data",
          "data": {
            "image/png": "[encoded data removed]",
            "text/plain": [
              "<Figure size 432x288 with 2 Axes>"
            ]
          },
          "metadata": {
            "tags": [],
            "needs_background": "light"
          }
        }
      ]
    },
    {
      "cell_type": "code",
      "metadata": {
        "id": "cVF4gR-FQPYn",
        "colab_type": "code",
        "colab": {
          "base_uri": "https://localhost:8080/",
          "height": 277
        },
        "outputId": "4da5117f-ada4-4cab-c9d3-baad1dbab6f5"
      },
      "source": [
        "plt.figure(figsize=(4,4))\n",
        "plt.scatter(rets.mean(), rets.std())\n",
        "plt.xlabel('Expected returns')\n",
        "plt.ylabel('Risk')\n",
        "for label, x, y in zip(rets.columns, rets.mean(), rets.std()):\n",
        "    plt.annotate(\n",
        "        label, \n",
        "        xy = (x, y), xytext = (20, -20),\n",
        "        textcoords = 'offset points', ha = 'right', va = 'bottom',\n",
        "        bbox = dict(boxstyle = 'round,pad=0.5', fc = 'yellow', alpha = 0.5),\n",
        "        arrowprops = dict(arrowstyle = '->', connectionstyle = 'arc3,rad=0'))"
      ],
      "execution_count": 255,
      "outputs": [
        {
          "output_type": "display_data",
          "data": {
            "image/png": "[encoded data removed]",
            "text/plain": [
              "<Figure size 288x288 with 1 Axes>"
            ]
          },
          "metadata": {
            "tags": [],
            "needs_background": "light"
          }
        }
      ]
    },
    {
      "cell_type": "code",
      "metadata": {
        "id": "_VC2pkJGQysZ",
        "colab_type": "code",
        "colab": {}
      },
      "source": [
        "twstocks = DataReader(['2330.TW','2881.TW','1101.TW', '2454.TW','2498.TW',  '2327.TW', '2337.TW','^twii'], data_source = 'yahoo', start = '2014-01-01')['Close']"
      ],
      "execution_count": 0,
      "outputs": []
    },
    {
      "cell_type": "code",
      "metadata": {
        "id": "lmm5vJWURRFH",
        "colab_type": "code",
        "colab": {}
      },
      "source": [
        "rets = twstocks.pct_change(1)"
      ],
      "execution_count": 0,
      "outputs": []
    },
    {
      "cell_type": "code",
      "metadata": {
        "id": "PlXRZe83RegK",
        "colab_type": "code",
        "colab": {
          "base_uri": "https://localhost:8080/",
          "height": 386
        },
        "outputId": "bddd8160-1af6-47ec-9fd6-2c7b8743a6f4"
      },
      "source": [
        "plt.figure(figsize=(6,6))\n",
        "plt.scatter(rets.mean(), rets.std())\n",
        "plt.xlabel('Expected returns')\n",
        "plt.ylabel('Risk')\n",
        "for label, x, y in zip(rets.columns, rets.mean(), rets.std()):\n",
        "    plt.annotate(\n",
        "        label, \n",
        "        xy = (x, y), xytext = (20, -20),\n",
        "        textcoords = 'offset points', ha = 'right', va = 'bottom',\n",
        "        bbox = dict(boxstyle = 'round,pad=0.5', fc = 'yellow', alpha = 0.5),\n",
        "        arrowprops = dict(arrowstyle = '->', connectionstyle = 'arc3,rad=0'))"
      ],
      "execution_count": 259,
      "outputs": [
        {
          "output_type": "display_data",
          "data": {
            "image/png": "[encoded data removed]",
            "text/plain": [
              "<Figure size 432x432 with 1 Axes>"
            ]
          },
          "metadata": {
            "tags": [],
            "needs_background": "light"
          }
        }
      ]
    },
    {
      "cell_type": "code",
      "metadata": {
        "id": "sexmNjSURhae",
        "colab_type": "code",
        "colab": {}
      },
      "source": [
        ""
      ],
      "execution_count": 0,
      "outputs": []
    }
  ]
}