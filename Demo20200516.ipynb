{
  "nbformat": 4,
  "nbformat_minor": 0,
  "metadata": {
    "colab": {
      "name": "Demo20200516.ipynb",
      "provenance": [],
      "collapsed_sections": []
    },
    "kernelspec": {
      "name": "python3",
      "display_name": "Python 3"
    }
  },
  "cells": [
    {
      "cell_type": "markdown",
      "metadata": {
        "id": "NbDrhT_RQCAa",
        "colab_type": "text"
      },
      "source": [
        "## 小作業\n",
        "- 請蒐集證交所109年度第一季所有上市公司各產業EPS統計資訊(https://mops.twse.com.tw/mops/web/t163sb19)\n",
        "- 使用Pandas 整理出資料表格\n",
        "- 請找出各產業基本每股盈餘(元)的第一名\n",
        "- 最後將資料儲存於 SQLite 中"
      ]
    },
    {
      "cell_type": "markdown",
      "metadata": {
        "id": "0UvH0BXhQIIO",
        "colab_type": "text"
      },
      "source": [
        "###爬取EPS資訊"
      ]
    },
    {
      "cell_type": "code",
      "metadata": {
        "id": "c70aLuyPHblh",
        "colab_type": "code",
        "colab": {}
      },
      "source": [
        "import requests\n",
        "payload = {\n",
        "  'encodeURIComponent': '1',\n",
        "  'step': '1',\n",
        "  'firstin': '1',\n",
        "  'TYPEK': 'sii',\n",
        "  'year': '109',\n",
        "  'season': '01'    \n",
        "}\n",
        "\n",
        "url = 'https://mops.twse.com.tw/mops/web/ajax_t163sb19'\n",
        "\n",
        "res = requests.post(url, data = payload)"
      ],
      "execution_count": 0,
      "outputs": []
    },
    {
      "cell_type": "code",
      "metadata": {
        "id": "tNeJn7T7JFed",
        "colab_type": "code",
        "colab": {}
      },
      "source": [
        "import pandas\n",
        "dfs = pandas.read_html(res.text)"
      ],
      "execution_count": 0,
      "outputs": []
    },
    {
      "cell_type": "code",
      "metadata": {
        "id": "Ud8mvn20JLBH",
        "colab_type": "code",
        "colab": {
          "base_uri": "https://localhost:8080/",
          "height": 34
        },
        "outputId": "d84826a4-6116-46bf-b1c1-c9c3f4ca10ac"
      },
      "source": [
        "len(dfs)"
      ],
      "execution_count": 4,
      "outputs": [
        {
          "output_type": "execute_result",
          "data": {
            "text/plain": [
              "28"
            ]
          },
          "metadata": {
            "tags": []
          },
          "execution_count": 4
        }
      ]
    },
    {
      "cell_type": "code",
      "metadata": {
        "id": "-o9iksSQJr1P",
        "colab_type": "code",
        "colab": {
          "base_uri": "https://localhost:8080/",
          "height": 34
        },
        "outputId": "73957d16-9d95-4fcb-9620-b5c682c1df8f"
      },
      "source": [
        "type(dfs)"
      ],
      "execution_count": 5,
      "outputs": [
        {
          "output_type": "execute_result",
          "data": {
            "text/plain": [
              "list"
            ]
          },
          "metadata": {
            "tags": []
          },
          "execution_count": 5
        }
      ]
    },
    {
      "cell_type": "code",
      "metadata": {
        "id": "N38pTOmJJtth",
        "colab_type": "code",
        "colab": {
          "base_uri": "https://localhost:8080/",
          "height": 659
        },
        "outputId": "6dbb9243-08fb-4138-fb84-9dabad3ef692"
      },
      "source": [
        "df = dfs[0]\n",
        "df[df['產業別'] != '加權平均數']"
      ],
      "execution_count": 7,
      "outputs": [
        {
          "output_type": "execute_result",
          "data": {
            "text/html": [
              "<div>\n",
              "<style scoped>\n",
              "    .dataframe tbody tr th:only-of-type {\n",
              "        vertical-align: middle;\n",
              "    }\n",
              "\n",
              "    .dataframe tbody tr th {\n",
              "        vertical-align: top;\n",
              "    }\n",
              "\n",
              "    .dataframe thead th {\n",
              "        text-align: right;\n",
              "    }\n",
              "</style>\n",
              "<table border=\"1\" class=\"dataframe\">\n",
              "  <thead>\n",
              "    <tr style=\"text-align: right;\">\n",
              "      <th></th>\n",
              "      <th>公司代號</th>\n",
              "      <th>公司名稱</th>\n",
              "      <th>產業別</th>\n",
              "      <th>基本每股盈餘(元)</th>\n",
              "      <th>普通股每股面額</th>\n",
              "      <th>營業收入</th>\n",
              "      <th>營業利益</th>\n",
              "      <th>營業外收入及支出</th>\n",
              "      <th>稅後淨利</th>\n",
              "    </tr>\n",
              "  </thead>\n",
              "  <tbody>\n",
              "    <tr>\n",
              "      <th>0</th>\n",
              "      <td>1101</td>\n",
              "      <td>台灣水泥股份有限公司</td>\n",
              "      <td>水泥工業</td>\n",
              "      <td>0.55</td>\n",
              "      <td>新台幣 10.0000元</td>\n",
              "      <td>21976200.0</td>\n",
              "      <td>4460154.0</td>\n",
              "      <td>273722.0</td>\n",
              "      <td>3481119.0</td>\n",
              "    </tr>\n",
              "    <tr>\n",
              "      <th>1</th>\n",
              "      <td>1109</td>\n",
              "      <td>信大水泥股份有限公司</td>\n",
              "      <td>水泥工業</td>\n",
              "      <td>0.27</td>\n",
              "      <td>新台幣 10.0000元</td>\n",
              "      <td>1165580.0</td>\n",
              "      <td>217284.0</td>\n",
              "      <td>-29077.0</td>\n",
              "      <td>137170.0</td>\n",
              "    </tr>\n",
              "    <tr>\n",
              "      <th>2</th>\n",
              "      <td>1102</td>\n",
              "      <td>亞洲水泥股份有限公司</td>\n",
              "      <td>水泥工業</td>\n",
              "      <td>0.24</td>\n",
              "      <td>新台幣 10.0000元</td>\n",
              "      <td>13138882.0</td>\n",
              "      <td>2021639.0</td>\n",
              "      <td>-453351.0</td>\n",
              "      <td>1130599.0</td>\n",
              "    </tr>\n",
              "    <tr>\n",
              "      <th>3</th>\n",
              "      <td>1108</td>\n",
              "      <td>幸福水泥股份有限公司</td>\n",
              "      <td>水泥工業</td>\n",
              "      <td>0.23</td>\n",
              "      <td>新台幣 10.0000元</td>\n",
              "      <td>1104720.0</td>\n",
              "      <td>110132.0</td>\n",
              "      <td>-5836.0</td>\n",
              "      <td>93609.0</td>\n",
              "    </tr>\n",
              "    <tr>\n",
              "      <th>4</th>\n",
              "      <td>1104</td>\n",
              "      <td>環球水泥股份有限公司</td>\n",
              "      <td>水泥工業</td>\n",
              "      <td>0.07</td>\n",
              "      <td>新台幣 10.0000元</td>\n",
              "      <td>1253758.0</td>\n",
              "      <td>67425.0</td>\n",
              "      <td>-16843.0</td>\n",
              "      <td>48161.0</td>\n",
              "    </tr>\n",
              "    <tr>\n",
              "      <th>6</th>\n",
              "      <td>1110</td>\n",
              "      <td>東南水泥股份有限公司</td>\n",
              "      <td>水泥工業</td>\n",
              "      <td>-0.05</td>\n",
              "      <td>新台幣 10.0000元</td>\n",
              "      <td>387944.0</td>\n",
              "      <td>-12597.0</td>\n",
              "      <td>-17552.0</td>\n",
              "      <td>-30941.0</td>\n",
              "    </tr>\n",
              "    <tr>\n",
              "      <th>7</th>\n",
              "      <td>1103</td>\n",
              "      <td>嘉新水泥股份有限公司</td>\n",
              "      <td>水泥工業</td>\n",
              "      <td>-0.33</td>\n",
              "      <td>新台幣 10.0000元</td>\n",
              "      <td>495334.0</td>\n",
              "      <td>-158911.0</td>\n",
              "      <td>-46824.0</td>\n",
              "      <td>-214194.0</td>\n",
              "    </tr>\n",
              "  </tbody>\n",
              "</table>\n",
              "</div>"
            ],
            "text/plain": [
              "   公司代號        公司名稱   產業別  ...       營業利益  營業外收入及支出       稅後淨利\n",
              "0  1101  台灣水泥股份有限公司  水泥工業  ...  4460154.0  273722.0  3481119.0\n",
              "1  1109  信大水泥股份有限公司  水泥工業  ...   217284.0  -29077.0   137170.0\n",
              "2  1102  亞洲水泥股份有限公司  水泥工業  ...  2021639.0 -453351.0  1130599.0\n",
              "3  1108  幸福水泥股份有限公司  水泥工業  ...   110132.0   -5836.0    93609.0\n",
              "4  1104  環球水泥股份有限公司  水泥工業  ...    67425.0  -16843.0    48161.0\n",
              "6  1110  東南水泥股份有限公司  水泥工業  ...   -12597.0  -17552.0   -30941.0\n",
              "7  1103  嘉新水泥股份有限公司  水泥工業  ...  -158911.0  -46824.0  -214194.0\n",
              "\n",
              "[7 rows x 9 columns]"
            ]
          },
          "metadata": {
            "tags": []
          },
          "execution_count": 7
        }
      ]
    },
    {
      "cell_type": "markdown",
      "metadata": {
        "id": "DWUpi2G2QL75",
        "colab_type": "text"
      },
      "source": [
        "### 資料預處理"
      ]
    },
    {
      "cell_type": "code",
      "metadata": {
        "id": "svfTkOY8J0qC",
        "colab_type": "code",
        "colab": {}
      },
      "source": [
        "# method 1\n",
        "industry_ary = []\n",
        "for industry in dfs:\n",
        "  industry_ary.append(industry[industry['產業別'] != '加權平均數'])\n",
        "industry_df = pandas.concat(industry_ary)"
      ],
      "execution_count": 0,
      "outputs": []
    },
    {
      "cell_type": "code",
      "metadata": {
        "id": "AIk5dicKKWbi",
        "colab_type": "code",
        "colab": {}
      },
      "source": [
        "# method 2\n",
        "industry_df = pandas.concat(dfs)\n",
        "industry_df = industry_df[industry_df['產業別'] != '加權平均數']\n",
        "industry_df.dropna(inplace=True)"
      ],
      "execution_count": 0,
      "outputs": []
    },
    {
      "cell_type": "code",
      "metadata": {
        "id": "pzgoZfDXKpEw",
        "colab_type": "code",
        "colab": {
          "base_uri": "https://localhost:8080/",
          "height": 494
        },
        "outputId": "2d0fa799-dfb6-4889-da8f-08ce1aec7e3b"
      },
      "source": [
        "industry_df.head()"
      ],
      "execution_count": 13,
      "outputs": [
        {
          "output_type": "execute_result",
          "data": {
            "text/html": [
              "<div>\n",
              "<style scoped>\n",
              "    .dataframe tbody tr th:only-of-type {\n",
              "        vertical-align: middle;\n",
              "    }\n",
              "\n",
              "    .dataframe tbody tr th {\n",
              "        vertical-align: top;\n",
              "    }\n",
              "\n",
              "    .dataframe thead th {\n",
              "        text-align: right;\n",
              "    }\n",
              "</style>\n",
              "<table border=\"1\" class=\"dataframe\">\n",
              "  <thead>\n",
              "    <tr style=\"text-align: right;\">\n",
              "      <th></th>\n",
              "      <th>公司代號</th>\n",
              "      <th>公司名稱</th>\n",
              "      <th>產業別</th>\n",
              "      <th>基本每股盈餘(元)</th>\n",
              "      <th>普通股每股面額</th>\n",
              "      <th>營業收入</th>\n",
              "      <th>營業利益</th>\n",
              "      <th>營業外收入及支出</th>\n",
              "      <th>稅後淨利</th>\n",
              "    </tr>\n",
              "  </thead>\n",
              "  <tbody>\n",
              "    <tr>\n",
              "      <th>0</th>\n",
              "      <td>1101</td>\n",
              "      <td>台灣水泥股份有限公司</td>\n",
              "      <td>水泥工業</td>\n",
              "      <td>0.55</td>\n",
              "      <td>新台幣 10.0000元</td>\n",
              "      <td>21976200.0</td>\n",
              "      <td>4.46015e+06</td>\n",
              "      <td>273722</td>\n",
              "      <td>3481119.0</td>\n",
              "    </tr>\n",
              "    <tr>\n",
              "      <th>1</th>\n",
              "      <td>1109</td>\n",
              "      <td>信大水泥股份有限公司</td>\n",
              "      <td>水泥工業</td>\n",
              "      <td>0.27</td>\n",
              "      <td>新台幣 10.0000元</td>\n",
              "      <td>1165580.0</td>\n",
              "      <td>217284</td>\n",
              "      <td>-29077</td>\n",
              "      <td>137170.0</td>\n",
              "    </tr>\n",
              "    <tr>\n",
              "      <th>2</th>\n",
              "      <td>1102</td>\n",
              "      <td>亞洲水泥股份有限公司</td>\n",
              "      <td>水泥工業</td>\n",
              "      <td>0.24</td>\n",
              "      <td>新台幣 10.0000元</td>\n",
              "      <td>13138882.0</td>\n",
              "      <td>2.02164e+06</td>\n",
              "      <td>-453351</td>\n",
              "      <td>1130599.0</td>\n",
              "    </tr>\n",
              "    <tr>\n",
              "      <th>3</th>\n",
              "      <td>1108</td>\n",
              "      <td>幸福水泥股份有限公司</td>\n",
              "      <td>水泥工業</td>\n",
              "      <td>0.23</td>\n",
              "      <td>新台幣 10.0000元</td>\n",
              "      <td>1104720.0</td>\n",
              "      <td>110132</td>\n",
              "      <td>-5836</td>\n",
              "      <td>93609.0</td>\n",
              "    </tr>\n",
              "    <tr>\n",
              "      <th>4</th>\n",
              "      <td>1104</td>\n",
              "      <td>環球水泥股份有限公司</td>\n",
              "      <td>水泥工業</td>\n",
              "      <td>0.07</td>\n",
              "      <td>新台幣 10.0000元</td>\n",
              "      <td>1253758.0</td>\n",
              "      <td>67425</td>\n",
              "      <td>-16843</td>\n",
              "      <td>48161.0</td>\n",
              "    </tr>\n",
              "  </tbody>\n",
              "</table>\n",
              "</div>"
            ],
            "text/plain": [
              "   公司代號        公司名稱   產業別  ...         營業利益 營業外收入及支出       稅後淨利\n",
              "0  1101  台灣水泥股份有限公司  水泥工業  ...  4.46015e+06   273722  3481119.0\n",
              "1  1109  信大水泥股份有限公司  水泥工業  ...       217284   -29077   137170.0\n",
              "2  1102  亞洲水泥股份有限公司  水泥工業  ...  2.02164e+06  -453351  1130599.0\n",
              "3  1108  幸福水泥股份有限公司  水泥工業  ...       110132    -5836    93609.0\n",
              "4  1104  環球水泥股份有限公司  水泥工業  ...        67425   -16843    48161.0\n",
              "\n",
              "[5 rows x 9 columns]"
            ]
          },
          "metadata": {
            "tags": []
          },
          "execution_count": 13
        }
      ]
    },
    {
      "cell_type": "markdown",
      "metadata": {
        "id": "j0fM6rcrQQ9Q",
        "colab_type": "text"
      },
      "source": [
        "### 資料統計與分析"
      ]
    },
    {
      "cell_type": "code",
      "metadata": {
        "id": "qFNUwrXKLL83",
        "colab_type": "code",
        "colab": {
          "base_uri": "https://localhost:8080/",
          "height": 531
        },
        "outputId": "d57c565a-e339-44e6-f399-f7c139e83a70"
      },
      "source": [
        "# SELECT 產業別, max(基本每股盈餘(元)) from industry_df GROUP BY 產業別;\n",
        "industry_df.groupby('產業別')['基本每股盈餘(元)'].max()"
      ],
      "execution_count": 14,
      "outputs": [
        {
          "output_type": "execute_result",
          "data": {
            "text/plain": [
              "產業別\n",
              "光電業         50.10\n",
              "其他           3.28\n",
              "其他電子業        5.09\n",
              "化學工業         2.50\n",
              "半導體業         8.20\n",
              "塑膠工業         1.45\n",
              "建材營造         3.21\n",
              "橡膠工業         1.55\n",
              "水泥工業         0.55\n",
              "汽車工業         6.35\n",
              "油電燃氣業        0.70\n",
              "玻璃陶瓷         0.48\n",
              "生技醫療業        2.62\n",
              "紡織纖維         3.06\n",
              "航運業          0.64\n",
              "觀光事業         1.68\n",
              "貿易百貨         5.61\n",
              "資訊服務業        1.86\n",
              "通信網路業        1.86\n",
              "造紙工業         0.81\n",
              "金融保險業        1.00\n",
              "鋼鐵工業         1.40\n",
              "電器電纜         2.15\n",
              "電子通路業        2.51\n",
              "電子零組件業       5.51\n",
              "電機機械         3.39\n",
              "電腦及週邊設備業     8.37\n",
              "食品工業         1.66\n",
              "Name: 基本每股盈餘(元), dtype: float64"
            ]
          },
          "metadata": {
            "tags": []
          },
          "execution_count": 14
        }
      ]
    },
    {
      "cell_type": "code",
      "metadata": {
        "id": "AbBJk4BhLqca",
        "colab_type": "code",
        "colab": {}
      },
      "source": [
        "#  SELECT '公司代號',\t'公司名稱', '產業別' '基本每股盈餘(元)_max' FROM\n",
        "#  industry_df a INNER JOIN\n",
        "# (SELECT 產業別, max(基本每股盈餘(元) as 基本每股盈餘(元)_max) from industry_df GROUP BY 產業別) b\n",
        "# ON a.產業別 = b.產業別 "
      ],
      "execution_count": 0,
      "outputs": []
    },
    {
      "cell_type": "code",
      "metadata": {
        "id": "13o1H5MmNHRS",
        "colab_type": "code",
        "colab": {
          "base_uri": "https://localhost:8080/",
          "height": 34
        },
        "outputId": "732566cb-7daf-4a85-eb2b-a6be09b6331a"
      },
      "source": [
        "len(industry_df)"
      ],
      "execution_count": 19,
      "outputs": [
        {
          "output_type": "execute_result",
          "data": {
            "text/plain": [
              "929"
            ]
          },
          "metadata": {
            "tags": []
          },
          "execution_count": 19
        }
      ]
    },
    {
      "cell_type": "code",
      "metadata": {
        "id": "L8YHZfa6Nb1B",
        "colab_type": "code",
        "colab": {}
      },
      "source": [
        "industry_df['基本每股盈餘(元)_max'] = industry_df.groupby('產業別')['基本每股盈餘(元)'].transform(max)"
      ],
      "execution_count": 0,
      "outputs": []
    },
    {
      "cell_type": "code",
      "metadata": {
        "id": "s5mMakApNhlR",
        "colab_type": "code",
        "colab": {
          "base_uri": "https://localhost:8080/",
          "height": 1000
        },
        "outputId": "2f4625cb-5d0a-4d75-cf94-6d32ea81df7f"
      },
      "source": [
        "ret_df"
      ],
      "execution_count": 30,
      "outputs": [
        {
          "output_type": "execute_result",
          "data": {
            "text/html": [
              "<div>\n",
              "<style scoped>\n",
              "    .dataframe tbody tr th:only-of-type {\n",
              "        vertical-align: middle;\n",
              "    }\n",
              "\n",
              "    .dataframe tbody tr th {\n",
              "        vertical-align: top;\n",
              "    }\n",
              "\n",
              "    .dataframe thead th {\n",
              "        text-align: right;\n",
              "    }\n",
              "</style>\n",
              "<table border=\"1\" class=\"dataframe\">\n",
              "  <thead>\n",
              "    <tr style=\"text-align: right;\">\n",
              "      <th></th>\n",
              "      <th>公司代號</th>\n",
              "      <th>公司名稱</th>\n",
              "      <th>產業別</th>\n",
              "      <th>基本每股盈餘(元)</th>\n",
              "      <th>普通股每股面額</th>\n",
              "      <th>營業收入</th>\n",
              "      <th>營業利益</th>\n",
              "      <th>營業外收入及支出</th>\n",
              "      <th>稅後淨利</th>\n",
              "      <th>基本每股盈餘(元)_max</th>\n",
              "    </tr>\n",
              "  </thead>\n",
              "  <tbody>\n",
              "    <tr>\n",
              "      <th>0</th>\n",
              "      <td>1101</td>\n",
              "      <td>台灣水泥股份有限公司</td>\n",
              "      <td>水泥工業</td>\n",
              "      <td>0.55</td>\n",
              "      <td>新台幣 10.0000元</td>\n",
              "      <td>21976200.0</td>\n",
              "      <td>4.46015e+06</td>\n",
              "      <td>273722</td>\n",
              "      <td>3481119.0</td>\n",
              "      <td>0.55</td>\n",
              "    </tr>\n",
              "    <tr>\n",
              "      <th>0</th>\n",
              "      <td>1232</td>\n",
              "      <td>大統益股份有限公司</td>\n",
              "      <td>食品工業</td>\n",
              "      <td>1.66</td>\n",
              "      <td>新台幣 10.0000元</td>\n",
              "      <td>4073683.0</td>\n",
              "      <td>327369</td>\n",
              "      <td>13952</td>\n",
              "      <td>273011.0</td>\n",
              "      <td>1.66</td>\n",
              "    </tr>\n",
              "    <tr>\n",
              "      <th>0</th>\n",
              "      <td>1325</td>\n",
              "      <td>恒大股份有限公司</td>\n",
              "      <td>塑膠工業</td>\n",
              "      <td>1.45</td>\n",
              "      <td>新台幣 10.0000元</td>\n",
              "      <td>428099.0</td>\n",
              "      <td>160997</td>\n",
              "      <td>3776</td>\n",
              "      <td>135215.0</td>\n",
              "      <td>1.45</td>\n",
              "    </tr>\n",
              "    <tr>\n",
              "      <th>0</th>\n",
              "      <td>4439</td>\n",
              "      <td>冠星集團控股有限公司</td>\n",
              "      <td>紡織纖維</td>\n",
              "      <td>3.06</td>\n",
              "      <td>新台幣 10.0000元</td>\n",
              "      <td>1424316.0</td>\n",
              "      <td>117149</td>\n",
              "      <td>10798</td>\n",
              "      <td>96369.0</td>\n",
              "      <td>3.06</td>\n",
              "    </tr>\n",
              "    <tr>\n",
              "      <th>0</th>\n",
              "      <td>1530</td>\n",
              "      <td>亞崴機電股份有限公司</td>\n",
              "      <td>電機機械</td>\n",
              "      <td>3.39</td>\n",
              "      <td>新台幣 10.0000元</td>\n",
              "      <td>591116.0</td>\n",
              "      <td>-16718</td>\n",
              "      <td>526915</td>\n",
              "      <td>545391.0</td>\n",
              "      <td>3.39</td>\n",
              "    </tr>\n",
              "    <tr>\n",
              "      <th>0</th>\n",
              "      <td>5283</td>\n",
              "      <td>禾聯碩股份有限公司</td>\n",
              "      <td>電器電纜</td>\n",
              "      <td>2.15</td>\n",
              "      <td>新台幣 10.0000元</td>\n",
              "      <td>1196022.0</td>\n",
              "      <td>194156</td>\n",
              "      <td>12771</td>\n",
              "      <td>163490.0</td>\n",
              "      <td>2.15</td>\n",
              "    </tr>\n",
              "    <tr>\n",
              "      <th>0</th>\n",
              "      <td>1817</td>\n",
              "      <td>凱撒衛浴股份有限公司</td>\n",
              "      <td>玻璃陶瓷</td>\n",
              "      <td>0.48</td>\n",
              "      <td>新台幣 10.0000元</td>\n",
              "      <td>481608.0</td>\n",
              "      <td>43590</td>\n",
              "      <td>265</td>\n",
              "      <td>34618.0</td>\n",
              "      <td>0.48</td>\n",
              "    </tr>\n",
              "    <tr>\n",
              "      <th>0</th>\n",
              "      <td>1904</td>\n",
              "      <td>正隆股份有限公司</td>\n",
              "      <td>造紙工業</td>\n",
              "      <td>0.81</td>\n",
              "      <td>新台幣 10.0000元</td>\n",
              "      <td>9074859.0</td>\n",
              "      <td>1.24925e+06</td>\n",
              "      <td>-126656</td>\n",
              "      <td>897554.0</td>\n",
              "      <td>0.81</td>\n",
              "    </tr>\n",
              "    <tr>\n",
              "      <th>0</th>\n",
              "      <td>3004</td>\n",
              "      <td>豐達科技股份有限公司(原宏達)</td>\n",
              "      <td>鋼鐵工業</td>\n",
              "      <td>1.40</td>\n",
              "      <td>新台幣 10.0000元</td>\n",
              "      <td>653665.0</td>\n",
              "      <td>86560</td>\n",
              "      <td>-627</td>\n",
              "      <td>73871.0</td>\n",
              "      <td>1.40</td>\n",
              "    </tr>\n",
              "    <tr>\n",
              "      <th>0</th>\n",
              "      <td>2114</td>\n",
              "      <td>鑫永銓股份有限公司</td>\n",
              "      <td>橡膠工業</td>\n",
              "      <td>1.55</td>\n",
              "      <td>新台幣 10.0000元</td>\n",
              "      <td>389975.0</td>\n",
              "      <td>132998</td>\n",
              "      <td>4122</td>\n",
              "      <td>109696.0</td>\n",
              "      <td>1.55</td>\n",
              "    </tr>\n",
              "    <tr>\n",
              "      <th>0</th>\n",
              "      <td>2207</td>\n",
              "      <td>和泰汽車股份有限公司</td>\n",
              "      <td>汽車工業</td>\n",
              "      <td>6.35</td>\n",
              "      <td>新台幣 10.0000元</td>\n",
              "      <td>57437924.0</td>\n",
              "      <td>--</td>\n",
              "      <td>--</td>\n",
              "      <td>4077415.0</td>\n",
              "      <td>6.35</td>\n",
              "    </tr>\n",
              "    <tr>\n",
              "      <th>0</th>\n",
              "      <td>5534</td>\n",
              "      <td>長虹建設股份有限公司</td>\n",
              "      <td>建材營造</td>\n",
              "      <td>3.21</td>\n",
              "      <td>新台幣 10.0000元</td>\n",
              "      <td>2573106.0</td>\n",
              "      <td>908598</td>\n",
              "      <td>58266</td>\n",
              "      <td>932873.0</td>\n",
              "      <td>3.21</td>\n",
              "    </tr>\n",
              "    <tr>\n",
              "      <th>0</th>\n",
              "      <td>2608</td>\n",
              "      <td>嘉里大榮物流股份有限公司</td>\n",
              "      <td>航運業</td>\n",
              "      <td>0.64</td>\n",
              "      <td>新台幣 10.0000元</td>\n",
              "      <td>2963631.0</td>\n",
              "      <td>413813</td>\n",
              "      <td>-18591</td>\n",
              "      <td>315246.0</td>\n",
              "      <td>0.64</td>\n",
              "    </tr>\n",
              "    <tr>\n",
              "      <th>0</th>\n",
              "      <td>8462</td>\n",
              "      <td>柏文健康事業股份有限公司</td>\n",
              "      <td>觀光事業</td>\n",
              "      <td>1.68</td>\n",
              "      <td>新台幣 10.0000元</td>\n",
              "      <td>873407.0</td>\n",
              "      <td>154417</td>\n",
              "      <td>-13317</td>\n",
              "      <td>114510.0</td>\n",
              "      <td>1.68</td>\n",
              "    </tr>\n",
              "    <tr>\n",
              "      <th>0</th>\n",
              "      <td>2823</td>\n",
              "      <td>中國人壽保險股份有限公司</td>\n",
              "      <td>金融保險業</td>\n",
              "      <td>1.00</td>\n",
              "      <td>新台幣 10.0000元</td>\n",
              "      <td>70861463.0</td>\n",
              "      <td>5255281</td>\n",
              "      <td>2212</td>\n",
              "      <td>4458858.0</td>\n",
              "      <td>1.00</td>\n",
              "    </tr>\n",
              "    <tr>\n",
              "      <th>0</th>\n",
              "      <td>2915</td>\n",
              "      <td>潤泰全球股份有限公司</td>\n",
              "      <td>貿易百貨</td>\n",
              "      <td>5.61</td>\n",
              "      <td>新台幣 10.0000元</td>\n",
              "      <td>697845.0</td>\n",
              "      <td>-23464</td>\n",
              "      <td>3078557</td>\n",
              "      <td>3013512.0</td>\n",
              "      <td>5.61</td>\n",
              "    </tr>\n",
              "    <tr>\n",
              "      <th>0</th>\n",
              "      <td>6670</td>\n",
              "      <td>復盛應用科技股份有限公司</td>\n",
              "      <td>其他</td>\n",
              "      <td>3.28</td>\n",
              "      <td>新台幣 10.0000元</td>\n",
              "      <td>3626255.0</td>\n",
              "      <td>483840</td>\n",
              "      <td>36338</td>\n",
              "      <td>445953.0</td>\n",
              "      <td>3.28</td>\n",
              "    </tr>\n",
              "    <tr>\n",
              "      <th>0</th>\n",
              "      <td>4763</td>\n",
              "      <td>濟南大自然新材料股份有限公司</td>\n",
              "      <td>化學工業</td>\n",
              "      <td>2.50</td>\n",
              "      <td>新台幣 10.0000元</td>\n",
              "      <td>524292.0</td>\n",
              "      <td>105366</td>\n",
              "      <td>33829</td>\n",
              "      <td>128099.0</td>\n",
              "      <td>2.50</td>\n",
              "    </tr>\n",
              "    <tr>\n",
              "      <th>0</th>\n",
              "      <td>4119</td>\n",
              "      <td>旭富製藥科技股份有限公司</td>\n",
              "      <td>生技醫療業</td>\n",
              "      <td>2.62</td>\n",
              "      <td>新台幣 10.0000元</td>\n",
              "      <td>784328.0</td>\n",
              "      <td>280202</td>\n",
              "      <td>-14387</td>\n",
              "      <td>208331.0</td>\n",
              "      <td>2.62</td>\n",
              "    </tr>\n",
              "    <tr>\n",
              "      <th>0</th>\n",
              "      <td>8926</td>\n",
              "      <td>台灣汽電共生股份有限公司</td>\n",
              "      <td>油電燃氣業</td>\n",
              "      <td>0.70</td>\n",
              "      <td>新台幣 10.0000元</td>\n",
              "      <td>2615701.0</td>\n",
              "      <td>75772</td>\n",
              "      <td>351109</td>\n",
              "      <td>413255.0</td>\n",
              "      <td>0.70</td>\n",
              "    </tr>\n",
              "    <tr>\n",
              "      <th>0</th>\n",
              "      <td>5269</td>\n",
              "      <td>祥碩科技股份有限公司</td>\n",
              "      <td>半導體業</td>\n",
              "      <td>8.20</td>\n",
              "      <td>新台幣 10.0000元</td>\n",
              "      <td>1585805.0</td>\n",
              "      <td>583527</td>\n",
              "      <td>19087</td>\n",
              "      <td>492600.0</td>\n",
              "      <td>8.20</td>\n",
              "    </tr>\n",
              "    <tr>\n",
              "      <th>0</th>\n",
              "      <td>6669</td>\n",
              "      <td>緯穎科技服務股份有限公司</td>\n",
              "      <td>電腦及週邊設備業</td>\n",
              "      <td>8.37</td>\n",
              "      <td>新台幣 10.0000元</td>\n",
              "      <td>35137124.0</td>\n",
              "      <td>1.81021e+06</td>\n",
              "      <td>24056</td>\n",
              "      <td>1462505.0</td>\n",
              "      <td>8.37</td>\n",
              "    </tr>\n",
              "    <tr>\n",
              "      <th>0</th>\n",
              "      <td>3008</td>\n",
              "      <td>大立光電股份有限公司</td>\n",
              "      <td>光電業</td>\n",
              "      <td>50.10</td>\n",
              "      <td>新台幣 10.0000元</td>\n",
              "      <td>13214517.0</td>\n",
              "      <td>7.85784e+06</td>\n",
              "      <td>414639</td>\n",
              "      <td>6720273.0</td>\n",
              "      <td>50.10</td>\n",
              "    </tr>\n",
              "    <tr>\n",
              "      <th>0</th>\n",
              "      <td>2345</td>\n",
              "      <td>智邦科技股份有限公司</td>\n",
              "      <td>通信網路業</td>\n",
              "      <td>1.86</td>\n",
              "      <td>新台幣 10.0000元</td>\n",
              "      <td>11724252.0</td>\n",
              "      <td>1.11604e+06</td>\n",
              "      <td>175382</td>\n",
              "      <td>1032374.0</td>\n",
              "      <td>1.86</td>\n",
              "    </tr>\n",
              "    <tr>\n",
              "      <th>0</th>\n",
              "      <td>2327</td>\n",
              "      <td>國巨股份有限公司</td>\n",
              "      <td>電子零組件業</td>\n",
              "      <td>5.51</td>\n",
              "      <td>新台幣 10.0000元</td>\n",
              "      <td>10023486.0</td>\n",
              "      <td>2.56234e+06</td>\n",
              "      <td>309029</td>\n",
              "      <td>2350314.0</td>\n",
              "      <td>5.51</td>\n",
              "    </tr>\n",
              "    <tr>\n",
              "      <th>0</th>\n",
              "      <td>5434</td>\n",
              "      <td>崇越科技股份有限公司</td>\n",
              "      <td>電子通路業</td>\n",
              "      <td>2.51</td>\n",
              "      <td>新台幣 10.0000元</td>\n",
              "      <td>8789852.0</td>\n",
              "      <td>500551</td>\n",
              "      <td>106870</td>\n",
              "      <td>454700.0</td>\n",
              "      <td>2.51</td>\n",
              "    </tr>\n",
              "    <tr>\n",
              "      <th>0</th>\n",
              "      <td>3130</td>\n",
              "      <td>一零四資訊科技股份有限公司</td>\n",
              "      <td>資訊服務業</td>\n",
              "      <td>1.86</td>\n",
              "      <td>新台幣 10.0000元</td>\n",
              "      <td>396918.0</td>\n",
              "      <td>71588</td>\n",
              "      <td>5208</td>\n",
              "      <td>61582.0</td>\n",
              "      <td>1.86</td>\n",
              "    </tr>\n",
              "    <tr>\n",
              "      <th>0</th>\n",
              "      <td>2474</td>\n",
              "      <td>可成科技股份有限公司</td>\n",
              "      <td>其他電子業</td>\n",
              "      <td>5.09</td>\n",
              "      <td>新台幣 10.0000元</td>\n",
              "      <td>17616374.0</td>\n",
              "      <td>2.83421e+06</td>\n",
              "      <td>2.54446e+06</td>\n",
              "      <td>3928657.0</td>\n",
              "      <td>5.09</td>\n",
              "    </tr>\n",
              "  </tbody>\n",
              "</table>\n",
              "</div>"
            ],
            "text/plain": [
              "   公司代號             公司名稱       產業別  ...     營業外收入及支出       稅後淨利  基本每股盈餘(元)_max\n",
              "0  1101       台灣水泥股份有限公司      水泥工業  ...       273722  3481119.0           0.55\n",
              "0  1232        大統益股份有限公司      食品工業  ...        13952   273011.0           1.66\n",
              "0  1325         恒大股份有限公司      塑膠工業  ...         3776   135215.0           1.45\n",
              "0  4439       冠星集團控股有限公司      紡織纖維  ...        10798    96369.0           3.06\n",
              "0  1530       亞崴機電股份有限公司      電機機械  ...       526915   545391.0           3.39\n",
              "0  5283        禾聯碩股份有限公司      電器電纜  ...        12771   163490.0           2.15\n",
              "0  1817       凱撒衛浴股份有限公司      玻璃陶瓷  ...          265    34618.0           0.48\n",
              "0  1904         正隆股份有限公司      造紙工業  ...      -126656   897554.0           0.81\n",
              "0  3004  豐達科技股份有限公司(原宏達)      鋼鐵工業  ...         -627    73871.0           1.40\n",
              "0  2114        鑫永銓股份有限公司      橡膠工業  ...         4122   109696.0           1.55\n",
              "0  2207       和泰汽車股份有限公司      汽車工業  ...           --  4077415.0           6.35\n",
              "0  5534       長虹建設股份有限公司      建材營造  ...        58266   932873.0           3.21\n",
              "0  2608     嘉里大榮物流股份有限公司       航運業  ...       -18591   315246.0           0.64\n",
              "0  8462     柏文健康事業股份有限公司      觀光事業  ...       -13317   114510.0           1.68\n",
              "0  2823     中國人壽保險股份有限公司     金融保險業  ...         2212  4458858.0           1.00\n",
              "0  2915       潤泰全球股份有限公司      貿易百貨  ...      3078557  3013512.0           5.61\n",
              "0  6670     復盛應用科技股份有限公司        其他  ...        36338   445953.0           3.28\n",
              "0  4763   濟南大自然新材料股份有限公司      化學工業  ...        33829   128099.0           2.50\n",
              "0  4119     旭富製藥科技股份有限公司     生技醫療業  ...       -14387   208331.0           2.62\n",
              "0  8926     台灣汽電共生股份有限公司     油電燃氣業  ...       351109   413255.0           0.70\n",
              "0  5269       祥碩科技股份有限公司      半導體業  ...        19087   492600.0           8.20\n",
              "0  6669     緯穎科技服務股份有限公司  電腦及週邊設備業  ...        24056  1462505.0           8.37\n",
              "0  3008       大立光電股份有限公司       光電業  ...       414639  6720273.0          50.10\n",
              "0  2345       智邦科技股份有限公司     通信網路業  ...       175382  1032374.0           1.86\n",
              "0  2327         國巨股份有限公司    電子零組件業  ...       309029  2350314.0           5.51\n",
              "0  5434       崇越科技股份有限公司     電子通路業  ...       106870   454700.0           2.51\n",
              "0  3130    一零四資訊科技股份有限公司     資訊服務業  ...         5208    61582.0           1.86\n",
              "0  2474       可成科技股份有限公司     其他電子業  ...  2.54446e+06  3928657.0           5.09\n",
              "\n",
              "[28 rows x 10 columns]"
            ]
          },
          "metadata": {
            "tags": []
          },
          "execution_count": 30
        }
      ]
    },
    {
      "cell_type": "code",
      "metadata": {
        "id": "LBAupTWlMbSi",
        "colab_type": "code",
        "colab": {}
      },
      "source": [
        "ret_df = industry_df[industry_df['基本每股盈餘(元)'] == industry_df.groupby('產業別')['基本每股盈餘(元)'].transform(max)]"
      ],
      "execution_count": 0,
      "outputs": []
    },
    {
      "cell_type": "markdown",
      "metadata": {
        "id": "8ma37kRCQWGh",
        "colab_type": "text"
      },
      "source": [
        "### 資料儲存"
      ]
    },
    {
      "cell_type": "code",
      "metadata": {
        "id": "gEMtC5b0Mf4u",
        "colab_type": "code",
        "colab": {}
      },
      "source": [
        "import sqlite3 as lite\n",
        "with lite.connect('stock.sqlite') as con:\n",
        "  industry_df.to_sql('industry_stat', con = con, if_exists='replace')"
      ],
      "execution_count": 0,
      "outputs": []
    },
    {
      "cell_type": "code",
      "metadata": {
        "id": "IIAgYOMyOcjQ",
        "colab_type": "code",
        "colab": {
          "base_uri": "https://localhost:8080/",
          "height": 203
        },
        "outputId": "c0174097-4c70-443e-8518-e74c7b05c584"
      },
      "source": [
        "import sqlite3 as lite\n",
        "with lite.connect('stock.sqlite') as con:\n",
        "  df2 = pandas.read_sql_query(\n",
        "      'SELECT `產業別`,  MAX(`基本每股盈餘(元)`) FROM industry_stat GROUP BY `產業別`;', con = con)\n",
        "df2.head()"
      ],
      "execution_count": 28,
      "outputs": [
        {
          "output_type": "execute_result",
          "data": {
            "text/html": [
              "<div>\n",
              "<style scoped>\n",
              "    .dataframe tbody tr th:only-of-type {\n",
              "        vertical-align: middle;\n",
              "    }\n",
              "\n",
              "    .dataframe tbody tr th {\n",
              "        vertical-align: top;\n",
              "    }\n",
              "\n",
              "    .dataframe thead th {\n",
              "        text-align: right;\n",
              "    }\n",
              "</style>\n",
              "<table border=\"1\" class=\"dataframe\">\n",
              "  <thead>\n",
              "    <tr style=\"text-align: right;\">\n",
              "      <th></th>\n",
              "      <th>產業別</th>\n",
              "      <th>MAX(`基本每股盈餘(元)`)</th>\n",
              "    </tr>\n",
              "  </thead>\n",
              "  <tbody>\n",
              "    <tr>\n",
              "      <th>0</th>\n",
              "      <td>光電業</td>\n",
              "      <td>50.10</td>\n",
              "    </tr>\n",
              "    <tr>\n",
              "      <th>1</th>\n",
              "      <td>其他</td>\n",
              "      <td>3.28</td>\n",
              "    </tr>\n",
              "    <tr>\n",
              "      <th>2</th>\n",
              "      <td>其他電子業</td>\n",
              "      <td>5.09</td>\n",
              "    </tr>\n",
              "    <tr>\n",
              "      <th>3</th>\n",
              "      <td>化學工業</td>\n",
              "      <td>2.50</td>\n",
              "    </tr>\n",
              "    <tr>\n",
              "      <th>4</th>\n",
              "      <td>半導體業</td>\n",
              "      <td>8.20</td>\n",
              "    </tr>\n",
              "  </tbody>\n",
              "</table>\n",
              "</div>"
            ],
            "text/plain": [
              "     產業別  MAX(`基本每股盈餘(元)`)\n",
              "0    光電業             50.10\n",
              "1     其他              3.28\n",
              "2  其他電子業              5.09\n",
              "3   化學工業              2.50\n",
              "4   半導體業              8.20"
            ]
          },
          "metadata": {
            "tags": []
          },
          "execution_count": 28
        }
      ]
    },
    {
      "cell_type": "code",
      "metadata": {
        "id": "YRqGLq7rOviB",
        "colab_type": "code",
        "colab": {}
      },
      "source": [
        ""
      ],
      "execution_count": 0,
      "outputs": []
    }
  ]
}