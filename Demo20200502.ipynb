{
  "nbformat": 4,
  "nbformat_minor": 0,
  "metadata": {
    "colab": {
      "name": "Demo20200502.ipynb",
      "provenance": [],
      "collapsed_sections": [],
      "toc_visible": true
    },
    "kernelspec": {
      "name": "python3",
      "display_name": "Python 3"
    }
  },
  "cells": [
    {
      "cell_type": "markdown",
      "metadata": {
        "id": "ps6XNv8vA5qf",
        "colab_type": "text"
      },
      "source": [
        "## 作業 (Python 基礎)\n",
        "\n",
        "- 1 請使用 pip 將 jieba 安裝在自己的電腦上\n",
        "- 2 閱讀jieba 相關的文件，了解jieba 的用法\n",
        "- 3 請將蔡英文演說文 (https://raw.githubusercontent.com/ywchiu/tibamedl/master/Data/speech_tsai.txt) 下載存入到自己電腦\n",
        "- 4 請使用python 的檔案操作方法讀取新聞\n",
        "- 5 請使用 jieba 將演說文切詞\n",
        "- 6 請統計該演說文最常出現的十大字詞"
      ]
    },
    {
      "cell_type": "markdown",
      "metadata": {
        "id": "ItRxuNe3CFOs",
        "colab_type": "text"
      },
      "source": [
        "###  請使用 pip 將 jieba 安裝在自己的電腦上"
      ]
    },
    {
      "cell_type": "code",
      "metadata": {
        "id": "PHegvVZ2CT5J",
        "colab_type": "code",
        "colab": {
          "base_uri": "https://localhost:8080/",
          "height": 34
        },
        "outputId": "70b80d29-4352-4c28-c3bb-a89849a37d35"
      },
      "source": [
        "! pip install jieba"
      ],
      "execution_count": 2,
      "outputs": [
        {
          "output_type": "stream",
          "text": [
            "Requirement already satisfied: jieba in /usr/local/lib/python3.6/dist-packages (0.42.1)\n"
          ],
          "name": "stdout"
        }
      ]
    },
    {
      "cell_type": "markdown",
      "metadata": {
        "id": "2r2fVJB4Ctwr",
        "colab_type": "text"
      },
      "source": [
        "### 閱讀jieba 相關的文件，了解jieba 的用法\n",
        "- https://github.com/fxsjy/jieba"
      ]
    },
    {
      "cell_type": "code",
      "metadata": {
        "id": "Hyr6hhGYCxMj",
        "colab_type": "code",
        "colab": {
          "base_uri": "https://localhost:8080/",
          "height": 118
        },
        "outputId": "949cd229-14b3-4f4d-a2b3-3412c167b522"
      },
      "source": [
        "# encoding=utf-8\n",
        "import jieba\n",
        "\n",
        "seg_list = jieba.cut(\"我来到北京清华大学\", cut_all=True)\n",
        "print(\"Full Mode: \" + \"/ \".join(seg_list))  # 全模式\n",
        "\n",
        "seg_list = jieba.cut(\"我来到北京清华大学\", cut_all=False)\n",
        "print(\"Default Mode: \" + \"/ \".join(seg_list))  # 精确模式"
      ],
      "execution_count": 3,
      "outputs": [
        {
          "output_type": "stream",
          "text": [
            "Building prefix dict from the default dictionary ...\n",
            "Dumping model to file cache /tmp/jieba.cache\n",
            "Loading model cost 0.874 seconds.\n",
            "Prefix dict has been built successfully.\n"
          ],
          "name": "stderr"
        },
        {
          "output_type": "stream",
          "text": [
            "Full Mode: 我/ 来到/ 北京/ 清华/ 清华大学/ 华大/ 大学\n",
            "Default Mode: 我/ 来到/ 北京/ 清华大学\n"
          ],
          "name": "stdout"
        }
      ]
    },
    {
      "cell_type": "markdown",
      "metadata": {
        "id": "DsUuDk4WEIzY",
        "colab_type": "text"
      },
      "source": [
        "###  請將蔡英文演說文 (https://raw.githubusercontent.com/ywchiu/tibamedl/master/Data/speech_tsai.txt) 下載存入到自己電腦\n",
        "\n",
        "- http://linux.vbird.org/"
      ]
    },
    {
      "cell_type": "code",
      "metadata": {
        "id": "IisB99NgAR45",
        "colab_type": "code",
        "colab": {
          "base_uri": "https://localhost:8080/",
          "height": 202
        },
        "outputId": "3429e001-fb1c-4db7-f8fa-60037a2c403a"
      },
      "source": [
        "! wget https://raw.githubusercontent.com/ywchiu/tibamedl/master/Data/speech_tsai.txt"
      ],
      "execution_count": 1,
      "outputs": [
        {
          "output_type": "stream",
          "text": [
            "--2020-05-02 01:33:57--  https://raw.githubusercontent.com/ywchiu/tibamedl/master/Data/speech_tsai.txt\n",
            "Resolving raw.githubusercontent.com (raw.githubusercontent.com)... 151.101.0.133, 151.101.64.133, 151.101.128.133, ...\n",
            "Connecting to raw.githubusercontent.com (raw.githubusercontent.com)|151.101.0.133|:443... connected.\n",
            "HTTP request sent, awaiting response... 200 OK\n",
            "Length: 6579 (6.4K) [text/plain]\n",
            "Saving to: ‘speech_tsai.txt’\n",
            "\n",
            "\rspeech_tsai.txt       0%[                    ]       0  --.-KB/s               \rspeech_tsai.txt     100%[===================>]   6.42K  --.-KB/s    in 0s      \n",
            "\n",
            "2020-05-02 01:33:57 (90.9 MB/s) - ‘speech_tsai.txt’ saved [6579/6579]\n",
            "\n"
          ],
          "name": "stdout"
        }
      ]
    },
    {
      "cell_type": "markdown",
      "metadata": {
        "id": "RwS0EzUgExxj",
        "colab_type": "text"
      },
      "source": [
        "### 請使用python 的檔案操作方法讀取新聞"
      ]
    },
    {
      "cell_type": "code",
      "metadata": {
        "id": "slVOzH-mBKLk",
        "colab_type": "code",
        "colab": {}
      },
      "source": [
        "with open('speech_tsai.txt' , 'r') as f:\n",
        "  speech = f.read()"
      ],
      "execution_count": 0,
      "outputs": []
    },
    {
      "cell_type": "code",
      "metadata": {
        "id": "i_JCsnUZE8p6",
        "colab_type": "code",
        "colab": {}
      },
      "source": [
        "#speech"
      ],
      "execution_count": 0,
      "outputs": []
    },
    {
      "cell_type": "markdown",
      "metadata": {
        "id": "8UEun6E_FGfr",
        "colab_type": "text"
      },
      "source": [
        "### 請使用 jieba 將演說文切詞 "
      ]
    },
    {
      "cell_type": "code",
      "metadata": {
        "id": "GvHSpFETE-Mt",
        "colab_type": "code",
        "colab": {}
      },
      "source": [
        "import jieba\n",
        "\n",
        "seg_list = jieba.cut(speech, cut_all=False)\n",
        "words = []\n",
        "for word in seg_list:\n",
        "  words.append(word)"
      ],
      "execution_count": 0,
      "outputs": []
    },
    {
      "cell_type": "markdown",
      "metadata": {
        "id": "Dq02o7lqF1ux",
        "colab_type": "text"
      },
      "source": [
        "### 請統計該演說文最常出現的十大字詞"
      ]
    },
    {
      "cell_type": "markdown",
      "metadata": {
        "id": "oXM59VrbHgtn",
        "colab_type": "text"
      },
      "source": [
        "#### Method 1"
      ]
    },
    {
      "cell_type": "code",
      "metadata": {
        "id": "JowCENIIFTlT",
        "colab_type": "code",
        "colab": {}
      },
      "source": [
        "dic = {}\n",
        "for word in words:\n",
        "  if len(word) >=2:\n",
        "    if word not in dic:\n",
        "      dic[word] = 1\n",
        "    else:\n",
        "      dic[word] = dic[word] + 1"
      ],
      "execution_count": 0,
      "outputs": []
    },
    {
      "cell_type": "code",
      "metadata": {
        "id": "JzFhyz_HFsOE",
        "colab_type": "code",
        "colab": {}
      },
      "source": [
        "swd = sorted(dic.items(), key = lambda k:k[1], reverse=True)"
      ],
      "execution_count": 0,
      "outputs": []
    },
    {
      "cell_type": "code",
      "metadata": {
        "id": "FMGG8Q0PGQtM",
        "colab_type": "code",
        "colab": {
          "base_uri": "https://localhost:8080/",
          "height": 185
        },
        "outputId": "c8e8b560-6075-4ae0-ae15-b039b37c7f68"
      },
      "source": [
        "for rec in swd[0:10]:\n",
        "  print(rec)"
      ],
      "execution_count": 19,
      "outputs": [
        {
          "output_type": "stream",
          "text": [
            "('我們', 43)\n",
            "('台灣', 19)\n",
            "('挑戰', 12)\n",
            "('人民', 9)\n",
            "('經濟', 8)\n",
            "('中華民國', 7)\n",
            "('一次', 7)\n",
            "('未來', 6)\n",
            "('自由民主', 6)\n",
            "('世界', 5)\n"
          ],
          "name": "stdout"
        }
      ]
    },
    {
      "cell_type": "code",
      "metadata": {
        "id": "dXz8VpvyGwb1",
        "colab_type": "code",
        "colab": {
          "base_uri": "https://localhost:8080/",
          "height": 185
        },
        "outputId": "71fb5103-7a15-42ca-db54-131c703d3618"
      },
      "source": [
        "for k,v in swd[0:10]:\n",
        "  print(k,v)"
      ],
      "execution_count": 20,
      "outputs": [
        {
          "output_type": "stream",
          "text": [
            "我們 43\n",
            "台灣 19\n",
            "挑戰 12\n",
            "人民 9\n",
            "經濟 8\n",
            "中華民國 7\n",
            "一次 7\n",
            "未來 6\n",
            "自由民主 6\n",
            "世界 5\n"
          ],
          "name": "stdout"
        }
      ]
    },
    {
      "cell_type": "markdown",
      "metadata": {
        "id": "UA1Ft6XfHlGv",
        "colab_type": "text"
      },
      "source": [
        "#### Method 2"
      ]
    },
    {
      "cell_type": "code",
      "metadata": {
        "id": "zkSwABPXHQOb",
        "colab_type": "code",
        "colab": {}
      },
      "source": [
        "dic = {}\n",
        "for word in words:\n",
        "  if len(word) >=2:\n",
        "    dic[word] = dic.get(word,0) + 1"
      ],
      "execution_count": 0,
      "outputs": []
    },
    {
      "cell_type": "code",
      "metadata": {
        "id": "TjUYHUMTHkp3",
        "colab_type": "code",
        "colab": {}
      },
      "source": [
        "swd = sorted(dic.items(), key = lambda k:k[1], reverse=True)"
      ],
      "execution_count": 0,
      "outputs": []
    },
    {
      "cell_type": "code",
      "metadata": {
        "id": "ay7yMEIKIEjK",
        "colab_type": "code",
        "colab": {
          "base_uri": "https://localhost:8080/",
          "height": 185
        },
        "outputId": "b5b259f0-0854-4030-b967-a86d8e192273"
      },
      "source": [
        "for rec in swd[0:10]:\n",
        "  print(rec)"
      ],
      "execution_count": 23,
      "outputs": [
        {
          "output_type": "stream",
          "text": [
            "('我們', 43)\n",
            "('台灣', 19)\n",
            "('挑戰', 12)\n",
            "('人民', 9)\n",
            "('經濟', 8)\n",
            "('中華民國', 7)\n",
            "('一次', 7)\n",
            "('未來', 6)\n",
            "('自由民主', 6)\n",
            "('世界', 5)\n"
          ],
          "name": "stdout"
        }
      ]
    },
    {
      "cell_type": "markdown",
      "metadata": {
        "id": "xCkih8KhIKR5",
        "colab_type": "text"
      },
      "source": [
        "#### Method 3\n",
        "- https://docs.python.org/zh-tw/3/library/collections.html"
      ]
    },
    {
      "cell_type": "code",
      "metadata": {
        "id": "DpN_H4PUIGIL",
        "colab_type": "code",
        "colab": {
          "base_uri": "https://localhost:8080/",
          "height": 185
        },
        "outputId": "35783b7a-376e-42cf-8209-e984b1c38394"
      },
      "source": [
        "from collections import Counter\n",
        "words2 = []\n",
        "for word in words:\n",
        "  if len(word) >=2:\n",
        "    words2.append(word)\n",
        "c = Counter(words2)\n",
        "c.most_common(10)"
      ],
      "execution_count": 25,
      "outputs": [
        {
          "output_type": "execute_result",
          "data": {
            "text/plain": [
              "[('我們', 43),\n",
              " ('台灣', 19),\n",
              " ('挑戰', 12),\n",
              " ('人民', 9),\n",
              " ('經濟', 8),\n",
              " ('中華民國', 7),\n",
              " ('一次', 7),\n",
              " ('未來', 6),\n",
              " ('自由民主', 6),\n",
              " ('世界', 5)]"
            ]
          },
          "metadata": {
            "tags": []
          },
          "execution_count": 25
        }
      ]
    },
    {
      "cell_type": "code",
      "metadata": {
        "id": "X-Z3T3d4ItMV",
        "colab_type": "code",
        "colab": {}
      },
      "source": [
        "# [word for word in words if len(word) >=2]"
      ],
      "execution_count": 0,
      "outputs": []
    },
    {
      "cell_type": "code",
      "metadata": {
        "id": "ZQBxFJPuJF-J",
        "colab_type": "code",
        "colab": {
          "base_uri": "https://localhost:8080/",
          "height": 185
        },
        "outputId": "21709b51-81fe-4e9e-8bc6-aede8ee79c89"
      },
      "source": [
        "from collections import Counter\n",
        "words2 = [word for word in words if len(word) >=2]\n",
        "c = Counter(words2)\n",
        "c.most_common(10)"
      ],
      "execution_count": 29,
      "outputs": [
        {
          "output_type": "execute_result",
          "data": {
            "text/plain": [
              "[('我們', 43),\n",
              " ('台灣', 19),\n",
              " ('挑戰', 12),\n",
              " ('人民', 9),\n",
              " ('經濟', 8),\n",
              " ('中華民國', 7),\n",
              " ('一次', 7),\n",
              " ('未來', 6),\n",
              " ('自由民主', 6),\n",
              " ('世界', 5)]"
            ]
          },
          "metadata": {
            "tags": []
          },
          "execution_count": 29
        }
      ]
    },
    {
      "cell_type": "code",
      "metadata": {
        "id": "j8tKGTHKJUj0",
        "colab_type": "code",
        "colab": {}
      },
      "source": [
        ""
      ],
      "execution_count": 0,
      "outputs": []
    }
  ]
}