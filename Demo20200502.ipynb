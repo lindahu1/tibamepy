{
  "nbformat": 4,
  "nbformat_minor": 0,
  "metadata": {
    "colab": {
      "name": "Demo20200502.ipynb",
      "provenance": [],
      "collapsed_sections": []
    },
    "kernelspec": {
      "name": "python3",
      "display_name": "Python 3"
    }
  },
  "cells": [
    {
      "cell_type": "markdown",
      "metadata": {
        "id": "ps6XNv8vA5qf",
        "colab_type": "text"
      },
      "source": [
        "## 作業 (Python 基礎)\n",
        "\n",
        "- 1 請使用 pip 將 jieba 安裝在自己的電腦上\n",
        "- 2 閱讀jieba 相關的文件，了解jieba 的用法\n",
        "- 3 請將蔡英文演說文 (https://raw.githubusercontent.com/ywchiu/tibamedl/master/Data/speech_tsai.txt) 下載存入到自己電腦\n",
        "- 4 請使用python 的檔案操作方法讀取新聞\n",
        "- 5 請使用 jieba 將演說文切詞\n",
        "- 6 請統計該演說文最常出現的十大字詞"
      ]
    },
    {
      "cell_type": "markdown",
      "metadata": {
        "id": "ItRxuNe3CFOs",
        "colab_type": "text"
      },
      "source": [
        "###  請使用 pip 將 jieba 安裝在自己的電腦上"
      ]
    },
    {
      "cell_type": "code",
      "metadata": {
        "id": "PHegvVZ2CT5J",
        "colab_type": "code",
        "colab": {
          "base_uri": "https://localhost:8080/",
          "height": 34
        },
        "outputId": "70b80d29-4352-4c28-c3bb-a89849a37d35"
      },
      "source": [
        "! pip install jieba"
      ],
      "execution_count": 2,
      "outputs": [
        {
          "output_type": "stream",
          "text": [
            "Requirement already satisfied: jieba in /usr/local/lib/python3.6/dist-packages (0.42.1)\n"
          ],
          "name": "stdout"
        }
      ]
    },
    {
      "cell_type": "markdown",
      "metadata": {
        "id": "2r2fVJB4Ctwr",
        "colab_type": "text"
      },
      "source": [
        "### 閱讀jieba 相關的文件，了解jieba 的用法\n",
        "- https://github.com/fxsjy/jieba"
      ]
    },
    {
      "cell_type": "code",
      "metadata": {
        "id": "Hyr6hhGYCxMj",
        "colab_type": "code",
        "colab": {
          "base_uri": "https://localhost:8080/",
          "height": 118
        },
        "outputId": "949cd229-14b3-4f4d-a2b3-3412c167b522"
      },
      "source": [
        "# encoding=utf-8\n",
        "import jieba\n",
        "\n",
        "seg_list = jieba.cut(\"我来到北京清华大学\", cut_all=True)\n",
        "print(\"Full Mode: \" + \"/ \".join(seg_list))  # 全模式\n",
        "\n",
        "seg_list = jieba.cut(\"我来到北京清华大学\", cut_all=False)\n",
        "print(\"Default Mode: \" + \"/ \".join(seg_list))  # 精确模式"
      ],
      "execution_count": 3,
      "outputs": [
        {
          "output_type": "stream",
          "text": [
            "Building prefix dict from the default dictionary ...\n",
            "Dumping model to file cache /tmp/jieba.cache\n",
            "Loading model cost 0.874 seconds.\n",
            "Prefix dict has been built successfully.\n"
          ],
          "name": "stderr"
        },
        {
          "output_type": "stream",
          "text": [
            "Full Mode: 我/ 来到/ 北京/ 清华/ 清华大学/ 华大/ 大学\n",
            "Default Mode: 我/ 来到/ 北京/ 清华大学\n"
          ],
          "name": "stdout"
        }
      ]
    },
    {
      "cell_type": "markdown",
      "metadata": {
        "id": "DsUuDk4WEIzY",
        "colab_type": "text"
      },
      "source": [
        "###  請將蔡英文演說文 (https://raw.githubusercontent.com/ywchiu/tibamedl/master/Data/speech_tsai.txt) 下載存入到自己電腦\n",
        "\n",
        "- http://linux.vbird.org/"
      ]
    },
    {
      "cell_type": "code",
      "metadata": {
        "id": "IisB99NgAR45",
        "colab_type": "code",
        "colab": {
          "base_uri": "https://localhost:8080/",
          "height": 202
        },
        "outputId": "3429e001-fb1c-4db7-f8fa-60037a2c403a"
      },
      "source": [
        "! wget https://raw.githubusercontent.com/ywchiu/tibamedl/master/Data/speech_tsai.txt"
      ],
      "execution_count": 1,
      "outputs": [
        {
          "output_type": "stream",
          "text": [
            "--2020-05-02 01:33:57--  https://raw.githubusercontent.com/ywchiu/tibamedl/master/Data/speech_tsai.txt\n",
            "Resolving raw.githubusercontent.com (raw.githubusercontent.com)... 151.101.0.133, 151.101.64.133, 151.101.128.133, ...\n",
            "Connecting to raw.githubusercontent.com (raw.githubusercontent.com)|151.101.0.133|:443... connected.\n",
            "HTTP request sent, awaiting response... 200 OK\n",
            "Length: 6579 (6.4K) [text/plain]\n",
            "Saving to: ‘speech_tsai.txt’\n",
            "\n",
            "\rspeech_tsai.txt       0%[                    ]       0  --.-KB/s               \rspeech_tsai.txt     100%[===================>]   6.42K  --.-KB/s    in 0s      \n",
            "\n",
            "2020-05-02 01:33:57 (90.9 MB/s) - ‘speech_tsai.txt’ saved [6579/6579]\n",
            "\n"
          ],
          "name": "stdout"
        }
      ]
    },
    {
      "cell_type": "markdown",
      "metadata": {
        "id": "RwS0EzUgExxj",
        "colab_type": "text"
      },
      "source": [
        "### 請使用python 的檔案操作方法讀取新聞"
      ]
    },
    {
      "cell_type": "code",
      "metadata": {
        "id": "slVOzH-mBKLk",
        "colab_type": "code",
        "colab": {}
      },
      "source": [
        "with open('speech_tsai.txt' , 'r') as f:\n",
        "  speech = f.read()"
      ],
      "execution_count": 0,
      "outputs": []
    },
    {
      "cell_type": "code",
      "metadata": {
        "id": "i_JCsnUZE8p6",
        "colab_type": "code",
        "colab": {}
      },
      "source": [
        "#speech"
      ],
      "execution_count": 0,
      "outputs": []
    },
    {
      "cell_type": "markdown",
      "metadata": {
        "id": "8UEun6E_FGfr",
        "colab_type": "text"
      },
      "source": [
        "### 請使用 jieba 將演說文切詞 "
      ]
    },
    {
      "cell_type": "code",
      "metadata": {
        "id": "GvHSpFETE-Mt",
        "colab_type": "code",
        "colab": {}
      },
      "source": [
        "import jieba\n",
        "\n",
        "seg_list = jieba.cut(speech, cut_all=False)\n",
        "words = []\n",
        "for word in seg_list:\n",
        "  words.append(word)"
      ],
      "execution_count": 0,
      "outputs": []
    },
    {
      "cell_type": "markdown",
      "metadata": {
        "id": "Dq02o7lqF1ux",
        "colab_type": "text"
      },
      "source": [
        "### 請統計該演說文最常出現的十大字詞"
      ]
    },
    {
      "cell_type": "markdown",
      "metadata": {
        "id": "oXM59VrbHgtn",
        "colab_type": "text"
      },
      "source": [
        "#### Method 1"
      ]
    },
    {
      "cell_type": "code",
      "metadata": {
        "id": "JowCENIIFTlT",
        "colab_type": "code",
        "colab": {}
      },
      "source": [
        "dic = {}\n",
        "for word in words:\n",
        "  if len(word) >=2:\n",
        "    if word not in dic:\n",
        "      dic[word] = 1\n",
        "    else:\n",
        "      dic[word] = dic[word] + 1"
      ],
      "execution_count": 0,
      "outputs": []
    },
    {
      "cell_type": "code",
      "metadata": {
        "id": "JzFhyz_HFsOE",
        "colab_type": "code",
        "colab": {}
      },
      "source": [
        "swd = sorted(dic.items(), key = lambda k:k[1], reverse=True)"
      ],
      "execution_count": 0,
      "outputs": []
    },
    {
      "cell_type": "code",
      "metadata": {
        "id": "FMGG8Q0PGQtM",
        "colab_type": "code",
        "colab": {
          "base_uri": "https://localhost:8080/",
          "height": 185
        },
        "outputId": "c8e8b560-6075-4ae0-ae15-b039b37c7f68"
      },
      "source": [
        "for rec in swd[0:10]:\n",
        "  print(rec)"
      ],
      "execution_count": 19,
      "outputs": [
        {
          "output_type": "stream",
          "text": [
            "('我們', 43)\n",
            "('台灣', 19)\n",
            "('挑戰', 12)\n",
            "('人民', 9)\n",
            "('經濟', 8)\n",
            "('中華民國', 7)\n",
            "('一次', 7)\n",
            "('未來', 6)\n",
            "('自由民主', 6)\n",
            "('世界', 5)\n"
          ],
          "name": "stdout"
        }
      ]
    },
    {
      "cell_type": "code",
      "metadata": {
        "id": "dXz8VpvyGwb1",
        "colab_type": "code",
        "colab": {
          "base_uri": "https://localhost:8080/",
          "height": 185
        },
        "outputId": "71fb5103-7a15-42ca-db54-131c703d3618"
      },
      "source": [
        "for k,v in swd[0:10]:\n",
        "  print(k,v)"
      ],
      "execution_count": 20,
      "outputs": [
        {
          "output_type": "stream",
          "text": [
            "我們 43\n",
            "台灣 19\n",
            "挑戰 12\n",
            "人民 9\n",
            "經濟 8\n",
            "中華民國 7\n",
            "一次 7\n",
            "未來 6\n",
            "自由民主 6\n",
            "世界 5\n"
          ],
          "name": "stdout"
        }
      ]
    },
    {
      "cell_type": "markdown",
      "metadata": {
        "id": "UA1Ft6XfHlGv",
        "colab_type": "text"
      },
      "source": [
        "#### Method 2"
      ]
    },
    {
      "cell_type": "code",
      "metadata": {
        "id": "zkSwABPXHQOb",
        "colab_type": "code",
        "colab": {}
      },
      "source": [
        "dic = {}\n",
        "for word in words:\n",
        "  if len(word) >=2:\n",
        "    dic[word] = dic.get(word,0) + 1"
      ],
      "execution_count": 0,
      "outputs": []
    },
    {
      "cell_type": "code",
      "metadata": {
        "id": "TjUYHUMTHkp3",
        "colab_type": "code",
        "colab": {}
      },
      "source": [
        "swd = sorted(dic.items(), key = lambda k:k[1], reverse=True)"
      ],
      "execution_count": 0,
      "outputs": []
    },
    {
      "cell_type": "code",
      "metadata": {
        "id": "ay7yMEIKIEjK",
        "colab_type": "code",
        "colab": {
          "base_uri": "https://localhost:8080/",
          "height": 185
        },
        "outputId": "b5b259f0-0854-4030-b967-a86d8e192273"
      },
      "source": [
        "for rec in swd[0:10]:\n",
        "  print(rec)"
      ],
      "execution_count": 23,
      "outputs": [
        {
          "output_type": "stream",
          "text": [
            "('我們', 43)\n",
            "('台灣', 19)\n",
            "('挑戰', 12)\n",
            "('人民', 9)\n",
            "('經濟', 8)\n",
            "('中華民國', 7)\n",
            "('一次', 7)\n",
            "('未來', 6)\n",
            "('自由民主', 6)\n",
            "('世界', 5)\n"
          ],
          "name": "stdout"
        }
      ]
    },
    {
      "cell_type": "markdown",
      "metadata": {
        "id": "xCkih8KhIKR5",
        "colab_type": "text"
      },
      "source": [
        "#### Method 3\n",
        "- https://docs.python.org/zh-tw/3/library/collections.html"
      ]
    },
    {
      "cell_type": "code",
      "metadata": {
        "id": "DpN_H4PUIGIL",
        "colab_type": "code",
        "colab": {
          "base_uri": "https://localhost:8080/",
          "height": 185
        },
        "outputId": "35783b7a-376e-42cf-8209-e984b1c38394"
      },
      "source": [
        "from collections import Counter\n",
        "words2 = []\n",
        "for word in words:\n",
        "  if len(word) >=2:\n",
        "    words2.append(word)\n",
        "c = Counter(words2)\n",
        "c.most_common(10)"
      ],
      "execution_count": 25,
      "outputs": [
        {
          "output_type": "execute_result",
          "data": {
            "text/plain": [
              "[('我們', 43),\n",
              " ('台灣', 19),\n",
              " ('挑戰', 12),\n",
              " ('人民', 9),\n",
              " ('經濟', 8),\n",
              " ('中華民國', 7),\n",
              " ('一次', 7),\n",
              " ('未來', 6),\n",
              " ('自由民主', 6),\n",
              " ('世界', 5)]"
            ]
          },
          "metadata": {
            "tags": []
          },
          "execution_count": 25
        }
      ]
    },
    {
      "cell_type": "code",
      "metadata": {
        "id": "X-Z3T3d4ItMV",
        "colab_type": "code",
        "colab": {}
      },
      "source": [
        "# [word for word in words if len(word) >=2]"
      ],
      "execution_count": 0,
      "outputs": []
    },
    {
      "cell_type": "code",
      "metadata": {
        "id": "ZQBxFJPuJF-J",
        "colab_type": "code",
        "colab": {
          "base_uri": "https://localhost:8080/",
          "height": 185
        },
        "outputId": "21709b51-81fe-4e9e-8bc6-aede8ee79c89"
      },
      "source": [
        "from collections import Counter\n",
        "words2 = [word for word in words if len(word) >=2]\n",
        "c = Counter(words2)\n",
        "c.most_common(10)"
      ],
      "execution_count": 29,
      "outputs": [
        {
          "output_type": "execute_result",
          "data": {
            "text/plain": [
              "[('我們', 43),\n",
              " ('台灣', 19),\n",
              " ('挑戰', 12),\n",
              " ('人民', 9),\n",
              " ('經濟', 8),\n",
              " ('中華民國', 7),\n",
              " ('一次', 7),\n",
              " ('未來', 6),\n",
              " ('自由民主', 6),\n",
              " ('世界', 5)]"
            ]
          },
          "metadata": {
            "tags": []
          },
          "execution_count": 29
        }
      ]
    },
    {
      "cell_type": "markdown",
      "metadata": {
        "id": "fe2HvsgWPDqo",
        "colab_type": "text"
      },
      "source": [
        "## 使用Pandas 讀取資料"
      ]
    },
    {
      "cell_type": "code",
      "metadata": {
        "id": "j8tKGTHKJUj0",
        "colab_type": "code",
        "colab": {}
      },
      "source": [
        "import pandas\n",
        "amzn = pandas.read_csv('https://raw.githubusercontent.com/ywchiu/tibamepy/master/data/AMZN.csv')"
      ],
      "execution_count": 0,
      "outputs": []
    },
    {
      "cell_type": "code",
      "metadata": {
        "id": "gUa12ZR9PKd1",
        "colab_type": "code",
        "colab": {
          "base_uri": "https://localhost:8080/",
          "height": 195
        },
        "outputId": "d296f414-11c3-4e82-a0c1-68b15b632173"
      },
      "source": [
        "amzn.head()"
      ],
      "execution_count": 31,
      "outputs": [
        {
          "output_type": "execute_result",
          "data": {
            "text/html": [
              "<div>\n",
              "<style scoped>\n",
              "    .dataframe tbody tr th:only-of-type {\n",
              "        vertical-align: middle;\n",
              "    }\n",
              "\n",
              "    .dataframe tbody tr th {\n",
              "        vertical-align: top;\n",
              "    }\n",
              "\n",
              "    .dataframe thead th {\n",
              "        text-align: right;\n",
              "    }\n",
              "</style>\n",
              "<table border=\"1\" class=\"dataframe\">\n",
              "  <thead>\n",
              "    <tr style=\"text-align: right;\">\n",
              "      <th></th>\n",
              "      <th>Date</th>\n",
              "      <th>Open</th>\n",
              "      <th>High</th>\n",
              "      <th>Low</th>\n",
              "      <th>Close</th>\n",
              "      <th>Adj Close</th>\n",
              "      <th>Volume</th>\n",
              "    </tr>\n",
              "  </thead>\n",
              "  <tbody>\n",
              "    <tr>\n",
              "      <th>0</th>\n",
              "      <td>1997-05-15</td>\n",
              "      <td>2.437500</td>\n",
              "      <td>2.500000</td>\n",
              "      <td>1.927083</td>\n",
              "      <td>1.958333</td>\n",
              "      <td>1.958333</td>\n",
              "      <td>72156000</td>\n",
              "    </tr>\n",
              "    <tr>\n",
              "      <th>1</th>\n",
              "      <td>1997-05-16</td>\n",
              "      <td>1.968750</td>\n",
              "      <td>1.979167</td>\n",
              "      <td>1.708333</td>\n",
              "      <td>1.729167</td>\n",
              "      <td>1.729167</td>\n",
              "      <td>14700000</td>\n",
              "    </tr>\n",
              "    <tr>\n",
              "      <th>2</th>\n",
              "      <td>1997-05-19</td>\n",
              "      <td>1.760417</td>\n",
              "      <td>1.770833</td>\n",
              "      <td>1.625000</td>\n",
              "      <td>1.708333</td>\n",
              "      <td>1.708333</td>\n",
              "      <td>6106800</td>\n",
              "    </tr>\n",
              "    <tr>\n",
              "      <th>3</th>\n",
              "      <td>1997-05-20</td>\n",
              "      <td>1.729167</td>\n",
              "      <td>1.750000</td>\n",
              "      <td>1.635417</td>\n",
              "      <td>1.635417</td>\n",
              "      <td>1.635417</td>\n",
              "      <td>5467200</td>\n",
              "    </tr>\n",
              "    <tr>\n",
              "      <th>4</th>\n",
              "      <td>1997-05-21</td>\n",
              "      <td>1.635417</td>\n",
              "      <td>1.645833</td>\n",
              "      <td>1.375000</td>\n",
              "      <td>1.427083</td>\n",
              "      <td>1.427083</td>\n",
              "      <td>18853200</td>\n",
              "    </tr>\n",
              "  </tbody>\n",
              "</table>\n",
              "</div>"
            ],
            "text/plain": [
              "         Date      Open      High       Low     Close  Adj Close    Volume\n",
              "0  1997-05-15  2.437500  2.500000  1.927083  1.958333   1.958333  72156000\n",
              "1  1997-05-16  1.968750  1.979167  1.708333  1.729167   1.729167  14700000\n",
              "2  1997-05-19  1.760417  1.770833  1.625000  1.708333   1.708333   6106800\n",
              "3  1997-05-20  1.729167  1.750000  1.635417  1.635417   1.635417   5467200\n",
              "4  1997-05-21  1.635417  1.645833  1.375000  1.427083   1.427083  18853200"
            ]
          },
          "metadata": {
            "tags": []
          },
          "execution_count": 31
        }
      ]
    },
    {
      "cell_type": "code",
      "metadata": {
        "id": "aTDWHIbUPLe8",
        "colab_type": "code",
        "colab": {}
      },
      "source": [
        "tw2330 = pandas.read_json('https://raw.githubusercontent.com/ywchiu/tibamepy/master/data/2330.json')"
      ],
      "execution_count": 0,
      "outputs": []
    },
    {
      "cell_type": "code",
      "metadata": {
        "id": "xSQHoPXlPVzz",
        "colab_type": "code",
        "colab": {
          "base_uri": "https://localhost:8080/",
          "height": 195
        },
        "outputId": "a6b6b6f5-a68f-4992-f69d-127522f1da42"
      },
      "source": [
        "tw2330.head()"
      ],
      "execution_count": 33,
      "outputs": [
        {
          "output_type": "execute_result",
          "data": {
            "text/html": [
              "<div>\n",
              "<style scoped>\n",
              "    .dataframe tbody tr th:only-of-type {\n",
              "        vertical-align: middle;\n",
              "    }\n",
              "\n",
              "    .dataframe tbody tr th {\n",
              "        vertical-align: top;\n",
              "    }\n",
              "\n",
              "    .dataframe thead th {\n",
              "        text-align: right;\n",
              "    }\n",
              "</style>\n",
              "<table border=\"1\" class=\"dataframe\">\n",
              "  <thead>\n",
              "    <tr style=\"text-align: right;\">\n",
              "      <th></th>\n",
              "      <th>Date</th>\n",
              "      <th>Open</th>\n",
              "      <th>High</th>\n",
              "      <th>Low</th>\n",
              "      <th>Close</th>\n",
              "      <th>Volume</th>\n",
              "      <th>Adj Close</th>\n",
              "    </tr>\n",
              "  </thead>\n",
              "  <tbody>\n",
              "    <tr>\n",
              "      <th>0</th>\n",
              "      <td>2016-07-21</td>\n",
              "      <td>171.0</td>\n",
              "      <td>172.0</td>\n",
              "      <td>170.0</td>\n",
              "      <td>172.0</td>\n",
              "      <td>33130000</td>\n",
              "      <td>172.0</td>\n",
              "    </tr>\n",
              "    <tr>\n",
              "      <th>1</th>\n",
              "      <td>2016-07-20</td>\n",
              "      <td>170.0</td>\n",
              "      <td>170.5</td>\n",
              "      <td>169.0</td>\n",
              "      <td>170.0</td>\n",
              "      <td>38053000</td>\n",
              "      <td>170.0</td>\n",
              "    </tr>\n",
              "    <tr>\n",
              "      <th>2</th>\n",
              "      <td>2016-07-19</td>\n",
              "      <td>170.5</td>\n",
              "      <td>170.5</td>\n",
              "      <td>169.0</td>\n",
              "      <td>170.5</td>\n",
              "      <td>42456000</td>\n",
              "      <td>170.5</td>\n",
              "    </tr>\n",
              "    <tr>\n",
              "      <th>3</th>\n",
              "      <td>2016-07-18</td>\n",
              "      <td>168.0</td>\n",
              "      <td>170.0</td>\n",
              "      <td>168.0</td>\n",
              "      <td>169.5</td>\n",
              "      <td>24749000</td>\n",
              "      <td>169.5</td>\n",
              "    </tr>\n",
              "    <tr>\n",
              "      <th>4</th>\n",
              "      <td>2016-07-15</td>\n",
              "      <td>169.5</td>\n",
              "      <td>169.5</td>\n",
              "      <td>169.5</td>\n",
              "      <td>169.5</td>\n",
              "      <td>41000</td>\n",
              "      <td>169.5</td>\n",
              "    </tr>\n",
              "  </tbody>\n",
              "</table>\n",
              "</div>"
            ],
            "text/plain": [
              "        Date   Open   High    Low  Close    Volume  Adj Close\n",
              "0 2016-07-21  171.0  172.0  170.0  172.0  33130000      172.0\n",
              "1 2016-07-20  170.0  170.5  169.0  170.0  38053000      170.0\n",
              "2 2016-07-19  170.5  170.5  169.0  170.5  42456000      170.5\n",
              "3 2016-07-18  168.0  170.0  168.0  169.5  24749000      169.5\n",
              "4 2016-07-15  169.5  169.5  169.5  169.5     41000      169.5"
            ]
          },
          "metadata": {
            "tags": []
          },
          "execution_count": 33
        }
      ]
    },
    {
      "cell_type": "markdown",
      "metadata": {
        "id": "u_jb1oKre6cz",
        "colab_type": "text"
      },
      "source": [
        "## 網路爬蟲\n",
        "- https://zh.wikipedia.org/wiki/HTTP%E7%8A%B6%E6%80%81%E7%A0%81"
      ]
    },
    {
      "cell_type": "code",
      "metadata": {
        "id": "FLtKDQdEPW_o",
        "colab_type": "code",
        "colab": {}
      },
      "source": [
        "import requests\n",
        "res  = requests.get('https://tw.appledaily.com/pf/api/v3/content/fetch/query-feed?query=%7B%22feedOffset%22%3A0%2C%22feedQuery%22%3A%22%22%2C%22feedSize%22%3A%22100%22%2C%22sort%22%3A%22display_date%3Adesc%22%7D&d=71&_website=tw-appledaily')\n",
        "#res.json()"
      ],
      "execution_count": 0,
      "outputs": []
    },
    {
      "cell_type": "markdown",
      "metadata": {
        "id": "WSalkf5Ae838",
        "colab_type": "text"
      },
      "source": [
        "### GET"
      ]
    },
    {
      "cell_type": "code",
      "metadata": {
        "id": "t19Gm0hVX9CK",
        "colab_type": "code",
        "colab": {}
      },
      "source": [
        "import requests\n",
        "res = requests.get('https://money.udn.com/rank/newest/1001/0/1')"
      ],
      "execution_count": 0,
      "outputs": []
    },
    {
      "cell_type": "code",
      "metadata": {
        "id": "lamDJhMyfKTc",
        "colab_type": "code",
        "colab": {
          "base_uri": "https://localhost:8080/",
          "height": 34
        },
        "outputId": "6630427f-e4cd-4846-fb86-225ff8a35e19"
      },
      "source": [
        "res"
      ],
      "execution_count": 37,
      "outputs": [
        {
          "output_type": "execute_result",
          "data": {
            "text/plain": [
              "<Response [200]>"
            ]
          },
          "metadata": {
            "tags": []
          },
          "execution_count": 37
        }
      ]
    },
    {
      "cell_type": "code",
      "metadata": {
        "id": "-qSvOP48fOBi",
        "colab_type": "code",
        "colab": {}
      },
      "source": [
        "#res.text"
      ],
      "execution_count": 0,
      "outputs": []
    },
    {
      "cell_type": "markdown",
      "metadata": {
        "id": "X3Z_I6NBgBhj",
        "colab_type": "text"
      },
      "source": [
        "### POST\n",
        "- https://www.thsrc.com.tw/tw/timetable/searchresult"
      ]
    },
    {
      "cell_type": "code",
      "metadata": {
        "id": "0-DKSnBdfkKG",
        "colab_type": "code",
        "colab": {}
      },
      "source": [
        "import requests\n",
        "url  =  'https://www.thsrc.com.tw/tw/TimeTable/Search'\n",
        "\n",
        "payload = {\n",
        "'StartStationName':  '台北站',\n",
        "'EndStationName':  '新竹站',\n",
        "'SearchType': 'S',\n",
        "'StartStation': '977abb69-413a-4ccf-a109-0272c24fd490',\n",
        "'EndStation': 'a7a04c89-900b-4798-95a3-c01c455622f4',\n",
        "'DepartueSearchDate': '2020/05/02',\n",
        "'DepartueSearchTime': '18:00'\n",
        "}\n",
        "res = requests.post(url, data = payload)"
      ],
      "execution_count": 0,
      "outputs": []
    },
    {
      "cell_type": "code",
      "metadata": {
        "id": "FU8ia8m9h8BR",
        "colab_type": "code",
        "colab": {
          "base_uri": "https://localhost:8080/",
          "height": 34
        },
        "outputId": "da3ab9e0-4886-4386-f438-48a359d4f24e"
      },
      "source": [
        "res"
      ],
      "execution_count": 50,
      "outputs": [
        {
          "output_type": "execute_result",
          "data": {
            "text/plain": [
              "<Response [200]>"
            ]
          },
          "metadata": {
            "tags": []
          },
          "execution_count": 50
        }
      ]
    },
    {
      "cell_type": "code",
      "metadata": {
        "id": "MsKEQ1TPh8uV",
        "colab_type": "code",
        "colab": {}
      },
      "source": [
        "#res.text\n",
        "#res.json()"
      ],
      "execution_count": 0,
      "outputs": []
    },
    {
      "cell_type": "markdown",
      "metadata": {
        "id": "koIhyTAVjNtK",
        "colab_type": "text"
      },
      "source": [
        "## 小任務\n",
        "- 抓取商品價格\n",
        "- https://24h.pchome.com.tw/cdn/prod/DGBJGP-1900AMVI3-000?fq=/S/DGBJGP"
      ]
    },
    {
      "cell_type": "code",
      "metadata": {
        "id": "3nPvlPvxiBf_",
        "colab_type": "code",
        "colab": {}
      },
      "source": [
        "import requests\n",
        "res = requests.get('https://24h.pchome.com.tw/ecapi/ecshop/prodapi/v2/prod/button&id=DGBJGP-1900AMVI3&fields=Seq,Id,Price,Qty,ButtonType,SaleStatus,isPrimeOnly,SpecialQty&_callback=jsonp_button&1588393440?_callback=jsonp_button')\n"
      ],
      "execution_count": 0,
      "outputs": []
    },
    {
      "cell_type": "code",
      "metadata": {
        "id": "k5QOxr3KoAZ5",
        "colab_type": "code",
        "colab": {
          "base_uri": "https://localhost:8080/",
          "height": 54
        },
        "outputId": "b7393fe0-a07d-44ca-a776-a9e1236261ef"
      },
      "source": [
        "res.text"
      ],
      "execution_count": 55,
      "outputs": [
        {
          "output_type": "execute_result",
          "data": {
            "text/plain": [
              "'try{jsonp_button([{\"Seq\":24688071,\"Id\":\"DGBJGP-1900AMVI3-000\",\"Price\":{\"M\":0,\"P\":17400,\"Prime\":\"\"},\"Qty\":0,\"ButtonType\":\"OrderRefill\",\"SaleStatus\":0,\"isPrimeOnly\":0,\"SpecialQty\":1}]);}catch(e){if(window.console){console.log(e);}}'"
            ]
          },
          "metadata": {
            "tags": []
          },
          "execution_count": 55
        }
      ]
    },
    {
      "cell_type": "code",
      "metadata": {
        "id": "1VxrEcZWqJtQ",
        "colab_type": "code",
        "colab": {
          "base_uri": "https://localhost:8080/",
          "height": 54
        },
        "outputId": "fcd1517a-b4e4-4934-8345-29af3bc568e3"
      },
      "source": [
        "import requests\n",
        "import json \n",
        "res = requests.get('https://24h.pchome.com.tw/ecapi/ecshop/prodapi/v2/prod/DGBJGP-1900AMVI3-000&store=DGBJGP&fields=Seq,Id,Name,Nick,Store,PreOrdDate,SpeOrdDate,Price,Discount,Pic,Weight,ISBN,Qty,Bonus,isBig,isSpec,isCombine,isDiy,isRecyclable,isCarrier,isMedical,isBigCart,isSnapUp,isDescAndIntroSync,isFoodContents,isHuge,isEnergySubsidy,isPrimeOnly,isPreOrder24h,isWarranty,isLegalStore,isFresh,isBidding,isSet,Volume,isArrival24h,isETicket&_callback=jsonp_prod&1588393980?_callback=jsonp_prod')\n",
        "res.text"
      ],
      "execution_count": 60,
      "outputs": [
        {
          "output_type": "execute_result",
          "data": {
            "text/plain": [
              "'try{jsonp_prod({\"DGBJGP-1900AMVI3-000\":{\"Seq\":24688071,\"Id\":\"DGBJGP-1900AMVI3-000\",\"Name\":\"\\\\u4efb\\\\u5929\\\\u5802 Switch \\\\u52d5\\\\u7269\\\\u68ee\\\\u53cb\\\\u6703\\\\u7279\\\\u4ed5\\\\u6a5f + Labo \\\\u5bb6\\\\u5ead\\\\u7d44\\\\u5408(\\\\u8f15\\\\u91cf) + \\\\u7cbe\\\\u9078\\\\u96d9\\\\u904a\\\\u6232\",\"Nick\":\"<font color=RED><b>5\\\\/1 09:00\\\\ufe31<font color=BLUE><b>\\\\u73fe\\\\u8ca8\\\\u958b\\\\u6436<\\\\/font><\\\\/b><\\\\/font><\\\\/b><br>\\\\u4efb\\\\u5929\\\\u5802 Switch \\\\u52d5\\\\u7269\\\\u68ee\\\\u53cb\\\\u6703\\\\u7279\\\\u4ed5\\\\u6a5f + Labo \\\\u5bb6\\\\u5ead\\\\u7d44\\\\u5408(\\\\u8f15\\\\u91cf) + \\\\u7cbe\\\\u9078\\\\u96d9\\\\u904a\\\\u6232\",\"Store\":\"DGBJGP\",\"PreOrdDate\":\"\",\"SpeOrdDate\":\"\",\"Price\":{\"M\":0,\"P\":17400,\"Prime\":\"\"},\"Discount\":0,\"Pic\":{\"B\":\"\\\\/items\\\\/DGBJGP1900AMVI3\\\\/000001_1588153542.jpg\",\"S\":\"\\\\/items\\\\/DGBJGP1900AMVI3\\\\/000002_1588153542.jpg\"},\"Weight\":0,\"ISBN\":\"\",\"Qty\":0,\"Bonus\":0,\"isBig\":0,\"isSpec\":0,\"isCombine\":1,\"isDiy\":0,\"isRecyclable\":0,\"isCarrier\":0,\"isMedical\":0,\"isBigCart\":1,\"isSnapUp\":0,\"isDescAndIntroSync\":0,\"isFoodContents\":0,\"isHuge\":0,\"isEnergySubsidy\":0,\"isPrimeOnly\":0,\"isPreOrder24h\":0,\"isWarranty\":0,\"isLegalStore\":1,\"isFresh\":0,\"isBidding\":0,\"isSet\":0,\"Volume\":{\"Length\":0,\"Width\":0,\"Height\":0},\"isArrival24h\":1,\"isETicket\":0}});}catch(e){if(window.console){console.log(e);}}'"
            ]
          },
          "metadata": {
            "tags": []
          },
          "execution_count": 60
        }
      ]
    },
    {
      "cell_type": "code",
      "metadata": {
        "id": "LfhASzOi8ln1",
        "colab_type": "code",
        "colab": {
          "base_uri": "https://localhost:8080/",
          "height": 34
        },
        "outputId": "18bd867c-0af7-45d9-dbfd-8411d4ab164b"
      },
      "source": [
        "type(res)"
      ],
      "execution_count": 67,
      "outputs": [
        {
          "output_type": "execute_result",
          "data": {
            "text/plain": [
              "requests.models.Response"
            ]
          },
          "metadata": {
            "tags": []
          },
          "execution_count": 67
        }
      ]
    },
    {
      "cell_type": "code",
      "metadata": {
        "id": "r1Qf429dq_Kg",
        "colab_type": "code",
        "colab": {
          "base_uri": "https://localhost:8080/",
          "height": 675
        },
        "outputId": "c0161604-50f2-4f33-cf0b-5a996ca729de"
      },
      "source": [
        "d = res.text.replace('try{jsonp_prod(', '').replace(');}catch(e){if(window.console){console.log(e);}}','')\n",
        "json.loads(d)"
      ],
      "execution_count": 61,
      "outputs": [
        {
          "output_type": "execute_result",
          "data": {
            "text/plain": [
              "{'DGBJGP-1900AMVI3-000': {'Bonus': 0,\n",
              "  'Discount': 0,\n",
              "  'ISBN': '',\n",
              "  'Id': 'DGBJGP-1900AMVI3-000',\n",
              "  'Name': '任天堂 Switch 動物森友會特仕機 + Labo 家庭組合(輕量) + 精選雙遊戲',\n",
              "  'Nick': '<font color=RED><b>5/1 09:00︱<font color=BLUE><b>現貨開搶</font></b></font></b><br>任天堂 Switch 動物森友會特仕機 + Labo 家庭組合(輕量) + 精選雙遊戲',\n",
              "  'Pic': {'B': '/items/DGBJGP1900AMVI3/000001_1588153542.jpg',\n",
              "   'S': '/items/DGBJGP1900AMVI3/000002_1588153542.jpg'},\n",
              "  'PreOrdDate': '',\n",
              "  'Price': {'M': 0, 'P': 17400, 'Prime': ''},\n",
              "  'Qty': 0,\n",
              "  'Seq': 24688071,\n",
              "  'SpeOrdDate': '',\n",
              "  'Store': 'DGBJGP',\n",
              "  'Volume': {'Height': 0, 'Length': 0, 'Width': 0},\n",
              "  'Weight': 0,\n",
              "  'isArrival24h': 1,\n",
              "  'isBidding': 0,\n",
              "  'isBig': 0,\n",
              "  'isBigCart': 1,\n",
              "  'isCarrier': 0,\n",
              "  'isCombine': 1,\n",
              "  'isDescAndIntroSync': 0,\n",
              "  'isDiy': 0,\n",
              "  'isETicket': 0,\n",
              "  'isEnergySubsidy': 0,\n",
              "  'isFoodContents': 0,\n",
              "  'isFresh': 0,\n",
              "  'isHuge': 0,\n",
              "  'isLegalStore': 1,\n",
              "  'isMedical': 0,\n",
              "  'isPreOrder24h': 0,\n",
              "  'isPrimeOnly': 0,\n",
              "  'isRecyclable': 0,\n",
              "  'isSet': 0,\n",
              "  'isSnapUp': 0,\n",
              "  'isSpec': 0,\n",
              "  'isWarranty': 0}}"
            ]
          },
          "metadata": {
            "tags": []
          },
          "execution_count": 61
        }
      ]
    },
    {
      "cell_type": "markdown",
      "metadata": {
        "id": "mWM-rgSSpKLy",
        "colab_type": "text"
      },
      "source": [
        "## 小任務\n",
        "- 請找出蘋果日報的內文連結\n",
        "- https://tw.appledaily.com/international/20200502/TGP222GOTOOB3MNVMOWKPJD3AY/"
      ]
    },
    {
      "cell_type": "markdown",
      "metadata": {
        "id": "QPyR4Lmi78qZ",
        "colab_type": "text"
      },
      "source": [
        "### BeautifulSoup"
      ]
    },
    {
      "cell_type": "code",
      "metadata": {
        "id": "apPGRwHMoCOu",
        "colab_type": "code",
        "colab": {}
      },
      "source": [
        "html_sample= '''\n",
        "<html>\n",
        "<body>\n",
        "<h1 id=\"title\">Hello World</h1>\n",
        "<a href=\"#\" class=\"link\">This is link1</a>\n",
        "<a href=\"# link2\" class=\"link\">This is link2</a>\n",
        "</body>\n",
        "</html>'''"
      ],
      "execution_count": 0,
      "outputs": []
    },
    {
      "cell_type": "code",
      "metadata": {
        "id": "dfVGAic88KQG",
        "colab_type": "code",
        "colab": {}
      },
      "source": [
        "from bs4 import BeautifulSoup\n",
        "soup = BeautifulSoup(html_sample, 'lxml')"
      ],
      "execution_count": 0,
      "outputs": []
    },
    {
      "cell_type": "code",
      "metadata": {
        "id": "rcO2o8vy8Wcd",
        "colab_type": "code",
        "colab": {
          "base_uri": "https://localhost:8080/",
          "height": 134
        },
        "outputId": "77d9bad8-28ba-4d3e-ee68-c95b095327e0"
      },
      "source": [
        "print(soup.text)"
      ],
      "execution_count": 66,
      "outputs": [
        {
          "output_type": "stream",
          "text": [
            "\n",
            "\n",
            "Hello World\n",
            "This is link1\n",
            "This is link2\n",
            "\n",
            "\n"
          ],
          "name": "stdout"
        }
      ]
    },
    {
      "cell_type": "code",
      "metadata": {
        "id": "320UGdbY8X0O",
        "colab_type": "code",
        "colab": {
          "base_uri": "https://localhost:8080/",
          "height": 34
        },
        "outputId": "c4162801-096e-44c5-858f-77d03516c439"
      },
      "source": [
        "type(soup)"
      ],
      "execution_count": 68,
      "outputs": [
        {
          "output_type": "execute_result",
          "data": {
            "text/plain": [
              "bs4.BeautifulSoup"
            ]
          },
          "metadata": {
            "tags": []
          },
          "execution_count": 68
        }
      ]
    },
    {
      "cell_type": "code",
      "metadata": {
        "id": "wdUo2Hfj8uKy",
        "colab_type": "code",
        "colab": {
          "base_uri": "https://localhost:8080/",
          "height": 34
        },
        "outputId": "1a5d0a8d-54ea-40d6-f4f1-820f0b5abc62"
      },
      "source": [
        "h1 = soup.select_one('h1')\n",
        "h1"
      ],
      "execution_count": 70,
      "outputs": [
        {
          "output_type": "execute_result",
          "data": {
            "text/plain": [
              "<h1 id=\"title\">Hello World</h1>"
            ]
          },
          "metadata": {
            "tags": []
          },
          "execution_count": 70
        }
      ]
    },
    {
      "cell_type": "code",
      "metadata": {
        "id": "8QKkuTnS9AFl",
        "colab_type": "code",
        "colab": {
          "base_uri": "https://localhost:8080/",
          "height": 34
        },
        "outputId": "69b5cc5d-b05d-432d-fc8e-b9845051da20"
      },
      "source": [
        "type(h1)"
      ],
      "execution_count": 71,
      "outputs": [
        {
          "output_type": "execute_result",
          "data": {
            "text/plain": [
              "bs4.element.Tag"
            ]
          },
          "metadata": {
            "tags": []
          },
          "execution_count": 71
        }
      ]
    },
    {
      "cell_type": "code",
      "metadata": {
        "id": "Il8yH66E9D9o",
        "colab_type": "code",
        "colab": {
          "base_uri": "https://localhost:8080/",
          "height": 34
        },
        "outputId": "66808a8d-ff31-4fbf-e35f-6abc66de9ab0"
      },
      "source": [
        "h1.text"
      ],
      "execution_count": 72,
      "outputs": [
        {
          "output_type": "execute_result",
          "data": {
            "text/plain": [
              "'Hello World'"
            ]
          },
          "metadata": {
            "tags": []
          },
          "execution_count": 72
        }
      ]
    },
    {
      "cell_type": "code",
      "metadata": {
        "id": "xPh7Aldz9Hn3",
        "colab_type": "code",
        "colab": {
          "base_uri": "https://localhost:8080/",
          "height": 34
        },
        "outputId": "55e6321d-7dfc-4491-fdbd-f7523a9dab68"
      },
      "source": [
        "h1s = soup.select('h1')\n",
        "h1s"
      ],
      "execution_count": 75,
      "outputs": [
        {
          "output_type": "execute_result",
          "data": {
            "text/plain": [
              "[<h1 id=\"title\">Hello World</h1>]"
            ]
          },
          "metadata": {
            "tags": []
          },
          "execution_count": 75
        }
      ]
    },
    {
      "cell_type": "code",
      "metadata": {
        "id": "Qp0bzGfM9L5f",
        "colab_type": "code",
        "colab": {
          "base_uri": "https://localhost:8080/",
          "height": 34
        },
        "outputId": "5bc0261f-bf6f-4ff8-e0af-b308a300181a"
      },
      "source": [
        "type(h1s)"
      ],
      "execution_count": 76,
      "outputs": [
        {
          "output_type": "execute_result",
          "data": {
            "text/plain": [
              "list"
            ]
          },
          "metadata": {
            "tags": []
          },
          "execution_count": 76
        }
      ]
    },
    {
      "cell_type": "code",
      "metadata": {
        "id": "m3_vFudX9T8N",
        "colab_type": "code",
        "colab": {
          "base_uri": "https://localhost:8080/",
          "height": 34
        },
        "outputId": "ebd6ec5b-9f69-4d63-8f80-21361863756e"
      },
      "source": [
        "soup.select_one('a')"
      ],
      "execution_count": 77,
      "outputs": [
        {
          "output_type": "execute_result",
          "data": {
            "text/plain": [
              "<a class=\"link\" href=\"#\">This is link1</a>"
            ]
          },
          "metadata": {
            "tags": []
          },
          "execution_count": 77
        }
      ]
    },
    {
      "cell_type": "code",
      "metadata": {
        "id": "bgkwDf7e9hxD",
        "colab_type": "code",
        "colab": {
          "base_uri": "https://localhost:8080/",
          "height": 50
        },
        "outputId": "5de8dfb4-5876-4470-9066-f8ed5cbf7f19"
      },
      "source": [
        "for link in soup.select('a'):\n",
        "  print(link.text)"
      ],
      "execution_count": 79,
      "outputs": [
        {
          "output_type": "stream",
          "text": [
            "This is link1\n",
            "This is link2\n"
          ],
          "name": "stdout"
        }
      ]
    },
    {
      "cell_type": "code",
      "metadata": {
        "id": "WFbqGAjP9kOG",
        "colab_type": "code",
        "colab": {
          "base_uri": "https://localhost:8080/",
          "height": 34
        },
        "outputId": "1ccab4e1-08e6-4eb6-bb08-2e6e2d224958"
      },
      "source": [
        "# id => #\n",
        "soup.select_one('#title')"
      ],
      "execution_count": 80,
      "outputs": [
        {
          "output_type": "execute_result",
          "data": {
            "text/plain": [
              "<h1 id=\"title\">Hello World</h1>"
            ]
          },
          "metadata": {
            "tags": []
          },
          "execution_count": 80
        }
      ]
    },
    {
      "cell_type": "code",
      "metadata": {
        "id": "XIB4sZu--cUF",
        "colab_type": "code",
        "colab": {
          "base_uri": "https://localhost:8080/",
          "height": 34
        },
        "outputId": "b3f76c8d-eefc-4e66-f764-0976e792dd48"
      },
      "source": [
        "soup.select_one('h1#title')"
      ],
      "execution_count": 81,
      "outputs": [
        {
          "output_type": "execute_result",
          "data": {
            "text/plain": [
              "<h1 id=\"title\">Hello World</h1>"
            ]
          },
          "metadata": {
            "tags": []
          },
          "execution_count": 81
        }
      ]
    },
    {
      "cell_type": "code",
      "metadata": {
        "id": "2Guj-QM3-jhA",
        "colab_type": "code",
        "colab": {
          "base_uri": "https://localhost:8080/",
          "height": 34
        },
        "outputId": "1f433258-c042-4066-a194-c4054f100b31"
      },
      "source": [
        "soup.select_one('body h1#title')"
      ],
      "execution_count": 82,
      "outputs": [
        {
          "output_type": "execute_result",
          "data": {
            "text/plain": [
              "<h1 id=\"title\">Hello World</h1>"
            ]
          },
          "metadata": {
            "tags": []
          },
          "execution_count": 82
        }
      ]
    },
    {
      "cell_type": "code",
      "metadata": {
        "id": "iL_S7N-D-phC",
        "colab_type": "code",
        "colab": {
          "base_uri": "https://localhost:8080/",
          "height": 34
        },
        "outputId": "4de85b71-9482-4ff0-8708-673804582021"
      },
      "source": [
        "soup.select_one('body #title')"
      ],
      "execution_count": 83,
      "outputs": [
        {
          "output_type": "execute_result",
          "data": {
            "text/plain": [
              "<h1 id=\"title\">Hello World</h1>"
            ]
          },
          "metadata": {
            "tags": []
          },
          "execution_count": 83
        }
      ]
    },
    {
      "cell_type": "code",
      "metadata": {
        "id": "b2POu7Ce-s0U",
        "colab_type": "code",
        "colab": {
          "base_uri": "https://localhost:8080/",
          "height": 50
        },
        "outputId": "c1812909-645a-4452-86e0-515b01e3455e"
      },
      "source": [
        "# class => .\n",
        "soup.select('.link')"
      ],
      "execution_count": 84,
      "outputs": [
        {
          "output_type": "execute_result",
          "data": {
            "text/plain": [
              "[<a class=\"link\" href=\"#\">This is link1</a>,\n",
              " <a class=\"link\" href=\"# link2\">This is link2</a>]"
            ]
          },
          "metadata": {
            "tags": []
          },
          "execution_count": 84
        }
      ]
    },
    {
      "cell_type": "code",
      "metadata": {
        "id": "nceSVfeu-yO5",
        "colab_type": "code",
        "colab": {
          "base_uri": "https://localhost:8080/",
          "height": 50
        },
        "outputId": "9452c41b-424b-4d28-865e-abb9faa998ae"
      },
      "source": [
        "soup.select('a.link')"
      ],
      "execution_count": 85,
      "outputs": [
        {
          "output_type": "execute_result",
          "data": {
            "text/plain": [
              "[<a class=\"link\" href=\"#\">This is link1</a>,\n",
              " <a class=\"link\" href=\"# link2\">This is link2</a>]"
            ]
          },
          "metadata": {
            "tags": []
          },
          "execution_count": 85
        }
      ]
    },
    {
      "cell_type": "code",
      "metadata": {
        "id": "d6c0EM9r-2tS",
        "colab_type": "code",
        "colab": {
          "base_uri": "https://localhost:8080/",
          "height": 50
        },
        "outputId": "23502e99-256d-452e-cf11-dfe7e23992b7"
      },
      "source": [
        "soup.select('body a.link')"
      ],
      "execution_count": 86,
      "outputs": [
        {
          "output_type": "execute_result",
          "data": {
            "text/plain": [
              "[<a class=\"link\" href=\"#\">This is link1</a>,\n",
              " <a class=\"link\" href=\"# link2\">This is link2</a>]"
            ]
          },
          "metadata": {
            "tags": []
          },
          "execution_count": 86
        }
      ]
    },
    {
      "cell_type": "code",
      "metadata": {
        "id": "pj08KeCF-6W_",
        "colab_type": "code",
        "colab": {
          "base_uri": "https://localhost:8080/",
          "height": 50
        },
        "outputId": "e82eb99a-5ddd-470f-b82c-01788c64f463"
      },
      "source": [
        "for link in soup.select('a'):\n",
        "  print(link.get('href'))"
      ],
      "execution_count": 87,
      "outputs": [
        {
          "output_type": "stream",
          "text": [
            "#\n",
            "# link2\n"
          ],
          "name": "stdout"
        }
      ]
    },
    {
      "cell_type": "code",
      "metadata": {
        "id": "lk1bo6Ct_WBY",
        "colab_type": "code",
        "colab": {}
      },
      "source": [
        "import requests\n",
        "res = requests.get('https://zh.wikipedia.org/zh-tw/2019%E5%86%A0%E7%8A%B6%E7%97%85%E6%AF%92%E7%97%85')"
      ],
      "execution_count": 0,
      "outputs": []
    },
    {
      "cell_type": "code",
      "metadata": {
        "id": "KtPcR6wn_p5q",
        "colab_type": "code",
        "colab": {}
      },
      "source": [
        "from bs4 import BeautifulSoup\n",
        "soup = BeautifulSoup(res.text, 'lxml')"
      ],
      "execution_count": 0,
      "outputs": []
    },
    {
      "cell_type": "code",
      "metadata": {
        "id": "2hcwcG4F_w78",
        "colab_type": "code",
        "colab": {
          "base_uri": "https://localhost:8080/",
          "height": 34
        },
        "outputId": "e5b0a7bc-7cbf-4d35-f39f-0fb20cd6f5d3"
      },
      "source": [
        "soup.select_one('h1#firstHeading').text"
      ],
      "execution_count": 98,
      "outputs": [
        {
          "output_type": "execute_result",
          "data": {
            "text/plain": [
              "'嚴重特殊傳染性肺炎'"
            ]
          },
          "metadata": {
            "tags": []
          },
          "execution_count": 98
        }
      ]
    },
    {
      "cell_type": "markdown",
      "metadata": {
        "id": "-5jPyKchB68b",
        "colab_type": "text"
      },
      "source": [
        "## 經濟日報爬蟲"
      ]
    },
    {
      "cell_type": "code",
      "metadata": {
        "id": "DFtmVz39ANHa",
        "colab_type": "code",
        "colab": {
          "base_uri": "https://localhost:8080/",
          "height": 34
        },
        "outputId": "795f91a1-7698-4e52-8b0b-698a678b7052"
      },
      "source": [
        "import requests\n",
        "res = requests.get('https://money.udn.com/money/breaknews/1001')\n",
        "res"
      ],
      "execution_count": 99,
      "outputs": [
        {
          "output_type": "execute_result",
          "data": {
            "text/plain": [
              "<Response [200]>"
            ]
          },
          "metadata": {
            "tags": []
          },
          "execution_count": 99
        }
      ]
    },
    {
      "cell_type": "code",
      "metadata": {
        "id": "Yfs3T23cB_on",
        "colab_type": "code",
        "colab": {}
      },
      "source": [
        "#res.text"
      ],
      "execution_count": 0,
      "outputs": []
    },
    {
      "cell_type": "markdown",
      "metadata": {
        "id": "FLtYTeFQCT00",
        "colab_type": "text"
      },
      "source": [
        "<table>\n",
        "  <tr> <th>col1</th> <th>col2</th> </tr>\n",
        "  <tr> <td>val1</td> <td>val2</td> </tr>\n",
        "  <tr> <td>val3</td> <td>val4</td> </tr>\n",
        "</table>"
      ]
    },
    {
      "cell_type": "code",
      "metadata": {
        "id": "6uTabQoUCC6K",
        "colab_type": "code",
        "colab": {}
      },
      "source": [
        "from bs4 import BeautifulSoup\n",
        "soup = BeautifulSoup(res.text, 'lxml')"
      ],
      "execution_count": 0,
      "outputs": []
    },
    {
      "cell_type": "code",
      "metadata": {
        "id": "0hsxUqTTDBVT",
        "colab_type": "code",
        "colab": {
          "base_uri": "https://localhost:8080/",
          "height": 1000
        },
        "outputId": "83772bb3-89e4-4a96-a77b-0fbe4fdc6a9d"
      },
      "source": [
        "for tr in soup.select('#ranking_body tr'):\n",
        "  #print(tr)\n",
        "  #print('=================================')\n",
        "  #print(tr.select('td'))\n",
        "  if tr.select('td'):\n",
        "    td = tr.select('td')\n",
        "    print(td[0].text.strip(), td[1].text.strip(), td[2].text.strip())\n"
      ],
      "execution_count": 122,
      "outputs": [
        {
          "output_type": "stream",
          "text": [
            "下周一起入境檢疫處須通報 偷與慢性病患同住罰15萬 產業 05/02 14:13\n",
            "武漢肺炎新增3例達432例  連20天無本土病例 產業 05/02 14:12\n",
            "「+0」七連霸失敗 台灣新增3例境外移入確診 產業 05/02 14:08\n",
            "美國約半數州解封 商家嘆：來客少總比沒有好 國際 05/02 14:06\n",
            "新加坡放寬阻斷措施 5日部分行業恢復營運 國際 05/02 14:00\n",
            "李進勇：罷免案應1823投開票所  中央全力協助 產業 05/02 14:00\n",
            "日本醫院通報新冠病例 竟要以手寫傳真 國際 05/02 13:52\n",
            "高雄可寧衛廠房失火 疑爐渣餘溫引燃玻璃纖維浪板 產業 05/02 13:51\n",
            "連假第2天...國道連環追撞車禍釀7傷！網驚：好可怕 產業 05/02 13:51\n",
            "殺警凶嫌判無罪 立委建議重大刑案要有2鑑定人 產業 05/02 13:45\n",
            "生產芭比娃娃的美泰兒推抗疫英雄公仔　感謝第一線人員 國際 05/02 13:40\n",
            "你領了嗎？自營業者3萬補助、2周逾100萬人申請 產業 05/02 13:36\n",
            "陳時中投書印媒：台灣應被納入世衛組織 產業 05/02 13:30\n",
            "勞動基金首季慘賠 蘇貞昌：僅受疫情一時衝擊 產業 05/02 13:28\n",
            "國民黨拚年輕數位化  開發App與黨員互動 產業 05/02 13:21\n",
            "技專統測上午秩序良好 1生使用備用試場 產業 05/02 13:12\n",
            "疫情後醫院恐不能隨意進出 醫界有意留下陪探病限額制 產業 05/02 13:10\n",
            "川普稱病毒來自武漢實驗室 世衛重申：源於自然 國際 05/02 13:06\n",
            "日本離島台籍醫生求援口罩 駐日處人員省著用捐給他 產業 05/02 13:06\n",
            "台幹搞兩岸地下匯兌23億 桃園夫妻遭判七年多 產業 05/02 13:05\n",
            "歐盟疫情報告遭中國施壓？范德賴恩否認自我審查 國際 05/02 13:05\n",
            "「嘉玲」七連霸失敗？傳又現疑似個案 14時記者會說明 產業 05/02 13:03\n",
            "宵禁下的泰國台廠直擊（二） ：不畏疫情生產照走 泰鼎靠八個原則+加倍給薪 產業 05/02 12:48\n",
            "菲律賓駐台代表：總統發言人不該挑釁台灣 國際 05/02 12:45\n",
            "防疫宅經濟發威 他月賣百台大電視 房產 05/02 12:36\n",
            "韓國連4天確診個位數 本土新增掛零 國際 05/02 12:36\n",
            "教育部補助技能競賽選手訓練費 25人受惠 產業 05/02 12:36\n",
            "宵禁下的泰國台廠直擊（一） ：泰鼎防疫超前穩軍心 自製口罩給員工 產業 05/02 12:36\n",
            "槍擊案痛定思痛  加拿大禁止軍事級攻擊武器 國際 05/02 12:30\n",
            "新冠肺炎病患提供血液助研究 生技公司卻高價轉賣 國際 05/02 12:27\n",
            "香港逐漸走出疫情陰霾 但反送中威脅未除 兩岸 05/02 12:21\n",
            "援鄂抗疫醫護被裁員引爭議 咸陽衛健委介入調查 兩岸 05/02 12:12\n",
            "巧奪天工 彰化縣又6名傳統工藝大師被認定文資瑰寶 產業 05/02 12:10\n",
            "「連睡覺也戴口罩」 防疫意外收穫 腸病毒、流感大減八成 產業 05/02 12:09\n",
            "大溪老街人潮僅連假首日一半 店家：人潮滿滿只是假像 產業 05/02 12:06\n",
            "可寧衛蘇伊士焚化廠失火冒煙  高雄環保局將依法裁罰 產業 05/02 12:06\n",
            "阿根廷防疫採視訊教學  逾六成私校老師沒自用電腦 國際 05/02 12:06\n",
            "1955專線日湧3萬通電話 勞長：可多利用網站、臉書 產業 05/02 12:05\n",
            "高雄甲仙已飆36度 氣象局對三縣市發高溫黃色燈號 產業 05/02 12:03\n",
            "罷韓團體陳情 李進勇提三原則允設足投開票所 產業 05/02 12:00\n",
            "「嘉玲」是否七連霸？ 指揮中心下午2時記者會 產業 05/02 11:59\n",
            "防疫期間移工轉出不可歸責雇主 免受2年管制 產業 05/02 11:54\n",
            "國際網紅新影片 讚台灣獨力抗疫是英雄 產業 05/02 11:54\n",
            "餐飲集團拚外送 布局疫情後回溫商機 產業 05/02 11:54\n",
            "廚浴臥都在書店如劏房 林榮基：銅鑼灣其實是台灣人開 產業 05/02 11:48\n",
            "全民發1萬 港府：6月底申請、7月發錢 兩岸 05/02 11:47\n",
            "殺警案 醫師沈正哲：個案鑑定是醫療團隊完成非1名醫師 產業 05/02 11:46\n",
            "德國郵輪一船員染疫 近3000人船上隔離 國際 05/02 11:45\n",
            "【樂為良專欄】追趕美國 回收火箭重複使用 會員專區 05/02 11:44\n",
            "不敵新冠肺炎 MLB太空人短期1A老闆享壽88歲 國際 05/02 11:38\n",
            "台跨界揚琴好手謝惠如 連續獲美國印度音樂大獎 國際 05/02 11:30\n",
            "勞動基金首季大虧 蘇貞昌：受疫情一時衝擊 產業 05/02 11:30\n",
            "國會助理高壓高工時 工會盼爭取提升勞動權益 產業 05/02 11:30\n",
            "陸新增1例確診新冠肺炎 新增無症狀感染者20例 兩岸 05/02 11:29\n",
            "千萬網紅與阿滴合作推短片談台灣防疫成果 蔡總統分享 產業 05/02 11:29\n",
            "紙袋廠靠水果套袋成台灣隱形冠軍 還加入口罩國家隊 產業 05/02 11:29\n",
            "鑑定僅供司法參考 台灣因鑑定獲無罪比率遠低於美國 產業 05/02 11:28\n",
            "科學家研究出新冠病毒檢測方法 感染後24小時就能辨識 國際 05/02 11:28\n",
            "1968App北投市場周邊亮黃燈 市場自治會：系統不準 產業 05/02 11:28\n",
            "1968App遭黃偉哲罵翻 蘇貞昌：應少罵多合作 產業 05/02 11:28\n"
          ],
          "name": "stdout"
        }
      ]
    },
    {
      "cell_type": "code",
      "metadata": {
        "id": "yoKncOiJFLAP",
        "colab_type": "code",
        "colab": {
          "base_uri": "https://localhost:8080/",
          "height": 1000
        },
        "outputId": "3cf6bdfb-62a6-467e-fb43-8a0c6f485ae0"
      },
      "source": [
        "for tr in soup.select('#ranking_body tr'):\n",
        "  if tr.select('td'):\n",
        "    td = tr.select('td')\n",
        "    title = td[0].text.strip()\n",
        "    category = td[1].text.strip()\n",
        "    dt = td[2].text.strip()\n",
        "    print(title, category, dt)\n"
      ],
      "execution_count": 123,
      "outputs": [
        {
          "output_type": "stream",
          "text": [
            "下周一起入境檢疫處須通報 偷與慢性病患同住罰15萬 產業 05/02 14:13\n",
            "武漢肺炎新增3例達432例  連20天無本土病例 產業 05/02 14:12\n",
            "「+0」七連霸失敗 台灣新增3例境外移入確診 產業 05/02 14:08\n",
            "美國約半數州解封 商家嘆：來客少總比沒有好 國際 05/02 14:06\n",
            "新加坡放寬阻斷措施 5日部分行業恢復營運 國際 05/02 14:00\n",
            "李進勇：罷免案應1823投開票所  中央全力協助 產業 05/02 14:00\n",
            "日本醫院通報新冠病例 竟要以手寫傳真 國際 05/02 13:52\n",
            "高雄可寧衛廠房失火 疑爐渣餘溫引燃玻璃纖維浪板 產業 05/02 13:51\n",
            "連假第2天...國道連環追撞車禍釀7傷！網驚：好可怕 產業 05/02 13:51\n",
            "殺警凶嫌判無罪 立委建議重大刑案要有2鑑定人 產業 05/02 13:45\n",
            "生產芭比娃娃的美泰兒推抗疫英雄公仔　感謝第一線人員 國際 05/02 13:40\n",
            "你領了嗎？自營業者3萬補助、2周逾100萬人申請 產業 05/02 13:36\n",
            "陳時中投書印媒：台灣應被納入世衛組織 產業 05/02 13:30\n",
            "勞動基金首季慘賠 蘇貞昌：僅受疫情一時衝擊 產業 05/02 13:28\n",
            "國民黨拚年輕數位化  開發App與黨員互動 產業 05/02 13:21\n",
            "技專統測上午秩序良好 1生使用備用試場 產業 05/02 13:12\n",
            "疫情後醫院恐不能隨意進出 醫界有意留下陪探病限額制 產業 05/02 13:10\n",
            "川普稱病毒來自武漢實驗室 世衛重申：源於自然 國際 05/02 13:06\n",
            "日本離島台籍醫生求援口罩 駐日處人員省著用捐給他 產業 05/02 13:06\n",
            "台幹搞兩岸地下匯兌23億 桃園夫妻遭判七年多 產業 05/02 13:05\n",
            "歐盟疫情報告遭中國施壓？范德賴恩否認自我審查 國際 05/02 13:05\n",
            "「嘉玲」七連霸失敗？傳又現疑似個案 14時記者會說明 產業 05/02 13:03\n",
            "宵禁下的泰國台廠直擊（二） ：不畏疫情生產照走 泰鼎靠八個原則+加倍給薪 產業 05/02 12:48\n",
            "菲律賓駐台代表：總統發言人不該挑釁台灣 國際 05/02 12:45\n",
            "防疫宅經濟發威 他月賣百台大電視 房產 05/02 12:36\n",
            "韓國連4天確診個位數 本土新增掛零 國際 05/02 12:36\n",
            "教育部補助技能競賽選手訓練費 25人受惠 產業 05/02 12:36\n",
            "宵禁下的泰國台廠直擊（一） ：泰鼎防疫超前穩軍心 自製口罩給員工 產業 05/02 12:36\n",
            "槍擊案痛定思痛  加拿大禁止軍事級攻擊武器 國際 05/02 12:30\n",
            "新冠肺炎病患提供血液助研究 生技公司卻高價轉賣 國際 05/02 12:27\n",
            "香港逐漸走出疫情陰霾 但反送中威脅未除 兩岸 05/02 12:21\n",
            "援鄂抗疫醫護被裁員引爭議 咸陽衛健委介入調查 兩岸 05/02 12:12\n",
            "巧奪天工 彰化縣又6名傳統工藝大師被認定文資瑰寶 產業 05/02 12:10\n",
            "「連睡覺也戴口罩」 防疫意外收穫 腸病毒、流感大減八成 產業 05/02 12:09\n",
            "大溪老街人潮僅連假首日一半 店家：人潮滿滿只是假像 產業 05/02 12:06\n",
            "可寧衛蘇伊士焚化廠失火冒煙  高雄環保局將依法裁罰 產業 05/02 12:06\n",
            "阿根廷防疫採視訊教學  逾六成私校老師沒自用電腦 國際 05/02 12:06\n",
            "1955專線日湧3萬通電話 勞長：可多利用網站、臉書 產業 05/02 12:05\n",
            "高雄甲仙已飆36度 氣象局對三縣市發高溫黃色燈號 產業 05/02 12:03\n",
            "罷韓團體陳情 李進勇提三原則允設足投開票所 產業 05/02 12:00\n",
            "「嘉玲」是否七連霸？ 指揮中心下午2時記者會 產業 05/02 11:59\n",
            "防疫期間移工轉出不可歸責雇主 免受2年管制 產業 05/02 11:54\n",
            "國際網紅新影片 讚台灣獨力抗疫是英雄 產業 05/02 11:54\n",
            "餐飲集團拚外送 布局疫情後回溫商機 產業 05/02 11:54\n",
            "廚浴臥都在書店如劏房 林榮基：銅鑼灣其實是台灣人開 產業 05/02 11:48\n",
            "全民發1萬 港府：6月底申請、7月發錢 兩岸 05/02 11:47\n",
            "殺警案 醫師沈正哲：個案鑑定是醫療團隊完成非1名醫師 產業 05/02 11:46\n",
            "德國郵輪一船員染疫 近3000人船上隔離 國際 05/02 11:45\n",
            "【樂為良專欄】追趕美國 回收火箭重複使用 會員專區 05/02 11:44\n",
            "不敵新冠肺炎 MLB太空人短期1A老闆享壽88歲 國際 05/02 11:38\n",
            "台跨界揚琴好手謝惠如 連續獲美國印度音樂大獎 國際 05/02 11:30\n",
            "勞動基金首季大虧 蘇貞昌：受疫情一時衝擊 產業 05/02 11:30\n",
            "國會助理高壓高工時 工會盼爭取提升勞動權益 產業 05/02 11:30\n",
            "陸新增1例確診新冠肺炎 新增無症狀感染者20例 兩岸 05/02 11:29\n",
            "千萬網紅與阿滴合作推短片談台灣防疫成果 蔡總統分享 產業 05/02 11:29\n",
            "紙袋廠靠水果套袋成台灣隱形冠軍 還加入口罩國家隊 產業 05/02 11:29\n",
            "鑑定僅供司法參考 台灣因鑑定獲無罪比率遠低於美國 產業 05/02 11:28\n",
            "科學家研究出新冠病毒檢測方法 感染後24小時就能辨識 國際 05/02 11:28\n",
            "1968App北投市場周邊亮黃燈 市場自治會：系統不準 產業 05/02 11:28\n",
            "1968App遭黃偉哲罵翻 蘇貞昌：應少罵多合作 產業 05/02 11:28\n"
          ],
          "name": "stdout"
        }
      ]
    },
    {
      "cell_type": "markdown",
      "metadata": {
        "id": "uFaE24QLFq1X",
        "colab_type": "text"
      },
      "source": [
        "## 小任務\n",
        "- 請協助我抽取連結出來?"
      ]
    },
    {
      "cell_type": "code",
      "metadata": {
        "id": "t1b-9hQwEHqA",
        "colab_type": "code",
        "colab": {
          "base_uri": "https://localhost:8080/",
          "height": 34
        },
        "outputId": "e733decb-bdb2-4b09-e899-bd1732136c4e"
      },
      "source": [
        "#if True:\n",
        "#if '1':\n",
        "#if [1]:\n",
        "if {'a':1}:\n",
        "  print('this is true')"
      ],
      "execution_count": 117,
      "outputs": [
        {
          "output_type": "stream",
          "text": [
            "this is true\n"
          ],
          "name": "stdout"
        }
      ]
    },
    {
      "cell_type": "code",
      "metadata": {
        "id": "zILaoE6NDDCO",
        "colab_type": "code",
        "colab": {}
      },
      "source": [
        "#if False:\n",
        "#if None:\n",
        "#if []:\n",
        "if {}:\n",
        "  print('this is True')"
      ],
      "execution_count": 0,
      "outputs": []
    },
    {
      "cell_type": "code",
      "metadata": {
        "id": "Uw-6yKAcEMeC",
        "colab_type": "code",
        "colab": {}
      },
      "source": [
        ""
      ],
      "execution_count": 0,
      "outputs": []
    }
  ]
}