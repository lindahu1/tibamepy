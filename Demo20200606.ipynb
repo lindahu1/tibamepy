{
  "nbformat": 4,
  "nbformat_minor": 0,
  "metadata": {
    "colab": {
      "name": "Demo20200606.ipynb",
      "provenance": [],
      "collapsed_sections": []
    },
    "kernelspec": {
      "name": "python3",
      "display_name": "Python 3"
    }
  },
  "cells": [
    {
      "cell_type": "markdown",
      "metadata": {
        "id": "iCCOnSstSZOA",
        "colab_type": "text"
      },
      "source": [
        "## 作業\n",
        "當銀行收到貸款申請時，必須根據客戶的個人檔案決定是否應該要核准貸款\n",
        "\n",
        "如果客戶信用良好，批准貸款 如果客戶信用較差，不批准貸款 透過分析目的，可將低銀行風險、提升潛在獲利\n",
        "\n",
        "現有一資料集 Creditability (https://raw.githubusercontent.com/ywchiu/tibamepy/master/data/Creditability.csv)\n",
        "\n",
        "包含客戶特徵\n",
        "\n",
        "- Account Balance(帳戶餘額): 沒有帳號(1), 沒有餘額 (2), 部分存款 (3)\n",
        "- Payment Status(付款狀況): 有問題 (1), 付清 (2), 於該銀行沒有問題(3)\n",
        "- Savings/Stock Value (存款): 沒有, 少於 100, 100 ~ 1,000, 高於1,000\n",
        "- Employment Length(工作長短): 少於 1 年, 1 ~ 4年, 4 ~ 7年, 高於 7 年\n",
        "- Sex/Marital Status(性別與婚姻): 男生/女生, 單身/離婚/已婚/鰥夫\n",
        "- No of Credits at this bank(貸款數): 1, >1\n",
        "- Guarantor(保人): None, Yes\n",
        "- Concurrent Credits(其他貸款數): 其他銀行或百貨, None\n",
        "- ForeignWorker (外國工作者)\n",
        "- Purpose of Credit(貸款目的): New car, Used car, Home Related, Other\n",
        "預測目標\n",
        "\n",
        "- Creditability (可信客戶): 1/0\n",
        "\n",
        "\n",
        "請用Python 回答以下問題：\n",
        "\n",
        "- 使用Pandas 將資料讀取到一名為 df 的 DataFrame 中\n",
        "- 請將資料分為訓練與測試資料集,其中訓練資料集占80%, 測試資料集占20%\n",
        "- 請使用邏輯式迴歸建立模型 (目標 y 為 Creditability)\n",
        "- 請使用隨機森林建立模型 (目標 y 為 Creditability)\n",
        "- 請計算出模型準確度(Accuracy)?\n",
        "- 請求出混淆矩陣(Confusion Matrix)?\n",
        "- 請繪製隨機森林模型與的邏輯式迴歸 ROC Curve, 並比較兩者的 AUC?"
      ]
    },
    {
      "cell_type": "code",
      "metadata": {
        "id": "mzRUFYn5SRuO",
        "colab_type": "code",
        "colab": {}
      },
      "source": [
        "import pandas\n",
        "df = pandas.read_csv('https://raw.githubusercontent.com/ywchiu/tibamepy/master/data/Creditability.csv', index_col = 0)"
      ],
      "execution_count": 0,
      "outputs": []
    },
    {
      "cell_type": "code",
      "metadata": {
        "id": "VSTzdLRdSZrQ",
        "colab_type": "code",
        "colab": {
          "base_uri": "https://localhost:8080/",
          "height": 222
        },
        "outputId": "4677bddf-c83a-4ae6-bd8d-32b3b5be299b"
      },
      "source": [
        "df.head()"
      ],
      "execution_count": 4,
      "outputs": [
        {
          "output_type": "execute_result",
          "data": {
            "text/html": [
              "<div>\n",
              "<style scoped>\n",
              "    .dataframe tbody tr th:only-of-type {\n",
              "        vertical-align: middle;\n",
              "    }\n",
              "\n",
              "    .dataframe tbody tr th {\n",
              "        vertical-align: top;\n",
              "    }\n",
              "\n",
              "    .dataframe thead th {\n",
              "        text-align: right;\n",
              "    }\n",
              "</style>\n",
              "<table border=\"1\" class=\"dataframe\">\n",
              "  <thead>\n",
              "    <tr style=\"text-align: right;\">\n",
              "      <th></th>\n",
              "      <th>Creditability</th>\n",
              "      <th>Account.Balance</th>\n",
              "      <th>Duration.of.Credit..month.</th>\n",
              "      <th>Payment.Status.of.Previous.Credit</th>\n",
              "      <th>Purpose</th>\n",
              "      <th>Credit.Amount</th>\n",
              "      <th>Value.Savings.Stocks</th>\n",
              "      <th>Length.of.current.employment</th>\n",
              "      <th>Instalment.per.cent</th>\n",
              "      <th>Sex...Marital.Status</th>\n",
              "      <th>Guarantors</th>\n",
              "      <th>Duration.in.Current.address</th>\n",
              "      <th>Most.valuable.available.asset</th>\n",
              "      <th>Age..years.</th>\n",
              "      <th>Concurrent.Credits</th>\n",
              "      <th>Type.of.apartment</th>\n",
              "      <th>No.of.Credits.at.this.Bank</th>\n",
              "      <th>Occupation</th>\n",
              "      <th>No.of.dependents</th>\n",
              "      <th>Telephone</th>\n",
              "      <th>Foreign.Worker</th>\n",
              "    </tr>\n",
              "  </thead>\n",
              "  <tbody>\n",
              "    <tr>\n",
              "      <th>497</th>\n",
              "      <td>1</td>\n",
              "      <td>3</td>\n",
              "      <td>6</td>\n",
              "      <td>2</td>\n",
              "      <td>3</td>\n",
              "      <td>2108</td>\n",
              "      <td>1</td>\n",
              "      <td>3</td>\n",
              "      <td>2</td>\n",
              "      <td>3</td>\n",
              "      <td>1</td>\n",
              "      <td>2</td>\n",
              "      <td>1</td>\n",
              "      <td>29</td>\n",
              "      <td>2</td>\n",
              "      <td>1</td>\n",
              "      <td>1</td>\n",
              "      <td>1</td>\n",
              "      <td>1</td>\n",
              "      <td>1</td>\n",
              "      <td>1</td>\n",
              "    </tr>\n",
              "    <tr>\n",
              "      <th>756</th>\n",
              "      <td>0</td>\n",
              "      <td>1</td>\n",
              "      <td>15</td>\n",
              "      <td>1</td>\n",
              "      <td>4</td>\n",
              "      <td>950</td>\n",
              "      <td>1</td>\n",
              "      <td>4</td>\n",
              "      <td>4</td>\n",
              "      <td>2</td>\n",
              "      <td>1</td>\n",
              "      <td>3</td>\n",
              "      <td>3</td>\n",
              "      <td>33</td>\n",
              "      <td>2</td>\n",
              "      <td>1</td>\n",
              "      <td>2</td>\n",
              "      <td>1</td>\n",
              "      <td>2</td>\n",
              "      <td>1</td>\n",
              "      <td>1</td>\n",
              "    </tr>\n",
              "    <tr>\n",
              "      <th>580</th>\n",
              "      <td>0</td>\n",
              "      <td>1</td>\n",
              "      <td>42</td>\n",
              "      <td>2</td>\n",
              "      <td>3</td>\n",
              "      <td>7174</td>\n",
              "      <td>4</td>\n",
              "      <td>3</td>\n",
              "      <td>4</td>\n",
              "      <td>1</td>\n",
              "      <td>1</td>\n",
              "      <td>3</td>\n",
              "      <td>3</td>\n",
              "      <td>30</td>\n",
              "      <td>2</td>\n",
              "      <td>2</td>\n",
              "      <td>1</td>\n",
              "      <td>1</td>\n",
              "      <td>1</td>\n",
              "      <td>2</td>\n",
              "      <td>1</td>\n",
              "    </tr>\n",
              "    <tr>\n",
              "      <th>833</th>\n",
              "      <td>0</td>\n",
              "      <td>3</td>\n",
              "      <td>36</td>\n",
              "      <td>3</td>\n",
              "      <td>4</td>\n",
              "      <td>7980</td>\n",
              "      <td>4</td>\n",
              "      <td>1</td>\n",
              "      <td>4</td>\n",
              "      <td>2</td>\n",
              "      <td>1</td>\n",
              "      <td>4</td>\n",
              "      <td>3</td>\n",
              "      <td>27</td>\n",
              "      <td>2</td>\n",
              "      <td>1</td>\n",
              "      <td>2</td>\n",
              "      <td>1</td>\n",
              "      <td>1</td>\n",
              "      <td>2</td>\n",
              "      <td>1</td>\n",
              "    </tr>\n",
              "    <tr>\n",
              "      <th>602</th>\n",
              "      <td>1</td>\n",
              "      <td>3</td>\n",
              "      <td>24</td>\n",
              "      <td>3</td>\n",
              "      <td>2</td>\n",
              "      <td>2028</td>\n",
              "      <td>1</td>\n",
              "      <td>3</td>\n",
              "      <td>2</td>\n",
              "      <td>2</td>\n",
              "      <td>1</td>\n",
              "      <td>2</td>\n",
              "      <td>2</td>\n",
              "      <td>30</td>\n",
              "      <td>2</td>\n",
              "      <td>2</td>\n",
              "      <td>2</td>\n",
              "      <td>1</td>\n",
              "      <td>1</td>\n",
              "      <td>1</td>\n",
              "      <td>1</td>\n",
              "    </tr>\n",
              "  </tbody>\n",
              "</table>\n",
              "</div>"
            ],
            "text/plain": [
              "     Creditability  Account.Balance  ...  Telephone  Foreign.Worker\n",
              "497              1                3  ...          1               1\n",
              "756              0                1  ...          1               1\n",
              "580              0                1  ...          2               1\n",
              "833              0                3  ...          2               1\n",
              "602              1                3  ...          1               1\n",
              "\n",
              "[5 rows x 21 columns]"
            ]
          },
          "metadata": {
            "tags": []
          },
          "execution_count": 4
        }
      ]
    },
    {
      "cell_type": "code",
      "metadata": {
        "id": "a9kmnKIAS00T",
        "colab_type": "code",
        "colab": {
          "base_uri": "https://localhost:8080/",
          "height": 399
        },
        "outputId": "99e5deb9-1abd-41f2-cd20-3a53ad8a9b3d"
      },
      "source": [
        "df.isna().sum()"
      ],
      "execution_count": 5,
      "outputs": [
        {
          "output_type": "execute_result",
          "data": {
            "text/plain": [
              "Creditability                        0\n",
              "Account.Balance                      0\n",
              "Duration.of.Credit..month.           0\n",
              "Payment.Status.of.Previous.Credit    0\n",
              "Purpose                              0\n",
              "Credit.Amount                        0\n",
              "Value.Savings.Stocks                 0\n",
              "Length.of.current.employment         0\n",
              "Instalment.per.cent                  0\n",
              "Sex...Marital.Status                 0\n",
              "Guarantors                           0\n",
              "Duration.in.Current.address          0\n",
              "Most.valuable.available.asset        0\n",
              "Age..years.                          0\n",
              "Concurrent.Credits                   0\n",
              "Type.of.apartment                    0\n",
              "No.of.Credits.at.this.Bank           0\n",
              "Occupation                           0\n",
              "No.of.dependents                     0\n",
              "Telephone                            0\n",
              "Foreign.Worker                       0\n",
              "dtype: int64"
            ]
          },
          "metadata": {
            "tags": []
          },
          "execution_count": 5
        }
      ]
    },
    {
      "cell_type": "code",
      "metadata": {
        "id": "yHxM8pMhS3sb",
        "colab_type": "code",
        "colab": {
          "base_uri": "https://localhost:8080/",
          "height": 503
        },
        "outputId": "03ad8b14-205f-4201-db5b-c4f485034d67"
      },
      "source": [
        "df.info()"
      ],
      "execution_count": 6,
      "outputs": [
        {
          "output_type": "stream",
          "text": [
            "<class 'pandas.core.frame.DataFrame'>\n",
            "Int64Index: 500 entries, 497 to 385\n",
            "Data columns (total 21 columns):\n",
            " #   Column                             Non-Null Count  Dtype\n",
            "---  ------                             --------------  -----\n",
            " 0   Creditability                      500 non-null    int64\n",
            " 1   Account.Balance                    500 non-null    int64\n",
            " 2   Duration.of.Credit..month.         500 non-null    int64\n",
            " 3   Payment.Status.of.Previous.Credit  500 non-null    int64\n",
            " 4   Purpose                            500 non-null    int64\n",
            " 5   Credit.Amount                      500 non-null    int64\n",
            " 6   Value.Savings.Stocks               500 non-null    int64\n",
            " 7   Length.of.current.employment       500 non-null    int64\n",
            " 8   Instalment.per.cent                500 non-null    int64\n",
            " 9   Sex...Marital.Status               500 non-null    int64\n",
            " 10  Guarantors                         500 non-null    int64\n",
            " 11  Duration.in.Current.address        500 non-null    int64\n",
            " 12  Most.valuable.available.asset      500 non-null    int64\n",
            " 13  Age..years.                        500 non-null    int64\n",
            " 14  Concurrent.Credits                 500 non-null    int64\n",
            " 15  Type.of.apartment                  500 non-null    int64\n",
            " 16  No.of.Credits.at.this.Bank         500 non-null    int64\n",
            " 17  Occupation                         500 non-null    int64\n",
            " 18  No.of.dependents                   500 non-null    int64\n",
            " 19  Telephone                          500 non-null    int64\n",
            " 20  Foreign.Worker                     500 non-null    int64\n",
            "dtypes: int64(21)\n",
            "memory usage: 85.9 KB\n"
          ],
          "name": "stdout"
        }
      ]
    },
    {
      "cell_type": "code",
      "metadata": {
        "id": "YGsLvWrISiyZ",
        "colab_type": "code",
        "colab": {}
      },
      "source": [
        "from sklearn.model_selection import train_test_split\n",
        "y = df.iloc[:,0]\n",
        "X = df.iloc[:,1:]\n",
        "train_X, test_X, train_y, test_y = train_test_split(X,y, test_size = 0.2, random_state = 42)"
      ],
      "execution_count": 0,
      "outputs": []
    },
    {
      "cell_type": "code",
      "metadata": {
        "id": "-5Em1xbvTMYt",
        "colab_type": "code",
        "colab": {
          "base_uri": "https://localhost:8080/",
          "height": 35
        },
        "outputId": "f3cf770d-7614-440e-b98c-dc44c51f5469"
      },
      "source": [
        "train_X.shape, test_X.shape, train_y.shape, test_y.shape"
      ],
      "execution_count": 8,
      "outputs": [
        {
          "output_type": "execute_result",
          "data": {
            "text/plain": [
              "((400, 20), (100, 20), (400,), (100,))"
            ]
          },
          "metadata": {
            "tags": []
          },
          "execution_count": 8
        }
      ]
    },
    {
      "cell_type": "code",
      "metadata": {
        "id": "lNeU_gvwTQJ9",
        "colab_type": "code",
        "colab": {
          "base_uri": "https://localhost:8080/",
          "height": 104
        },
        "outputId": "c22ef576-5152-43e1-e4ed-29f4bdf149ee"
      },
      "source": [
        "from sklearn.linear_model import LogisticRegression\n",
        "clf1 = LogisticRegression(max_iter = 1000)\n",
        "clf1.fit(train_X, train_y)"
      ],
      "execution_count": 20,
      "outputs": [
        {
          "output_type": "execute_result",
          "data": {
            "text/plain": [
              "LogisticRegression(C=1.0, class_weight=None, dual=False, fit_intercept=True,\n",
              "                   intercept_scaling=1, l1_ratio=None, max_iter=1000,\n",
              "                   multi_class='auto', n_jobs=None, penalty='l2',\n",
              "                   random_state=None, solver='lbfgs', tol=0.0001, verbose=0,\n",
              "                   warm_start=False)"
            ]
          },
          "metadata": {
            "tags": []
          },
          "execution_count": 20
        }
      ]
    },
    {
      "cell_type": "code",
      "metadata": {
        "id": "FO8RlKvvTlFe",
        "colab_type": "code",
        "colab": {
          "base_uri": "https://localhost:8080/",
          "height": 156
        },
        "outputId": "d01a719d-76e8-400f-c43b-21fddacc3735"
      },
      "source": [
        "from sklearn.ensemble import RandomForestClassifier\n",
        "clf2 = RandomForestClassifier(n_estimators=1000, max_depth = 5)\n",
        "clf2.fit(train_X, train_y)"
      ],
      "execution_count": 29,
      "outputs": [
        {
          "output_type": "execute_result",
          "data": {
            "text/plain": [
              "RandomForestClassifier(bootstrap=True, ccp_alpha=0.0, class_weight=None,\n",
              "                       criterion='gini', max_depth=5, max_features='auto',\n",
              "                       max_leaf_nodes=None, max_samples=None,\n",
              "                       min_impurity_decrease=0.0, min_impurity_split=None,\n",
              "                       min_samples_leaf=1, min_samples_split=2,\n",
              "                       min_weight_fraction_leaf=0.0, n_estimators=1000,\n",
              "                       n_jobs=None, oob_score=False, random_state=None,\n",
              "                       verbose=0, warm_start=False)"
            ]
          },
          "metadata": {
            "tags": []
          },
          "execution_count": 29
        }
      ]
    },
    {
      "cell_type": "code",
      "metadata": {
        "id": "EtQZhpXWTvzx",
        "colab_type": "code",
        "colab": {}
      },
      "source": [
        "predicted1 = clf1.predict(test_X)\n",
        "predicted2 = clf2.predict(test_X)"
      ],
      "execution_count": 0,
      "outputs": []
    },
    {
      "cell_type": "code",
      "metadata": {
        "id": "lQsyyrzOT3JS",
        "colab_type": "code",
        "colab": {
          "base_uri": "https://localhost:8080/",
          "height": 35
        },
        "outputId": "41b9c025-ebbf-4829-b9d3-19fa6a867861"
      },
      "source": [
        "from sklearn.metrics import accuracy_score, confusion_matrix\n",
        "accuracy_score(test_y, predicted1)"
      ],
      "execution_count": 31,
      "outputs": [
        {
          "output_type": "execute_result",
          "data": {
            "text/plain": [
              "0.71"
            ]
          },
          "metadata": {
            "tags": []
          },
          "execution_count": 31
        }
      ]
    },
    {
      "cell_type": "code",
      "metadata": {
        "id": "PoPxW3LfUJzD",
        "colab_type": "code",
        "colab": {
          "base_uri": "https://localhost:8080/",
          "height": 52
        },
        "outputId": "2036b5ae-a3fd-4bca-e416-d8ccad08b82d"
      },
      "source": [
        "confusion_matrix(test_y, predicted1)"
      ],
      "execution_count": 32,
      "outputs": [
        {
          "output_type": "execute_result",
          "data": {
            "text/plain": [
              "array([[10, 21],\n",
              "       [ 8, 61]])"
            ]
          },
          "metadata": {
            "tags": []
          },
          "execution_count": 32
        }
      ]
    },
    {
      "cell_type": "code",
      "metadata": {
        "id": "8pc4KJhyT-2i",
        "colab_type": "code",
        "colab": {
          "base_uri": "https://localhost:8080/",
          "height": 35
        },
        "outputId": "544a3dca-857e-4d83-b953-8757fdac472e"
      },
      "source": [
        "accuracy_score(test_y, predicted2)"
      ],
      "execution_count": 33,
      "outputs": [
        {
          "output_type": "execute_result",
          "data": {
            "text/plain": [
              "0.73"
            ]
          },
          "metadata": {
            "tags": []
          },
          "execution_count": 33
        }
      ]
    },
    {
      "cell_type": "code",
      "metadata": {
        "id": "BKc9UKgbUB7C",
        "colab_type": "code",
        "colab": {
          "base_uri": "https://localhost:8080/",
          "height": 52
        },
        "outputId": "66c56024-472e-42a2-a6d0-e1cca13c0671"
      },
      "source": [
        "confusion_matrix(test_y, predicted2)"
      ],
      "execution_count": 34,
      "outputs": [
        {
          "output_type": "execute_result",
          "data": {
            "text/plain": [
              "array([[ 6, 25],\n",
              "       [ 2, 67]])"
            ]
          },
          "metadata": {
            "tags": []
          },
          "execution_count": 34
        }
      ]
    },
    {
      "cell_type": "code",
      "metadata": {
        "id": "BT-JY4asVRhT",
        "colab_type": "code",
        "colab": {}
      },
      "source": [
        "predicted1_prob = clf1.predict_proba(test_X)\n",
        "predicted2_prob = clf2.predict_proba(test_X)"
      ],
      "execution_count": 0,
      "outputs": []
    },
    {
      "cell_type": "code",
      "metadata": {
        "id": "xWMn6aMtUU21",
        "colab_type": "code",
        "colab": {}
      },
      "source": [
        "from sklearn.metrics import auc, roc_curve\n",
        "fpr1, tpr1, threshold1 = roc_curve(test_y , predicted1_prob[:,1])\n",
        "auc1 = auc(fpr1, tpr1)"
      ],
      "execution_count": 0,
      "outputs": []
    },
    {
      "cell_type": "code",
      "metadata": {
        "id": "A8g4szZsVJ4P",
        "colab_type": "code",
        "colab": {}
      },
      "source": [
        "from sklearn.metrics import auc, roc_curve\n",
        "fpr2, tpr2, threshold2 = roc_curve(test_y , predicted2_prob[:,1])\n",
        "auc2 = auc(fpr2, tpr2)"
      ],
      "execution_count": 0,
      "outputs": []
    },
    {
      "cell_type": "code",
      "metadata": {
        "id": "Vi0XgqhWVZsr",
        "colab_type": "code",
        "colab": {
          "base_uri": "https://localhost:8080/",
          "height": 399
        },
        "outputId": "fe8b04ba-c2fb-4a1f-9079-0e7e726daebd"
      },
      "source": [
        "from matplotlib import pyplot as plt\n",
        "plt.figure(figsize= [20,10])\n",
        "plt.plot(fpr1, tpr1, label='%s - AUC:%.2f'%('Logistic Regression', auc1) )\n",
        "plt.plot(fpr2, tpr2, label='%s - AUC:%.2f'%('Random Forest', auc2) )\n",
        "plt.plot([0, 1], [0, 1], 'k--')\n",
        "plt.xlim([0.0, 1.0])\n",
        "plt.ylim([0.0, 1.0])\n",
        "plt.xlabel('False Positive Rate', fontsize = 20)\n",
        "plt.ylabel('True Positive Rate', fontsize = 20)\n",
        "plt.title('Receiver operating characteristic example', fontsize = 20)\n",
        "plt.legend(loc=\"lower right\", fontsize = 20)\n",
        "plt.show()"
      ],
      "execution_count": 50,
      "outputs": [
        {
          "output_type": "display_data",
          "data": {
            "image/png": "[encoded data removed]",
            "text/plain": [
              "<Figure size 1440x720 with 1 Axes>"
            ]
          },
          "metadata": {
            "tags": [],
            "needs_background": "light"
          }
        }
      ]
    },
    {
      "cell_type": "markdown",
      "metadata": {
        "id": "sL0PN5qeZVsW",
        "colab_type": "text"
      },
      "source": [
        "## 借貸俱樂部資料分析\n",
        "- https://drive.google.com/open?id=1sf5jtUA7UKc56DufVZO8QW0HteOd_Swo"
      ]
    },
    {
      "cell_type": "code",
      "metadata": {
        "id": "xnA9s8xLWGvl",
        "colab_type": "code",
        "colab": {
          "base_uri": "https://localhost:8080/",
          "height": 87
        },
        "outputId": "04fc0b7d-e283-48b6-fa8b-76e385677ee8"
      },
      "source": [
        "! gdown https://drive.google.com/uc?id=1sf5jtUA7UKc56DufVZO8QW0HteOd_Swo"
      ],
      "execution_count": 52,
      "outputs": [
        {
          "output_type": "stream",
          "text": [
            "Downloading...\n",
            "From: https://drive.google.com/uc?id=1sf5jtUA7UKc56DufVZO8QW0HteOd_Swo\n",
            "To: /content/LoanStats3b.csv.zip\n",
            "36.6MB [00:00, 70.9MB/s]\n"
          ],
          "name": "stdout"
        }
      ]
    },
    {
      "cell_type": "code",
      "metadata": {
        "id": "MaM1Mc8TaCXL",
        "colab_type": "code",
        "colab": {
          "base_uri": "https://localhost:8080/",
          "height": 52
        },
        "outputId": "06aea105-ffe2-47eb-d69d-0199e15be08f"
      },
      "source": [
        "! unzip LoanStats3b.csv.zip"
      ],
      "execution_count": 53,
      "outputs": [
        {
          "output_type": "stream",
          "text": [
            "Archive:  LoanStats3b.csv.zip\n",
            "  inflating: LoanStats3b.csv         \n"
          ],
          "name": "stdout"
        }
      ]
    },
    {
      "cell_type": "markdown",
      "metadata": {
        "id": "FitaIygFaRaE",
        "colab_type": "text"
      },
      "source": [
        "### 資料讀取"
      ]
    },
    {
      "cell_type": "code",
      "metadata": {
        "id": "T5pKh-O9aLmj",
        "colab_type": "code",
        "colab": {
          "base_uri": "https://localhost:8080/",
          "height": 159
        },
        "outputId": "dd07b3bc-fba3-42fe-c9e1-caa036759d8d"
      },
      "source": [
        "import pandas as pd\n",
        "#讀取資料\n",
        "dataset = pd.read_csv('LoanStats3b.csv', skiprows=[0])\n",
        "dataset.info()"
      ],
      "execution_count": 223,
      "outputs": [
        {
          "output_type": "stream",
          "text": [
            "/usr/local/lib/python3.6/dist-packages/IPython/core/interactiveshell.py:2718: DtypeWarning: Columns (0,47,123,124,125,128,129,130,133) have mixed types.Specify dtype option on import or set low_memory=False.\n",
            "  interactivity=interactivity, compiler=compiler, result=result)\n"
          ],
          "name": "stderr"
        },
        {
          "output_type": "stream",
          "text": [
            "<class 'pandas.core.frame.DataFrame'>\n",
            "RangeIndex: 188183 entries, 0 to 188182\n",
            "Columns: 145 entries, id to settlement_term\n",
            "dtypes: float64(108), object(37)\n",
            "memory usage: 208.2+ MB\n"
          ],
          "name": "stdout"
        }
      ]
    },
    {
      "cell_type": "markdown",
      "metadata": {
        "id": "PvcNx82qaYKE",
        "colab_type": "text"
      },
      "source": [
        "\n",
        "### 資料預先處理"
      ]
    },
    {
      "cell_type": "code",
      "metadata": {
        "id": "5EfQ7jDVantc",
        "colab_type": "code",
        "colab": {
          "base_uri": "https://localhost:8080/",
          "height": 156
        },
        "outputId": "6e86d561-002b-404d-dbdd-71eb50561aa1"
      },
      "source": [
        "dataset.columns"
      ],
      "execution_count": 224,
      "outputs": [
        {
          "output_type": "execute_result",
          "data": {
            "text/plain": [
              "Index(['id', 'member_id', 'loan_amnt', 'funded_amnt', 'funded_amnt_inv',\n",
              "       'term', 'int_rate', 'installment', 'grade', 'sub_grade',\n",
              "       ...\n",
              "       'hardship_payoff_balance_amount', 'hardship_last_payment_amount',\n",
              "       'disbursement_method', 'debt_settlement_flag',\n",
              "       'debt_settlement_flag_date', 'settlement_status', 'settlement_date',\n",
              "       'settlement_amount', 'settlement_percentage', 'settlement_term'],\n",
              "      dtype='object', length=145)"
            ]
          },
          "metadata": {
            "tags": []
          },
          "execution_count": 224
        }
      ]
    },
    {
      "cell_type": "code",
      "metadata": {
        "id": "90RfajO0a8lm",
        "colab_type": "code",
        "colab": {
          "base_uri": "https://localhost:8080/",
          "height": 225
        },
        "outputId": "f3e93ee6-f682-4dc2-8082-890315bd2894"
      },
      "source": [
        "dataset.isna().sum()"
      ],
      "execution_count": 225,
      "outputs": [
        {
          "output_type": "execute_result",
          "data": {
            "text/plain": [
              "id                       188181\n",
              "member_id                188183\n",
              "loan_amnt                     2\n",
              "funded_amnt                   2\n",
              "funded_amnt_inv               2\n",
              "                          ...  \n",
              "settlement_status        186132\n",
              "settlement_date          186132\n",
              "settlement_amount        186132\n",
              "settlement_percentage    186132\n",
              "settlement_term          186132\n",
              "Length: 145, dtype: int64"
            ]
          },
          "metadata": {
            "tags": []
          },
          "execution_count": 225
        }
      ]
    },
    {
      "cell_type": "code",
      "metadata": {
        "id": "korWPfCRbraK",
        "colab_type": "code",
        "colab": {
          "base_uri": "https://localhost:8080/",
          "height": 52
        },
        "outputId": "3e2b6495-e981-42e2-a5bc-c014a365e9b0"
      },
      "source": [
        "dataset['loan_status'].unique()"
      ],
      "execution_count": 226,
      "outputs": [
        {
          "output_type": "execute_result",
          "data": {
            "text/plain": [
              "array(['Fully Paid', 'Charged Off', 'Late (31-120 days)', 'Current',\n",
              "       'In Grace Period', nan], dtype=object)"
            ]
          },
          "metadata": {
            "tags": []
          },
          "execution_count": 226
        }
      ]
    },
    {
      "cell_type": "code",
      "metadata": {
        "id": "RzTt1WitaVSq",
        "colab_type": "code",
        "colab": {}
      },
      "source": [
        "#移除空白欄位\n",
        "dataset = dataset.iloc[:,2:111]\n",
        "empty_cols = [i for i in range(45,72)]\n",
        "dataset = dataset.drop(dataset.columns[empty_cols],axis=1)\n",
        "data_with_loanstatus_sliced = dataset[(dataset['loan_status']==\"Fully Paid\") | (dataset['loan_status']==\"Charged Off\")]"
      ],
      "execution_count": 0,
      "outputs": []
    },
    {
      "cell_type": "code",
      "metadata": {
        "id": "deKXVaz8bJ6d",
        "colab_type": "code",
        "colab": {
          "base_uri": "https://localhost:8080/",
          "height": 35
        },
        "outputId": "1ed6469b-8ccc-44e1-dcc7-b2de1232ff3a"
      },
      "source": [
        "data_with_loanstatus_sliced.shape"
      ],
      "execution_count": 228,
      "outputs": [
        {
          "output_type": "execute_result",
          "data": {
            "text/plain": [
              "(188171, 82)"
            ]
          },
          "metadata": {
            "tags": []
          },
          "execution_count": 228
        }
      ]
    },
    {
      "cell_type": "code",
      "metadata": {
        "id": "D4MDbnrDcZa2",
        "colab_type": "code",
        "colab": {
          "base_uri": "https://localhost:8080/",
          "height": 225
        },
        "outputId": "02c10769-89b5-4db9-ab2f-9422a3eacaaa"
      },
      "source": [
        "data_with_loanstatus_sliced.isna().sum().sort_values(ascending= False)"
      ],
      "execution_count": 229,
      "outputs": [
        {
          "output_type": "execute_result",
          "data": {
            "text/plain": [
              "url                               188171\n",
              "mths_since_last_record            170698\n",
              "mths_since_recent_bc_dlq          151423\n",
              "mths_since_recent_revol_delinq    133728\n",
              "mths_since_last_delinq            107568\n",
              "                                   ...  \n",
              "revol_bal                              0\n",
              "pub_rec                                0\n",
              "open_acc                               0\n",
              "inq_last_6mths                         0\n",
              "loan_amnt                              0\n",
              "Length: 82, dtype: int64"
            ]
          },
          "metadata": {
            "tags": []
          },
          "execution_count": 229
        }
      ]
    },
    {
      "cell_type": "code",
      "metadata": {
        "id": "zGX9IgRscZ2U",
        "colab_type": "code",
        "colab": {
          "base_uri": "https://localhost:8080/",
          "height": 191
        },
        "outputId": "6e8bbee9-4fa7-43bd-ca2d-b7564abea2fb"
      },
      "source": [
        "empty_cols = data_with_loanstatus_sliced.isna().sum() / len(data_with_loanstatus_sliced)\n",
        "empty_cols[empty_cols > 0.1].index"
      ],
      "execution_count": 230,
      "outputs": [
        {
          "output_type": "execute_result",
          "data": {
            "text/plain": [
              "Index(['url', 'desc', 'mths_since_last_delinq', 'mths_since_last_record',\n",
              "       'avg_cur_bal', 'mo_sin_old_il_acct', 'mo_sin_old_rev_tl_op',\n",
              "       'mo_sin_rcnt_rev_tl_op', 'mo_sin_rcnt_tl', 'mths_since_recent_bc_dlq',\n",
              "       'mths_since_recent_inq', 'mths_since_recent_revol_delinq',\n",
              "       'num_accts_ever_120_pd', 'num_actv_bc_tl', 'num_actv_rev_tl',\n",
              "       'num_bc_tl', 'num_il_tl', 'num_op_rev_tl', 'num_rev_accts',\n",
              "       'num_rev_tl_bal_gt_0', 'num_tl_120dpd_2m', 'num_tl_30dpd',\n",
              "       'num_tl_90g_dpd_24m', 'num_tl_op_past_12m', 'pct_tl_nvr_dlq',\n",
              "       'tot_hi_cred_lim', 'total_il_high_credit_limit'],\n",
              "      dtype='object')"
            ]
          },
          "metadata": {
            "tags": []
          },
          "execution_count": 230
        }
      ]
    },
    {
      "cell_type": "code",
      "metadata": {
        "id": "Z1Yc-jyec5dG",
        "colab_type": "code",
        "colab": {}
      },
      "source": [
        "del_col_names = [\"delinq_2yrs\", \"last_pymnt_d\", \"chargeoff_within_12_mths\",\"delinq_amnt\",\"emp_title\",\n",
        "\"term\", \"emp_title\", \"pymnt_plan\",\"purpose\",\"title\", \"zip_code\", \"verification_status\", \"dti\",\"earliest_cr_line\",\n",
        "\"initial_list_status\", \"out_prncp\",\n",
        "\"pymnt_plan\", \"num_tl_90g_dpd_24m\", \"num_tl_30dpd\", \"num_tl_120dpd_2m\",\n",
        "\"num_accts_ever_120_pd\", \"delinq_amnt\",\n",
        "\"chargeoff_within_12_mths\", \"total_rec_late_fee\", \"out_prncp_inv\", \"issue_d\"]"
      ],
      "execution_count": 0,
      "outputs": []
    },
    {
      "cell_type": "code",
      "metadata": {
        "id": "hgyY-x9VdIX4",
        "colab_type": "code",
        "colab": {}
      },
      "source": [
        "dataset = data_with_loanstatus_sliced.drop(labels = del_col_names, axis = 1)"
      ],
      "execution_count": 0,
      "outputs": []
    },
    {
      "cell_type": "code",
      "metadata": {
        "id": "TvD_e8I7dJyn",
        "colab_type": "code",
        "colab": {
          "base_uri": "https://localhost:8080/",
          "height": 35
        },
        "outputId": "12df49e7-b312-4d77-d8bc-7a0143a92986"
      },
      "source": [
        "dataset.shape"
      ],
      "execution_count": 233,
      "outputs": [
        {
          "output_type": "execute_result",
          "data": {
            "text/plain": [
              "(188171, 60)"
            ]
          },
          "metadata": {
            "tags": []
          },
          "execution_count": 233
        }
      ]
    },
    {
      "cell_type": "code",
      "metadata": {
        "id": "KsDb6NKqdKmX",
        "colab_type": "code",
        "colab": {}
      },
      "source": [
        "features = ['funded_amnt','emp_length','annual_inc','home_ownership','grade',\n",
        "\"last_pymnt_amnt\",\n",
        "\"mort_acc\",\n",
        "\"pub_rec\",\n",
        "\"int_rate\", \"open_acc\",\n",
        "\"num_actv_rev_tl\",\n",
        "\"mo_sin_rcnt_rev_tl_op\",\"mo_sin_old_rev_tl_op\",\"bc_util\",\"bc_open_to_buy\",\n",
        "\"avg_cur_bal\",\"acc_open_past_24mths\",'loan_status'] "
      ],
      "execution_count": 0,
      "outputs": []
    },
    {
      "cell_type": "code",
      "metadata": {
        "id": "LlJev9TvdRip",
        "colab_type": "code",
        "colab": {}
      },
      "source": [
        "Final_data = dataset[features] "
      ],
      "execution_count": 0,
      "outputs": []
    },
    {
      "cell_type": "code",
      "metadata": {
        "id": "tKlZlBhydTaZ",
        "colab_type": "code",
        "colab": {
          "base_uri": "https://localhost:8080/",
          "height": 35
        },
        "outputId": "cdf5c2ca-f151-4b28-eab5-2d56f4883de0"
      },
      "source": [
        "Final_data.shape"
      ],
      "execution_count": 236,
      "outputs": [
        {
          "output_type": "execute_result",
          "data": {
            "text/plain": [
              "(188171, 18)"
            ]
          },
          "metadata": {
            "tags": []
          },
          "execution_count": 236
        }
      ]
    },
    {
      "cell_type": "code",
      "metadata": {
        "id": "fdwYvaA1dUfJ",
        "colab_type": "code",
        "colab": {
          "base_uri": "https://localhost:8080/",
          "height": 451
        },
        "outputId": "47bd757b-3b0b-436c-dc9e-1425f0f79598"
      },
      "source": [
        "Final_data.info()"
      ],
      "execution_count": 237,
      "outputs": [
        {
          "output_type": "stream",
          "text": [
            "<class 'pandas.core.frame.DataFrame'>\n",
            "Int64Index: 188171 entries, 0 to 188180\n",
            "Data columns (total 18 columns):\n",
            " #   Column                 Non-Null Count   Dtype  \n",
            "---  ------                 --------------   -----  \n",
            " 0   funded_amnt            188171 non-null  float64\n",
            " 1   emp_length             180284 non-null  object \n",
            " 2   annual_inc             188171 non-null  float64\n",
            " 3   home_ownership         188171 non-null  object \n",
            " 4   grade                  188171 non-null  object \n",
            " 5   last_pymnt_amnt        188171 non-null  float64\n",
            " 6   mort_acc               180676 non-null  float64\n",
            " 7   pub_rec                188171 non-null  float64\n",
            " 8   int_rate               188171 non-null  object \n",
            " 9   open_acc               188171 non-null  float64\n",
            " 10  num_actv_rev_tl        160430 non-null  float64\n",
            " 11  mo_sin_rcnt_rev_tl_op  160429 non-null  float64\n",
            " 12  mo_sin_old_rev_tl_op   160429 non-null  float64\n",
            " 13  bc_util                179059 non-null  float64\n",
            " 14  bc_open_to_buy         179146 non-null  float64\n",
            " 15  avg_cur_bal            160424 non-null  float64\n",
            " 16  acc_open_past_24mths   180676 non-null  float64\n",
            " 17  loan_status            188171 non-null  object \n",
            "dtypes: float64(13), object(5)\n",
            "memory usage: 27.3+ MB\n"
          ],
          "name": "stdout"
        }
      ]
    },
    {
      "cell_type": "code",
      "metadata": {
        "id": "wgkBh9A5dfWa",
        "colab_type": "code",
        "colab": {
          "base_uri": "https://localhost:8080/",
          "height": 202
        },
        "outputId": "39af7e43-e31d-4e1d-9869-c584cc76e4a8"
      },
      "source": [
        "Final_data.select_dtypes('object').head()"
      ],
      "execution_count": 238,
      "outputs": [
        {
          "output_type": "execute_result",
          "data": {
            "text/html": [
              "<div>\n",
              "<style scoped>\n",
              "    .dataframe tbody tr th:only-of-type {\n",
              "        vertical-align: middle;\n",
              "    }\n",
              "\n",
              "    .dataframe tbody tr th {\n",
              "        vertical-align: top;\n",
              "    }\n",
              "\n",
              "    .dataframe thead th {\n",
              "        text-align: right;\n",
              "    }\n",
              "</style>\n",
              "<table border=\"1\" class=\"dataframe\">\n",
              "  <thead>\n",
              "    <tr style=\"text-align: right;\">\n",
              "      <th></th>\n",
              "      <th>emp_length</th>\n",
              "      <th>home_ownership</th>\n",
              "      <th>grade</th>\n",
              "      <th>int_rate</th>\n",
              "      <th>loan_status</th>\n",
              "    </tr>\n",
              "  </thead>\n",
              "  <tbody>\n",
              "    <tr>\n",
              "      <th>0</th>\n",
              "      <td>3 years</td>\n",
              "      <td>MORTGAGE</td>\n",
              "      <td>A</td>\n",
              "      <td>7.62%</td>\n",
              "      <td>Fully Paid</td>\n",
              "    </tr>\n",
              "    <tr>\n",
              "      <th>1</th>\n",
              "      <td>10+ years</td>\n",
              "      <td>OWN</td>\n",
              "      <td>B</td>\n",
              "      <td>10.99%</td>\n",
              "      <td>Fully Paid</td>\n",
              "    </tr>\n",
              "    <tr>\n",
              "      <th>2</th>\n",
              "      <td>10+ years</td>\n",
              "      <td>MORTGAGE</td>\n",
              "      <td>B</td>\n",
              "      <td>11.99%</td>\n",
              "      <td>Fully Paid</td>\n",
              "    </tr>\n",
              "    <tr>\n",
              "      <th>3</th>\n",
              "      <td>5 years</td>\n",
              "      <td>MORTGAGE</td>\n",
              "      <td>A</td>\n",
              "      <td>7.62%</td>\n",
              "      <td>Fully Paid</td>\n",
              "    </tr>\n",
              "    <tr>\n",
              "      <th>4</th>\n",
              "      <td>4 years</td>\n",
              "      <td>RENT</td>\n",
              "      <td>B</td>\n",
              "      <td>10.99%</td>\n",
              "      <td>Fully Paid</td>\n",
              "    </tr>\n",
              "  </tbody>\n",
              "</table>\n",
              "</div>"
            ],
            "text/plain": [
              "  emp_length home_ownership grade int_rate loan_status\n",
              "0    3 years       MORTGAGE     A    7.62%  Fully Paid\n",
              "1  10+ years            OWN     B   10.99%  Fully Paid\n",
              "2  10+ years       MORTGAGE     B   11.99%  Fully Paid\n",
              "3    5 years       MORTGAGE     A    7.62%  Fully Paid\n",
              "4    4 years           RENT     B   10.99%  Fully Paid"
            ]
          },
          "metadata": {
            "tags": []
          },
          "execution_count": 238
        }
      ]
    },
    {
      "cell_type": "code",
      "metadata": {
        "id": "w-9AfW8veT39",
        "colab_type": "code",
        "colab": {}
      },
      "source": [
        "Final_data = Final_data[Final_data[\"int_rate\"].notnull()]"
      ],
      "execution_count": 0,
      "outputs": []
    },
    {
      "cell_type": "markdown",
      "metadata": {
        "id": "4Z2BILwId4nr",
        "colab_type": "text"
      },
      "source": [
        "### 將字串欄位改變成數值型態"
      ]
    },
    {
      "cell_type": "code",
      "metadata": {
        "id": "1l0TReh7drnK",
        "colab_type": "code",
        "colab": {}
      },
      "source": [
        "Final_data[\"int_rate\"] = Final_data[\"int_rate\"].map(lambda x:float(x[:-1]) )"
      ],
      "execution_count": 0,
      "outputs": []
    },
    {
      "cell_type": "code",
      "metadata": {
        "id": "Kw8mR8U4eOzE",
        "colab_type": "code",
        "colab": {}
      },
      "source": [
        "Final_data['grade'] = Final_data['grade'].replace({'A':7,'B':6,'C':5,'D':4,'E':3,'F':2,'G':1})\n"
      ],
      "execution_count": 0,
      "outputs": []
    },
    {
      "cell_type": "code",
      "metadata": {
        "id": "xZ-WBqF9epuf",
        "colab_type": "code",
        "colab": {}
      },
      "source": [
        "Final_data[\"home_ownership\"] = Final_data[\"home_ownership\"].map({\"MORTGAGE\":6,\"RENT\":5,\"OWN\":4,\"OTHER\":3,\"NONE\":2,\"ANY\":1})\n"
      ],
      "execution_count": 0,
      "outputs": []
    },
    {
      "cell_type": "code",
      "metadata": {
        "id": "4WY0vJVSeuQg",
        "colab_type": "code",
        "colab": {}
      },
      "source": [
        "import re\n",
        "def getEmpNum(e):\n",
        "  m = re.search('(\\d+)', str(e) )\n",
        "  if m :\n",
        "    return m.group(1)\n",
        "  else:\n",
        "    return 0\n",
        "Final_data['emp_length'] = Final_data['emp_length'].map(lambda e: getEmpNum(e))"
      ],
      "execution_count": 0,
      "outputs": []
    },
    {
      "cell_type": "code",
      "metadata": {
        "id": "6ayELt9Xe_Hw",
        "colab_type": "code",
        "colab": {}
      },
      "source": [
        "Final_data['loan_status']= Final_data['loan_status'].replace({\"Fully Paid\":0, \"Charged Off\":1})\n"
      ],
      "execution_count": 0,
      "outputs": []
    },
    {
      "cell_type": "code",
      "metadata": {
        "id": "FMa7As1mfrgI",
        "colab_type": "code",
        "colab": {
          "base_uri": "https://localhost:8080/",
          "height": 451
        },
        "outputId": "4eb96102-b3d4-493a-c751-f1e6882cb825"
      },
      "source": [
        "Final_data.info()"
      ],
      "execution_count": 245,
      "outputs": [
        {
          "output_type": "stream",
          "text": [
            "<class 'pandas.core.frame.DataFrame'>\n",
            "Int64Index: 188171 entries, 0 to 188180\n",
            "Data columns (total 18 columns):\n",
            " #   Column                 Non-Null Count   Dtype  \n",
            "---  ------                 --------------   -----  \n",
            " 0   funded_amnt            188171 non-null  float64\n",
            " 1   emp_length             188171 non-null  object \n",
            " 2   annual_inc             188171 non-null  float64\n",
            " 3   home_ownership         188171 non-null  int64  \n",
            " 4   grade                  188171 non-null  int64  \n",
            " 5   last_pymnt_amnt        188171 non-null  float64\n",
            " 6   mort_acc               180676 non-null  float64\n",
            " 7   pub_rec                188171 non-null  float64\n",
            " 8   int_rate               188171 non-null  float64\n",
            " 9   open_acc               188171 non-null  float64\n",
            " 10  num_actv_rev_tl        160430 non-null  float64\n",
            " 11  mo_sin_rcnt_rev_tl_op  160429 non-null  float64\n",
            " 12  mo_sin_old_rev_tl_op   160429 non-null  float64\n",
            " 13  bc_util                179059 non-null  float64\n",
            " 14  bc_open_to_buy         179146 non-null  float64\n",
            " 15  avg_cur_bal            160424 non-null  float64\n",
            " 16  acc_open_past_24mths   180676 non-null  float64\n",
            " 17  loan_status            188171 non-null  int64  \n",
            "dtypes: float64(14), int64(3), object(1)\n",
            "memory usage: 27.3+ MB\n"
          ],
          "name": "stdout"
        }
      ]
    },
    {
      "cell_type": "code",
      "metadata": {
        "id": "A1YYk5uwuA5n",
        "colab_type": "code",
        "colab": {
          "base_uri": "https://localhost:8080/",
          "height": 161
        },
        "outputId": "88cc13db-26be-4cd8-98ad-e938f8252cdb"
      },
      "source": [
        "Final_data.head(3)"
      ],
      "execution_count": 248,
      "outputs": [
        {
          "output_type": "execute_result",
          "data": {
            "text/html": [
              "<div>\n",
              "<style scoped>\n",
              "    .dataframe tbody tr th:only-of-type {\n",
              "        vertical-align: middle;\n",
              "    }\n",
              "\n",
              "    .dataframe tbody tr th {\n",
              "        vertical-align: top;\n",
              "    }\n",
              "\n",
              "    .dataframe thead th {\n",
              "        text-align: right;\n",
              "    }\n",
              "</style>\n",
              "<table border=\"1\" class=\"dataframe\">\n",
              "  <thead>\n",
              "    <tr style=\"text-align: right;\">\n",
              "      <th></th>\n",
              "      <th>funded_amnt</th>\n",
              "      <th>emp_length</th>\n",
              "      <th>annual_inc</th>\n",
              "      <th>home_ownership</th>\n",
              "      <th>grade</th>\n",
              "      <th>last_pymnt_amnt</th>\n",
              "      <th>mort_acc</th>\n",
              "      <th>pub_rec</th>\n",
              "      <th>int_rate</th>\n",
              "      <th>open_acc</th>\n",
              "      <th>num_actv_rev_tl</th>\n",
              "      <th>mo_sin_rcnt_rev_tl_op</th>\n",
              "      <th>mo_sin_old_rev_tl_op</th>\n",
              "      <th>bc_util</th>\n",
              "      <th>bc_open_to_buy</th>\n",
              "      <th>avg_cur_bal</th>\n",
              "      <th>acc_open_past_24mths</th>\n",
              "      <th>loan_status</th>\n",
              "    </tr>\n",
              "  </thead>\n",
              "  <tbody>\n",
              "    <tr>\n",
              "      <th>0</th>\n",
              "      <td>12000.0</td>\n",
              "      <td>3</td>\n",
              "      <td>96500.0</td>\n",
              "      <td>6</td>\n",
              "      <td>7</td>\n",
              "      <td>2927.22</td>\n",
              "      <td>1.0</td>\n",
              "      <td>0.0</td>\n",
              "      <td>7.62</td>\n",
              "      <td>17.0</td>\n",
              "      <td>5.0</td>\n",
              "      <td>10.0</td>\n",
              "      <td>118.0</td>\n",
              "      <td>83.5</td>\n",
              "      <td>2441.0</td>\n",
              "      <td>11783.0</td>\n",
              "      <td>4.0</td>\n",
              "      <td>0</td>\n",
              "    </tr>\n",
              "    <tr>\n",
              "      <th>1</th>\n",
              "      <td>27050.0</td>\n",
              "      <td>10</td>\n",
              "      <td>55000.0</td>\n",
              "      <td>4</td>\n",
              "      <td>6</td>\n",
              "      <td>6074.19</td>\n",
              "      <td>4.0</td>\n",
              "      <td>0.0</td>\n",
              "      <td>10.99</td>\n",
              "      <td>14.0</td>\n",
              "      <td>4.0</td>\n",
              "      <td>16.0</td>\n",
              "      <td>326.0</td>\n",
              "      <td>53.9</td>\n",
              "      <td>16473.0</td>\n",
              "      <td>9570.0</td>\n",
              "      <td>3.0</td>\n",
              "      <td>0</td>\n",
              "    </tr>\n",
              "    <tr>\n",
              "      <th>2</th>\n",
              "      <td>12000.0</td>\n",
              "      <td>10</td>\n",
              "      <td>130000.0</td>\n",
              "      <td>6</td>\n",
              "      <td>6</td>\n",
              "      <td>398.28</td>\n",
              "      <td>3.0</td>\n",
              "      <td>0.0</td>\n",
              "      <td>11.99</td>\n",
              "      <td>9.0</td>\n",
              "      <td>5.0</td>\n",
              "      <td>4.0</td>\n",
              "      <td>193.0</td>\n",
              "      <td>93.0</td>\n",
              "      <td>3567.0</td>\n",
              "      <td>36362.0</td>\n",
              "      <td>4.0</td>\n",
              "      <td>0</td>\n",
              "    </tr>\n",
              "  </tbody>\n",
              "</table>\n",
              "</div>"
            ],
            "text/plain": [
              "   funded_amnt emp_length  ...  acc_open_past_24mths  loan_status\n",
              "0      12000.0          3  ...                   4.0            0\n",
              "1      27050.0         10  ...                   3.0            0\n",
              "2      12000.0         10  ...                   4.0            0\n",
              "\n",
              "[3 rows x 18 columns]"
            ]
          },
          "metadata": {
            "tags": []
          },
          "execution_count": 248
        }
      ]
    },
    {
      "cell_type": "code",
      "metadata": {
        "id": "cyWGpGxPfvjj",
        "colab_type": "code",
        "colab": {
          "base_uri": "https://localhost:8080/",
          "height": 347
        },
        "outputId": "e3c640aa-87da-42cb-99d6-5929a957434e"
      },
      "source": [
        "Final_data.isna().sum().sort_values(ascending = False)"
      ],
      "execution_count": 249,
      "outputs": [
        {
          "output_type": "execute_result",
          "data": {
            "text/plain": [
              "avg_cur_bal              27747\n",
              "mo_sin_old_rev_tl_op     27742\n",
              "mo_sin_rcnt_rev_tl_op    27742\n",
              "num_actv_rev_tl          27741\n",
              "bc_util                   9112\n",
              "bc_open_to_buy            9025\n",
              "acc_open_past_24mths      7495\n",
              "mort_acc                  7495\n",
              "loan_status                  0\n",
              "grade                        0\n",
              "emp_length                   0\n",
              "annual_inc                   0\n",
              "home_ownership               0\n",
              "int_rate                     0\n",
              "last_pymnt_amnt              0\n",
              "pub_rec                      0\n",
              "open_acc                     0\n",
              "funded_amnt                  0\n",
              "dtype: int64"
            ]
          },
          "metadata": {
            "tags": []
          },
          "execution_count": 249
        }
      ]
    },
    {
      "cell_type": "code",
      "metadata": {
        "id": "IQr-Sb6EgLll",
        "colab_type": "code",
        "colab": {}
      },
      "source": [
        "Final_data.fillna(Final_data.mean(), inplace=True)"
      ],
      "execution_count": 0,
      "outputs": []
    },
    {
      "cell_type": "code",
      "metadata": {
        "id": "kXkxJq6Ugb22",
        "colab_type": "code",
        "colab": {
          "base_uri": "https://localhost:8080/",
          "height": 347
        },
        "outputId": "0c068279-4b3f-4181-a2fc-e93ff76471cd"
      },
      "source": [
        "Final_data.isna().sum().sort_values(ascending = False)"
      ],
      "execution_count": 251,
      "outputs": [
        {
          "output_type": "execute_result",
          "data": {
            "text/plain": [
              "loan_status              0\n",
              "acc_open_past_24mths     0\n",
              "emp_length               0\n",
              "annual_inc               0\n",
              "home_ownership           0\n",
              "grade                    0\n",
              "last_pymnt_amnt          0\n",
              "mort_acc                 0\n",
              "pub_rec                  0\n",
              "int_rate                 0\n",
              "open_acc                 0\n",
              "num_actv_rev_tl          0\n",
              "mo_sin_rcnt_rev_tl_op    0\n",
              "mo_sin_old_rev_tl_op     0\n",
              "bc_util                  0\n",
              "bc_open_to_buy           0\n",
              "avg_cur_bal              0\n",
              "funded_amnt              0\n",
              "dtype: int64"
            ]
          },
          "metadata": {
            "tags": []
          },
          "execution_count": 251
        }
      ]
    },
    {
      "cell_type": "markdown",
      "metadata": {
        "id": "pV2BOKW5jr-c",
        "colab_type": "text"
      },
      "source": [
        "### 資料標準化"
      ]
    },
    {
      "cell_type": "code",
      "metadata": {
        "id": "6yzpH1akjv6p",
        "colab_type": "code",
        "colab": {
          "base_uri": "https://localhost:8080/",
          "height": 222
        },
        "outputId": "0e9bf5c2-61d5-4932-d561-3f971dbbaabc"
      },
      "source": [
        "Final_data.head()"
      ],
      "execution_count": 252,
      "outputs": [
        {
          "output_type": "execute_result",
          "data": {
            "text/html": [
              "<div>\n",
              "<style scoped>\n",
              "    .dataframe tbody tr th:only-of-type {\n",
              "        vertical-align: middle;\n",
              "    }\n",
              "\n",
              "    .dataframe tbody tr th {\n",
              "        vertical-align: top;\n",
              "    }\n",
              "\n",
              "    .dataframe thead th {\n",
              "        text-align: right;\n",
              "    }\n",
              "</style>\n",
              "<table border=\"1\" class=\"dataframe\">\n",
              "  <thead>\n",
              "    <tr style=\"text-align: right;\">\n",
              "      <th></th>\n",
              "      <th>funded_amnt</th>\n",
              "      <th>emp_length</th>\n",
              "      <th>annual_inc</th>\n",
              "      <th>home_ownership</th>\n",
              "      <th>grade</th>\n",
              "      <th>last_pymnt_amnt</th>\n",
              "      <th>mort_acc</th>\n",
              "      <th>pub_rec</th>\n",
              "      <th>int_rate</th>\n",
              "      <th>open_acc</th>\n",
              "      <th>num_actv_rev_tl</th>\n",
              "      <th>mo_sin_rcnt_rev_tl_op</th>\n",
              "      <th>mo_sin_old_rev_tl_op</th>\n",
              "      <th>bc_util</th>\n",
              "      <th>bc_open_to_buy</th>\n",
              "      <th>avg_cur_bal</th>\n",
              "      <th>acc_open_past_24mths</th>\n",
              "      <th>loan_status</th>\n",
              "    </tr>\n",
              "  </thead>\n",
              "  <tbody>\n",
              "    <tr>\n",
              "      <th>0</th>\n",
              "      <td>12000.0</td>\n",
              "      <td>3</td>\n",
              "      <td>96500.0</td>\n",
              "      <td>6</td>\n",
              "      <td>7</td>\n",
              "      <td>2927.22</td>\n",
              "      <td>1.0</td>\n",
              "      <td>0.0</td>\n",
              "      <td>7.62</td>\n",
              "      <td>17.0</td>\n",
              "      <td>5.0</td>\n",
              "      <td>10.0</td>\n",
              "      <td>118.0</td>\n",
              "      <td>83.5</td>\n",
              "      <td>2441.0</td>\n",
              "      <td>11783.0</td>\n",
              "      <td>4.0</td>\n",
              "      <td>0</td>\n",
              "    </tr>\n",
              "    <tr>\n",
              "      <th>1</th>\n",
              "      <td>27050.0</td>\n",
              "      <td>10</td>\n",
              "      <td>55000.0</td>\n",
              "      <td>4</td>\n",
              "      <td>6</td>\n",
              "      <td>6074.19</td>\n",
              "      <td>4.0</td>\n",
              "      <td>0.0</td>\n",
              "      <td>10.99</td>\n",
              "      <td>14.0</td>\n",
              "      <td>4.0</td>\n",
              "      <td>16.0</td>\n",
              "      <td>326.0</td>\n",
              "      <td>53.9</td>\n",
              "      <td>16473.0</td>\n",
              "      <td>9570.0</td>\n",
              "      <td>3.0</td>\n",
              "      <td>0</td>\n",
              "    </tr>\n",
              "    <tr>\n",
              "      <th>2</th>\n",
              "      <td>12000.0</td>\n",
              "      <td>10</td>\n",
              "      <td>130000.0</td>\n",
              "      <td>6</td>\n",
              "      <td>6</td>\n",
              "      <td>398.28</td>\n",
              "      <td>3.0</td>\n",
              "      <td>0.0</td>\n",
              "      <td>11.99</td>\n",
              "      <td>9.0</td>\n",
              "      <td>5.0</td>\n",
              "      <td>4.0</td>\n",
              "      <td>193.0</td>\n",
              "      <td>93.0</td>\n",
              "      <td>3567.0</td>\n",
              "      <td>36362.0</td>\n",
              "      <td>4.0</td>\n",
              "      <td>0</td>\n",
              "    </tr>\n",
              "    <tr>\n",
              "      <th>3</th>\n",
              "      <td>28000.0</td>\n",
              "      <td>5</td>\n",
              "      <td>325000.0</td>\n",
              "      <td>6</td>\n",
              "      <td>7</td>\n",
              "      <td>23915.86</td>\n",
              "      <td>5.0</td>\n",
              "      <td>0.0</td>\n",
              "      <td>7.62</td>\n",
              "      <td>15.0</td>\n",
              "      <td>5.0</td>\n",
              "      <td>5.0</td>\n",
              "      <td>229.0</td>\n",
              "      <td>67.1</td>\n",
              "      <td>13901.0</td>\n",
              "      <td>53306.0</td>\n",
              "      <td>6.0</td>\n",
              "      <td>0</td>\n",
              "    </tr>\n",
              "    <tr>\n",
              "      <th>4</th>\n",
              "      <td>12000.0</td>\n",
              "      <td>4</td>\n",
              "      <td>60000.0</td>\n",
              "      <td>5</td>\n",
              "      <td>6</td>\n",
              "      <td>3775.55</td>\n",
              "      <td>0.0</td>\n",
              "      <td>0.0</td>\n",
              "      <td>10.99</td>\n",
              "      <td>15.0</td>\n",
              "      <td>7.0</td>\n",
              "      <td>1.0</td>\n",
              "      <td>48.0</td>\n",
              "      <td>15.9</td>\n",
              "      <td>15216.0</td>\n",
              "      <td>476.0</td>\n",
              "      <td>8.0</td>\n",
              "      <td>0</td>\n",
              "    </tr>\n",
              "  </tbody>\n",
              "</table>\n",
              "</div>"
            ],
            "text/plain": [
              "   funded_amnt emp_length  ...  acc_open_past_24mths  loan_status\n",
              "0      12000.0          3  ...                   4.0            0\n",
              "1      27050.0         10  ...                   3.0            0\n",
              "2      12000.0         10  ...                   4.0            0\n",
              "3      28000.0          5  ...                   6.0            0\n",
              "4      12000.0          4  ...                   8.0            0\n",
              "\n",
              "[5 rows x 18 columns]"
            ]
          },
          "metadata": {
            "tags": []
          },
          "execution_count": 252
        }
      ]
    },
    {
      "cell_type": "markdown",
      "metadata": {
        "id": "9EUsrxdUki5p",
        "colab_type": "text"
      },
      "source": [
        "### 資料標準化"
      ]
    },
    {
      "cell_type": "code",
      "metadata": {
        "id": "a0ucKUdzgiFn",
        "colab_type": "code",
        "colab": {}
      },
      "source": [
        "from sklearn import preprocessing,metrics\n",
        "scl = preprocessing.StandardScaler()\n",
        "fields = Final_data.iloc[:,:-1]\n",
        "data_clean = pd.DataFrame(scl.fit_transform(fields), columns = fields.columns)\n",
        "data_clean['loan_status'] = Final_data['loan_status']"
      ],
      "execution_count": 0,
      "outputs": []
    },
    {
      "cell_type": "code",
      "metadata": {
        "id": "hOn20N6suQTu",
        "colab_type": "code",
        "colab": {}
      },
      "source": [
        ""
      ],
      "execution_count": 0,
      "outputs": []
    },
    {
      "cell_type": "code",
      "metadata": {
        "id": "B3ofk5vcj5nS",
        "colab_type": "code",
        "colab": {
          "base_uri": "https://localhost:8080/",
          "height": 222
        },
        "outputId": "7c4050f9-9f24-4d7d-e5e3-582cdd5ced3b"
      },
      "source": [
        "data_clean.head()"
      ],
      "execution_count": 255,
      "outputs": [
        {
          "output_type": "execute_result",
          "data": {
            "text/html": [
              "<div>\n",
              "<style scoped>\n",
              "    .dataframe tbody tr th:only-of-type {\n",
              "        vertical-align: middle;\n",
              "    }\n",
              "\n",
              "    .dataframe tbody tr th {\n",
              "        vertical-align: top;\n",
              "    }\n",
              "\n",
              "    .dataframe thead th {\n",
              "        text-align: right;\n",
              "    }\n",
              "</style>\n",
              "<table border=\"1\" class=\"dataframe\">\n",
              "  <thead>\n",
              "    <tr style=\"text-align: right;\">\n",
              "      <th></th>\n",
              "      <th>funded_amnt</th>\n",
              "      <th>emp_length</th>\n",
              "      <th>annual_inc</th>\n",
              "      <th>home_ownership</th>\n",
              "      <th>grade</th>\n",
              "      <th>last_pymnt_amnt</th>\n",
              "      <th>mort_acc</th>\n",
              "      <th>pub_rec</th>\n",
              "      <th>int_rate</th>\n",
              "      <th>open_acc</th>\n",
              "      <th>num_actv_rev_tl</th>\n",
              "      <th>mo_sin_rcnt_rev_tl_op</th>\n",
              "      <th>mo_sin_old_rev_tl_op</th>\n",
              "      <th>bc_util</th>\n",
              "      <th>bc_open_to_buy</th>\n",
              "      <th>avg_cur_bal</th>\n",
              "      <th>acc_open_past_24mths</th>\n",
              "      <th>loan_status</th>\n",
              "    </tr>\n",
              "  </thead>\n",
              "  <tbody>\n",
              "    <tr>\n",
              "      <th>0</th>\n",
              "      <td>-0.289865</td>\n",
              "      <td>-0.808437</td>\n",
              "      <td>0.468263</td>\n",
              "      <td>0.882600</td>\n",
              "      <td>1.364207</td>\n",
              "      <td>-0.212603</td>\n",
              "      <td>-0.377328</td>\n",
              "      <td>-0.261387</td>\n",
              "      <td>-1.500497</td>\n",
              "      <td>1.302047</td>\n",
              "      <td>-0.250578</td>\n",
              "      <td>-0.275500</td>\n",
              "      <td>-0.743709</td>\n",
              "      <td>0.654446</td>\n",
              "      <td>-0.452853</td>\n",
              "      <td>-0.133081</td>\n",
              "      <td>0.027086</td>\n",
              "      <td>0.0</td>\n",
              "    </tr>\n",
              "    <tr>\n",
              "      <th>1</th>\n",
              "      <td>1.565265</td>\n",
              "      <td>1.139246</td>\n",
              "      <td>-0.332513</td>\n",
              "      <td>-2.226577</td>\n",
              "      <td>0.587619</td>\n",
              "      <td>0.325463</td>\n",
              "      <td>1.018453</td>\n",
              "      <td>-0.261387</td>\n",
              "      <td>-0.741023</td>\n",
              "      <td>0.650935</td>\n",
              "      <td>-0.621610</td>\n",
              "      <td>0.126864</td>\n",
              "      <td>1.813711</td>\n",
              "      <td>-0.507619</td>\n",
              "      <td>0.638622</td>\n",
              "      <td>-0.279377</td>\n",
              "      <td>-0.357007</td>\n",
              "      <td>0.0</td>\n",
              "    </tr>\n",
              "    <tr>\n",
              "      <th>2</th>\n",
              "      <td>-0.289865</td>\n",
              "      <td>1.139246</td>\n",
              "      <td>1.114672</td>\n",
              "      <td>0.882600</td>\n",
              "      <td>0.587619</td>\n",
              "      <td>-0.645000</td>\n",
              "      <td>0.553193</td>\n",
              "      <td>-0.261387</td>\n",
              "      <td>-0.515660</td>\n",
              "      <td>-0.434251</td>\n",
              "      <td>-0.250578</td>\n",
              "      <td>-0.677865</td>\n",
              "      <td>0.178438</td>\n",
              "      <td>1.027406</td>\n",
              "      <td>-0.365268</td>\n",
              "      <td>1.491777</td>\n",
              "      <td>0.027086</td>\n",
              "      <td>0.0</td>\n",
              "    </tr>\n",
              "    <tr>\n",
              "      <th>3</th>\n",
              "      <td>1.682366</td>\n",
              "      <td>-0.251956</td>\n",
              "      <td>4.877352</td>\n",
              "      <td>0.882600</td>\n",
              "      <td>1.364207</td>\n",
              "      <td>3.376020</td>\n",
              "      <td>1.483714</td>\n",
              "      <td>-0.261387</td>\n",
              "      <td>-1.500497</td>\n",
              "      <td>0.867972</td>\n",
              "      <td>-0.250578</td>\n",
              "      <td>-0.610804</td>\n",
              "      <td>0.621068</td>\n",
              "      <td>0.010599</td>\n",
              "      <td>0.438560</td>\n",
              "      <td>2.611904</td>\n",
              "      <td>0.795272</td>\n",
              "      <td>0.0</td>\n",
              "    </tr>\n",
              "    <tr>\n",
              "      <th>4</th>\n",
              "      <td>-0.289865</td>\n",
              "      <td>-0.530196</td>\n",
              "      <td>-0.236034</td>\n",
              "      <td>-0.671988</td>\n",
              "      <td>0.587619</td>\n",
              "      <td>-0.067556</td>\n",
              "      <td>-0.842589</td>\n",
              "      <td>-0.261387</td>\n",
              "      <td>-0.741023</td>\n",
              "      <td>0.867972</td>\n",
              "      <td>0.491487</td>\n",
              "      <td>-0.879047</td>\n",
              "      <td>-1.604380</td>\n",
              "      <td>-1.999458</td>\n",
              "      <td>0.540847</td>\n",
              "      <td>-0.880559</td>\n",
              "      <td>1.563458</td>\n",
              "      <td>0.0</td>\n",
              "    </tr>\n",
              "  </tbody>\n",
              "</table>\n",
              "</div>"
            ],
            "text/plain": [
              "   funded_amnt  emp_length  ...  acc_open_past_24mths  loan_status\n",
              "0    -0.289865   -0.808437  ...              0.027086          0.0\n",
              "1     1.565265    1.139246  ...             -0.357007          0.0\n",
              "2    -0.289865    1.139246  ...              0.027086          0.0\n",
              "3     1.682366   -0.251956  ...              0.795272          0.0\n",
              "4    -0.289865   -0.530196  ...              1.563458          0.0\n",
              "\n",
              "[5 rows x 18 columns]"
            ]
          },
          "metadata": {
            "tags": []
          },
          "execution_count": 255
        }
      ]
    },
    {
      "cell_type": "code",
      "metadata": {
        "id": "Y-WvuE_6uS5m",
        "colab_type": "code",
        "colab": {}
      },
      "source": [
        "data_clean.dropna(inplace=True)"
      ],
      "execution_count": 0,
      "outputs": []
    },
    {
      "cell_type": "markdown",
      "metadata": {
        "id": "8nax9LT0lIgY",
        "colab_type": "text"
      },
      "source": [
        "### 資料重取樣"
      ]
    },
    {
      "cell_type": "code",
      "metadata": {
        "id": "i9RDNrFLkW91",
        "colab_type": "code",
        "colab": {
          "base_uri": "https://localhost:8080/",
          "height": 69
        },
        "outputId": "3d5521d4-7f49-43cd-d0d3-d2a232ed25d2"
      },
      "source": [
        "data_clean['loan_status'].value_counts()"
      ],
      "execution_count": 259,
      "outputs": [
        {
          "output_type": "execute_result",
          "data": {
            "text/plain": [
              "0.0    158495\n",
              "1.0     29666\n",
              "Name: loan_status, dtype: int64"
            ]
          },
          "metadata": {
            "tags": []
          },
          "execution_count": 259
        }
      ]
    },
    {
      "cell_type": "code",
      "metadata": {
        "id": "DmimGWqrlGvH",
        "colab_type": "code",
        "colab": {}
      },
      "source": [
        "loanstatus_0 = data_clean[data_clean[\"loan_status\"]==0]\n",
        "loanstatus_1 = data_clean[data_clean[\"loan_status\"]==1]"
      ],
      "execution_count": 0,
      "outputs": []
    },
    {
      "cell_type": "code",
      "metadata": {
        "id": "tm9RpUf_lLsX",
        "colab_type": "code",
        "colab": {
          "base_uri": "https://localhost:8080/",
          "height": 35
        },
        "outputId": "abf4dedb-1049-4591-ea18-e86fc13812ca"
      },
      "source": [
        "subset_of_loanstatus_0 = loanstatus_0.sample(n=1000)\n",
        "subset_of_loanstatus_1 = loanstatus_1.sample(n=1000)\n",
        "data_clean = pd.concat([subset_of_loanstatus_1,subset_of_loanstatus_0])\n",
        "data_clean = data_clean.sample(frac=1).reset_index(drop=True)\n",
        "data_clean.shape"
      ],
      "execution_count": 261,
      "outputs": [
        {
          "output_type": "execute_result",
          "data": {
            "text/plain": [
              "(2000, 18)"
            ]
          },
          "metadata": {
            "tags": []
          },
          "execution_count": 261
        }
      ]
    },
    {
      "cell_type": "code",
      "metadata": {
        "id": "4Ilu5pctmPZM",
        "colab_type": "code",
        "colab": {}
      },
      "source": [
        "#data_clean.head()"
      ],
      "execution_count": 0,
      "outputs": []
    },
    {
      "cell_type": "code",
      "metadata": {
        "id": "kzGRAGcflbhp",
        "colab_type": "code",
        "colab": {
          "base_uri": "https://localhost:8080/",
          "height": 35
        },
        "outputId": "32cee9b4-be9f-40b7-deab-5252d5315ec4"
      },
      "source": [
        "from sklearn.ensemble import RandomForestClassifier\n",
        "from sklearn.metrics import accuracy_score\n",
        "clf = RandomForestClassifier()\n",
        "X_train, X_test, y_train, y_test = train_test_split(data_clean.iloc[:,:-1], data_clean.iloc[:,-1], test_size=0.2, random_state=42)\n",
        "clf.fit(X_train,y_train)\n",
        "predicted = clf.predict(X_test)\n",
        "accuracy_score(y_test, predicted)"
      ],
      "execution_count": 263,
      "outputs": [
        {
          "output_type": "execute_result",
          "data": {
            "text/plain": [
              "0.4675"
            ]
          },
          "metadata": {
            "tags": []
          },
          "execution_count": 263
        }
      ]
    },
    {
      "cell_type": "code",
      "metadata": {
        "id": "xC4x0qhCl6ws",
        "colab_type": "code",
        "colab": {}
      },
      "source": [
        "acc = []\n",
        "for recnum in range(500,6500,500):\n",
        "  subset_of_loanstatus_0 = loanstatus_0.sample(n=recnum)\n",
        "  subset_of_loanstatus_1 = loanstatus_1.sample(n=recnum)\n",
        "  data_clean = pd.concat([subset_of_loanstatus_1,subset_of_loanstatus_0])\n",
        "  data_clean = data_clean.sample(frac=1).reset_index(drop=True)\n",
        "  clf = LogisticRegression()\n",
        "  X_train, X_test, y_train, y_test = train_test_split(data_clean.iloc[:,:-1], data_clean.iloc[:,-1], test_size=0.2, random_state=42)\n",
        "  clf.fit(X_train,y_train)\n",
        "  predicted = clf.predict(X_test)\n",
        "  acc.append(accuracy_score(y_test, predicted))"
      ],
      "execution_count": 0,
      "outputs": []
    },
    {
      "cell_type": "code",
      "metadata": {
        "id": "K67ynAzVm7lw",
        "colab_type": "code",
        "colab": {
          "base_uri": "https://localhost:8080/",
          "height": 297
        },
        "outputId": "09ce26a4-b672-4550-f497-3e0e034eb003"
      },
      "source": [
        "plt.plot(range(500,6500,500), acc)"
      ],
      "execution_count": 265,
      "outputs": [
        {
          "output_type": "execute_result",
          "data": {
            "text/plain": [
              "[<matplotlib.lines.Line2D at 0x7f1b2d9375f8>]"
            ]
          },
          "metadata": {
            "tags": []
          },
          "execution_count": 265
        },
        {
          "output_type": "display_data",
          "data": {
            "image/png": "[encoded data removed]",
            "text/plain": [
              "<Figure size 432x288 with 1 Axes>"
            ]
          },
          "metadata": {
            "tags": []
          }
        }
      ]
    },
    {
      "cell_type": "code",
      "metadata": {
        "id": "1LJKMWaPnFqO",
        "colab_type": "code",
        "colab": {
          "base_uri": "https://localhost:8080/",
          "height": 35
        },
        "outputId": "4125828d-1aab-4095-812f-68b8c2fc45f9"
      },
      "source": [
        "subset_of_loanstatus_0 = loanstatus_0.sample(n=5500)\n",
        "subset_of_loanstatus_1 = loanstatus_1.sample(n=5500)\n",
        "data_clean = pd.concat([subset_of_loanstatus_1,subset_of_loanstatus_0])\n",
        "data_clean = data_clean.sample(frac=1).reset_index(drop=True)\n",
        "data_clean.shape"
      ],
      "execution_count": 266,
      "outputs": [
        {
          "output_type": "execute_result",
          "data": {
            "text/plain": [
              "(11000, 18)"
            ]
          },
          "metadata": {
            "tags": []
          },
          "execution_count": 266
        }
      ]
    },
    {
      "cell_type": "code",
      "metadata": {
        "id": "ZFmel5fbnsjS",
        "colab_type": "code",
        "colab": {}
      },
      "source": [
        "from sklearn.model_selection import train_test_split\n",
        "X_train, X_test, y_train, y_test = train_test_split(data_clean.iloc[:,:-1], data_clean.iloc[:,-1], test_size=0.2, random_state=42)\n"
      ],
      "execution_count": 0,
      "outputs": []
    },
    {
      "cell_type": "code",
      "metadata": {
        "id": "DGU9qxzWnznx",
        "colab_type": "code",
        "colab": {
          "base_uri": "https://localhost:8080/",
          "height": 35
        },
        "outputId": "aceb0a50-f0cc-4e26-e59b-b91b54ec8cdb"
      },
      "source": [
        "X_train.shape, X_test.shape, y_train.shape, y_test.shape"
      ],
      "execution_count": 268,
      "outputs": [
        {
          "output_type": "execute_result",
          "data": {
            "text/plain": [
              "((8800, 17), (2200, 17), (8800,), (2200,))"
            ]
          },
          "metadata": {
            "tags": []
          },
          "execution_count": 268
        }
      ]
    },
    {
      "cell_type": "markdown",
      "metadata": {
        "id": "cOILGuICn9wt",
        "colab_type": "text"
      },
      "source": [
        "###特徵篩選"
      ]
    },
    {
      "cell_type": "code",
      "metadata": {
        "id": "VyvmAUwPn21B",
        "colab_type": "code",
        "colab": {
          "base_uri": "https://localhost:8080/",
          "height": 69
        },
        "outputId": "8653a937-c7d7-414a-9ae2-64cee451eb51"
      },
      "source": [
        "from sklearn import linear_model,svm\n",
        "from sklearn.feature_selection import RFE\n",
        "\n",
        "# create the RFE model and select 3 attributes\n",
        "clf_LR = linear_model.LogisticRegression(C=1e30)\n",
        "clf_LR.fit(X_train,y_train)\n",
        "rfe = RFE(clf_LR, 10)\n",
        "rfe = rfe.fit(data_clean.iloc[:,:-1].values, data_clean.iloc[:,-1].values)\n",
        "\n",
        "# summarize the selection of the attributes\n",
        "print(rfe.support_)\n",
        "print(rfe.ranking_)"
      ],
      "execution_count": 269,
      "outputs": [
        {
          "output_type": "stream",
          "text": [
            "[False False  True False  True False False  True  True  True  True  True\n",
            " False  True  True  True False]\n",
            "[2 4 1 3 1 6 8 1 1 1 1 1 7 1 1 1 5]\n"
          ],
          "name": "stdout"
        }
      ]
    },
    {
      "cell_type": "code",
      "metadata": {
        "id": "t-t5OLRsoUwj",
        "colab_type": "code",
        "colab": {
          "base_uri": "https://localhost:8080/",
          "height": 222
        },
        "outputId": "c6206c5e-31f6-456d-8b0f-c157dfad337f"
      },
      "source": [
        "X_train.loc[:,rfe.support_].head()"
      ],
      "execution_count": 270,
      "outputs": [
        {
          "output_type": "execute_result",
          "data": {
            "text/html": [
              "<div>\n",
              "<style scoped>\n",
              "    .dataframe tbody tr th:only-of-type {\n",
              "        vertical-align: middle;\n",
              "    }\n",
              "\n",
              "    .dataframe tbody tr th {\n",
              "        vertical-align: top;\n",
              "    }\n",
              "\n",
              "    .dataframe thead th {\n",
              "        text-align: right;\n",
              "    }\n",
              "</style>\n",
              "<table border=\"1\" class=\"dataframe\">\n",
              "  <thead>\n",
              "    <tr style=\"text-align: right;\">\n",
              "      <th></th>\n",
              "      <th>annual_inc</th>\n",
              "      <th>grade</th>\n",
              "      <th>pub_rec</th>\n",
              "      <th>int_rate</th>\n",
              "      <th>open_acc</th>\n",
              "      <th>num_actv_rev_tl</th>\n",
              "      <th>mo_sin_rcnt_rev_tl_op</th>\n",
              "      <th>bc_util</th>\n",
              "      <th>bc_open_to_buy</th>\n",
              "      <th>avg_cur_bal</th>\n",
              "    </tr>\n",
              "  </thead>\n",
              "  <tbody>\n",
              "    <tr>\n",
              "      <th>10735</th>\n",
              "      <td>-0.961694</td>\n",
              "      <td>0.587619</td>\n",
              "      <td>-0.261387</td>\n",
              "      <td>-0.741023</td>\n",
              "      <td>0.216861</td>\n",
              "      <td>0.862519</td>\n",
              "      <td>-0.677865</td>\n",
              "      <td>-1.006207</td>\n",
              "      <td>-0.102589</td>\n",
              "      <td>-0.418401</td>\n",
              "    </tr>\n",
              "    <tr>\n",
              "      <th>5937</th>\n",
              "      <td>-0.043076</td>\n",
              "      <td>-0.965556</td>\n",
              "      <td>-0.261387</td>\n",
              "      <td>0.895115</td>\n",
              "      <td>-0.868325</td>\n",
              "      <td>-1.363675</td>\n",
              "      <td>0.596289</td>\n",
              "      <td>1.239404</td>\n",
              "      <td>-0.627402</td>\n",
              "      <td>2.779355</td>\n",
              "    </tr>\n",
              "    <tr>\n",
              "      <th>7642</th>\n",
              "      <td>-0.236034</td>\n",
              "      <td>1.364207</td>\n",
              "      <td>-0.261387</td>\n",
              "      <td>-1.279641</td>\n",
              "      <td>-0.000176</td>\n",
              "      <td>0.120454</td>\n",
              "      <td>0.931593</td>\n",
              "      <td>-1.944496</td>\n",
              "      <td>0.077872</td>\n",
              "      <td>-0.292863</td>\n",
              "    </tr>\n",
              "    <tr>\n",
              "      <th>3328</th>\n",
              "      <td>0.053403</td>\n",
              "      <td>-0.188969</td>\n",
              "      <td>-0.261387</td>\n",
              "      <td>0.674258</td>\n",
              "      <td>-0.651288</td>\n",
              "      <td>-0.992643</td>\n",
              "      <td>0.395107</td>\n",
              "      <td>-0.228880</td>\n",
              "      <td>-0.281338</td>\n",
              "      <td>1.514386</td>\n",
              "    </tr>\n",
              "    <tr>\n",
              "      <th>8681</th>\n",
              "      <td>-0.525471</td>\n",
              "      <td>-0.965556</td>\n",
              "      <td>-0.261387</td>\n",
              "      <td>1.007796</td>\n",
              "      <td>-0.651288</td>\n",
              "      <td>-0.621610</td>\n",
              "      <td>0.395107</td>\n",
              "      <td>1.325774</td>\n",
              "      <td>-0.642726</td>\n",
              "      <td>-0.459586</td>\n",
              "    </tr>\n",
              "  </tbody>\n",
              "</table>\n",
              "</div>"
            ],
            "text/plain": [
              "       annual_inc     grade   pub_rec  ...   bc_util  bc_open_to_buy  avg_cur_bal\n",
              "10735   -0.961694  0.587619 -0.261387  ... -1.006207       -0.102589    -0.418401\n",
              "5937    -0.043076 -0.965556 -0.261387  ...  1.239404       -0.627402     2.779355\n",
              "7642    -0.236034  1.364207 -0.261387  ... -1.944496        0.077872    -0.292863\n",
              "3328     0.053403 -0.188969 -0.261387  ... -0.228880       -0.281338     1.514386\n",
              "8681    -0.525471 -0.965556 -0.261387  ...  1.325774       -0.642726    -0.459586\n",
              "\n",
              "[5 rows x 10 columns]"
            ]
          },
          "metadata": {
            "tags": []
          },
          "execution_count": 270
        }
      ]
    },
    {
      "cell_type": "code",
      "metadata": {
        "id": "sGKatqQnois0",
        "colab_type": "code",
        "colab": {
          "base_uri": "https://localhost:8080/",
          "height": 52
        },
        "outputId": "aeefa41c-ba63-46c2-f613-8833d60879fd"
      },
      "source": [
        "from sklearn.decomposition import PCA\n",
        "pca = PCA(n_components=10, whiten=True)\n",
        "X_train_pca = pca.fit_transform(X_train)\n",
        "X_test_pca = pca.transform(X_test)\n",
        "explained_variance = pca.explained_variance_ratio_\n",
        "print('Expected Variance is '+ str(explained_variance))"
      ],
      "execution_count": 271,
      "outputs": [
        {
          "output_type": "stream",
          "text": [
            "Expected Variance is [0.16829272 0.15840102 0.12533384 0.07978422 0.06961075 0.0579154\n",
            " 0.05287865 0.04560037 0.04254936 0.0386508 ]\n"
          ],
          "name": "stdout"
        }
      ]
    },
    {
      "cell_type": "code",
      "metadata": {
        "id": "DRSQqiTgo2dk",
        "colab_type": "code",
        "colab": {}
      },
      "source": [
        "features = ['funded_amnt','annual_inc','grade',\"last_pymnt_amnt\",\n",
        "\"int_rate\",\"mo_sin_rcnt_rev_tl_op\",\"mo_sin_old_rev_tl_op\",\"bc_util\",\"bc_open_to_buy\",\"acc_open_past_24mths\",\"loan_status\"]\n",
        "X_train, X_test = X_train[features[:-1]], X_test[features[:-1]]\n",
        "data_clean = data_clean[features]"
      ],
      "execution_count": 0,
      "outputs": []
    },
    {
      "cell_type": "code",
      "metadata": {
        "id": "jZQJjcvBpHB1",
        "colab_type": "code",
        "colab": {
          "base_uri": "https://localhost:8080/",
          "height": 35
        },
        "outputId": "9681a261-43c8-4282-8e8e-5e88fd03a62d"
      },
      "source": [
        "data_clean.shape"
      ],
      "execution_count": 273,
      "outputs": [
        {
          "output_type": "execute_result",
          "data": {
            "text/plain": [
              "(11000, 11)"
            ]
          },
          "metadata": {
            "tags": []
          },
          "execution_count": 273
        }
      ]
    },
    {
      "cell_type": "markdown",
      "metadata": {
        "id": "wI7siOF0ptmO",
        "colab_type": "text"
      },
      "source": [
        "### 建立模型"
      ]
    },
    {
      "cell_type": "code",
      "metadata": {
        "id": "wtJL7TUQpKGl",
        "colab_type": "code",
        "colab": {
          "base_uri": "https://localhost:8080/",
          "height": 35
        },
        "outputId": "6604a568-70c9-471a-820c-0436e4a9e580"
      },
      "source": [
        "from sklearn import linear_model\n",
        "from sklearn.model_selection import  cross_val_score\n",
        "from sklearn.feature_selection import RFE\n",
        "\n",
        "clf_LR = linear_model.LogisticRegression(C=1e30)\n",
        "clf_LR.fit(X_train,y_train)\n",
        "print(cross_val_score(clf_LR, X_train, y_train, cv=3))"
      ],
      "execution_count": 274,
      "outputs": [
        {
          "output_type": "stream",
          "text": [
            "[0.49182004 0.48857825 0.49573815]\n"
          ],
          "name": "stdout"
        }
      ]
    },
    {
      "cell_type": "code",
      "metadata": {
        "id": "qRWxKkdzpwwO",
        "colab_type": "code",
        "colab": {}
      },
      "source": [
        "from sklearn.model_selection import GridSearchCV\n",
        "\n",
        "def cross_validation_best_parameters(model, param_grid):\n",
        "  grid = GridSearchCV(model, param_grid,cv=10, scoring='accuracy')\n",
        "  X=data_clean.iloc[:,:-1].values\n",
        "  y=data_clean.iloc[:,-1].values\n",
        "  grid.fit(X,y)\n",
        "  #print()\n",
        "  #print(dir(grid))\n",
        "  #print(grid.cv_results_)\n",
        "  #mean_scores = [result for result in grid.cv_results_.mean_test_score]\n",
        "  return grid.best_score_,grid.best_estimator_\n"
      ],
      "execution_count": 0,
      "outputs": []
    },
    {
      "cell_type": "code",
      "metadata": {
        "id": "R1rG9cjRqq8a",
        "colab_type": "code",
        "colab": {
          "base_uri": "https://localhost:8080/",
          "height": 121
        },
        "outputId": "eeb0eb9b-81b7-4a4a-dc6b-9907e6e6fd27"
      },
      "source": [
        "logreg = linear_model.LogisticRegression(random_state=0)\n",
        "c=[0.001, 0.01, 0.1, 1, 10, 100, 1000]\n",
        "param_grid = dict(C=c)\n",
        "Best_Accuracy, Best_classifier =cross_validation_best_parameters(logreg,param_grid)\n",
        "print(\"Best accuracy is \"+ str(Best_Accuracy))\n",
        "print(Best_classifier)\n"
      ],
      "execution_count": 276,
      "outputs": [
        {
          "output_type": "stream",
          "text": [
            "Best accuracy is 0.4913636363636364\n",
            "LogisticRegression(C=0.01, class_weight=None, dual=False, fit_intercept=True,\n",
            "                   intercept_scaling=1, l1_ratio=None, max_iter=100,\n",
            "                   multi_class='auto', n_jobs=None, penalty='l2',\n",
            "                   random_state=0, solver='lbfgs', tol=0.0001, verbose=0,\n",
            "                   warm_start=False)\n"
          ],
          "name": "stdout"
        }
      ]
    },
    {
      "cell_type": "code",
      "metadata": {
        "id": "1Fdu6hhCrDks",
        "colab_type": "code",
        "colab": {}
      },
      "source": [
        "import seaborn as sns\n",
        "sns.set('talk', 'whitegrid', 'dark', font_scale=1, font='Ricty',rc={\"lines.linewidth\": 2, 'grid.linestyle': '--'})\n",
        "def plotAUC(truth, pred, lab):\n",
        "  fpr, tpr, _ = metrics.roc_curve(truth,pred)\n",
        "  roc_auc = metrics.auc(fpr, tpr)\n",
        "  lw = 2\n",
        "  c = (np.random.rand(), np.random.rand(), np.random.rand())\n",
        "  plt.plot(fpr, tpr, color= c,lw=lw, label= lab +'(AUC = %0.2f)' % roc_auc)\n",
        "  plt.plot([0, 1], [0, 1], color='navy', lw=lw, linestyle='--')\n",
        "  plt.xlim([0.0, 1.0])\n",
        "  plt.ylim([0.0, 1.0])\n",
        "  plt.xlabel('False Positive Rate')\n",
        "  plt.ylabel('True Positive Rate')\n",
        "  plt.title('ROC curve') #Receiver Operating Characteristic\n",
        "  plt.legend(loc=\"lower right\")\n"
      ],
      "execution_count": 0,
      "outputs": []
    },
    {
      "cell_type": "code",
      "metadata": {
        "id": "JfPRN0x2sU82",
        "colab_type": "code",
        "colab": {
          "base_uri": "https://localhost:8080/",
          "height": 339
        },
        "outputId": "e5d3507d-555c-4d92-ba77-215a518b2a70"
      },
      "source": [
        "import numpy as np\n",
        "clf_LR = linear_model.LogisticRegression(C=Best_classifier.C)\n",
        "clf_LR.fit(X_train,y_train)\n",
        "LR_Predict = clf_LR.predict_proba(X_test)[:,1]\n",
        "LR_Predict_bin = clf_LR.predict(X_test)\n",
        "LR_Accuracy = accuracy_score(y_test,LR_Predict.round())\n",
        "print(\"Logistic regression accuracy is \",LR_Accuracy)\n",
        "plotAUC(y_test,LR_Predict,'Logistic Regression')\n",
        "plt.show()\n"
      ],
      "execution_count": 278,
      "outputs": [
        {
          "output_type": "stream",
          "text": [
            "Logistic regression accuracy is  0.5113636363636364\n"
          ],
          "name": "stdout"
        },
        {
          "output_type": "display_data",
          "data": {
            "image/png": "[encoded data removed]",
            "text/plain": [
              "<Figure size 432x288 with 1 Axes>"
            ]
          },
          "metadata": {
            "tags": []
          }
        }
      ]
    },
    {
      "cell_type": "code",
      "metadata": {
        "id": "yfY1Y-GIsW1w",
        "colab_type": "code",
        "colab": {
          "base_uri": "https://localhost:8080/",
          "height": 401
        },
        "outputId": "b2d2c978-0c36-42a0-ccc1-d2bb5e1da143"
      },
      "source": [
        "from sklearn.model_selection import GridSearchCV\n",
        "clf_svm = svm.SVC()\n",
        "powers = range(0,5)\n",
        "cs = [10**i for i in powers]\n",
        "param_grid = dict(C=cs)\n",
        "grid = GridSearchCV(clf_svm, param_grid, cv=10, scoring='accuracy')\n",
        "grid.fit(data_clean.iloc[:,:-1].values, data_clean.iloc[:,-1].values)\n",
        "#grid_mean_scores = [result.mean_validation_score for result in grid.grid_scores_]\n",
        "print(\"---------------\")\n",
        "print(grid.best_estimator_)\n"
      ],
      "execution_count": 279,
      "outputs": [
        {
          "output_type": "error",
          "ename": "KeyboardInterrupt",
          "evalue": "ignored",
          "traceback": [
            "\u001b[0;31m---------------------------------------------------------------------------\u001b[0m",
            "\u001b[0;31mKeyboardInterrupt\u001b[0m                         Traceback (most recent call last)",
            "\u001b[0;32m<ipython-input-279-eb0c55725d25>\u001b[0m in \u001b[0;36m<module>\u001b[0;34m()\u001b[0m\n\u001b[1;32m      5\u001b[0m \u001b[0mparam_grid\u001b[0m \u001b[0;34m=\u001b[0m \u001b[0mdict\u001b[0m\u001b[0;34m(\u001b[0m\u001b[0mC\u001b[0m\u001b[0;34m=\u001b[0m\u001b[0mcs\u001b[0m\u001b[0;34m)\u001b[0m\u001b[0;34m\u001b[0m\u001b[0;34m\u001b[0m\u001b[0m\n\u001b[1;32m      6\u001b[0m \u001b[0mgrid\u001b[0m \u001b[0;34m=\u001b[0m \u001b[0mGridSearchCV\u001b[0m\u001b[0;34m(\u001b[0m\u001b[0mclf_svm\u001b[0m\u001b[0;34m,\u001b[0m \u001b[0mparam_grid\u001b[0m\u001b[0;34m,\u001b[0m \u001b[0mcv\u001b[0m\u001b[0;34m=\u001b[0m\u001b[0;36m10\u001b[0m\u001b[0;34m,\u001b[0m \u001b[0mscoring\u001b[0m\u001b[0;34m=\u001b[0m\u001b[0;34m'accuracy'\u001b[0m\u001b[0;34m)\u001b[0m\u001b[0;34m\u001b[0m\u001b[0;34m\u001b[0m\u001b[0m\n\u001b[0;32m----> 7\u001b[0;31m \u001b[0mgrid\u001b[0m\u001b[0;34m.\u001b[0m\u001b[0mfit\u001b[0m\u001b[0;34m(\u001b[0m\u001b[0mdata_clean\u001b[0m\u001b[0;34m.\u001b[0m\u001b[0miloc\u001b[0m\u001b[0;34m[\u001b[0m\u001b[0;34m:\u001b[0m\u001b[0;34m,\u001b[0m\u001b[0;34m:\u001b[0m\u001b[0;34m-\u001b[0m\u001b[0;36m1\u001b[0m\u001b[0;34m]\u001b[0m\u001b[0;34m.\u001b[0m\u001b[0mvalues\u001b[0m\u001b[0;34m,\u001b[0m \u001b[0mdata_clean\u001b[0m\u001b[0;34m.\u001b[0m\u001b[0miloc\u001b[0m\u001b[0;34m[\u001b[0m\u001b[0;34m:\u001b[0m\u001b[0;34m,\u001b[0m\u001b[0;34m-\u001b[0m\u001b[0;36m1\u001b[0m\u001b[0;34m]\u001b[0m\u001b[0;34m.\u001b[0m\u001b[0mvalues\u001b[0m\u001b[0;34m)\u001b[0m\u001b[0;34m\u001b[0m\u001b[0;34m\u001b[0m\u001b[0m\n\u001b[0m\u001b[1;32m      8\u001b[0m \u001b[0;31m#grid_mean_scores = [result.mean_validation_score for result in grid.grid_scores_]\u001b[0m\u001b[0;34m\u001b[0m\u001b[0;34m\u001b[0m\u001b[0;34m\u001b[0m\u001b[0m\n\u001b[1;32m      9\u001b[0m \u001b[0mprint\u001b[0m\u001b[0;34m(\u001b[0m\u001b[0;34m\"---------------\"\u001b[0m\u001b[0;34m)\u001b[0m\u001b[0;34m\u001b[0m\u001b[0;34m\u001b[0m\u001b[0m\n",
            "\u001b[0;32m/usr/local/lib/python3.6/dist-packages/sklearn/model_selection/_search.py\u001b[0m in \u001b[0;36mfit\u001b[0;34m(self, X, y, groups, **fit_params)\u001b[0m\n\u001b[1;32m    708\u001b[0m                 \u001b[0;32mreturn\u001b[0m \u001b[0mresults\u001b[0m\u001b[0;34m\u001b[0m\u001b[0;34m\u001b[0m\u001b[0m\n\u001b[1;32m    709\u001b[0m \u001b[0;34m\u001b[0m\u001b[0m\n\u001b[0;32m--> 710\u001b[0;31m             \u001b[0mself\u001b[0m\u001b[0;34m.\u001b[0m\u001b[0m_run_search\u001b[0m\u001b[0;34m(\u001b[0m\u001b[0mevaluate_candidates\u001b[0m\u001b[0;34m)\u001b[0m\u001b[0;34m\u001b[0m\u001b[0;34m\u001b[0m\u001b[0m\n\u001b[0m\u001b[1;32m    711\u001b[0m \u001b[0;34m\u001b[0m\u001b[0m\n\u001b[1;32m    712\u001b[0m         \u001b[0;31m# For multi-metric evaluation, store the best_index_, best_params_ and\u001b[0m\u001b[0;34m\u001b[0m\u001b[0;34m\u001b[0m\u001b[0;34m\u001b[0m\u001b[0m\n",
            "\u001b[0;32m/usr/local/lib/python3.6/dist-packages/sklearn/model_selection/_search.py\u001b[0m in \u001b[0;36m_run_search\u001b[0;34m(self, evaluate_candidates)\u001b[0m\n\u001b[1;32m   1149\u001b[0m     \u001b[0;32mdef\u001b[0m \u001b[0m_run_search\u001b[0m\u001b[0;34m(\u001b[0m\u001b[0mself\u001b[0m\u001b[0;34m,\u001b[0m \u001b[0mevaluate_candidates\u001b[0m\u001b[0;34m)\u001b[0m\u001b[0;34m:\u001b[0m\u001b[0;34m\u001b[0m\u001b[0;34m\u001b[0m\u001b[0m\n\u001b[1;32m   1150\u001b[0m         \u001b[0;34m\"\"\"Search all candidates in param_grid\"\"\"\u001b[0m\u001b[0;34m\u001b[0m\u001b[0;34m\u001b[0m\u001b[0m\n\u001b[0;32m-> 1151\u001b[0;31m         \u001b[0mevaluate_candidates\u001b[0m\u001b[0;34m(\u001b[0m\u001b[0mParameterGrid\u001b[0m\u001b[0;34m(\u001b[0m\u001b[0mself\u001b[0m\u001b[0;34m.\u001b[0m\u001b[0mparam_grid\u001b[0m\u001b[0;34m)\u001b[0m\u001b[0;34m)\u001b[0m\u001b[0;34m\u001b[0m\u001b[0;34m\u001b[0m\u001b[0m\n\u001b[0m\u001b[1;32m   1152\u001b[0m \u001b[0;34m\u001b[0m\u001b[0m\n\u001b[1;32m   1153\u001b[0m \u001b[0;34m\u001b[0m\u001b[0m\n",
            "\u001b[0;32m/usr/local/lib/python3.6/dist-packages/sklearn/model_selection/_search.py\u001b[0m in \u001b[0;36mevaluate_candidates\u001b[0;34m(candidate_params)\u001b[0m\n\u001b[1;32m    687\u001b[0m                                \u001b[0;32mfor\u001b[0m \u001b[0mparameters\u001b[0m\u001b[0;34m,\u001b[0m \u001b[0;34m(\u001b[0m\u001b[0mtrain\u001b[0m\u001b[0;34m,\u001b[0m \u001b[0mtest\u001b[0m\u001b[0;34m)\u001b[0m\u001b[0;34m\u001b[0m\u001b[0;34m\u001b[0m\u001b[0m\n\u001b[1;32m    688\u001b[0m                                in product(candidate_params,\n\u001b[0;32m--> 689\u001b[0;31m                                           cv.split(X, y, groups)))\n\u001b[0m\u001b[1;32m    690\u001b[0m \u001b[0;34m\u001b[0m\u001b[0m\n\u001b[1;32m    691\u001b[0m                 \u001b[0;32mif\u001b[0m \u001b[0mlen\u001b[0m\u001b[0;34m(\u001b[0m\u001b[0mout\u001b[0m\u001b[0;34m)\u001b[0m \u001b[0;34m<\u001b[0m \u001b[0;36m1\u001b[0m\u001b[0;34m:\u001b[0m\u001b[0;34m\u001b[0m\u001b[0;34m\u001b[0m\u001b[0m\n",
            "\u001b[0;32m/usr/local/lib/python3.6/dist-packages/joblib/parallel.py\u001b[0m in \u001b[0;36m__call__\u001b[0;34m(self, iterable)\u001b[0m\n\u001b[1;32m   1030\u001b[0m                 \u001b[0mself\u001b[0m\u001b[0;34m.\u001b[0m\u001b[0m_iterating\u001b[0m \u001b[0;34m=\u001b[0m \u001b[0mself\u001b[0m\u001b[0;34m.\u001b[0m\u001b[0m_original_iterator\u001b[0m \u001b[0;32mis\u001b[0m \u001b[0;32mnot\u001b[0m \u001b[0;32mNone\u001b[0m\u001b[0;34m\u001b[0m\u001b[0;34m\u001b[0m\u001b[0m\n\u001b[1;32m   1031\u001b[0m \u001b[0;34m\u001b[0m\u001b[0m\n\u001b[0;32m-> 1032\u001b[0;31m             \u001b[0;32mwhile\u001b[0m \u001b[0mself\u001b[0m\u001b[0;34m.\u001b[0m\u001b[0mdispatch_one_batch\u001b[0m\u001b[0;34m(\u001b[0m\u001b[0miterator\u001b[0m\u001b[0;34m)\u001b[0m\u001b[0;34m:\u001b[0m\u001b[0;34m\u001b[0m\u001b[0;34m\u001b[0m\u001b[0m\n\u001b[0m\u001b[1;32m   1033\u001b[0m                 \u001b[0;32mpass\u001b[0m\u001b[0;34m\u001b[0m\u001b[0;34m\u001b[0m\u001b[0m\n\u001b[1;32m   1034\u001b[0m \u001b[0;34m\u001b[0m\u001b[0m\n",
            "\u001b[0;32m/usr/local/lib/python3.6/dist-packages/joblib/parallel.py\u001b[0m in \u001b[0;36mdispatch_one_batch\u001b[0;34m(self, iterator)\u001b[0m\n\u001b[1;32m    845\u001b[0m                 \u001b[0;32mreturn\u001b[0m \u001b[0;32mFalse\u001b[0m\u001b[0;34m\u001b[0m\u001b[0;34m\u001b[0m\u001b[0m\n\u001b[1;32m    846\u001b[0m             \u001b[0;32melse\u001b[0m\u001b[0;34m:\u001b[0m\u001b[0;34m\u001b[0m\u001b[0;34m\u001b[0m\u001b[0m\n\u001b[0;32m--> 847\u001b[0;31m                 \u001b[0mself\u001b[0m\u001b[0;34m.\u001b[0m\u001b[0m_dispatch\u001b[0m\u001b[0;34m(\u001b[0m\u001b[0mtasks\u001b[0m\u001b[0;34m)\u001b[0m\u001b[0;34m\u001b[0m\u001b[0;34m\u001b[0m\u001b[0m\n\u001b[0m\u001b[1;32m    848\u001b[0m                 \u001b[0;32mreturn\u001b[0m \u001b[0;32mTrue\u001b[0m\u001b[0;34m\u001b[0m\u001b[0;34m\u001b[0m\u001b[0m\n\u001b[1;32m    849\u001b[0m \u001b[0;34m\u001b[0m\u001b[0m\n",
            "\u001b[0;32m/usr/local/lib/python3.6/dist-packages/joblib/parallel.py\u001b[0m in \u001b[0;36m_dispatch\u001b[0;34m(self, batch)\u001b[0m\n\u001b[1;32m    763\u001b[0m         \u001b[0;32mwith\u001b[0m \u001b[0mself\u001b[0m\u001b[0;34m.\u001b[0m\u001b[0m_lock\u001b[0m\u001b[0;34m:\u001b[0m\u001b[0;34m\u001b[0m\u001b[0;34m\u001b[0m\u001b[0m\n\u001b[1;32m    764\u001b[0m             \u001b[0mjob_idx\u001b[0m \u001b[0;34m=\u001b[0m \u001b[0mlen\u001b[0m\u001b[0;34m(\u001b[0m\u001b[0mself\u001b[0m\u001b[0;34m.\u001b[0m\u001b[0m_jobs\u001b[0m\u001b[0;34m)\u001b[0m\u001b[0;34m\u001b[0m\u001b[0;34m\u001b[0m\u001b[0m\n\u001b[0;32m--> 765\u001b[0;31m             \u001b[0mjob\u001b[0m \u001b[0;34m=\u001b[0m \u001b[0mself\u001b[0m\u001b[0;34m.\u001b[0m\u001b[0m_backend\u001b[0m\u001b[0;34m.\u001b[0m\u001b[0mapply_async\u001b[0m\u001b[0;34m(\u001b[0m\u001b[0mbatch\u001b[0m\u001b[0;34m,\u001b[0m \u001b[0mcallback\u001b[0m\u001b[0;34m=\u001b[0m\u001b[0mcb\u001b[0m\u001b[0;34m)\u001b[0m\u001b[0;34m\u001b[0m\u001b[0;34m\u001b[0m\u001b[0m\n\u001b[0m\u001b[1;32m    766\u001b[0m             \u001b[0;31m# A job can complete so quickly than its callback is\u001b[0m\u001b[0;34m\u001b[0m\u001b[0;34m\u001b[0m\u001b[0;34m\u001b[0m\u001b[0m\n\u001b[1;32m    767\u001b[0m             \u001b[0;31m# called before we get here, causing self._jobs to\u001b[0m\u001b[0;34m\u001b[0m\u001b[0;34m\u001b[0m\u001b[0;34m\u001b[0m\u001b[0m\n",
            "\u001b[0;32m/usr/local/lib/python3.6/dist-packages/joblib/_parallel_backends.py\u001b[0m in \u001b[0;36mapply_async\u001b[0;34m(self, func, callback)\u001b[0m\n\u001b[1;32m    204\u001b[0m     \u001b[0;32mdef\u001b[0m \u001b[0mapply_async\u001b[0m\u001b[0;34m(\u001b[0m\u001b[0mself\u001b[0m\u001b[0;34m,\u001b[0m \u001b[0mfunc\u001b[0m\u001b[0;34m,\u001b[0m \u001b[0mcallback\u001b[0m\u001b[0;34m=\u001b[0m\u001b[0;32mNone\u001b[0m\u001b[0;34m)\u001b[0m\u001b[0;34m:\u001b[0m\u001b[0;34m\u001b[0m\u001b[0;34m\u001b[0m\u001b[0m\n\u001b[1;32m    205\u001b[0m         \u001b[0;34m\"\"\"Schedule a func to be run\"\"\"\u001b[0m\u001b[0;34m\u001b[0m\u001b[0;34m\u001b[0m\u001b[0m\n\u001b[0;32m--> 206\u001b[0;31m         \u001b[0mresult\u001b[0m \u001b[0;34m=\u001b[0m \u001b[0mImmediateResult\u001b[0m\u001b[0;34m(\u001b[0m\u001b[0mfunc\u001b[0m\u001b[0;34m)\u001b[0m\u001b[0;34m\u001b[0m\u001b[0;34m\u001b[0m\u001b[0m\n\u001b[0m\u001b[1;32m    207\u001b[0m         \u001b[0;32mif\u001b[0m \u001b[0mcallback\u001b[0m\u001b[0;34m:\u001b[0m\u001b[0;34m\u001b[0m\u001b[0;34m\u001b[0m\u001b[0m\n\u001b[1;32m    208\u001b[0m             \u001b[0mcallback\u001b[0m\u001b[0;34m(\u001b[0m\u001b[0mresult\u001b[0m\u001b[0;34m)\u001b[0m\u001b[0;34m\u001b[0m\u001b[0;34m\u001b[0m\u001b[0m\n",
            "\u001b[0;32m/usr/local/lib/python3.6/dist-packages/joblib/_parallel_backends.py\u001b[0m in \u001b[0;36m__init__\u001b[0;34m(self, batch)\u001b[0m\n\u001b[1;32m    568\u001b[0m         \u001b[0;31m# Don't delay the application, to avoid keeping the input\u001b[0m\u001b[0;34m\u001b[0m\u001b[0;34m\u001b[0m\u001b[0;34m\u001b[0m\u001b[0m\n\u001b[1;32m    569\u001b[0m         \u001b[0;31m# arguments in memory\u001b[0m\u001b[0;34m\u001b[0m\u001b[0;34m\u001b[0m\u001b[0;34m\u001b[0m\u001b[0m\n\u001b[0;32m--> 570\u001b[0;31m         \u001b[0mself\u001b[0m\u001b[0;34m.\u001b[0m\u001b[0mresults\u001b[0m \u001b[0;34m=\u001b[0m \u001b[0mbatch\u001b[0m\u001b[0;34m(\u001b[0m\u001b[0;34m)\u001b[0m\u001b[0;34m\u001b[0m\u001b[0;34m\u001b[0m\u001b[0m\n\u001b[0m\u001b[1;32m    571\u001b[0m \u001b[0;34m\u001b[0m\u001b[0m\n\u001b[1;32m    572\u001b[0m     \u001b[0;32mdef\u001b[0m \u001b[0mget\u001b[0m\u001b[0;34m(\u001b[0m\u001b[0mself\u001b[0m\u001b[0;34m)\u001b[0m\u001b[0;34m:\u001b[0m\u001b[0;34m\u001b[0m\u001b[0;34m\u001b[0m\u001b[0m\n",
            "\u001b[0;32m/usr/local/lib/python3.6/dist-packages/joblib/parallel.py\u001b[0m in \u001b[0;36m__call__\u001b[0;34m(self)\u001b[0m\n\u001b[1;32m    251\u001b[0m         \u001b[0;32mwith\u001b[0m \u001b[0mparallel_backend\u001b[0m\u001b[0;34m(\u001b[0m\u001b[0mself\u001b[0m\u001b[0;34m.\u001b[0m\u001b[0m_backend\u001b[0m\u001b[0;34m,\u001b[0m \u001b[0mn_jobs\u001b[0m\u001b[0;34m=\u001b[0m\u001b[0mself\u001b[0m\u001b[0;34m.\u001b[0m\u001b[0m_n_jobs\u001b[0m\u001b[0;34m)\u001b[0m\u001b[0;34m:\u001b[0m\u001b[0;34m\u001b[0m\u001b[0;34m\u001b[0m\u001b[0m\n\u001b[1;32m    252\u001b[0m             return [func(*args, **kwargs)\n\u001b[0;32m--> 253\u001b[0;31m                     for func, args, kwargs in self.items]\n\u001b[0m\u001b[1;32m    254\u001b[0m \u001b[0;34m\u001b[0m\u001b[0m\n\u001b[1;32m    255\u001b[0m     \u001b[0;32mdef\u001b[0m \u001b[0m__reduce__\u001b[0m\u001b[0;34m(\u001b[0m\u001b[0mself\u001b[0m\u001b[0;34m)\u001b[0m\u001b[0;34m:\u001b[0m\u001b[0;34m\u001b[0m\u001b[0;34m\u001b[0m\u001b[0m\n",
            "\u001b[0;32m/usr/local/lib/python3.6/dist-packages/joblib/parallel.py\u001b[0m in \u001b[0;36m<listcomp>\u001b[0;34m(.0)\u001b[0m\n\u001b[1;32m    251\u001b[0m         \u001b[0;32mwith\u001b[0m \u001b[0mparallel_backend\u001b[0m\u001b[0;34m(\u001b[0m\u001b[0mself\u001b[0m\u001b[0;34m.\u001b[0m\u001b[0m_backend\u001b[0m\u001b[0;34m,\u001b[0m \u001b[0mn_jobs\u001b[0m\u001b[0;34m=\u001b[0m\u001b[0mself\u001b[0m\u001b[0;34m.\u001b[0m\u001b[0m_n_jobs\u001b[0m\u001b[0;34m)\u001b[0m\u001b[0;34m:\u001b[0m\u001b[0;34m\u001b[0m\u001b[0;34m\u001b[0m\u001b[0m\n\u001b[1;32m    252\u001b[0m             return [func(*args, **kwargs)\n\u001b[0;32m--> 253\u001b[0;31m                     for func, args, kwargs in self.items]\n\u001b[0m\u001b[1;32m    254\u001b[0m \u001b[0;34m\u001b[0m\u001b[0m\n\u001b[1;32m    255\u001b[0m     \u001b[0;32mdef\u001b[0m \u001b[0m__reduce__\u001b[0m\u001b[0;34m(\u001b[0m\u001b[0mself\u001b[0m\u001b[0;34m)\u001b[0m\u001b[0;34m:\u001b[0m\u001b[0;34m\u001b[0m\u001b[0;34m\u001b[0m\u001b[0m\n",
            "\u001b[0;32m/usr/local/lib/python3.6/dist-packages/sklearn/model_selection/_validation.py\u001b[0m in \u001b[0;36m_fit_and_score\u001b[0;34m(estimator, X, y, scorer, train, test, verbose, parameters, fit_params, return_train_score, return_parameters, return_n_test_samples, return_times, return_estimator, error_score)\u001b[0m\n\u001b[1;32m    513\u001b[0m             \u001b[0mestimator\u001b[0m\u001b[0;34m.\u001b[0m\u001b[0mfit\u001b[0m\u001b[0;34m(\u001b[0m\u001b[0mX_train\u001b[0m\u001b[0;34m,\u001b[0m \u001b[0;34m**\u001b[0m\u001b[0mfit_params\u001b[0m\u001b[0;34m)\u001b[0m\u001b[0;34m\u001b[0m\u001b[0;34m\u001b[0m\u001b[0m\n\u001b[1;32m    514\u001b[0m         \u001b[0;32melse\u001b[0m\u001b[0;34m:\u001b[0m\u001b[0;34m\u001b[0m\u001b[0;34m\u001b[0m\u001b[0m\n\u001b[0;32m--> 515\u001b[0;31m             \u001b[0mestimator\u001b[0m\u001b[0;34m.\u001b[0m\u001b[0mfit\u001b[0m\u001b[0;34m(\u001b[0m\u001b[0mX_train\u001b[0m\u001b[0;34m,\u001b[0m \u001b[0my_train\u001b[0m\u001b[0;34m,\u001b[0m \u001b[0;34m**\u001b[0m\u001b[0mfit_params\u001b[0m\u001b[0;34m)\u001b[0m\u001b[0;34m\u001b[0m\u001b[0;34m\u001b[0m\u001b[0m\n\u001b[0m\u001b[1;32m    516\u001b[0m \u001b[0;34m\u001b[0m\u001b[0m\n\u001b[1;32m    517\u001b[0m     \u001b[0;32mexcept\u001b[0m \u001b[0mException\u001b[0m \u001b[0;32mas\u001b[0m \u001b[0me\u001b[0m\u001b[0;34m:\u001b[0m\u001b[0;34m\u001b[0m\u001b[0;34m\u001b[0m\u001b[0m\n",
            "\u001b[0;32m/usr/local/lib/python3.6/dist-packages/sklearn/svm/_base.py\u001b[0m in \u001b[0;36mfit\u001b[0;34m(self, X, y, sample_weight)\u001b[0m\n\u001b[1;32m    197\u001b[0m \u001b[0;34m\u001b[0m\u001b[0m\n\u001b[1;32m    198\u001b[0m         \u001b[0mseed\u001b[0m \u001b[0;34m=\u001b[0m \u001b[0mrnd\u001b[0m\u001b[0;34m.\u001b[0m\u001b[0mrandint\u001b[0m\u001b[0;34m(\u001b[0m\u001b[0mnp\u001b[0m\u001b[0;34m.\u001b[0m\u001b[0miinfo\u001b[0m\u001b[0;34m(\u001b[0m\u001b[0;34m'i'\u001b[0m\u001b[0;34m)\u001b[0m\u001b[0;34m.\u001b[0m\u001b[0mmax\u001b[0m\u001b[0;34m)\u001b[0m\u001b[0;34m\u001b[0m\u001b[0;34m\u001b[0m\u001b[0m\n\u001b[0;32m--> 199\u001b[0;31m         \u001b[0mfit\u001b[0m\u001b[0;34m(\u001b[0m\u001b[0mX\u001b[0m\u001b[0;34m,\u001b[0m \u001b[0my\u001b[0m\u001b[0;34m,\u001b[0m \u001b[0msample_weight\u001b[0m\u001b[0;34m,\u001b[0m \u001b[0msolver_type\u001b[0m\u001b[0;34m,\u001b[0m \u001b[0mkernel\u001b[0m\u001b[0;34m,\u001b[0m \u001b[0mrandom_seed\u001b[0m\u001b[0;34m=\u001b[0m\u001b[0mseed\u001b[0m\u001b[0;34m)\u001b[0m\u001b[0;34m\u001b[0m\u001b[0;34m\u001b[0m\u001b[0m\n\u001b[0m\u001b[1;32m    200\u001b[0m         \u001b[0;31m# see comment on the other call to np.iinfo in this file\u001b[0m\u001b[0;34m\u001b[0m\u001b[0;34m\u001b[0m\u001b[0;34m\u001b[0m\u001b[0m\n\u001b[1;32m    201\u001b[0m \u001b[0;34m\u001b[0m\u001b[0m\n",
            "\u001b[0;32m/usr/local/lib/python3.6/dist-packages/sklearn/svm/_base.py\u001b[0m in \u001b[0;36m_dense_fit\u001b[0;34m(self, X, y, sample_weight, solver_type, kernel, random_seed)\u001b[0m\n\u001b[1;32m    256\u001b[0m                 \u001b[0mcache_size\u001b[0m\u001b[0;34m=\u001b[0m\u001b[0mself\u001b[0m\u001b[0;34m.\u001b[0m\u001b[0mcache_size\u001b[0m\u001b[0;34m,\u001b[0m \u001b[0mcoef0\u001b[0m\u001b[0;34m=\u001b[0m\u001b[0mself\u001b[0m\u001b[0;34m.\u001b[0m\u001b[0mcoef0\u001b[0m\u001b[0;34m,\u001b[0m\u001b[0;34m\u001b[0m\u001b[0;34m\u001b[0m\u001b[0m\n\u001b[1;32m    257\u001b[0m                 \u001b[0mgamma\u001b[0m\u001b[0;34m=\u001b[0m\u001b[0mself\u001b[0m\u001b[0;34m.\u001b[0m\u001b[0m_gamma\u001b[0m\u001b[0;34m,\u001b[0m \u001b[0mepsilon\u001b[0m\u001b[0;34m=\u001b[0m\u001b[0mself\u001b[0m\u001b[0;34m.\u001b[0m\u001b[0mepsilon\u001b[0m\u001b[0;34m,\u001b[0m\u001b[0;34m\u001b[0m\u001b[0;34m\u001b[0m\u001b[0m\n\u001b[0;32m--> 258\u001b[0;31m                 max_iter=self.max_iter, random_seed=random_seed)\n\u001b[0m\u001b[1;32m    259\u001b[0m \u001b[0;34m\u001b[0m\u001b[0m\n\u001b[1;32m    260\u001b[0m         \u001b[0mself\u001b[0m\u001b[0;34m.\u001b[0m\u001b[0m_warn_from_fit_status\u001b[0m\u001b[0;34m(\u001b[0m\u001b[0;34m)\u001b[0m\u001b[0;34m\u001b[0m\u001b[0;34m\u001b[0m\u001b[0m\n",
            "\u001b[0;31mKeyboardInterrupt\u001b[0m: "
          ]
        }
      ]
    },
    {
      "cell_type": "code",
      "metadata": {
        "id": "KM1K8tAOsjPR",
        "colab_type": "code",
        "colab": {
          "base_uri": "https://localhost:8080/",
          "height": 35
        },
        "outputId": "981b4fbf-ca70-460a-c28d-922e8429a3c1"
      },
      "source": [
        "from sklearn.neural_network import MLPClassifier\n",
        "clf_NN = MLPClassifier(solver='lbfgs', alpha=1e5,hidden_layer_sizes=(5, 2), random_state=1)\n",
        "clf_NN.fit(X_train,y_train)\n",
        "predict_NN = clf_NN.predict(X_test)\n",
        "predictproba_NN = clf_NN.predict_proba(X_test)[:,1]\n",
        "NNAccuracy = accuracy_score(y_test,predict_NN)\n",
        "print(NNAccuracy)"
      ],
      "execution_count": 220,
      "outputs": [
        {
          "output_type": "stream",
          "text": [
            "0.4954545454545455\n"
          ],
          "name": "stdout"
        }
      ]
    },
    {
      "cell_type": "code",
      "metadata": {
        "id": "ldqkVqThtN46",
        "colab_type": "code",
        "colab": {
          "base_uri": "https://localhost:8080/",
          "height": 539
        },
        "outputId": "31dcccdf-87c4-4dcc-cf82-ba556bd3452a"
      },
      "source": [
        "plotAUC(y_test,LR_Predict,'Logistic Regression')\n",
        "#plotAUC(y_test,predictproba_svm, 'SVM')\n",
        "plotAUC(y_test,predictproba_NN,'MLP')\n",
        "plt.show()\n",
        "plt.figure(figsize=(6,6))\n",
        "plot_confusion_matrix(predict_NN, normalize=True)\n",
        "plt.show()"
      ],
      "execution_count": 280,
      "outputs": [
        {
          "output_type": "display_data",
          "data": {
            "image/png": "[encoded data removed]",
            "text/plain": [
              "<Figure size 432x288 with 1 Axes>"
            ]
          },
          "metadata": {
            "tags": []
          }
        },
        {
          "output_type": "error",
          "ename": "NameError",
          "evalue": "ignored",
          "traceback": [
            "\u001b[0;31m---------------------------------------------------------------------------\u001b[0m",
            "\u001b[0;31mNameError\u001b[0m                                 Traceback (most recent call last)",
            "\u001b[0;32m<ipython-input-280-cc7362705436>\u001b[0m in \u001b[0;36m<module>\u001b[0;34m()\u001b[0m\n\u001b[1;32m      4\u001b[0m \u001b[0mplt\u001b[0m\u001b[0;34m.\u001b[0m\u001b[0mshow\u001b[0m\u001b[0;34m(\u001b[0m\u001b[0;34m)\u001b[0m\u001b[0;34m\u001b[0m\u001b[0;34m\u001b[0m\u001b[0m\n\u001b[1;32m      5\u001b[0m \u001b[0mplt\u001b[0m\u001b[0;34m.\u001b[0m\u001b[0mfigure\u001b[0m\u001b[0;34m(\u001b[0m\u001b[0mfigsize\u001b[0m\u001b[0;34m=\u001b[0m\u001b[0;34m(\u001b[0m\u001b[0;36m6\u001b[0m\u001b[0;34m,\u001b[0m\u001b[0;36m6\u001b[0m\u001b[0;34m)\u001b[0m\u001b[0;34m)\u001b[0m\u001b[0;34m\u001b[0m\u001b[0;34m\u001b[0m\u001b[0m\n\u001b[0;32m----> 6\u001b[0;31m \u001b[0mplot_confusion_matrix\u001b[0m\u001b[0;34m(\u001b[0m\u001b[0mpredict_NN\u001b[0m\u001b[0;34m,\u001b[0m \u001b[0mnormalize\u001b[0m\u001b[0;34m=\u001b[0m\u001b[0;32mTrue\u001b[0m\u001b[0;34m)\u001b[0m\u001b[0;34m\u001b[0m\u001b[0;34m\u001b[0m\u001b[0m\n\u001b[0m\u001b[1;32m      7\u001b[0m \u001b[0mplt\u001b[0m\u001b[0;34m.\u001b[0m\u001b[0mshow\u001b[0m\u001b[0;34m(\u001b[0m\u001b[0;34m)\u001b[0m\u001b[0;34m\u001b[0m\u001b[0;34m\u001b[0m\u001b[0m\n",
            "\u001b[0;31mNameError\u001b[0m: name 'plot_confusion_matrix' is not defined"
          ]
        },
        {
          "output_type": "display_data",
          "data": {
            "text/plain": [
              "<Figure size 432x432 with 0 Axes>"
            ]
          },
          "metadata": {
            "tags": []
          }
        }
      ]
    },
    {
      "cell_type": "code",
      "metadata": {
        "id": "t7IFzfidtUTj",
        "colab_type": "code",
        "colab": {}
      },
      "source": [
        ""
      ],
      "execution_count": 0,
      "outputs": []
    }
  ]
}