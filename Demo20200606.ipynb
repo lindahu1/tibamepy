{
  "nbformat": 4,
  "nbformat_minor": 0,
  "metadata": {
    "colab": {
      "name": "Demo20200606.ipynb",
      "provenance": [],
      "collapsed_sections": []
    },
    "kernelspec": {
      "name": "python3",
      "display_name": "Python 3"
    }
  },
  "cells": [
    {
      "cell_type": "markdown",
      "metadata": {
        "id": "iCCOnSstSZOA",
        "colab_type": "text"
      },
      "source": [
        "## 作業\n",
        "當銀行收到貸款申請時，必須根據客戶的個人檔案決定是否應該要核准貸款\n",
        "\n",
        "如果客戶信用良好，批准貸款 如果客戶信用較差，不批准貸款 透過分析目的，可將低銀行風險、提升潛在獲利\n",
        "\n",
        "現有一資料集 Creditability (https://raw.githubusercontent.com/ywchiu/tibamepy/master/data/Creditability.csv)\n",
        "\n",
        "包含客戶特徵\n",
        "\n",
        "- Account Balance(帳戶餘額): 沒有帳號(1), 沒有餘額 (2), 部分存款 (3)\n",
        "- Payment Status(付款狀況): 有問題 (1), 付清 (2), 於該銀行沒有問題(3)\n",
        "- Savings/Stock Value (存款): 沒有, 少於 100, 100 ~ 1,000, 高於1,000\n",
        "- Employment Length(工作長短): 少於 1 年, 1 ~ 4年, 4 ~ 7年, 高於 7 年\n",
        "- Sex/Marital Status(性別與婚姻): 男生/女生, 單身/離婚/已婚/鰥夫\n",
        "- No of Credits at this bank(貸款數): 1, >1\n",
        "- Guarantor(保人): None, Yes\n",
        "- Concurrent Credits(其他貸款數): 其他銀行或百貨, None\n",
        "- ForeignWorker (外國工作者)\n",
        "- Purpose of Credit(貸款目的): New car, Used car, Home Related, Other\n",
        "預測目標\n",
        "\n",
        "- Creditability (可信客戶): 1/0\n",
        "\n",
        "\n",
        "請用Python 回答以下問題：\n",
        "\n",
        "- 使用Pandas 將資料讀取到一名為 df 的 DataFrame 中\n",
        "- 請將資料分為訓練與測試資料集,其中訓練資料集占80%, 測試資料集占20%\n",
        "- 請使用邏輯式迴歸建立模型 (目標 y 為 Creditability)\n",
        "- 請使用隨機森林建立模型 (目標 y 為 Creditability)\n",
        "- 請計算出模型準確度(Accuracy)?\n",
        "- 請求出混淆矩陣(Confusion Matrix)?\n",
        "- 請繪製隨機森林模型與的邏輯式迴歸 ROC Curve, 並比較兩者的 AUC?"
      ]
    },
    {
      "cell_type": "code",
      "metadata": {
        "id": "mzRUFYn5SRuO",
        "colab_type": "code",
        "colab": {}
      },
      "source": [
        "import pandas\n",
        "df = pandas.read_csv('https://raw.githubusercontent.com/ywchiu/tibamepy/master/data/Creditability.csv', index_col = 0)"
      ],
      "execution_count": 0,
      "outputs": []
    },
    {
      "cell_type": "code",
      "metadata": {
        "id": "VSTzdLRdSZrQ",
        "colab_type": "code",
        "colab": {
          "base_uri": "https://localhost:8080/",
          "height": 222
        },
        "outputId": "4677bddf-c83a-4ae6-bd8d-32b3b5be299b"
      },
      "source": [
        "df.head()"
      ],
      "execution_count": 4,
      "outputs": [
        {
          "output_type": "execute_result",
          "data": {
            "text/html": [
              "<div>\n",
              "<style scoped>\n",
              "    .dataframe tbody tr th:only-of-type {\n",
              "        vertical-align: middle;\n",
              "    }\n",
              "\n",
              "    .dataframe tbody tr th {\n",
              "        vertical-align: top;\n",
              "    }\n",
              "\n",
              "    .dataframe thead th {\n",
              "        text-align: right;\n",
              "    }\n",
              "</style>\n",
              "<table border=\"1\" class=\"dataframe\">\n",
              "  <thead>\n",
              "    <tr style=\"text-align: right;\">\n",
              "      <th></th>\n",
              "      <th>Creditability</th>\n",
              "      <th>Account.Balance</th>\n",
              "      <th>Duration.of.Credit..month.</th>\n",
              "      <th>Payment.Status.of.Previous.Credit</th>\n",
              "      <th>Purpose</th>\n",
              "      <th>Credit.Amount</th>\n",
              "      <th>Value.Savings.Stocks</th>\n",
              "      <th>Length.of.current.employment</th>\n",
              "      <th>Instalment.per.cent</th>\n",
              "      <th>Sex...Marital.Status</th>\n",
              "      <th>Guarantors</th>\n",
              "      <th>Duration.in.Current.address</th>\n",
              "      <th>Most.valuable.available.asset</th>\n",
              "      <th>Age..years.</th>\n",
              "      <th>Concurrent.Credits</th>\n",
              "      <th>Type.of.apartment</th>\n",
              "      <th>No.of.Credits.at.this.Bank</th>\n",
              "      <th>Occupation</th>\n",
              "      <th>No.of.dependents</th>\n",
              "      <th>Telephone</th>\n",
              "      <th>Foreign.Worker</th>\n",
              "    </tr>\n",
              "  </thead>\n",
              "  <tbody>\n",
              "    <tr>\n",
              "      <th>497</th>\n",
              "      <td>1</td>\n",
              "      <td>3</td>\n",
              "      <td>6</td>\n",
              "      <td>2</td>\n",
              "      <td>3</td>\n",
              "      <td>2108</td>\n",
              "      <td>1</td>\n",
              "      <td>3</td>\n",
              "      <td>2</td>\n",
              "      <td>3</td>\n",
              "      <td>1</td>\n",
              "      <td>2</td>\n",
              "      <td>1</td>\n",
              "      <td>29</td>\n",
              "      <td>2</td>\n",
              "      <td>1</td>\n",
              "      <td>1</td>\n",
              "      <td>1</td>\n",
              "      <td>1</td>\n",
              "      <td>1</td>\n",
              "      <td>1</td>\n",
              "    </tr>\n",
              "    <tr>\n",
              "      <th>756</th>\n",
              "      <td>0</td>\n",
              "      <td>1</td>\n",
              "      <td>15</td>\n",
              "      <td>1</td>\n",
              "      <td>4</td>\n",
              "      <td>950</td>\n",
              "      <td>1</td>\n",
              "      <td>4</td>\n",
              "      <td>4</td>\n",
              "      <td>2</td>\n",
              "      <td>1</td>\n",
              "      <td>3</td>\n",
              "      <td>3</td>\n",
              "      <td>33</td>\n",
              "      <td>2</td>\n",
              "      <td>1</td>\n",
              "      <td>2</td>\n",
              "      <td>1</td>\n",
              "      <td>2</td>\n",
              "      <td>1</td>\n",
              "      <td>1</td>\n",
              "    </tr>\n",
              "    <tr>\n",
              "      <th>580</th>\n",
              "      <td>0</td>\n",
              "      <td>1</td>\n",
              "      <td>42</td>\n",
              "      <td>2</td>\n",
              "      <td>3</td>\n",
              "      <td>7174</td>\n",
              "      <td>4</td>\n",
              "      <td>3</td>\n",
              "      <td>4</td>\n",
              "      <td>1</td>\n",
              "      <td>1</td>\n",
              "      <td>3</td>\n",
              "      <td>3</td>\n",
              "      <td>30</td>\n",
              "      <td>2</td>\n",
              "      <td>2</td>\n",
              "      <td>1</td>\n",
              "      <td>1</td>\n",
              "      <td>1</td>\n",
              "      <td>2</td>\n",
              "      <td>1</td>\n",
              "    </tr>\n",
              "    <tr>\n",
              "      <th>833</th>\n",
              "      <td>0</td>\n",
              "      <td>3</td>\n",
              "      <td>36</td>\n",
              "      <td>3</td>\n",
              "      <td>4</td>\n",
              "      <td>7980</td>\n",
              "      <td>4</td>\n",
              "      <td>1</td>\n",
              "      <td>4</td>\n",
              "      <td>2</td>\n",
              "      <td>1</td>\n",
              "      <td>4</td>\n",
              "      <td>3</td>\n",
              "      <td>27</td>\n",
              "      <td>2</td>\n",
              "      <td>1</td>\n",
              "      <td>2</td>\n",
              "      <td>1</td>\n",
              "      <td>1</td>\n",
              "      <td>2</td>\n",
              "      <td>1</td>\n",
              "    </tr>\n",
              "    <tr>\n",
              "      <th>602</th>\n",
              "      <td>1</td>\n",
              "      <td>3</td>\n",
              "      <td>24</td>\n",
              "      <td>3</td>\n",
              "      <td>2</td>\n",
              "      <td>2028</td>\n",
              "      <td>1</td>\n",
              "      <td>3</td>\n",
              "      <td>2</td>\n",
              "      <td>2</td>\n",
              "      <td>1</td>\n",
              "      <td>2</td>\n",
              "      <td>2</td>\n",
              "      <td>30</td>\n",
              "      <td>2</td>\n",
              "      <td>2</td>\n",
              "      <td>2</td>\n",
              "      <td>1</td>\n",
              "      <td>1</td>\n",
              "      <td>1</td>\n",
              "      <td>1</td>\n",
              "    </tr>\n",
              "  </tbody>\n",
              "</table>\n",
              "</div>"
            ],
            "text/plain": [
              "     Creditability  Account.Balance  ...  Telephone  Foreign.Worker\n",
              "497              1                3  ...          1               1\n",
              "756              0                1  ...          1               1\n",
              "580              0                1  ...          2               1\n",
              "833              0                3  ...          2               1\n",
              "602              1                3  ...          1               1\n",
              "\n",
              "[5 rows x 21 columns]"
            ]
          },
          "metadata": {
            "tags": []
          },
          "execution_count": 4
        }
      ]
    },
    {
      "cell_type": "code",
      "metadata": {
        "id": "a9kmnKIAS00T",
        "colab_type": "code",
        "colab": {
          "base_uri": "https://localhost:8080/",
          "height": 399
        },
        "outputId": "99e5deb9-1abd-41f2-cd20-3a53ad8a9b3d"
      },
      "source": [
        "df.isna().sum()"
      ],
      "execution_count": 5,
      "outputs": [
        {
          "output_type": "execute_result",
          "data": {
            "text/plain": [
              "Creditability                        0\n",
              "Account.Balance                      0\n",
              "Duration.of.Credit..month.           0\n",
              "Payment.Status.of.Previous.Credit    0\n",
              "Purpose                              0\n",
              "Credit.Amount                        0\n",
              "Value.Savings.Stocks                 0\n",
              "Length.of.current.employment         0\n",
              "Instalment.per.cent                  0\n",
              "Sex...Marital.Status                 0\n",
              "Guarantors                           0\n",
              "Duration.in.Current.address          0\n",
              "Most.valuable.available.asset        0\n",
              "Age..years.                          0\n",
              "Concurrent.Credits                   0\n",
              "Type.of.apartment                    0\n",
              "No.of.Credits.at.this.Bank           0\n",
              "Occupation                           0\n",
              "No.of.dependents                     0\n",
              "Telephone                            0\n",
              "Foreign.Worker                       0\n",
              "dtype: int64"
            ]
          },
          "metadata": {
            "tags": []
          },
          "execution_count": 5
        }
      ]
    },
    {
      "cell_type": "code",
      "metadata": {
        "id": "yHxM8pMhS3sb",
        "colab_type": "code",
        "colab": {
          "base_uri": "https://localhost:8080/",
          "height": 503
        },
        "outputId": "03ad8b14-205f-4201-db5b-c4f485034d67"
      },
      "source": [
        "df.info()"
      ],
      "execution_count": 6,
      "outputs": [
        {
          "output_type": "stream",
          "text": [
            "<class 'pandas.core.frame.DataFrame'>\n",
            "Int64Index: 500 entries, 497 to 385\n",
            "Data columns (total 21 columns):\n",
            " #   Column                             Non-Null Count  Dtype\n",
            "---  ------                             --------------  -----\n",
            " 0   Creditability                      500 non-null    int64\n",
            " 1   Account.Balance                    500 non-null    int64\n",
            " 2   Duration.of.Credit..month.         500 non-null    int64\n",
            " 3   Payment.Status.of.Previous.Credit  500 non-null    int64\n",
            " 4   Purpose                            500 non-null    int64\n",
            " 5   Credit.Amount                      500 non-null    int64\n",
            " 6   Value.Savings.Stocks               500 non-null    int64\n",
            " 7   Length.of.current.employment       500 non-null    int64\n",
            " 8   Instalment.per.cent                500 non-null    int64\n",
            " 9   Sex...Marital.Status               500 non-null    int64\n",
            " 10  Guarantors                         500 non-null    int64\n",
            " 11  Duration.in.Current.address        500 non-null    int64\n",
            " 12  Most.valuable.available.asset      500 non-null    int64\n",
            " 13  Age..years.                        500 non-null    int64\n",
            " 14  Concurrent.Credits                 500 non-null    int64\n",
            " 15  Type.of.apartment                  500 non-null    int64\n",
            " 16  No.of.Credits.at.this.Bank         500 non-null    int64\n",
            " 17  Occupation                         500 non-null    int64\n",
            " 18  No.of.dependents                   500 non-null    int64\n",
            " 19  Telephone                          500 non-null    int64\n",
            " 20  Foreign.Worker                     500 non-null    int64\n",
            "dtypes: int64(21)\n",
            "memory usage: 85.9 KB\n"
          ],
          "name": "stdout"
        }
      ]
    },
    {
      "cell_type": "code",
      "metadata": {
        "id": "YGsLvWrISiyZ",
        "colab_type": "code",
        "colab": {}
      },
      "source": [
        "from sklearn.model_selection import train_test_split\n",
        "y = df.iloc[:,0]\n",
        "X = df.iloc[:,1:]\n",
        "train_X, test_X, train_y, test_y = train_test_split(X,y, test_size = 0.2, random_state = 42)"
      ],
      "execution_count": 0,
      "outputs": []
    },
    {
      "cell_type": "code",
      "metadata": {
        "id": "-5Em1xbvTMYt",
        "colab_type": "code",
        "colab": {
          "base_uri": "https://localhost:8080/",
          "height": 35
        },
        "outputId": "f3cf770d-7614-440e-b98c-dc44c51f5469"
      },
      "source": [
        "train_X.shape, test_X.shape, train_y.shape, test_y.shape"
      ],
      "execution_count": 8,
      "outputs": [
        {
          "output_type": "execute_result",
          "data": {
            "text/plain": [
              "((400, 20), (100, 20), (400,), (100,))"
            ]
          },
          "metadata": {
            "tags": []
          },
          "execution_count": 8
        }
      ]
    },
    {
      "cell_type": "code",
      "metadata": {
        "id": "lNeU_gvwTQJ9",
        "colab_type": "code",
        "colab": {
          "base_uri": "https://localhost:8080/",
          "height": 104
        },
        "outputId": "c22ef576-5152-43e1-e4ed-29f4bdf149ee"
      },
      "source": [
        "from sklearn.linear_model import LogisticRegression\n",
        "clf1 = LogisticRegression(max_iter = 1000)\n",
        "clf1.fit(train_X, train_y)"
      ],
      "execution_count": 20,
      "outputs": [
        {
          "output_type": "execute_result",
          "data": {
            "text/plain": [
              "LogisticRegression(C=1.0, class_weight=None, dual=False, fit_intercept=True,\n",
              "                   intercept_scaling=1, l1_ratio=None, max_iter=1000,\n",
              "                   multi_class='auto', n_jobs=None, penalty='l2',\n",
              "                   random_state=None, solver='lbfgs', tol=0.0001, verbose=0,\n",
              "                   warm_start=False)"
            ]
          },
          "metadata": {
            "tags": []
          },
          "execution_count": 20
        }
      ]
    },
    {
      "cell_type": "code",
      "metadata": {
        "id": "FO8RlKvvTlFe",
        "colab_type": "code",
        "colab": {
          "base_uri": "https://localhost:8080/",
          "height": 156
        },
        "outputId": "d01a719d-76e8-400f-c43b-21fddacc3735"
      },
      "source": [
        "from sklearn.ensemble import RandomForestClassifier\n",
        "clf2 = RandomForestClassifier(n_estimators=1000, max_depth = 5)\n",
        "clf2.fit(train_X, train_y)"
      ],
      "execution_count": 29,
      "outputs": [
        {
          "output_type": "execute_result",
          "data": {
            "text/plain": [
              "RandomForestClassifier(bootstrap=True, ccp_alpha=0.0, class_weight=None,\n",
              "                       criterion='gini', max_depth=5, max_features='auto',\n",
              "                       max_leaf_nodes=None, max_samples=None,\n",
              "                       min_impurity_decrease=0.0, min_impurity_split=None,\n",
              "                       min_samples_leaf=1, min_samples_split=2,\n",
              "                       min_weight_fraction_leaf=0.0, n_estimators=1000,\n",
              "                       n_jobs=None, oob_score=False, random_state=None,\n",
              "                       verbose=0, warm_start=False)"
            ]
          },
          "metadata": {
            "tags": []
          },
          "execution_count": 29
        }
      ]
    },
    {
      "cell_type": "code",
      "metadata": {
        "id": "EtQZhpXWTvzx",
        "colab_type": "code",
        "colab": {}
      },
      "source": [
        "predicted1 = clf1.predict(test_X)\n",
        "predicted2 = clf2.predict(test_X)"
      ],
      "execution_count": 0,
      "outputs": []
    },
    {
      "cell_type": "code",
      "metadata": {
        "id": "lQsyyrzOT3JS",
        "colab_type": "code",
        "colab": {
          "base_uri": "https://localhost:8080/",
          "height": 35
        },
        "outputId": "41b9c025-ebbf-4829-b9d3-19fa6a867861"
      },
      "source": [
        "from sklearn.metrics import accuracy_score, confusion_matrix\n",
        "accuracy_score(test_y, predicted1)"
      ],
      "execution_count": 31,
      "outputs": [
        {
          "output_type": "execute_result",
          "data": {
            "text/plain": [
              "0.71"
            ]
          },
          "metadata": {
            "tags": []
          },
          "execution_count": 31
        }
      ]
    },
    {
      "cell_type": "code",
      "metadata": {
        "id": "PoPxW3LfUJzD",
        "colab_type": "code",
        "colab": {
          "base_uri": "https://localhost:8080/",
          "height": 52
        },
        "outputId": "2036b5ae-a3fd-4bca-e416-d8ccad08b82d"
      },
      "source": [
        "confusion_matrix(test_y, predicted1)"
      ],
      "execution_count": 32,
      "outputs": [
        {
          "output_type": "execute_result",
          "data": {
            "text/plain": [
              "array([[10, 21],\n",
              "       [ 8, 61]])"
            ]
          },
          "metadata": {
            "tags": []
          },
          "execution_count": 32
        }
      ]
    },
    {
      "cell_type": "code",
      "metadata": {
        "id": "8pc4KJhyT-2i",
        "colab_type": "code",
        "colab": {
          "base_uri": "https://localhost:8080/",
          "height": 35
        },
        "outputId": "544a3dca-857e-4d83-b953-8757fdac472e"
      },
      "source": [
        "accuracy_score(test_y, predicted2)"
      ],
      "execution_count": 33,
      "outputs": [
        {
          "output_type": "execute_result",
          "data": {
            "text/plain": [
              "0.73"
            ]
          },
          "metadata": {
            "tags": []
          },
          "execution_count": 33
        }
      ]
    },
    {
      "cell_type": "code",
      "metadata": {
        "id": "BKc9UKgbUB7C",
        "colab_type": "code",
        "colab": {
          "base_uri": "https://localhost:8080/",
          "height": 52
        },
        "outputId": "66c56024-472e-42a2-a6d0-e1cca13c0671"
      },
      "source": [
        "confusion_matrix(test_y, predicted2)"
      ],
      "execution_count": 34,
      "outputs": [
        {
          "output_type": "execute_result",
          "data": {
            "text/plain": [
              "array([[ 6, 25],\n",
              "       [ 2, 67]])"
            ]
          },
          "metadata": {
            "tags": []
          },
          "execution_count": 34
        }
      ]
    },
    {
      "cell_type": "code",
      "metadata": {
        "id": "BT-JY4asVRhT",
        "colab_type": "code",
        "colab": {}
      },
      "source": [
        "predicted1_prob = clf1.predict_proba(test_X)\n",
        "predicted2_prob = clf2.predict_proba(test_X)"
      ],
      "execution_count": 0,
      "outputs": []
    },
    {
      "cell_type": "code",
      "metadata": {
        "id": "xWMn6aMtUU21",
        "colab_type": "code",
        "colab": {}
      },
      "source": [
        "from sklearn.metrics import auc, roc_curve\n",
        "fpr1, tpr1, threshold1 = roc_curve(test_y , predicted1_prob[:,1])\n",
        "auc1 = auc(fpr1, tpr1)"
      ],
      "execution_count": 0,
      "outputs": []
    },
    {
      "cell_type": "code",
      "metadata": {
        "id": "A8g4szZsVJ4P",
        "colab_type": "code",
        "colab": {}
      },
      "source": [
        "from sklearn.metrics import auc, roc_curve\n",
        "fpr2, tpr2, threshold2 = roc_curve(test_y , predicted2_prob[:,1])\n",
        "auc2 = auc(fpr2, tpr2)"
      ],
      "execution_count": 0,
      "outputs": []
    },
    {
      "cell_type": "code",
      "metadata": {
        "id": "Vi0XgqhWVZsr",
        "colab_type": "code",
        "colab": {
          "base_uri": "https://localhost:8080/",
          "height": 345
        },
        "outputId": "fe8b04ba-c2fb-4a1f-9079-0e7e726daebd"
      },
      "source": [
        "from matplotlib import pyplot as plt\n",
        "plt.figure(figsize= [20,10])\n",
        "plt.plot(fpr1, tpr1, label='%s - AUC:%.2f'%('Logistic Regression', auc1) )\n",
        "plt.plot(fpr2, tpr2, label='%s - AUC:%.2f'%('Random Forest', auc2) )\n",
        "plt.plot([0, 1], [0, 1], 'k--')\n",
        "plt.xlim([0.0, 1.0])\n",
        "plt.ylim([0.0, 1.0])\n",
        "plt.xlabel('False Positive Rate', fontsize = 20)\n",
        "plt.ylabel('True Positive Rate', fontsize = 20)\n",
        "plt.title('Receiver operating characteristic example', fontsize = 20)\n",
        "plt.legend(loc=\"lower right\", fontsize = 20)\n",
        "plt.show()"
      ],
      "execution_count": 50,
      "outputs": [
        {
          "output_type": "display_data",
          "data": {
            "image/png": "[encoded data removed]",
            "text/plain": [
              "<Figure size 1440x720 with 1 Axes>"
            ]
          },
          "metadata": {
            "tags": [],
            "needs_background": "light"
          }
        }
      ]
    },
    {
      "cell_type": "markdown",
      "metadata": {
        "id": "sL0PN5qeZVsW",
        "colab_type": "text"
      },
      "source": [
        "## 借貸俱樂部資料分析\n",
        "- https://drive.google.com/open?id=1sf5jtUA7UKc56DufVZO8QW0HteOd_Swo"
      ]
    },
    {
      "cell_type": "code",
      "metadata": {
        "id": "xnA9s8xLWGvl",
        "colab_type": "code",
        "colab": {
          "base_uri": "https://localhost:8080/",
          "height": 87
        },
        "outputId": "04fc0b7d-e283-48b6-fa8b-76e385677ee8"
      },
      "source": [
        "! gdown https://drive.google.com/uc?id=1sf5jtUA7UKc56DufVZO8QW0HteOd_Swo"
      ],
      "execution_count": 52,
      "outputs": [
        {
          "output_type": "stream",
          "text": [
            "Downloading...\n",
            "From: https://drive.google.com/uc?id=1sf5jtUA7UKc56DufVZO8QW0HteOd_Swo\n",
            "To: /content/LoanStats3b.csv.zip\n",
            "36.6MB [00:00, 70.9MB/s]\n"
          ],
          "name": "stdout"
        }
      ]
    },
    {
      "cell_type": "code",
      "metadata": {
        "id": "MaM1Mc8TaCXL",
        "colab_type": "code",
        "colab": {
          "base_uri": "https://localhost:8080/",
          "height": 52
        },
        "outputId": "06aea105-ffe2-47eb-d69d-0199e15be08f"
      },
      "source": [
        "! unzip LoanStats3b.csv.zip"
      ],
      "execution_count": 53,
      "outputs": [
        {
          "output_type": "stream",
          "text": [
            "Archive:  LoanStats3b.csv.zip\n",
            "  inflating: LoanStats3b.csv         \n"
          ],
          "name": "stdout"
        }
      ]
    },
    {
      "cell_type": "markdown",
      "metadata": {
        "id": "FitaIygFaRaE",
        "colab_type": "text"
      },
      "source": [
        "### 資料讀取"
      ]
    },
    {
      "cell_type": "code",
      "metadata": {
        "id": "T5pKh-O9aLmj",
        "colab_type": "code",
        "colab": {
          "base_uri": "https://localhost:8080/",
          "height": 159
        },
        "outputId": "57315a7f-3193-42e2-d86b-4766fb0c29e3"
      },
      "source": [
        "import pandas as pd\n",
        "#讀取資料\n",
        "dataset = pd.read_csv('LoanStats3b.csv', skiprows=[0])\n",
        "dataset.info()"
      ],
      "execution_count": 62,
      "outputs": [
        {
          "output_type": "stream",
          "text": [
            "/usr/local/lib/python3.6/dist-packages/IPython/core/interactiveshell.py:2718: DtypeWarning: Columns (0,47,123,124,125,128,129,130,133) have mixed types.Specify dtype option on import or set low_memory=False.\n",
            "  interactivity=interactivity, compiler=compiler, result=result)\n"
          ],
          "name": "stderr"
        },
        {
          "output_type": "stream",
          "text": [
            "<class 'pandas.core.frame.DataFrame'>\n",
            "RangeIndex: 188183 entries, 0 to 188182\n",
            "Columns: 145 entries, id to settlement_term\n",
            "dtypes: float64(108), object(37)\n",
            "memory usage: 208.2+ MB\n"
          ],
          "name": "stdout"
        }
      ]
    },
    {
      "cell_type": "markdown",
      "metadata": {
        "id": "PvcNx82qaYKE",
        "colab_type": "text"
      },
      "source": [
        "\n",
        "### 資料預先處理"
      ]
    },
    {
      "cell_type": "code",
      "metadata": {
        "id": "5EfQ7jDVantc",
        "colab_type": "code",
        "colab": {
          "base_uri": "https://localhost:8080/",
          "height": 156
        },
        "outputId": "4c74384a-9297-42fb-c468-1e841a77527a"
      },
      "source": [
        "dataset.columns"
      ],
      "execution_count": 63,
      "outputs": [
        {
          "output_type": "execute_result",
          "data": {
            "text/plain": [
              "Index(['id', 'member_id', 'loan_amnt', 'funded_amnt', 'funded_amnt_inv',\n",
              "       'term', 'int_rate', 'installment', 'grade', 'sub_grade',\n",
              "       ...\n",
              "       'hardship_payoff_balance_amount', 'hardship_last_payment_amount',\n",
              "       'disbursement_method', 'debt_settlement_flag',\n",
              "       'debt_settlement_flag_date', 'settlement_status', 'settlement_date',\n",
              "       'settlement_amount', 'settlement_percentage', 'settlement_term'],\n",
              "      dtype='object', length=145)"
            ]
          },
          "metadata": {
            "tags": []
          },
          "execution_count": 63
        }
      ]
    },
    {
      "cell_type": "code",
      "metadata": {
        "id": "90RfajO0a8lm",
        "colab_type": "code",
        "colab": {
          "base_uri": "https://localhost:8080/",
          "height": 225
        },
        "outputId": "f4647536-3967-4a6e-a4d7-0701b1231678"
      },
      "source": [
        "dataset.isna().sum()"
      ],
      "execution_count": 64,
      "outputs": [
        {
          "output_type": "execute_result",
          "data": {
            "text/plain": [
              "id                       188181\n",
              "member_id                188183\n",
              "loan_amnt                     2\n",
              "funded_amnt                   2\n",
              "funded_amnt_inv               2\n",
              "                          ...  \n",
              "settlement_status        186132\n",
              "settlement_date          186132\n",
              "settlement_amount        186132\n",
              "settlement_percentage    186132\n",
              "settlement_term          186132\n",
              "Length: 145, dtype: int64"
            ]
          },
          "metadata": {
            "tags": []
          },
          "execution_count": 64
        }
      ]
    },
    {
      "cell_type": "code",
      "metadata": {
        "id": "korWPfCRbraK",
        "colab_type": "code",
        "colab": {
          "base_uri": "https://localhost:8080/",
          "height": 52
        },
        "outputId": "c86102fc-fec5-4b6c-b6a1-140cc9615df1"
      },
      "source": [
        "dataset['loan_status'].unique()"
      ],
      "execution_count": 65,
      "outputs": [
        {
          "output_type": "execute_result",
          "data": {
            "text/plain": [
              "array(['Fully Paid', 'Charged Off', 'Late (31-120 days)', 'Current',\n",
              "       'In Grace Period', nan], dtype=object)"
            ]
          },
          "metadata": {
            "tags": []
          },
          "execution_count": 65
        }
      ]
    },
    {
      "cell_type": "code",
      "metadata": {
        "id": "RzTt1WitaVSq",
        "colab_type": "code",
        "colab": {}
      },
      "source": [
        "#移除空白欄位\n",
        "dataset = dataset.iloc[:,2:111]\n",
        "empty_cols = [i for i in range(45,72)]\n",
        "dataset = dataset.drop(dataset.columns[empty_cols],axis=1)\n",
        "data_with_loanstatus_sliced = dataset[(dataset['loan_status']==\"Fully Paid\") | (dataset['loan_status']==\"Charged Off\")]"
      ],
      "execution_count": 0,
      "outputs": []
    },
    {
      "cell_type": "code",
      "metadata": {
        "id": "deKXVaz8bJ6d",
        "colab_type": "code",
        "colab": {
          "base_uri": "https://localhost:8080/",
          "height": 35
        },
        "outputId": "e5bf9fd5-c7cc-4e94-cd6d-697270ff7dc6"
      },
      "source": [
        "data_with_loanstatus_sliced.shape"
      ],
      "execution_count": 105,
      "outputs": [
        {
          "output_type": "execute_result",
          "data": {
            "text/plain": [
              "(188171, 82)"
            ]
          },
          "metadata": {
            "tags": []
          },
          "execution_count": 105
        }
      ]
    },
    {
      "cell_type": "code",
      "metadata": {
        "id": "D4MDbnrDcZa2",
        "colab_type": "code",
        "colab": {
          "base_uri": "https://localhost:8080/",
          "height": 225
        },
        "outputId": "6c30de36-226a-46ff-d796-20b044b30431"
      },
      "source": [
        "data_with_loanstatus_sliced.isna().sum().sort_values(ascending= False)"
      ],
      "execution_count": 106,
      "outputs": [
        {
          "output_type": "execute_result",
          "data": {
            "text/plain": [
              "url                               188171\n",
              "mths_since_last_record            170698\n",
              "mths_since_recent_bc_dlq          151423\n",
              "mths_since_recent_revol_delinq    133728\n",
              "mths_since_last_delinq            107568\n",
              "                                   ...  \n",
              "revol_bal                              0\n",
              "pub_rec                                0\n",
              "open_acc                               0\n",
              "inq_last_6mths                         0\n",
              "loan_amnt                              0\n",
              "Length: 82, dtype: int64"
            ]
          },
          "metadata": {
            "tags": []
          },
          "execution_count": 106
        }
      ]
    },
    {
      "cell_type": "code",
      "metadata": {
        "id": "zGX9IgRscZ2U",
        "colab_type": "code",
        "colab": {
          "base_uri": "https://localhost:8080/",
          "height": 191
        },
        "outputId": "8c4c3843-71fe-47cc-8983-6d0749be1945"
      },
      "source": [
        "empty_cols = data_with_loanstatus_sliced.isna().sum() / len(data_with_loanstatus_sliced)\n",
        "empty_cols[empty_cols > 0.1].index"
      ],
      "execution_count": 107,
      "outputs": [
        {
          "output_type": "execute_result",
          "data": {
            "text/plain": [
              "Index(['url', 'desc', 'mths_since_last_delinq', 'mths_since_last_record',\n",
              "       'avg_cur_bal', 'mo_sin_old_il_acct', 'mo_sin_old_rev_tl_op',\n",
              "       'mo_sin_rcnt_rev_tl_op', 'mo_sin_rcnt_tl', 'mths_since_recent_bc_dlq',\n",
              "       'mths_since_recent_inq', 'mths_since_recent_revol_delinq',\n",
              "       'num_accts_ever_120_pd', 'num_actv_bc_tl', 'num_actv_rev_tl',\n",
              "       'num_bc_tl', 'num_il_tl', 'num_op_rev_tl', 'num_rev_accts',\n",
              "       'num_rev_tl_bal_gt_0', 'num_tl_120dpd_2m', 'num_tl_30dpd',\n",
              "       'num_tl_90g_dpd_24m', 'num_tl_op_past_12m', 'pct_tl_nvr_dlq',\n",
              "       'tot_hi_cred_lim', 'total_il_high_credit_limit'],\n",
              "      dtype='object')"
            ]
          },
          "metadata": {
            "tags": []
          },
          "execution_count": 107
        }
      ]
    },
    {
      "cell_type": "code",
      "metadata": {
        "id": "Z1Yc-jyec5dG",
        "colab_type": "code",
        "colab": {}
      },
      "source": [
        "del_col_names = [\"delinq_2yrs\", \"last_pymnt_d\", \"chargeoff_within_12_mths\",\"delinq_amnt\",\"emp_title\",\n",
        "\"term\", \"emp_title\", \"pymnt_plan\",\"purpose\",\"title\", \"zip_code\", \"verification_status\", \"dti\",\"earliest_cr_line\",\n",
        "\"initial_list_status\", \"out_prncp\",\n",
        "\"pymnt_plan\", \"num_tl_90g_dpd_24m\", \"num_tl_30dpd\", \"num_tl_120dpd_2m\",\n",
        "\"num_accts_ever_120_pd\", \"delinq_amnt\",\n",
        "\"chargeoff_within_12_mths\", \"total_rec_late_fee\", \"out_prncp_inv\", \"issue_d\"]"
      ],
      "execution_count": 0,
      "outputs": []
    },
    {
      "cell_type": "code",
      "metadata": {
        "id": "hgyY-x9VdIX4",
        "colab_type": "code",
        "colab": {}
      },
      "source": [
        "dataset = data_with_loanstatus_sliced.drop(labels = del_col_names, axis = 1)"
      ],
      "execution_count": 0,
      "outputs": []
    },
    {
      "cell_type": "code",
      "metadata": {
        "id": "TvD_e8I7dJyn",
        "colab_type": "code",
        "colab": {
          "base_uri": "https://localhost:8080/",
          "height": 35
        },
        "outputId": "6e12da15-e945-46bf-e29b-b9c018998610"
      },
      "source": [
        "dataset.shape"
      ],
      "execution_count": 110,
      "outputs": [
        {
          "output_type": "execute_result",
          "data": {
            "text/plain": [
              "(188171, 60)"
            ]
          },
          "metadata": {
            "tags": []
          },
          "execution_count": 110
        }
      ]
    },
    {
      "cell_type": "code",
      "metadata": {
        "id": "KsDb6NKqdKmX",
        "colab_type": "code",
        "colab": {}
      },
      "source": [
        "features = ['funded_amnt','emp_length','annual_inc','home_ownership','grade',\n",
        "\"last_pymnt_amnt\",\n",
        "\"mort_acc\",\n",
        "\"pub_rec\",\n",
        "\"int_rate\", \"open_acc\",\n",
        "\"num_actv_rev_tl\",\n",
        "\"mo_sin_rcnt_rev_tl_op\",\"mo_sin_old_rev_tl_op\",\"bc_util\",\"bc_open_to_buy\",\n",
        "\"avg_cur_bal\",\"acc_open_past_24mths\",'loan_status'] "
      ],
      "execution_count": 0,
      "outputs": []
    },
    {
      "cell_type": "code",
      "metadata": {
        "id": "LlJev9TvdRip",
        "colab_type": "code",
        "colab": {}
      },
      "source": [
        "Final_data = dataset[features] "
      ],
      "execution_count": 0,
      "outputs": []
    },
    {
      "cell_type": "code",
      "metadata": {
        "id": "tKlZlBhydTaZ",
        "colab_type": "code",
        "colab": {
          "base_uri": "https://localhost:8080/",
          "height": 35
        },
        "outputId": "dd9387f7-e494-4789-cd9e-294c08109360"
      },
      "source": [
        "Final_data.shape"
      ],
      "execution_count": 113,
      "outputs": [
        {
          "output_type": "execute_result",
          "data": {
            "text/plain": [
              "(188171, 18)"
            ]
          },
          "metadata": {
            "tags": []
          },
          "execution_count": 113
        }
      ]
    },
    {
      "cell_type": "code",
      "metadata": {
        "id": "fdwYvaA1dUfJ",
        "colab_type": "code",
        "colab": {
          "base_uri": "https://localhost:8080/",
          "height": 451
        },
        "outputId": "e5e47ace-c691-4dc5-af02-8498582a6acf"
      },
      "source": [
        "Final_data.info()"
      ],
      "execution_count": 114,
      "outputs": [
        {
          "output_type": "stream",
          "text": [
            "<class 'pandas.core.frame.DataFrame'>\n",
            "Int64Index: 188171 entries, 0 to 188180\n",
            "Data columns (total 18 columns):\n",
            " #   Column                 Non-Null Count   Dtype  \n",
            "---  ------                 --------------   -----  \n",
            " 0   funded_amnt            188171 non-null  float64\n",
            " 1   emp_length             180284 non-null  object \n",
            " 2   annual_inc             188171 non-null  float64\n",
            " 3   home_ownership         188171 non-null  object \n",
            " 4   grade                  188171 non-null  object \n",
            " 5   last_pymnt_amnt        188171 non-null  float64\n",
            " 6   mort_acc               180676 non-null  float64\n",
            " 7   pub_rec                188171 non-null  float64\n",
            " 8   int_rate               188171 non-null  object \n",
            " 9   open_acc               188171 non-null  float64\n",
            " 10  num_actv_rev_tl        160430 non-null  float64\n",
            " 11  mo_sin_rcnt_rev_tl_op  160429 non-null  float64\n",
            " 12  mo_sin_old_rev_tl_op   160429 non-null  float64\n",
            " 13  bc_util                179059 non-null  float64\n",
            " 14  bc_open_to_buy         179146 non-null  float64\n",
            " 15  avg_cur_bal            160424 non-null  float64\n",
            " 16  acc_open_past_24mths   180676 non-null  float64\n",
            " 17  loan_status            188171 non-null  object \n",
            "dtypes: float64(13), object(5)\n",
            "memory usage: 27.3+ MB\n"
          ],
          "name": "stdout"
        }
      ]
    },
    {
      "cell_type": "code",
      "metadata": {
        "id": "wgkBh9A5dfWa",
        "colab_type": "code",
        "colab": {
          "base_uri": "https://localhost:8080/",
          "height": 202
        },
        "outputId": "385b0168-9cc3-4b5c-bc15-ece25cc07a9d"
      },
      "source": [
        "Final_data.select_dtypes('object').head()"
      ],
      "execution_count": 115,
      "outputs": [
        {
          "output_type": "execute_result",
          "data": {
            "text/html": [
              "<div>\n",
              "<style scoped>\n",
              "    .dataframe tbody tr th:only-of-type {\n",
              "        vertical-align: middle;\n",
              "    }\n",
              "\n",
              "    .dataframe tbody tr th {\n",
              "        vertical-align: top;\n",
              "    }\n",
              "\n",
              "    .dataframe thead th {\n",
              "        text-align: right;\n",
              "    }\n",
              "</style>\n",
              "<table border=\"1\" class=\"dataframe\">\n",
              "  <thead>\n",
              "    <tr style=\"text-align: right;\">\n",
              "      <th></th>\n",
              "      <th>emp_length</th>\n",
              "      <th>home_ownership</th>\n",
              "      <th>grade</th>\n",
              "      <th>int_rate</th>\n",
              "      <th>loan_status</th>\n",
              "    </tr>\n",
              "  </thead>\n",
              "  <tbody>\n",
              "    <tr>\n",
              "      <th>0</th>\n",
              "      <td>3 years</td>\n",
              "      <td>MORTGAGE</td>\n",
              "      <td>A</td>\n",
              "      <td>7.62%</td>\n",
              "      <td>Fully Paid</td>\n",
              "    </tr>\n",
              "    <tr>\n",
              "      <th>1</th>\n",
              "      <td>10+ years</td>\n",
              "      <td>OWN</td>\n",
              "      <td>B</td>\n",
              "      <td>10.99%</td>\n",
              "      <td>Fully Paid</td>\n",
              "    </tr>\n",
              "    <tr>\n",
              "      <th>2</th>\n",
              "      <td>10+ years</td>\n",
              "      <td>MORTGAGE</td>\n",
              "      <td>B</td>\n",
              "      <td>11.99%</td>\n",
              "      <td>Fully Paid</td>\n",
              "    </tr>\n",
              "    <tr>\n",
              "      <th>3</th>\n",
              "      <td>5 years</td>\n",
              "      <td>MORTGAGE</td>\n",
              "      <td>A</td>\n",
              "      <td>7.62%</td>\n",
              "      <td>Fully Paid</td>\n",
              "    </tr>\n",
              "    <tr>\n",
              "      <th>4</th>\n",
              "      <td>4 years</td>\n",
              "      <td>RENT</td>\n",
              "      <td>B</td>\n",
              "      <td>10.99%</td>\n",
              "      <td>Fully Paid</td>\n",
              "    </tr>\n",
              "  </tbody>\n",
              "</table>\n",
              "</div>"
            ],
            "text/plain": [
              "  emp_length home_ownership grade int_rate loan_status\n",
              "0    3 years       MORTGAGE     A    7.62%  Fully Paid\n",
              "1  10+ years            OWN     B   10.99%  Fully Paid\n",
              "2  10+ years       MORTGAGE     B   11.99%  Fully Paid\n",
              "3    5 years       MORTGAGE     A    7.62%  Fully Paid\n",
              "4    4 years           RENT     B   10.99%  Fully Paid"
            ]
          },
          "metadata": {
            "tags": []
          },
          "execution_count": 115
        }
      ]
    },
    {
      "cell_type": "code",
      "metadata": {
        "id": "w-9AfW8veT39",
        "colab_type": "code",
        "colab": {}
      },
      "source": [
        "Final_data = Final_data[Final_data[\"int_rate\"].notnull()]"
      ],
      "execution_count": 0,
      "outputs": []
    },
    {
      "cell_type": "markdown",
      "metadata": {
        "id": "4Z2BILwId4nr",
        "colab_type": "text"
      },
      "source": [
        "### 將字串欄位改變成數值型態"
      ]
    },
    {
      "cell_type": "code",
      "metadata": {
        "id": "1l0TReh7drnK",
        "colab_type": "code",
        "colab": {}
      },
      "source": [
        "Final_data[\"int_rate\"] = Final_data[\"int_rate\"].map(lambda x:float(x[:-1]) )"
      ],
      "execution_count": 0,
      "outputs": []
    },
    {
      "cell_type": "code",
      "metadata": {
        "id": "Kw8mR8U4eOzE",
        "colab_type": "code",
        "colab": {}
      },
      "source": [
        "Final_data['grade'] = Final_data['grade'].replace({'A':7,'B':6,'C':5,'D':4,'E':3,'F':2,'G':1})\n"
      ],
      "execution_count": 0,
      "outputs": []
    },
    {
      "cell_type": "code",
      "metadata": {
        "id": "xZ-WBqF9epuf",
        "colab_type": "code",
        "colab": {}
      },
      "source": [
        "Final_data[\"home_ownership\"] = Final_data[\"home_ownership\"].map({\"MORTGAGE\":6,\"RENT\":5,\"OWN\":4,\"OTHER\":3,\"NONE\":2,\"ANY\":1})\n"
      ],
      "execution_count": 0,
      "outputs": []
    },
    {
      "cell_type": "code",
      "metadata": {
        "id": "4WY0vJVSeuQg",
        "colab_type": "code",
        "colab": {}
      },
      "source": [
        "import re\n",
        "def getEmpNum(e):\n",
        "  m = re.search('(\\d+)', str(e) )\n",
        "  if m :\n",
        "    return m.group(1)\n",
        "  else:\n",
        "    return 0\n",
        "Final_data['emp_length'] = Final_data['emp_length'].map(lambda e: getEmpNum(e))"
      ],
      "execution_count": 0,
      "outputs": []
    },
    {
      "cell_type": "code",
      "metadata": {
        "id": "6ayELt9Xe_Hw",
        "colab_type": "code",
        "colab": {}
      },
      "source": [
        "Final_data['loan_status']= Final_data['loan_status'].replace({\"Fully Paid\":0, \"Charged Off\":1})\n"
      ],
      "execution_count": 0,
      "outputs": []
    },
    {
      "cell_type": "code",
      "metadata": {
        "id": "FMa7As1mfrgI",
        "colab_type": "code",
        "colab": {
          "base_uri": "https://localhost:8080/",
          "height": 451
        },
        "outputId": "b09dc6f2-7057-48ba-8d84-8282bcbfd2c1"
      },
      "source": [
        "Final_data.info()"
      ],
      "execution_count": 122,
      "outputs": [
        {
          "output_type": "stream",
          "text": [
            "<class 'pandas.core.frame.DataFrame'>\n",
            "Int64Index: 188171 entries, 0 to 188180\n",
            "Data columns (total 18 columns):\n",
            " #   Column                 Non-Null Count   Dtype  \n",
            "---  ------                 --------------   -----  \n",
            " 0   funded_amnt            188171 non-null  float64\n",
            " 1   emp_length             188171 non-null  object \n",
            " 2   annual_inc             188171 non-null  float64\n",
            " 3   home_ownership         188171 non-null  int64  \n",
            " 4   grade                  188171 non-null  int64  \n",
            " 5   last_pymnt_amnt        188171 non-null  float64\n",
            " 6   mort_acc               180676 non-null  float64\n",
            " 7   pub_rec                188171 non-null  float64\n",
            " 8   int_rate               188171 non-null  float64\n",
            " 9   open_acc               188171 non-null  float64\n",
            " 10  num_actv_rev_tl        160430 non-null  float64\n",
            " 11  mo_sin_rcnt_rev_tl_op  160429 non-null  float64\n",
            " 12  mo_sin_old_rev_tl_op   160429 non-null  float64\n",
            " 13  bc_util                179059 non-null  float64\n",
            " 14  bc_open_to_buy         179146 non-null  float64\n",
            " 15  avg_cur_bal            160424 non-null  float64\n",
            " 16  acc_open_past_24mths   180676 non-null  float64\n",
            " 17  loan_status            188171 non-null  int64  \n",
            "dtypes: float64(14), int64(3), object(1)\n",
            "memory usage: 27.3+ MB\n"
          ],
          "name": "stdout"
        }
      ]
    },
    {
      "cell_type": "code",
      "metadata": {
        "id": "cyWGpGxPfvjj",
        "colab_type": "code",
        "colab": {
          "base_uri": "https://localhost:8080/",
          "height": 347
        },
        "outputId": "ce116f34-955f-4d08-bf8d-7cd20c213805"
      },
      "source": [
        "Final_data.isna().sum().sort_values(ascending = False)"
      ],
      "execution_count": 125,
      "outputs": [
        {
          "output_type": "execute_result",
          "data": {
            "text/plain": [
              "avg_cur_bal              27747\n",
              "mo_sin_old_rev_tl_op     27742\n",
              "mo_sin_rcnt_rev_tl_op    27742\n",
              "num_actv_rev_tl          27741\n",
              "bc_util                   9112\n",
              "bc_open_to_buy            9025\n",
              "acc_open_past_24mths      7495\n",
              "mort_acc                  7495\n",
              "loan_status                  0\n",
              "grade                        0\n",
              "emp_length                   0\n",
              "annual_inc                   0\n",
              "home_ownership               0\n",
              "int_rate                     0\n",
              "last_pymnt_amnt              0\n",
              "pub_rec                      0\n",
              "open_acc                     0\n",
              "funded_amnt                  0\n",
              "dtype: int64"
            ]
          },
          "metadata": {
            "tags": []
          },
          "execution_count": 125
        }
      ]
    },
    {
      "cell_type": "code",
      "metadata": {
        "id": "IQr-Sb6EgLll",
        "colab_type": "code",
        "colab": {}
      },
      "source": [
        "Final_data.fillna(Final_data.mean(), inplace=True)"
      ],
      "execution_count": 0,
      "outputs": []
    },
    {
      "cell_type": "code",
      "metadata": {
        "id": "kXkxJq6Ugb22",
        "colab_type": "code",
        "colab": {
          "base_uri": "https://localhost:8080/",
          "height": 347
        },
        "outputId": "1780ae01-bdd6-42e8-ce2a-8ad811eef334"
      },
      "source": [
        "Final_data.isna().sum().sort_values(ascending = False)"
      ],
      "execution_count": 128,
      "outputs": [
        {
          "output_type": "execute_result",
          "data": {
            "text/plain": [
              "loan_status              0\n",
              "acc_open_past_24mths     0\n",
              "emp_length               0\n",
              "annual_inc               0\n",
              "home_ownership           0\n",
              "grade                    0\n",
              "last_pymnt_amnt          0\n",
              "mort_acc                 0\n",
              "pub_rec                  0\n",
              "int_rate                 0\n",
              "open_acc                 0\n",
              "num_actv_rev_tl          0\n",
              "mo_sin_rcnt_rev_tl_op    0\n",
              "mo_sin_old_rev_tl_op     0\n",
              "bc_util                  0\n",
              "bc_open_to_buy           0\n",
              "avg_cur_bal              0\n",
              "funded_amnt              0\n",
              "dtype: int64"
            ]
          },
          "metadata": {
            "tags": []
          },
          "execution_count": 128
        }
      ]
    },
    {
      "cell_type": "code",
      "metadata": {
        "id": "a0ucKUdzgiFn",
        "colab_type": "code",
        "colab": {}
      },
      "source": [
        ""
      ],
      "execution_count": 0,
      "outputs": []
    }
  ]
}