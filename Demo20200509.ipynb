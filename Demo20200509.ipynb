{
  "nbformat": 4,
  "nbformat_minor": 0,
  "metadata": {
    "colab": {
      "name": "Demo20200509.ipynb",
      "provenance": [],
      "collapsed_sections": []
    },
    "kernelspec": {
      "name": "python3",
      "display_name": "Python 3"
    }
  },
  "cells": [
    {
      "cell_type": "code",
      "metadata": {
        "id": "kE4iiGO5Dq4l",
        "colab_type": "code",
        "colab": {}
      },
      "source": [
        "import requests\n",
        "res = requests.get('https://news.ltn.com.tw/list/breakingnews')"
      ],
      "execution_count": 0,
      "outputs": []
    },
    {
      "cell_type": "code",
      "metadata": {
        "id": "FWpBy1XHF49w",
        "colab_type": "code",
        "colab": {
          "base_uri": "https://localhost:8080/",
          "height": 35
        },
        "outputId": "90f674a0-8158-4df8-b6f8-841cc8a202cf"
      },
      "source": [
        "res"
      ],
      "execution_count": 2,
      "outputs": [
        {
          "output_type": "execute_result",
          "data": {
            "text/plain": [
              "<Response [200]>"
            ]
          },
          "metadata": {
            "tags": []
          },
          "execution_count": 2
        }
      ]
    },
    {
      "cell_type": "code",
      "metadata": {
        "id": "9lvqdTXjF8Zs",
        "colab_type": "code",
        "colab": {}
      },
      "source": [
        "from bs4 import BeautifulSoup\n",
        "soup = BeautifulSoup(res.text,'lxml')"
      ],
      "execution_count": 0,
      "outputs": []
    },
    {
      "cell_type": "code",
      "metadata": {
        "id": "WjCGA2UVF_3D",
        "colab_type": "code",
        "colab": {}
      },
      "source": [
        "newsary = []\n",
        "for li in soup.select('ul.list li'):\n",
        "  #print(li)\n",
        "  title = li.select_one('.title').text\n",
        "  dt = li.select_one('.time').text\n",
        "  link = li.select_one('a').get('href')\n",
        "  newsary.append({'title':title, 'time': dt, 'link':link})"
      ],
      "execution_count": 0,
      "outputs": []
    },
    {
      "cell_type": "code",
      "metadata": {
        "id": "0E4aKSMUGy4K",
        "colab_type": "code",
        "colab": {
          "base_uri": "https://localhost:8080/",
          "height": 202
        },
        "outputId": "2e28e955-bb57-4142-c88a-d3e2673d6454"
      },
      "source": [
        "import pandas\n",
        "newsdf = pandas.DataFrame(newsary)\n",
        "newsdf.head()"
      ],
      "execution_count": 16,
      "outputs": [
        {
          "output_type": "execute_result",
          "data": {
            "text/html": [
              "<div>\n",
              "<style scoped>\n",
              "    .dataframe tbody tr th:only-of-type {\n",
              "        vertical-align: middle;\n",
              "    }\n",
              "\n",
              "    .dataframe tbody tr th {\n",
              "        vertical-align: top;\n",
              "    }\n",
              "\n",
              "    .dataframe thead th {\n",
              "        text-align: right;\n",
              "    }\n",
              "</style>\n",
              "<table border=\"1\" class=\"dataframe\">\n",
              "  <thead>\n",
              "    <tr style=\"text-align: right;\">\n",
              "      <th></th>\n",
              "      <th>title</th>\n",
              "      <th>time</th>\n",
              "      <th>link</th>\n",
              "    </tr>\n",
              "  </thead>\n",
              "  <tbody>\n",
              "    <tr>\n",
              "      <th>0</th>\n",
              "      <td>5/9重要財經新聞一覽</td>\n",
              "      <td>09:34</td>\n",
              "      <td>https://ec.ltn.com.tw/article/breakingnews/315...</td>\n",
              "    </tr>\n",
              "    <tr>\n",
              "      <th>1</th>\n",
              "      <td>台灣史前館開館19年首次大改造  本月底封館到明年</td>\n",
              "      <td>09:33</td>\n",
              "      <td>https://news.ltn.com.tw/news/life/breakingnews...</td>\n",
              "    </tr>\n",
              "    <tr>\n",
              "      <th>2</th>\n",
              "      <td>「我不是股神的粉絲」馬斯克：巴菲特的工作真的很無聊</td>\n",
              "      <td>09:29</td>\n",
              "      <td>https://ec.ltn.com.tw/article/breakingnews/315...</td>\n",
              "    </tr>\n",
              "    <tr>\n",
              "      <th>3</th>\n",
              "      <td>武漢肺炎疫情任務  學者：中國解放軍發揮兵力有限</td>\n",
              "      <td>09:27</td>\n",
              "      <td>https://news.ltn.com.tw/news/world/breakingnew...</td>\n",
              "    </tr>\n",
              "    <tr>\n",
              "      <th>4</th>\n",
              "      <td>今晴朗炎熱！明晚梅雨季首道鋒面到 全台嚴防劇烈天氣</td>\n",
              "      <td>09:27</td>\n",
              "      <td>https://news.ltn.com.tw/news/life/breakingnews...</td>\n",
              "    </tr>\n",
              "  </tbody>\n",
              "</table>\n",
              "</div>"
            ],
            "text/plain": [
              "                       title  ...                                               link\n",
              "0                5/9重要財經新聞一覽  ...  https://ec.ltn.com.tw/article/breakingnews/315...\n",
              "1  台灣史前館開館19年首次大改造  本月底封館到明年  ...  https://news.ltn.com.tw/news/life/breakingnews...\n",
              "2  「我不是股神的粉絲」馬斯克：巴菲特的工作真的很無聊  ...  https://ec.ltn.com.tw/article/breakingnews/315...\n",
              "3   武漢肺炎疫情任務  學者：中國解放軍發揮兵力有限  ...  https://news.ltn.com.tw/news/world/breakingnew...\n",
              "4  今晴朗炎熱！明晚梅雨季首道鋒面到 全台嚴防劇烈天氣  ...  https://news.ltn.com.tw/news/life/breakingnews...\n",
              "\n",
              "[5 rows x 3 columns]"
            ]
          },
          "metadata": {
            "tags": []
          },
          "execution_count": 16
        }
      ]
    },
    {
      "cell_type": "markdown",
      "metadata": {
        "id": "Z8FgEssNStGH",
        "colab_type": "text"
      },
      "source": [
        "## 自由時報爬蟲 "
      ]
    },
    {
      "cell_type": "code",
      "metadata": {
        "id": "4O58alwTSsMB",
        "colab_type": "code",
        "colab": {}
      },
      "source": [
        "import requests\n",
        "res = requests.get('https://news.ltn.com.tw/ajax/breakingnews/all/4')"
      ],
      "execution_count": 0,
      "outputs": []
    },
    {
      "cell_type": "code",
      "metadata": {
        "id": "GY1MCli9Ssbu",
        "colab_type": "code",
        "colab": {}
      },
      "source": [
        "jd = res.json()"
      ],
      "execution_count": 0,
      "outputs": []
    },
    {
      "cell_type": "code",
      "metadata": {
        "id": "5U__p05hS3wG",
        "colab_type": "code",
        "colab": {}
      },
      "source": [
        "import pandas\n",
        "df = pandas.DataFrame(jd['data'].values())\n",
        "#df"
      ],
      "execution_count": 0,
      "outputs": []
    },
    {
      "cell_type": "code",
      "metadata": {
        "id": "NLc5HRJ4Tny_",
        "colab_type": "code",
        "colab": {}
      },
      "source": [
        "import time\n",
        "newsary = []\n",
        "\n",
        "for i in range(2,5):\n",
        "  res = requests.get('https://news.ltn.com.tw/ajax/breakingnews/all/{}'.format(i))\n",
        "  time.sleep(2)\n",
        "  #print(res.json())\n",
        "  jd = res.json()\n",
        "  df = pandas.DataFrame(jd['data'].values())\n",
        "  newsary.append(df)"
      ],
      "execution_count": 0,
      "outputs": []
    },
    {
      "cell_type": "code",
      "metadata": {
        "id": "MG2zC4pgUftx",
        "colab_type": "code",
        "colab": {}
      },
      "source": [
        "newsdf = pandas.concat(newsary)"
      ],
      "execution_count": 0,
      "outputs": []
    },
    {
      "cell_type": "code",
      "metadata": {
        "id": "w9VP8XUQUj7k",
        "colab_type": "code",
        "colab": {
          "base_uri": "https://localhost:8080/",
          "height": 1000
        },
        "outputId": "081d0fef-86da-424d-f80b-0f37b2eb1906"
      },
      "source": [
        "newsdf.head()"
      ],
      "execution_count": 118,
      "outputs": [
        {
          "output_type": "execute_result",
          "data": {
            "text/html": [
              "<div>\n",
              "<style scoped>\n",
              "    .dataframe tbody tr th:only-of-type {\n",
              "        vertical-align: middle;\n",
              "    }\n",
              "\n",
              "    .dataframe tbody tr th {\n",
              "        vertical-align: top;\n",
              "    }\n",
              "\n",
              "    .dataframe thead th {\n",
              "        text-align: right;\n",
              "    }\n",
              "</style>\n",
              "<table border=\"1\" class=\"dataframe\">\n",
              "  <thead>\n",
              "    <tr style=\"text-align: right;\">\n",
              "      <th></th>\n",
              "      <th>no</th>\n",
              "      <th>title</th>\n",
              "      <th>bigphoto_flag</th>\n",
              "      <th>photo_S</th>\n",
              "      <th>photo_L</th>\n",
              "      <th>url</th>\n",
              "      <th>time</th>\n",
              "      <th>type_en</th>\n",
              "      <th>group</th>\n",
              "      <th>type_cn</th>\n",
              "      <th>local</th>\n",
              "      <th>summary</th>\n",
              "      <th>video</th>\n",
              "      <th>localUrl</th>\n",
              "      <th>tagUrl</th>\n",
              "      <th>style</th>\n",
              "      <th>tagText</th>\n",
              "    </tr>\n",
              "  </thead>\n",
              "  <tbody>\n",
              "    <tr>\n",
              "      <th>0</th>\n",
              "      <td>3159956</td>\n",
              "      <td>投票日為立委候選人發簡訊拉票 男子恐被罰50萬元</td>\n",
              "      <td>0</td>\n",
              "      <td>http://img.ltn.com.tw/Upload/news/300/2020/05/...</td>\n",
              "      <td>http://img.ltn.com.tw/Upload/news/600/2020/05/...</td>\n",
              "      <td>https://news.ltn.com.tw/news/society/breakingn...</td>\n",
              "      <td>09:57</td>\n",
              "      <td>society</td>\n",
              "      <td>breakingnews</td>\n",
              "      <td>社會</td>\n",
              "      <td>屏東縣</td>\n",
              "      <td>今年1月11日總統及立委選舉投票日當天，男子違規為屏東縣無黨籍立委候選人鄭朝明發送助選簡訊，...</td>\n",
              "      <td>0</td>\n",
              "      <td>list/breakingnews/Pingtung</td>\n",
              "      <td>list/breakingnews/society</td>\n",
              "      <td>None</td>\n",
              "      <td>社會</td>\n",
              "    </tr>\n",
              "    <tr>\n",
              "      <th>1</th>\n",
              "      <td>3159955</td>\n",
              "      <td>罷韓團體深夜「洗地板」 高市府：清潔同仁維護市容很辛苦</td>\n",
              "      <td>0</td>\n",
              "      <td>http://img.ltn.com.tw/Upload/news/300/2020/05/...</td>\n",
              "      <td>http://img.ltn.com.tw/Upload/news/600/2020/05/...</td>\n",
              "      <td>https://news.ltn.com.tw/news/politics/breaking...</td>\n",
              "      <td>09:55</td>\n",
              "      <td>politics</td>\n",
              "      <td>breakingnews</td>\n",
              "      <td>政治</td>\n",
              "      <td>高雄市</td>\n",
              "      <td>［記者黃旭磊／高雄報導］台灣基進昨日深夜11點許於高雄市四維行政中心前人行道上，以強力水柱清...</td>\n",
              "      <td>0</td>\n",
              "      <td>list/breakingnews/Kaohsiung</td>\n",
              "      <td>list/breakingnews/politics</td>\n",
              "      <td>None</td>\n",
              "      <td>政治</td>\n",
              "    </tr>\n",
              "    <tr>\n",
              "      <th>2</th>\n",
              "      <td>3159953</td>\n",
              "      <td>中國助藍營、韓國瑜賄選案 陸委會：不適用「反滲透法」</td>\n",
              "      <td>0</td>\n",
              "      <td>http://img.ltn.com.tw/Upload/news/300/2020/05/...</td>\n",
              "      <td>http://img.ltn.com.tw/Upload/news/600/2020/05/...</td>\n",
              "      <td>https://news.ltn.com.tw/news/politics/breaking...</td>\n",
              "      <td>09:48</td>\n",
              "      <td>politics</td>\n",
              "      <td>breakingnews</td>\n",
              "      <td>政治</td>\n",
              "      <td>False</td>\n",
              "      <td>中國湖南省台辦等單位去年底涉嫌提供台商資金，並資助機票要求拉抬國民黨總統候選人韓國瑜選情，對...</td>\n",
              "      <td>0</td>\n",
              "      <td></td>\n",
              "      <td>list/breakingnews/politics</td>\n",
              "      <td>None</td>\n",
              "      <td>政治</td>\n",
              "    </tr>\n",
              "    <tr>\n",
              "      <th>3</th>\n",
              "      <td>3159926</td>\n",
              "      <td>軍情動態》軍用無人機也能用租的！希臘向以色列租用多架防禦邊境</td>\n",
              "      <td>1</td>\n",
              "      <td>http://img.ltn.com.tw/Upload/news/300/2020/05/...</td>\n",
              "      <td>http://img.ltn.com.tw/Upload/news/600/2020/05/...</td>\n",
              "      <td>https://news.ltn.com.tw/news/world/breakingnew...</td>\n",
              "      <td>09:45</td>\n",
              "      <td>world</td>\n",
              "      <td>breakingnews</td>\n",
              "      <td>國際</td>\n",
              "      <td>False</td>\n",
              "      <td>希臘國防部將向以色列租用無人機防禦邊境，這在預算拮据時無疑是昂貴軍購的替代方案之一。希臘租賃...</td>\n",
              "      <td>0</td>\n",
              "      <td></td>\n",
              "      <td>list/breakingnews/world</td>\n",
              "      <td>None</td>\n",
              "      <td>國際</td>\n",
              "    </tr>\n",
              "    <tr>\n",
              "      <th>4</th>\n",
              "      <td>40346</td>\n",
              "      <td>今年第一季手機銷售排行 Top 10 出爐！Android 旗艦全陣亡</td>\n",
              "      <td>0</td>\n",
              "      <td>http://img.ltn.com.tw/Upload/3c/page/2020/05/0...</td>\n",
              "      <td>http://img.ltn.com.tw/Upload/3c/page/2020/05/0...</td>\n",
              "      <td>http://3c.ltn.com.tw/news/40346</td>\n",
              "      <td>09:35</td>\n",
              "      <td></td>\n",
              "      <td>3c</td>\n",
              "      <td></td>\n",
              "      <td>False</td>\n",
              "      <td>市調機構 Canalys 近期釋出最新資料，公開 2020 年第一季出貨量排名前 10 名的...</td>\n",
              "      <td>0</td>\n",
              "      <td></td>\n",
              "      <td>list/3c/3c</td>\n",
              "      <td>None</td>\n",
              "      <td>3C</td>\n",
              "    </tr>\n",
              "  </tbody>\n",
              "</table>\n",
              "</div>"
            ],
            "text/plain": [
              "        no                                title  ... style tagText\n",
              "0  3159956             投票日為立委候選人發簡訊拉票 男子恐被罰50萬元  ...  None      社會\n",
              "1  3159955          罷韓團體深夜「洗地板」 高市府：清潔同仁維護市容很辛苦  ...  None      政治\n",
              "2  3159953           中國助藍營、韓國瑜賄選案 陸委會：不適用「反滲透法」  ...  None      政治\n",
              "3  3159926       軍情動態》軍用無人機也能用租的！希臘向以色列租用多架防禦邊境  ...  None      國際\n",
              "4    40346  今年第一季手機銷售排行 Top 10 出爐！Android 旗艦全陣亡  ...  None      3C\n",
              "\n",
              "[5 rows x 17 columns]"
            ]
          },
          "metadata": {
            "tags": []
          },
          "execution_count": 118
        }
      ]
    },
    {
      "cell_type": "markdown",
      "metadata": {
        "id": "ytXSnH4eKYho",
        "colab_type": "text"
      },
      "source": [
        "## Numpy"
      ]
    },
    {
      "cell_type": "code",
      "metadata": {
        "id": "fsXNg1JgH4sa",
        "colab_type": "code",
        "colab": {}
      },
      "source": [
        "a = [1,3,5,7,9]\n",
        "b = [2,4,6,8,10]"
      ],
      "execution_count": 0,
      "outputs": []
    },
    {
      "cell_type": "code",
      "metadata": {
        "id": "ETwNZKBZKpjh",
        "colab_type": "code",
        "colab": {
          "base_uri": "https://localhost:8080/",
          "height": 104
        },
        "outputId": "7a8c64e1-dbc1-4638-e3b2-3016a360e253"
      },
      "source": [
        "for i in range(len(a)):\n",
        "  print(a[i] * b[i])"
      ],
      "execution_count": 19,
      "outputs": [
        {
          "output_type": "stream",
          "text": [
            "2\n",
            "12\n",
            "30\n",
            "56\n",
            "90\n"
          ],
          "name": "stdout"
        }
      ]
    },
    {
      "cell_type": "code",
      "metadata": {
        "id": "BnjeQpI1KyFV",
        "colab_type": "code",
        "colab": {
          "base_uri": "https://localhost:8080/",
          "height": 104
        },
        "outputId": "235cc2ce-66d5-4bf1-e613-80e432fc12b8"
      },
      "source": [
        "for rec in zip(a,b):\n",
        "  print(rec)"
      ],
      "execution_count": 20,
      "outputs": [
        {
          "output_type": "stream",
          "text": [
            "(1, 2)\n",
            "(3, 4)\n",
            "(5, 6)\n",
            "(7, 8)\n",
            "(9, 10)\n"
          ],
          "name": "stdout"
        }
      ]
    },
    {
      "cell_type": "code",
      "metadata": {
        "id": "Jjwk1Dv0LDmC",
        "colab_type": "code",
        "colab": {
          "base_uri": "https://localhost:8080/",
          "height": 104
        },
        "outputId": "00f2228b-684a-41e6-b36e-d2f1a0515ec8"
      },
      "source": [
        "for i,j in zip(a,b):\n",
        "  print(i*j)"
      ],
      "execution_count": 21,
      "outputs": [
        {
          "output_type": "stream",
          "text": [
            "2\n",
            "12\n",
            "30\n",
            "56\n",
            "90\n"
          ],
          "name": "stdout"
        }
      ]
    },
    {
      "cell_type": "code",
      "metadata": {
        "id": "DXI46iczLMTq",
        "colab_type": "code",
        "colab": {}
      },
      "source": [
        "import numpy"
      ],
      "execution_count": 0,
      "outputs": []
    },
    {
      "cell_type": "code",
      "metadata": {
        "id": "jHt0bkCFLT0c",
        "colab_type": "code",
        "colab": {}
      },
      "source": [
        "na = numpy.array(a)\n",
        "nb = numpy.array(b)"
      ],
      "execution_count": 0,
      "outputs": []
    },
    {
      "cell_type": "code",
      "metadata": {
        "id": "p1f3iYKVLfjs",
        "colab_type": "code",
        "colab": {
          "base_uri": "https://localhost:8080/",
          "height": 35
        },
        "outputId": "b77e29de-a2e7-4b31-c46f-de52219bc13a"
      },
      "source": [
        "na * nb"
      ],
      "execution_count": 24,
      "outputs": [
        {
          "output_type": "execute_result",
          "data": {
            "text/plain": [
              "array([ 2, 12, 30, 56, 90])"
            ]
          },
          "metadata": {
            "tags": []
          },
          "execution_count": 24
        }
      ]
    },
    {
      "cell_type": "code",
      "metadata": {
        "id": "cnTy_BbBLjYg",
        "colab_type": "code",
        "colab": {}
      },
      "source": [
        "import numpy as np\n",
        "my_list = [1,2,3]\n",
        "np_my_list = np.array(my_list)"
      ],
      "execution_count": 0,
      "outputs": []
    },
    {
      "cell_type": "code",
      "metadata": {
        "id": "bm1u7X3hL8ra",
        "colab_type": "code",
        "colab": {
          "base_uri": "https://localhost:8080/",
          "height": 35
        },
        "outputId": "5ef03671-223a-4c71-c3a3-e44d83239020"
      },
      "source": [
        "type(my_list)"
      ],
      "execution_count": 26,
      "outputs": [
        {
          "output_type": "execute_result",
          "data": {
            "text/plain": [
              "list"
            ]
          },
          "metadata": {
            "tags": []
          },
          "execution_count": 26
        }
      ]
    },
    {
      "cell_type": "code",
      "metadata": {
        "id": "_OgJuo6fL-oJ",
        "colab_type": "code",
        "colab": {
          "base_uri": "https://localhost:8080/",
          "height": 35
        },
        "outputId": "dce8f20f-a2ee-4606-ffab-71be7c2f781b"
      },
      "source": [
        "type(np_my_list)"
      ],
      "execution_count": 27,
      "outputs": [
        {
          "output_type": "execute_result",
          "data": {
            "text/plain": [
              "numpy.ndarray"
            ]
          },
          "metadata": {
            "tags": []
          },
          "execution_count": 27
        }
      ]
    },
    {
      "cell_type": "code",
      "metadata": {
        "id": "FFqBztCEMBNZ",
        "colab_type": "code",
        "colab": {
          "base_uri": "https://localhost:8080/",
          "height": 35
        },
        "outputId": "74f86f4b-3551-4d76-cec9-9c95ce9132df"
      },
      "source": [
        "my_list.append(4)\n",
        "my_list"
      ],
      "execution_count": 28,
      "outputs": [
        {
          "output_type": "execute_result",
          "data": {
            "text/plain": [
              "[1, 2, 3, 4]"
            ]
          },
          "metadata": {
            "tags": []
          },
          "execution_count": 28
        }
      ]
    },
    {
      "cell_type": "code",
      "metadata": {
        "id": "q-9k5jA5MGMF",
        "colab_type": "code",
        "colab": {
          "base_uri": "https://localhost:8080/",
          "height": 166
        },
        "outputId": "4256a225-d52e-461e-ae6f-739aefb71f2f"
      },
      "source": [
        "np_my_list.append(4)"
      ],
      "execution_count": 29,
      "outputs": [
        {
          "output_type": "error",
          "ename": "AttributeError",
          "evalue": "ignored",
          "traceback": [
            "\u001b[0;31m---------------------------------------------------------------------------\u001b[0m",
            "\u001b[0;31mAttributeError\u001b[0m                            Traceback (most recent call last)",
            "\u001b[0;32m<ipython-input-29-21a95ad3db70>\u001b[0m in \u001b[0;36m<module>\u001b[0;34m()\u001b[0m\n\u001b[0;32m----> 1\u001b[0;31m \u001b[0mnp_my_list\u001b[0m\u001b[0;34m.\u001b[0m\u001b[0mappend\u001b[0m\u001b[0;34m(\u001b[0m\u001b[0;36m4\u001b[0m\u001b[0;34m)\u001b[0m\u001b[0;34m\u001b[0m\u001b[0;34m\u001b[0m\u001b[0m\n\u001b[0m",
            "\u001b[0;31mAttributeError\u001b[0m: 'numpy.ndarray' object has no attribute 'append'"
          ]
        }
      ]
    },
    {
      "cell_type": "code",
      "metadata": {
        "id": "NpuIWj-pMInb",
        "colab_type": "code",
        "colab": {
          "base_uri": "https://localhost:8080/",
          "height": 69
        },
        "outputId": "0ec0d05b-d246-4c47-a059-7bb4d57df064"
      },
      "source": [
        "my_matrix =[[1,2,3],[4,5,6],[7,8,9]]\n",
        "np.array(my_matrix)"
      ],
      "execution_count": 30,
      "outputs": [
        {
          "output_type": "execute_result",
          "data": {
            "text/plain": [
              "array([[1, 2, 3],\n",
              "       [4, 5, 6],\n",
              "       [7, 8, 9]])"
            ]
          },
          "metadata": {
            "tags": []
          },
          "execution_count": 30
        }
      ]
    },
    {
      "cell_type": "code",
      "metadata": {
        "id": "gDxjQq2RMPpN",
        "colab_type": "code",
        "colab": {
          "base_uri": "https://localhost:8080/",
          "height": 35
        },
        "outputId": "323c708b-e379-4810-e971-6a4ca993c370"
      },
      "source": [
        "np.arange(0,10)\n",
        "np.arange(0,11,2)\n"
      ],
      "execution_count": 32,
      "outputs": [
        {
          "output_type": "execute_result",
          "data": {
            "text/plain": [
              "array([ 0,  2,  4,  6,  8, 10])"
            ]
          },
          "metadata": {
            "tags": []
          },
          "execution_count": 32
        }
      ]
    },
    {
      "cell_type": "code",
      "metadata": {
        "id": "7we63UjkMXs_",
        "colab_type": "code",
        "colab": {
          "base_uri": "https://localhost:8080/",
          "height": 69
        },
        "outputId": "cefe3f25-35a4-4761-f2e1-bec84a01d730"
      },
      "source": [
        "np.zeros(3)\n",
        "np.zeros((5,5))\n",
        "np.ones(3)\n",
        "np.ones((3,3))\n"
      ],
      "execution_count": 36,
      "outputs": [
        {
          "output_type": "execute_result",
          "data": {
            "text/plain": [
              "array([[1., 1., 1.],\n",
              "       [1., 1., 1.],\n",
              "       [1., 1., 1.]])"
            ]
          },
          "metadata": {
            "tags": []
          },
          "execution_count": 36
        }
      ]
    },
    {
      "cell_type": "code",
      "metadata": {
        "id": "A5xFSiMdMazu",
        "colab_type": "code",
        "colab": {
          "base_uri": "https://localhost:8080/",
          "height": 35
        },
        "outputId": "dd4bef60-0ee1-4d29-9461-aaceb24d8991"
      },
      "source": [
        "np.linspace(0,10,3)\n",
        "#np.linspace(0,10,50)"
      ],
      "execution_count": 39,
      "outputs": [
        {
          "output_type": "execute_result",
          "data": {
            "text/plain": [
              "array([ 0.,  5., 10.])"
            ]
          },
          "metadata": {
            "tags": []
          },
          "execution_count": 39
        }
      ]
    },
    {
      "cell_type": "code",
      "metadata": {
        "id": "JW5hSLuzMmT7",
        "colab_type": "code",
        "colab": {
          "base_uri": "https://localhost:8080/",
          "height": 87
        },
        "outputId": "9ea5d954-ceb4-4b63-a971-54457f14cb76"
      },
      "source": [
        "np.eye(4)"
      ],
      "execution_count": 40,
      "outputs": [
        {
          "output_type": "execute_result",
          "data": {
            "text/plain": [
              "array([[1., 0., 0., 0.],\n",
              "       [0., 1., 0., 0.],\n",
              "       [0., 0., 1., 0.],\n",
              "       [0., 0., 0., 1.]])"
            ]
          },
          "metadata": {
            "tags": []
          },
          "execution_count": 40
        }
      ]
    },
    {
      "cell_type": "code",
      "metadata": {
        "id": "vJCOYheZMpGW",
        "colab_type": "code",
        "colab": {
          "base_uri": "https://localhost:8080/",
          "height": 35
        },
        "outputId": "3eaa88bf-35e0-4d95-9d63-6b9a6fba07ad"
      },
      "source": [
        "np.random.rand(2)\n",
        "np.random.rand(5,5)\n",
        "np.random.randn(2)\n",
        "np.random.randn(5,5)\n",
        "np.random.randint(1,100)\n",
        "np.random.randint(1,42,6)"
      ],
      "execution_count": 46,
      "outputs": [
        {
          "output_type": "execute_result",
          "data": {
            "text/plain": [
              "array([14,  2, 28,  1, 38, 24])"
            ]
          },
          "metadata": {
            "tags": []
          },
          "execution_count": 46
        }
      ]
    },
    {
      "cell_type": "code",
      "metadata": {
        "id": "jQSIajqXMr0q",
        "colab_type": "code",
        "colab": {
          "base_uri": "https://localhost:8080/",
          "height": 104
        },
        "outputId": "4d2b9900-2ddd-49c2-ad8d-a71dd84ad1ce"
      },
      "source": [
        "arr = np.arange(25)\n",
        "arr\n",
        "arr.reshape(5,5)"
      ],
      "execution_count": 49,
      "outputs": [
        {
          "output_type": "execute_result",
          "data": {
            "text/plain": [
              "array([[ 0,  1,  2,  3,  4],\n",
              "       [ 5,  6,  7,  8,  9],\n",
              "       [10, 11, 12, 13, 14],\n",
              "       [15, 16, 17, 18, 19],\n",
              "       [20, 21, 22, 23, 24]])"
            ]
          },
          "metadata": {
            "tags": []
          },
          "execution_count": 49
        }
      ]
    },
    {
      "cell_type": "code",
      "metadata": {
        "id": "WE9A3vRoNGJW",
        "colab_type": "code",
        "colab": {}
      },
      "source": [
        "ranarr =np.random.randint(0,50,10)"
      ],
      "execution_count": 0,
      "outputs": []
    },
    {
      "cell_type": "code",
      "metadata": {
        "id": "hGtw32TMNUbE",
        "colab_type": "code",
        "colab": {
          "base_uri": "https://localhost:8080/",
          "height": 35
        },
        "outputId": "6cf2af53-30b7-4569-930d-0ecbf43a95d8"
      },
      "source": [
        "ranarr"
      ],
      "execution_count": 55,
      "outputs": [
        {
          "output_type": "execute_result",
          "data": {
            "text/plain": [
              "array([41,  6,  8, 15,  4,  3, 41, 28, 39, 11])"
            ]
          },
          "metadata": {
            "tags": []
          },
          "execution_count": 55
        }
      ]
    },
    {
      "cell_type": "code",
      "metadata": {
        "id": "NpYjdCIXNLaj",
        "colab_type": "code",
        "colab": {
          "base_uri": "https://localhost:8080/",
          "height": 35
        },
        "outputId": "b4f8c066-598b-4525-e3aa-6e3b240b0a1c"
      },
      "source": [
        "ranarr.max()\n",
        "ranarr.argmax()\n",
        "ranarr.min()\n",
        "ranarr.argmin()"
      ],
      "execution_count": 59,
      "outputs": [
        {
          "output_type": "execute_result",
          "data": {
            "text/plain": [
              "5"
            ]
          },
          "metadata": {
            "tags": []
          },
          "execution_count": 59
        }
      ]
    },
    {
      "cell_type": "code",
      "metadata": {
        "id": "xGJeFpq5NM32",
        "colab_type": "code",
        "colab": {
          "base_uri": "https://localhost:8080/",
          "height": 35
        },
        "outputId": "d3ab11cd-1617-4877-8043-719f6602cdb0"
      },
      "source": [
        "arr.shape"
      ],
      "execution_count": 60,
      "outputs": [
        {
          "output_type": "execute_result",
          "data": {
            "text/plain": [
              "(25,)"
            ]
          },
          "metadata": {
            "tags": []
          },
          "execution_count": 60
        }
      ]
    },
    {
      "cell_type": "code",
      "metadata": {
        "id": "OwcYJfyPNfo2",
        "colab_type": "code",
        "colab": {
          "base_uri": "https://localhost:8080/",
          "height": 52
        },
        "outputId": "90176972-edf5-465d-c4ac-88346e16a842"
      },
      "source": [
        "arr.reshape(1,25)"
      ],
      "execution_count": 61,
      "outputs": [
        {
          "output_type": "execute_result",
          "data": {
            "text/plain": [
              "array([[ 0,  1,  2,  3,  4,  5,  6,  7,  8,  9, 10, 11, 12, 13, 14, 15,\n",
              "        16, 17, 18, 19, 20, 21, 22, 23, 24]])"
            ]
          },
          "metadata": {
            "tags": []
          },
          "execution_count": 61
        }
      ]
    },
    {
      "cell_type": "code",
      "metadata": {
        "id": "0sbQeoV6Nhku",
        "colab_type": "code",
        "colab": {
          "base_uri": "https://localhost:8080/",
          "height": 35
        },
        "outputId": "7f345aa7-322c-44d0-f4d1-23cd0734e49f"
      },
      "source": [
        "arr.reshape(1,25).shape"
      ],
      "execution_count": 62,
      "outputs": [
        {
          "output_type": "execute_result",
          "data": {
            "text/plain": [
              "(1, 25)"
            ]
          },
          "metadata": {
            "tags": []
          },
          "execution_count": 62
        }
      ]
    },
    {
      "cell_type": "code",
      "metadata": {
        "id": "wEhQGb_jNj3j",
        "colab_type": "code",
        "colab": {
          "base_uri": "https://localhost:8080/",
          "height": 35
        },
        "outputId": "01aec493-faba-43cd-fc0e-0d36a94c55ea"
      },
      "source": [
        "arr.reshape(25,1)\n",
        "arr.reshape(25,1).shape"
      ],
      "execution_count": 63,
      "outputs": [
        {
          "output_type": "execute_result",
          "data": {
            "text/plain": [
              "(25, 1)"
            ]
          },
          "metadata": {
            "tags": []
          },
          "execution_count": 63
        }
      ]
    },
    {
      "cell_type": "code",
      "metadata": {
        "id": "JoL0moLBNlcT",
        "colab_type": "code",
        "colab": {
          "base_uri": "https://localhost:8080/",
          "height": 35
        },
        "outputId": "86e1a8f5-4d5d-4f52-c790-a2f3527653a0"
      },
      "source": [
        "arr.dtype"
      ],
      "execution_count": 64,
      "outputs": [
        {
          "output_type": "execute_result",
          "data": {
            "text/plain": [
              "dtype('int64')"
            ]
          },
          "metadata": {
            "tags": []
          },
          "execution_count": 64
        }
      ]
    },
    {
      "cell_type": "code",
      "metadata": {
        "id": "Ibjad7YZNnK_",
        "colab_type": "code",
        "colab": {
          "base_uri": "https://localhost:8080/",
          "height": 35
        },
        "outputId": "b16f4214-1c75-46b1-9cc3-db15ecf2b21f"
      },
      "source": [
        "arr = np.arange(0,11)\n",
        "arr"
      ],
      "execution_count": 66,
      "outputs": [
        {
          "output_type": "execute_result",
          "data": {
            "text/plain": [
              "array([ 0,  1,  2,  3,  4,  5,  6,  7,  8,  9, 10])"
            ]
          },
          "metadata": {
            "tags": []
          },
          "execution_count": 66
        }
      ]
    },
    {
      "cell_type": "code",
      "metadata": {
        "id": "tcpEErpqNwa9",
        "colab_type": "code",
        "colab": {
          "base_uri": "https://localhost:8080/",
          "height": 35
        },
        "outputId": "f9b44d97-bfc5-429b-ad20-3863236db402"
      },
      "source": [
        "arr[8]\n",
        "arr[1:5]"
      ],
      "execution_count": 68,
      "outputs": [
        {
          "output_type": "execute_result",
          "data": {
            "text/plain": [
              "array([1, 2, 3, 4])"
            ]
          },
          "metadata": {
            "tags": []
          },
          "execution_count": 68
        }
      ]
    },
    {
      "cell_type": "code",
      "metadata": {
        "id": "trHJ14mvNzX6",
        "colab_type": "code",
        "colab": {
          "base_uri": "https://localhost:8080/",
          "height": 35
        },
        "outputId": "d71947ab-6599-4ac5-d5c5-06ebf6d49033"
      },
      "source": [
        "arr = np.arange(0,11)\n",
        "slice_of_arr = arr[0:6]\n",
        "slice_of_arr"
      ],
      "execution_count": 70,
      "outputs": [
        {
          "output_type": "execute_result",
          "data": {
            "text/plain": [
              "array([0, 1, 2, 3, 4, 5])"
            ]
          },
          "metadata": {
            "tags": []
          },
          "execution_count": 70
        }
      ]
    },
    {
      "cell_type": "code",
      "metadata": {
        "id": "iMzM10RWN51z",
        "colab_type": "code",
        "colab": {}
      },
      "source": [
        "slice_of_arr[:]=99"
      ],
      "execution_count": 0,
      "outputs": []
    },
    {
      "cell_type": "code",
      "metadata": {
        "id": "1j18zVfFN_Xw",
        "colab_type": "code",
        "colab": {
          "base_uri": "https://localhost:8080/",
          "height": 35
        },
        "outputId": "22e6e4a1-592a-4ae7-eda5-cfd336529931"
      },
      "source": [
        "arr"
      ],
      "execution_count": 72,
      "outputs": [
        {
          "output_type": "execute_result",
          "data": {
            "text/plain": [
              "array([99, 99, 99, 99, 99, 99,  6,  7,  8,  9, 10])"
            ]
          },
          "metadata": {
            "tags": []
          },
          "execution_count": 72
        }
      ]
    },
    {
      "cell_type": "code",
      "metadata": {
        "id": "593z6YFAOBXR",
        "colab_type": "code",
        "colab": {
          "base_uri": "https://localhost:8080/",
          "height": 69
        },
        "outputId": "c49f78ba-0364-454a-9709-a4f4f62b0e6e"
      },
      "source": [
        "arr_2d = np.array(([5,10,15],[20,25,30],[35,40,45]))\n",
        "arr_2d"
      ],
      "execution_count": 73,
      "outputs": [
        {
          "output_type": "execute_result",
          "data": {
            "text/plain": [
              "array([[ 5, 10, 15],\n",
              "       [20, 25, 30],\n",
              "       [35, 40, 45]])"
            ]
          },
          "metadata": {
            "tags": []
          },
          "execution_count": 73
        }
      ]
    },
    {
      "cell_type": "code",
      "metadata": {
        "id": "dxCWE_FTOHE2",
        "colab_type": "code",
        "colab": {
          "base_uri": "https://localhost:8080/",
          "height": 35
        },
        "outputId": "4389ef04-3177-4cd2-ffc4-8bcd9f8176fc"
      },
      "source": [
        "arr_2d[1]"
      ],
      "execution_count": 74,
      "outputs": [
        {
          "output_type": "execute_result",
          "data": {
            "text/plain": [
              "array([20, 25, 30])"
            ]
          },
          "metadata": {
            "tags": []
          },
          "execution_count": 74
        }
      ]
    },
    {
      "cell_type": "code",
      "metadata": {
        "id": "_6gWQALKOIsg",
        "colab_type": "code",
        "colab": {
          "base_uri": "https://localhost:8080/",
          "height": 35
        },
        "outputId": "80e3aa0e-d0b5-4268-cfff-8553568406dc"
      },
      "source": [
        "arr_2d[1][0]"
      ],
      "execution_count": 75,
      "outputs": [
        {
          "output_type": "execute_result",
          "data": {
            "text/plain": [
              "20"
            ]
          },
          "metadata": {
            "tags": []
          },
          "execution_count": 75
        }
      ]
    },
    {
      "cell_type": "code",
      "metadata": {
        "id": "1zjb2YkGOLpp",
        "colab_type": "code",
        "colab": {
          "base_uri": "https://localhost:8080/",
          "height": 35
        },
        "outputId": "64eb5ded-37fd-4584-e983-1bbed7aaa297"
      },
      "source": [
        "arr_2d[1,0]"
      ],
      "execution_count": 76,
      "outputs": [
        {
          "output_type": "execute_result",
          "data": {
            "text/plain": [
              "20"
            ]
          },
          "metadata": {
            "tags": []
          },
          "execution_count": 76
        }
      ]
    },
    {
      "cell_type": "code",
      "metadata": {
        "id": "7nsNZxUiONJa",
        "colab_type": "code",
        "colab": {
          "base_uri": "https://localhost:8080/",
          "height": 35
        },
        "outputId": "fab96c64-946b-4da5-8bba-cb844ffef75e"
      },
      "source": [
        "arr_2d[2]"
      ],
      "execution_count": 77,
      "outputs": [
        {
          "output_type": "execute_result",
          "data": {
            "text/plain": [
              "array([35, 40, 45])"
            ]
          },
          "metadata": {
            "tags": []
          },
          "execution_count": 77
        }
      ]
    },
    {
      "cell_type": "code",
      "metadata": {
        "id": "u7Qlnh0SOPxk",
        "colab_type": "code",
        "colab": {
          "base_uri": "https://localhost:8080/",
          "height": 35
        },
        "outputId": "5f2e262e-4605-4be2-97f0-2c1dfbfe45a7"
      },
      "source": [
        "arr_2d[2,:]"
      ],
      "execution_count": 78,
      "outputs": [
        {
          "output_type": "execute_result",
          "data": {
            "text/plain": [
              "array([35, 40, 45])"
            ]
          },
          "metadata": {
            "tags": []
          },
          "execution_count": 78
        }
      ]
    },
    {
      "cell_type": "code",
      "metadata": {
        "id": "BWRSKvWYOR0y",
        "colab_type": "code",
        "colab": {
          "base_uri": "https://localhost:8080/",
          "height": 35
        },
        "outputId": "21fdba0a-a7a6-44d5-9629-9f3a9a279399"
      },
      "source": [
        "arr = np.arange(1,11)\n",
        "arr"
      ],
      "execution_count": 80,
      "outputs": [
        {
          "output_type": "execute_result",
          "data": {
            "text/plain": [
              "array([ 1,  2,  3,  4,  5,  6,  7,  8,  9, 10])"
            ]
          },
          "metadata": {
            "tags": []
          },
          "execution_count": 80
        }
      ]
    },
    {
      "cell_type": "code",
      "metadata": {
        "id": "pSst3A8eOWdt",
        "colab_type": "code",
        "colab": {
          "base_uri": "https://localhost:8080/",
          "height": 52
        },
        "outputId": "53bf5ab7-a9de-4a6c-9517-6793a3d395bc"
      },
      "source": [
        "arr > 4\n",
        "bool_arr = arr>4\n",
        "bool_arr"
      ],
      "execution_count": 83,
      "outputs": [
        {
          "output_type": "execute_result",
          "data": {
            "text/plain": [
              "array([False, False, False, False,  True,  True,  True,  True,  True,\n",
              "        True])"
            ]
          },
          "metadata": {
            "tags": []
          },
          "execution_count": 83
        }
      ]
    },
    {
      "cell_type": "code",
      "metadata": {
        "id": "UvqJ7vBtOaK2",
        "colab_type": "code",
        "colab": {
          "base_uri": "https://localhost:8080/",
          "height": 35
        },
        "outputId": "9199db50-e0cc-41f3-fea6-2930d73f49fc"
      },
      "source": [
        "arr[bool_arr]"
      ],
      "execution_count": 84,
      "outputs": [
        {
          "output_type": "execute_result",
          "data": {
            "text/plain": [
              "array([ 5,  6,  7,  8,  9, 10])"
            ]
          },
          "metadata": {
            "tags": []
          },
          "execution_count": 84
        }
      ]
    },
    {
      "cell_type": "code",
      "metadata": {
        "id": "cb6gFa4yOjlT",
        "colab_type": "code",
        "colab": {}
      },
      "source": [
        "arr = np.arange(0,10)"
      ],
      "execution_count": 0,
      "outputs": []
    },
    {
      "cell_type": "code",
      "metadata": {
        "id": "qEq80_1JO9lu",
        "colab_type": "code",
        "colab": {
          "base_uri": "https://localhost:8080/",
          "height": 124
        },
        "outputId": "81c5db1e-6e78-4afa-d8c0-d46d36e5eef6"
      },
      "source": [
        "arr + arr\n",
        "arr * arr\n",
        "arr - arr\n",
        "arr/arr\n",
        "1/arr\n",
        "arr**3"
      ],
      "execution_count": 91,
      "outputs": [
        {
          "output_type": "stream",
          "text": [
            "/usr/local/lib/python3.6/dist-packages/ipykernel_launcher.py:4: RuntimeWarning: invalid value encountered in true_divide\n",
            "  after removing the cwd from sys.path.\n",
            "/usr/local/lib/python3.6/dist-packages/ipykernel_launcher.py:5: RuntimeWarning: divide by zero encountered in true_divide\n",
            "  \"\"\"\n"
          ],
          "name": "stderr"
        },
        {
          "output_type": "execute_result",
          "data": {
            "text/plain": [
              "array([  0,   1,   8,  27,  64, 125, 216, 343, 512, 729])"
            ]
          },
          "metadata": {
            "tags": []
          },
          "execution_count": 91
        }
      ]
    },
    {
      "cell_type": "code",
      "metadata": {
        "id": "k7jPE9VbO_Ks",
        "colab_type": "code",
        "colab": {
          "base_uri": "https://localhost:8080/",
          "height": 107
        },
        "outputId": "fbd4df4c-5493-4b87-8df2-0d7b1d3658bc"
      },
      "source": [
        "np.sqrt(arr)\n",
        "np.exp(arr)\n",
        "np.max(arr)\n",
        "np.sin(arr)\n",
        "np.log(arr)"
      ],
      "execution_count": 96,
      "outputs": [
        {
          "output_type": "stream",
          "text": [
            "/usr/local/lib/python3.6/dist-packages/ipykernel_launcher.py:5: RuntimeWarning: divide by zero encountered in log\n",
            "  \"\"\"\n"
          ],
          "name": "stderr"
        },
        {
          "output_type": "execute_result",
          "data": {
            "text/plain": [
              "array([      -inf, 0.        , 0.69314718, 1.09861229, 1.38629436,\n",
              "       1.60943791, 1.79175947, 1.94591015, 2.07944154, 2.19722458])"
            ]
          },
          "metadata": {
            "tags": []
          },
          "execution_count": 96
        }
      ]
    },
    {
      "cell_type": "code",
      "metadata": {
        "id": "pNdykss0PPp1",
        "colab_type": "code",
        "colab": {
          "base_uri": "https://localhost:8080/",
          "height": 87
        },
        "outputId": "d55fbc08-d8c8-45d7-f14d-13f8202bd0d9"
      },
      "source": [
        "x = np.array([1,2,3,4])\n",
        "w1 = np.random.randn(4,5)\n",
        "w1"
      ],
      "execution_count": 97,
      "outputs": [
        {
          "output_type": "execute_result",
          "data": {
            "text/plain": [
              "array([[-1.52107409, -0.02094996, -0.60103684, -1.43694666, -0.24985876],\n",
              "       [-1.27630083, -1.18650098, -0.40011362, -0.72616762,  0.41418953],\n",
              "       [ 0.57777188, -0.05149915,  0.90496268,  0.89425989, -2.01482075],\n",
              "       [ 0.3847239 , -1.94383445,  0.97267206, -1.45304797, -0.46475448]])"
            ]
          },
          "metadata": {
            "tags": []
          },
          "execution_count": 97
        }
      ]
    },
    {
      "cell_type": "code",
      "metadata": {
        "id": "K52lp4oKP0mQ",
        "colab_type": "code",
        "colab": {
          "base_uri": "https://localhost:8080/",
          "height": 52
        },
        "outputId": "e8253bc9-b7d7-474b-8030-1f82a96240dc"
      },
      "source": [
        "np.dot(x,w1)"
      ],
      "execution_count": 98,
      "outputs": [
        {
          "output_type": "execute_result",
          "data": {
            "text/plain": [
              "array([ -0.80146449, -10.32378719,   5.2043122 ,  -6.0186941 ,\n",
              "        -7.3249599 ])"
            ]
          },
          "metadata": {
            "tags": []
          },
          "execution_count": 98
        }
      ]
    },
    {
      "cell_type": "code",
      "metadata": {
        "id": "hvPz_eavP45Z",
        "colab_type": "code",
        "colab": {}
      },
      "source": [
        "w2 = np.random.randn(5,3)"
      ],
      "execution_count": 0,
      "outputs": []
    },
    {
      "cell_type": "code",
      "metadata": {
        "id": "-sOg8osUP8hx",
        "colab_type": "code",
        "colab": {
          "base_uri": "https://localhost:8080/",
          "height": 35
        },
        "outputId": "1c451771-c4ad-449b-c6dd-a97adc85f016"
      },
      "source": [
        "np.dot(np.dot(x,w1),w2)"
      ],
      "execution_count": 100,
      "outputs": [
        {
          "output_type": "execute_result",
          "data": {
            "text/plain": [
              "array([-5.80383553, 28.10312297, -3.63173805])"
            ]
          },
          "metadata": {
            "tags": []
          },
          "execution_count": 100
        }
      ]
    },
    {
      "cell_type": "markdown",
      "metadata": {
        "id": "5x2EcIW4VGHB",
        "colab_type": "text"
      },
      "source": [
        "## Pandas"
      ]
    },
    {
      "cell_type": "code",
      "metadata": {
        "id": "E6GLL-21P_5i",
        "colab_type": "code",
        "colab": {}
      },
      "source": [
        "na = np.array([['frank', 'M', 29], ['mary', 'F', 23], ['tom', 'M',35], \n",
        "               ['ted', 'M', 33], ['jean', 'F', 21], ['lisa', 'F', 20]])"
      ],
      "execution_count": 0,
      "outputs": []
    },
    {
      "cell_type": "code",
      "metadata": {
        "id": "1ag4ntDJWmGm",
        "colab_type": "code",
        "colab": {
          "base_uri": "https://localhost:8080/",
          "height": 121
        },
        "outputId": "44f42019-81ad-44fe-8594-c2554c181e54"
      },
      "source": [
        "na"
      ],
      "execution_count": 120,
      "outputs": [
        {
          "output_type": "execute_result",
          "data": {
            "text/plain": [
              "array([['frank', 'M', '29'],\n",
              "       ['mary', 'F', '23'],\n",
              "       ['tom', 'M', '35'],\n",
              "       ['ted', 'M', '33'],\n",
              "       ['jean', 'F', '21'],\n",
              "       ['lisa', 'F', '20']], dtype='<U5')"
            ]
          },
          "metadata": {
            "tags": []
          },
          "execution_count": 120
        }
      ]
    },
    {
      "cell_type": "code",
      "metadata": {
        "id": "5KZr20SSWm9-",
        "colab_type": "code",
        "colab": {
          "base_uri": "https://localhost:8080/",
          "height": 35
        },
        "outputId": "0d196d9c-3cf5-4f18-c055-56eccbb74d5f"
      },
      "source": [
        "na[:,2]"
      ],
      "execution_count": 121,
      "outputs": [
        {
          "output_type": "execute_result",
          "data": {
            "text/plain": [
              "array(['29', '23', '35', '33', '21', '20'], dtype='<U5')"
            ]
          },
          "metadata": {
            "tags": []
          },
          "execution_count": 121
        }
      ]
    },
    {
      "cell_type": "code",
      "metadata": {
        "id": "2m-NRz6wW_WA",
        "colab_type": "code",
        "colab": {
          "base_uri": "https://localhost:8080/",
          "height": 35
        },
        "outputId": "979b61b8-43f0-4a09-a0d2-c8304233d04e"
      },
      "source": [
        "na[:,2].astype(int).mean()"
      ],
      "execution_count": 123,
      "outputs": [
        {
          "output_type": "execute_result",
          "data": {
            "text/plain": [
              "26.833333333333332"
            ]
          },
          "metadata": {
            "tags": []
          },
          "execution_count": 123
        }
      ]
    },
    {
      "cell_type": "code",
      "metadata": {
        "id": "Kf8keR5zXFEn",
        "colab_type": "code",
        "colab": {}
      },
      "source": [
        "na = np.array([['name', 'gender', 'age'], ['frank', 'M', 29], ['mary', 'F', 23], ['tom', 'M', 35],\n",
        "['ted', 'M', 33], ['jean', 'F', 21], ['lisa', 'F', 20]])"
      ],
      "execution_count": 0,
      "outputs": []
    },
    {
      "cell_type": "code",
      "metadata": {
        "id": "k98XJK8yXRXM",
        "colab_type": "code",
        "colab": {
          "base_uri": "https://localhost:8080/",
          "height": 139
        },
        "outputId": "9237c541-5423-491c-ab3c-f6f7e739dbf6"
      },
      "source": [
        "na"
      ],
      "execution_count": 125,
      "outputs": [
        {
          "output_type": "execute_result",
          "data": {
            "text/plain": [
              "array([['name', 'gender', 'age'],\n",
              "       ['frank', 'M', '29'],\n",
              "       ['mary', 'F', '23'],\n",
              "       ['tom', 'M', '35'],\n",
              "       ['ted', 'M', '33'],\n",
              "       ['jean', 'F', '21'],\n",
              "       ['lisa', 'F', '20']], dtype='<U6')"
            ]
          },
          "metadata": {
            "tags": []
          },
          "execution_count": 125
        }
      ]
    },
    {
      "cell_type": "code",
      "metadata": {
        "id": "rG-dmuU3XSui",
        "colab_type": "code",
        "colab": {
          "base_uri": "https://localhost:8080/",
          "height": 35
        },
        "outputId": "02f2a9e7-cdcc-4d9a-e2c5-c966343faad5"
      },
      "source": [
        "na[1:,2].astype(int).mean()"
      ],
      "execution_count": 128,
      "outputs": [
        {
          "output_type": "execute_result",
          "data": {
            "text/plain": [
              "26.833333333333332"
            ]
          },
          "metadata": {
            "tags": []
          },
          "execution_count": 128
        }
      ]
    },
    {
      "cell_type": "code",
      "metadata": {
        "id": "pWEnrveJXVpL",
        "colab_type": "code",
        "colab": {
          "base_uri": "https://localhost:8080/",
          "height": 233
        },
        "outputId": "fd64f9a5-c4e0-41d3-db92-50d8b07e8405"
      },
      "source": [
        "import pandas as pd\n",
        "df = pd.DataFrame([['frank', 'M', 29], ['mary', 'F', 23], ['tom', 'M', 35],\n",
        "                    ['ted', 'M', 33], ['jean', 'F', 21], ['lisa', 'F', 20]])\n",
        "#print(df)\n",
        "df"
      ],
      "execution_count": 131,
      "outputs": [
        {
          "output_type": "execute_result",
          "data": {
            "text/html": [
              "<div>\n",
              "<style scoped>\n",
              "    .dataframe tbody tr th:only-of-type {\n",
              "        vertical-align: middle;\n",
              "    }\n",
              "\n",
              "    .dataframe tbody tr th {\n",
              "        vertical-align: top;\n",
              "    }\n",
              "\n",
              "    .dataframe thead th {\n",
              "        text-align: right;\n",
              "    }\n",
              "</style>\n",
              "<table border=\"1\" class=\"dataframe\">\n",
              "  <thead>\n",
              "    <tr style=\"text-align: right;\">\n",
              "      <th></th>\n",
              "      <th>0</th>\n",
              "      <th>1</th>\n",
              "      <th>2</th>\n",
              "    </tr>\n",
              "  </thead>\n",
              "  <tbody>\n",
              "    <tr>\n",
              "      <th>0</th>\n",
              "      <td>frank</td>\n",
              "      <td>M</td>\n",
              "      <td>29</td>\n",
              "    </tr>\n",
              "    <tr>\n",
              "      <th>1</th>\n",
              "      <td>mary</td>\n",
              "      <td>F</td>\n",
              "      <td>23</td>\n",
              "    </tr>\n",
              "    <tr>\n",
              "      <th>2</th>\n",
              "      <td>tom</td>\n",
              "      <td>M</td>\n",
              "      <td>35</td>\n",
              "    </tr>\n",
              "    <tr>\n",
              "      <th>3</th>\n",
              "      <td>ted</td>\n",
              "      <td>M</td>\n",
              "      <td>33</td>\n",
              "    </tr>\n",
              "    <tr>\n",
              "      <th>4</th>\n",
              "      <td>jean</td>\n",
              "      <td>F</td>\n",
              "      <td>21</td>\n",
              "    </tr>\n",
              "    <tr>\n",
              "      <th>5</th>\n",
              "      <td>lisa</td>\n",
              "      <td>F</td>\n",
              "      <td>20</td>\n",
              "    </tr>\n",
              "  </tbody>\n",
              "</table>\n",
              "</div>"
            ],
            "text/plain": [
              "       0  1   2\n",
              "0  frank  M  29\n",
              "1   mary  F  23\n",
              "2    tom  M  35\n",
              "3    ted  M  33\n",
              "4   jean  F  21\n",
              "5   lisa  F  20"
            ]
          },
          "metadata": {
            "tags": []
          },
          "execution_count": 131
        }
      ]
    },
    {
      "cell_type": "code",
      "metadata": {
        "id": "x95PYNLAYOvT",
        "colab_type": "code",
        "colab": {
          "base_uri": "https://localhost:8080/",
          "height": 233
        },
        "outputId": "094b7113-2a0a-47ed-f351-373fcc056181"
      },
      "source": [
        "df.columns=['name', 'gender', 'age']\n",
        "df"
      ],
      "execution_count": 132,
      "outputs": [
        {
          "output_type": "execute_result",
          "data": {
            "text/html": [
              "<div>\n",
              "<style scoped>\n",
              "    .dataframe tbody tr th:only-of-type {\n",
              "        vertical-align: middle;\n",
              "    }\n",
              "\n",
              "    .dataframe tbody tr th {\n",
              "        vertical-align: top;\n",
              "    }\n",
              "\n",
              "    .dataframe thead th {\n",
              "        text-align: right;\n",
              "    }\n",
              "</style>\n",
              "<table border=\"1\" class=\"dataframe\">\n",
              "  <thead>\n",
              "    <tr style=\"text-align: right;\">\n",
              "      <th></th>\n",
              "      <th>name</th>\n",
              "      <th>gender</th>\n",
              "      <th>age</th>\n",
              "    </tr>\n",
              "  </thead>\n",
              "  <tbody>\n",
              "    <tr>\n",
              "      <th>0</th>\n",
              "      <td>frank</td>\n",
              "      <td>M</td>\n",
              "      <td>29</td>\n",
              "    </tr>\n",
              "    <tr>\n",
              "      <th>1</th>\n",
              "      <td>mary</td>\n",
              "      <td>F</td>\n",
              "      <td>23</td>\n",
              "    </tr>\n",
              "    <tr>\n",
              "      <th>2</th>\n",
              "      <td>tom</td>\n",
              "      <td>M</td>\n",
              "      <td>35</td>\n",
              "    </tr>\n",
              "    <tr>\n",
              "      <th>3</th>\n",
              "      <td>ted</td>\n",
              "      <td>M</td>\n",
              "      <td>33</td>\n",
              "    </tr>\n",
              "    <tr>\n",
              "      <th>4</th>\n",
              "      <td>jean</td>\n",
              "      <td>F</td>\n",
              "      <td>21</td>\n",
              "    </tr>\n",
              "    <tr>\n",
              "      <th>5</th>\n",
              "      <td>lisa</td>\n",
              "      <td>F</td>\n",
              "      <td>20</td>\n",
              "    </tr>\n",
              "  </tbody>\n",
              "</table>\n",
              "</div>"
            ],
            "text/plain": [
              "    name gender  age\n",
              "0  frank      M   29\n",
              "1   mary      F   23\n",
              "2    tom      M   35\n",
              "3    ted      M   33\n",
              "4   jean      F   21\n",
              "5   lisa      F   20"
            ]
          },
          "metadata": {
            "tags": []
          },
          "execution_count": 132
        }
      ]
    },
    {
      "cell_type": "markdown",
      "metadata": {
        "id": "6LJzFk34ZNX7",
        "colab_type": "text"
      },
      "source": [
        "## Pandas Series"
      ]
    },
    {
      "cell_type": "code",
      "metadata": {
        "id": "oNlrHgceYitu",
        "colab_type": "code",
        "colab": {}
      },
      "source": [
        "import numpy as np\n",
        "import pandas as pd\n"
      ],
      "execution_count": 0,
      "outputs": []
    },
    {
      "cell_type": "code",
      "metadata": {
        "id": "yThOnTv3ZP8G",
        "colab_type": "code",
        "colab": {}
      },
      "source": [
        "labels = ['a','b','c']\n",
        "my_list = [10,20,30]\n"
      ],
      "execution_count": 0,
      "outputs": []
    },
    {
      "cell_type": "code",
      "metadata": {
        "id": "sEmVa195ZRV5",
        "colab_type": "code",
        "colab": {
          "base_uri": "https://localhost:8080/",
          "height": 87
        },
        "outputId": "106c12d4-799d-4ee3-b5a4-f399c047ddba"
      },
      "source": [
        "pd.Series(data=my_list)"
      ],
      "execution_count": 135,
      "outputs": [
        {
          "output_type": "execute_result",
          "data": {
            "text/plain": [
              "0    10\n",
              "1    20\n",
              "2    30\n",
              "dtype: int64"
            ]
          },
          "metadata": {
            "tags": []
          },
          "execution_count": 135
        }
      ]
    },
    {
      "cell_type": "code",
      "metadata": {
        "id": "Bud4o0O2ZTWJ",
        "colab_type": "code",
        "colab": {
          "base_uri": "https://localhost:8080/",
          "height": 87
        },
        "outputId": "2aabec16-4f2f-468a-e3f4-5b3cdb0253cc"
      },
      "source": [
        "pd.Series(data=my_list,index=labels)"
      ],
      "execution_count": 136,
      "outputs": [
        {
          "output_type": "execute_result",
          "data": {
            "text/plain": [
              "a    10\n",
              "b    20\n",
              "c    30\n",
              "dtype: int64"
            ]
          },
          "metadata": {
            "tags": []
          },
          "execution_count": 136
        }
      ]
    },
    {
      "cell_type": "code",
      "metadata": {
        "id": "rf_7KUUGZazC",
        "colab_type": "code",
        "colab": {}
      },
      "source": [
        "s = pd.Series(my_list,labels)"
      ],
      "execution_count": 0,
      "outputs": []
    },
    {
      "cell_type": "code",
      "metadata": {
        "id": "NoplQ_woZe-H",
        "colab_type": "code",
        "colab": {
          "base_uri": "https://localhost:8080/",
          "height": 35
        },
        "outputId": "2e80256a-7d2e-4464-9259-9ebfa30b1052"
      },
      "source": [
        "s[0]"
      ],
      "execution_count": 139,
      "outputs": [
        {
          "output_type": "execute_result",
          "data": {
            "text/plain": [
              "10"
            ]
          },
          "metadata": {
            "tags": []
          },
          "execution_count": 139
        }
      ]
    },
    {
      "cell_type": "code",
      "metadata": {
        "id": "UqMNNi9qZjQI",
        "colab_type": "code",
        "colab": {
          "base_uri": "https://localhost:8080/",
          "height": 35
        },
        "outputId": "58bd6a3f-1efd-44d9-ad07-6daa4dcea13d"
      },
      "source": [
        "s['a']"
      ],
      "execution_count": 140,
      "outputs": [
        {
          "output_type": "execute_result",
          "data": {
            "text/plain": [
              "10"
            ]
          },
          "metadata": {
            "tags": []
          },
          "execution_count": 140
        }
      ]
    },
    {
      "cell_type": "code",
      "metadata": {
        "id": "UfbgCs-JZnG8",
        "colab_type": "code",
        "colab": {
          "base_uri": "https://localhost:8080/",
          "height": 87
        },
        "outputId": "502b163e-a182-4170-f5db-79a8a7e6e5e3"
      },
      "source": [
        "d = {'a':10,'b':20,'c':30}\n",
        "pd.Series(d)"
      ],
      "execution_count": 141,
      "outputs": [
        {
          "output_type": "execute_result",
          "data": {
            "text/plain": [
              "a    10\n",
              "b    20\n",
              "c    30\n",
              "dtype: int64"
            ]
          },
          "metadata": {
            "tags": []
          },
          "execution_count": 141
        }
      ]
    },
    {
      "cell_type": "code",
      "metadata": {
        "id": "qrTG0XAIZuPf",
        "colab_type": "code",
        "colab": {}
      },
      "source": [
        "ser1 = pd.Series([1,2,3,4],index = ['USA','Germany','USSR', 'Japan'])\n",
        "ser2 = pd.Series([1,2,5,4],index = ['USA','Germany','Italy', 'Japan'])\n"
      ],
      "execution_count": 0,
      "outputs": []
    },
    {
      "cell_type": "code",
      "metadata": {
        "id": "vrLD8W2LZz50",
        "colab_type": "code",
        "colab": {
          "base_uri": "https://localhost:8080/",
          "height": 104
        },
        "outputId": "735824cf-ba67-4c04-9c1c-1b42a72f8690"
      },
      "source": [
        "ser1"
      ],
      "execution_count": 143,
      "outputs": [
        {
          "output_type": "execute_result",
          "data": {
            "text/plain": [
              "USA        1\n",
              "Germany    2\n",
              "USSR       3\n",
              "Japan      4\n",
              "dtype: int64"
            ]
          },
          "metadata": {
            "tags": []
          },
          "execution_count": 143
        }
      ]
    },
    {
      "cell_type": "code",
      "metadata": {
        "id": "mkaoBY_DZ09n",
        "colab_type": "code",
        "colab": {
          "base_uri": "https://localhost:8080/",
          "height": 104
        },
        "outputId": "eec4de22-74f7-4728-cd93-ac406258deb7"
      },
      "source": [
        "ser2"
      ],
      "execution_count": 144,
      "outputs": [
        {
          "output_type": "execute_result",
          "data": {
            "text/plain": [
              "USA        1\n",
              "Germany    2\n",
              "Italy      5\n",
              "Japan      4\n",
              "dtype: int64"
            ]
          },
          "metadata": {
            "tags": []
          },
          "execution_count": 144
        }
      ]
    },
    {
      "cell_type": "code",
      "metadata": {
        "id": "mWzt-VZ_Z1kz",
        "colab_type": "code",
        "colab": {
          "base_uri": "https://localhost:8080/",
          "height": 35
        },
        "outputId": "49d9b401-5e13-4312-e13e-766a1993a58a"
      },
      "source": [
        "ser1['USA']"
      ],
      "execution_count": 145,
      "outputs": [
        {
          "output_type": "execute_result",
          "data": {
            "text/plain": [
              "1"
            ]
          },
          "metadata": {
            "tags": []
          },
          "execution_count": 145
        }
      ]
    },
    {
      "cell_type": "code",
      "metadata": {
        "id": "vGztsZKZZ4-M",
        "colab_type": "code",
        "colab": {
          "base_uri": "https://localhost:8080/",
          "height": 121
        },
        "outputId": "dbff9507-39fc-42d0-cbdf-83c42c7d6316"
      },
      "source": [
        "ser1 + ser2"
      ],
      "execution_count": 146,
      "outputs": [
        {
          "output_type": "execute_result",
          "data": {
            "text/plain": [
              "Germany    4.0\n",
              "Italy      NaN\n",
              "Japan      8.0\n",
              "USA        2.0\n",
              "USSR       NaN\n",
              "dtype: float64"
            ]
          },
          "metadata": {
            "tags": []
          },
          "execution_count": 146
        }
      ]
    },
    {
      "cell_type": "code",
      "metadata": {
        "id": "JNi5RGJ2Z7vt",
        "colab_type": "code",
        "colab": {}
      },
      "source": [
        "# nan: not a number"
      ],
      "execution_count": 0,
      "outputs": []
    },
    {
      "cell_type": "markdown",
      "metadata": {
        "id": "1Fdm2cXcaXef",
        "colab_type": "text"
      },
      "source": [
        "## Pandas DataFrame"
      ]
    },
    {
      "cell_type": "code",
      "metadata": {
        "id": "S9-slp_2aEHx",
        "colab_type": "code",
        "colab": {
          "base_uri": "https://localhost:8080/",
          "height": 233
        },
        "outputId": "9402deef-1be7-4b2a-eff1-fc1914c17f3d"
      },
      "source": [
        "df = pd.DataFrame([['frank', 'M', 29], ['mary', 'F', 23], ['tom', 'M', 35],\n",
        "['ted', 'M', 33], ['jean', 'F', 21], ['lisa', 'F', 20]])\n",
        "df.columns = ['name', 'gender', 'age']\n",
        "df"
      ],
      "execution_count": 148,
      "outputs": [
        {
          "output_type": "execute_result",
          "data": {
            "text/html": [
              "<div>\n",
              "<style scoped>\n",
              "    .dataframe tbody tr th:only-of-type {\n",
              "        vertical-align: middle;\n",
              "    }\n",
              "\n",
              "    .dataframe tbody tr th {\n",
              "        vertical-align: top;\n",
              "    }\n",
              "\n",
              "    .dataframe thead th {\n",
              "        text-align: right;\n",
              "    }\n",
              "</style>\n",
              "<table border=\"1\" class=\"dataframe\">\n",
              "  <thead>\n",
              "    <tr style=\"text-align: right;\">\n",
              "      <th></th>\n",
              "      <th>name</th>\n",
              "      <th>gender</th>\n",
              "      <th>age</th>\n",
              "    </tr>\n",
              "  </thead>\n",
              "  <tbody>\n",
              "    <tr>\n",
              "      <th>0</th>\n",
              "      <td>frank</td>\n",
              "      <td>M</td>\n",
              "      <td>29</td>\n",
              "    </tr>\n",
              "    <tr>\n",
              "      <th>1</th>\n",
              "      <td>mary</td>\n",
              "      <td>F</td>\n",
              "      <td>23</td>\n",
              "    </tr>\n",
              "    <tr>\n",
              "      <th>2</th>\n",
              "      <td>tom</td>\n",
              "      <td>M</td>\n",
              "      <td>35</td>\n",
              "    </tr>\n",
              "    <tr>\n",
              "      <th>3</th>\n",
              "      <td>ted</td>\n",
              "      <td>M</td>\n",
              "      <td>33</td>\n",
              "    </tr>\n",
              "    <tr>\n",
              "      <th>4</th>\n",
              "      <td>jean</td>\n",
              "      <td>F</td>\n",
              "      <td>21</td>\n",
              "    </tr>\n",
              "    <tr>\n",
              "      <th>5</th>\n",
              "      <td>lisa</td>\n",
              "      <td>F</td>\n",
              "      <td>20</td>\n",
              "    </tr>\n",
              "  </tbody>\n",
              "</table>\n",
              "</div>"
            ],
            "text/plain": [
              "    name gender  age\n",
              "0  frank      M   29\n",
              "1   mary      F   23\n",
              "2    tom      M   35\n",
              "3    ted      M   33\n",
              "4   jean      F   21\n",
              "5   lisa      F   20"
            ]
          },
          "metadata": {
            "tags": []
          },
          "execution_count": 148
        }
      ]
    },
    {
      "cell_type": "code",
      "metadata": {
        "id": "4yk90K7RaaZ2",
        "colab_type": "code",
        "colab": {}
      },
      "source": [
        "df = pd.DataFrame([['frank', 'M', 29], ['mary', 'F', 23], ['tom', 'M', 35], ['ted','M', 33],\n",
        "                   ['jean', 'F', 21], ['lisa', 'F', 20]], columns = ['name', 'gender', 'age'])"
      ],
      "execution_count": 0,
      "outputs": []
    },
    {
      "cell_type": "code",
      "metadata": {
        "id": "FTP7oPo0ah-h",
        "colab_type": "code",
        "colab": {}
      },
      "source": [
        "df = pd.DataFrame([{'name':'frank','gender':'M', 'age':29}, \n",
        "{'name':'mary','gender':'F', 'age':23}, \n",
        "{'name':'tom','gender':'M', 'age':35}, \n",
        "{'name':'ted','gender':'M', 'age':33}, \n",
        "{'name':'jean','gender':'F', 'age':21}, \n",
        "{'name':'lisa','gender':'F', 'age':20}])\n"
      ],
      "execution_count": 0,
      "outputs": []
    },
    {
      "cell_type": "code",
      "metadata": {
        "id": "Iox6VFP_au8V",
        "colab_type": "code",
        "colab": {}
      },
      "source": [
        "df = pd.DataFrame([{'name': 'qoo', 'age':12, 'gender':'M'}, \n",
        " {'name': 'Mary', 'gender': 'F'}])"
      ],
      "execution_count": 0,
      "outputs": []
    },
    {
      "cell_type": "code",
      "metadata": {
        "id": "J0BFDdXxbJ6W",
        "colab_type": "code",
        "colab": {
          "base_uri": "https://localhost:8080/",
          "height": 110
        },
        "outputId": "c3d8682c-9364-4f55-b7b9-60c92062bcfb"
      },
      "source": [
        "df"
      ],
      "execution_count": 152,
      "outputs": [
        {
          "output_type": "execute_result",
          "data": {
            "text/html": [
              "<div>\n",
              "<style scoped>\n",
              "    .dataframe tbody tr th:only-of-type {\n",
              "        vertical-align: middle;\n",
              "    }\n",
              "\n",
              "    .dataframe tbody tr th {\n",
              "        vertical-align: top;\n",
              "    }\n",
              "\n",
              "    .dataframe thead th {\n",
              "        text-align: right;\n",
              "    }\n",
              "</style>\n",
              "<table border=\"1\" class=\"dataframe\">\n",
              "  <thead>\n",
              "    <tr style=\"text-align: right;\">\n",
              "      <th></th>\n",
              "      <th>name</th>\n",
              "      <th>age</th>\n",
              "      <th>gender</th>\n",
              "    </tr>\n",
              "  </thead>\n",
              "  <tbody>\n",
              "    <tr>\n",
              "      <th>0</th>\n",
              "      <td>qoo</td>\n",
              "      <td>12.0</td>\n",
              "      <td>M</td>\n",
              "    </tr>\n",
              "    <tr>\n",
              "      <th>1</th>\n",
              "      <td>Mary</td>\n",
              "      <td>NaN</td>\n",
              "      <td>F</td>\n",
              "    </tr>\n",
              "  </tbody>\n",
              "</table>\n",
              "</div>"
            ],
            "text/plain": [
              "   name   age gender\n",
              "0   qoo  12.0      M\n",
              "1  Mary   NaN      F"
            ]
          },
          "metadata": {
            "tags": []
          },
          "execution_count": 152
        }
      ]
    },
    {
      "cell_type": "code",
      "metadata": {
        "id": "QfTCd6T9bKcG",
        "colab_type": "code",
        "colab": {}
      },
      "source": [
        "df = pd.DataFrame([{'name':'frank','gender':'M', 'age':29}, \n",
        "{'name':'mary','gender':'F', 'age':23}, \n",
        "{'name':'tom','gender':'M', 'age':35}, \n",
        "{'name':'ted','gender':'M', 'age':33}, \n",
        "{'name':'jean','gender':'F', 'age':21}, \n",
        "{'name':'lisa','gender':'F', 'age':20}])\n"
      ],
      "execution_count": 0,
      "outputs": []
    },
    {
      "cell_type": "code",
      "metadata": {
        "id": "8W7OS3-zbUAz",
        "colab_type": "code",
        "colab": {
          "base_uri": "https://localhost:8080/",
          "height": 141
        },
        "outputId": "a7f26824-6aa9-49ae-f696-cdc35a8e1b09"
      },
      "source": [
        "df.head(3)"
      ],
      "execution_count": 155,
      "outputs": [
        {
          "output_type": "execute_result",
          "data": {
            "text/html": [
              "<div>\n",
              "<style scoped>\n",
              "    .dataframe tbody tr th:only-of-type {\n",
              "        vertical-align: middle;\n",
              "    }\n",
              "\n",
              "    .dataframe tbody tr th {\n",
              "        vertical-align: top;\n",
              "    }\n",
              "\n",
              "    .dataframe thead th {\n",
              "        text-align: right;\n",
              "    }\n",
              "</style>\n",
              "<table border=\"1\" class=\"dataframe\">\n",
              "  <thead>\n",
              "    <tr style=\"text-align: right;\">\n",
              "      <th></th>\n",
              "      <th>name</th>\n",
              "      <th>gender</th>\n",
              "      <th>age</th>\n",
              "    </tr>\n",
              "  </thead>\n",
              "  <tbody>\n",
              "    <tr>\n",
              "      <th>0</th>\n",
              "      <td>frank</td>\n",
              "      <td>M</td>\n",
              "      <td>29</td>\n",
              "    </tr>\n",
              "    <tr>\n",
              "      <th>1</th>\n",
              "      <td>mary</td>\n",
              "      <td>F</td>\n",
              "      <td>23</td>\n",
              "    </tr>\n",
              "    <tr>\n",
              "      <th>2</th>\n",
              "      <td>tom</td>\n",
              "      <td>M</td>\n",
              "      <td>35</td>\n",
              "    </tr>\n",
              "  </tbody>\n",
              "</table>\n",
              "</div>"
            ],
            "text/plain": [
              "    name gender  age\n",
              "0  frank      M   29\n",
              "1   mary      F   23\n",
              "2    tom      M   35"
            ]
          },
          "metadata": {
            "tags": []
          },
          "execution_count": 155
        }
      ]
    },
    {
      "cell_type": "code",
      "metadata": {
        "id": "XdpOByeUbU-Y",
        "colab_type": "code",
        "colab": {
          "base_uri": "https://localhost:8080/",
          "height": 141
        },
        "outputId": "538b0803-e038-465e-9d9b-1365f100c138"
      },
      "source": [
        "df.tail(3)"
      ],
      "execution_count": 157,
      "outputs": [
        {
          "output_type": "execute_result",
          "data": {
            "text/html": [
              "<div>\n",
              "<style scoped>\n",
              "    .dataframe tbody tr th:only-of-type {\n",
              "        vertical-align: middle;\n",
              "    }\n",
              "\n",
              "    .dataframe tbody tr th {\n",
              "        vertical-align: top;\n",
              "    }\n",
              "\n",
              "    .dataframe thead th {\n",
              "        text-align: right;\n",
              "    }\n",
              "</style>\n",
              "<table border=\"1\" class=\"dataframe\">\n",
              "  <thead>\n",
              "    <tr style=\"text-align: right;\">\n",
              "      <th></th>\n",
              "      <th>name</th>\n",
              "      <th>gender</th>\n",
              "      <th>age</th>\n",
              "    </tr>\n",
              "  </thead>\n",
              "  <tbody>\n",
              "    <tr>\n",
              "      <th>3</th>\n",
              "      <td>ted</td>\n",
              "      <td>M</td>\n",
              "      <td>33</td>\n",
              "    </tr>\n",
              "    <tr>\n",
              "      <th>4</th>\n",
              "      <td>jean</td>\n",
              "      <td>F</td>\n",
              "      <td>21</td>\n",
              "    </tr>\n",
              "    <tr>\n",
              "      <th>5</th>\n",
              "      <td>lisa</td>\n",
              "      <td>F</td>\n",
              "      <td>20</td>\n",
              "    </tr>\n",
              "  </tbody>\n",
              "</table>\n",
              "</div>"
            ],
            "text/plain": [
              "   name gender  age\n",
              "3   ted      M   33\n",
              "4  jean      F   21\n",
              "5  lisa      F   20"
            ]
          },
          "metadata": {
            "tags": []
          },
          "execution_count": 157
        }
      ]
    },
    {
      "cell_type": "code",
      "metadata": {
        "id": "-44fIqz9bZo0",
        "colab_type": "code",
        "colab": {
          "base_uri": "https://localhost:8080/",
          "height": 191
        },
        "outputId": "f54e8c8a-49a5-42b0-d0b6-4727fec2362a"
      },
      "source": [
        "df.info()"
      ],
      "execution_count": 158,
      "outputs": [
        {
          "output_type": "stream",
          "text": [
            "<class 'pandas.core.frame.DataFrame'>\n",
            "RangeIndex: 6 entries, 0 to 5\n",
            "Data columns (total 3 columns):\n",
            " #   Column  Non-Null Count  Dtype \n",
            "---  ------  --------------  ----- \n",
            " 0   name    6 non-null      object\n",
            " 1   gender  6 non-null      object\n",
            " 2   age     6 non-null      int64 \n",
            "dtypes: int64(1), object(2)\n",
            "memory usage: 272.0+ bytes\n"
          ],
          "name": "stdout"
        }
      ]
    },
    {
      "cell_type": "code",
      "metadata": {
        "id": "NRuPS7S-bc_H",
        "colab_type": "code",
        "colab": {
          "base_uri": "https://localhost:8080/",
          "height": 294
        },
        "outputId": "8f746e83-b2db-428a-ecb4-8942807c5989"
      },
      "source": [
        "df.describe()"
      ],
      "execution_count": 159,
      "outputs": [
        {
          "output_type": "execute_result",
          "data": {
            "text/html": [
              "<div>\n",
              "<style scoped>\n",
              "    .dataframe tbody tr th:only-of-type {\n",
              "        vertical-align: middle;\n",
              "    }\n",
              "\n",
              "    .dataframe tbody tr th {\n",
              "        vertical-align: top;\n",
              "    }\n",
              "\n",
              "    .dataframe thead th {\n",
              "        text-align: right;\n",
              "    }\n",
              "</style>\n",
              "<table border=\"1\" class=\"dataframe\">\n",
              "  <thead>\n",
              "    <tr style=\"text-align: right;\">\n",
              "      <th></th>\n",
              "      <th>age</th>\n",
              "    </tr>\n",
              "  </thead>\n",
              "  <tbody>\n",
              "    <tr>\n",
              "      <th>count</th>\n",
              "      <td>6.000000</td>\n",
              "    </tr>\n",
              "    <tr>\n",
              "      <th>mean</th>\n",
              "      <td>26.833333</td>\n",
              "    </tr>\n",
              "    <tr>\n",
              "      <th>std</th>\n",
              "      <td>6.400521</td>\n",
              "    </tr>\n",
              "    <tr>\n",
              "      <th>min</th>\n",
              "      <td>20.000000</td>\n",
              "    </tr>\n",
              "    <tr>\n",
              "      <th>25%</th>\n",
              "      <td>21.500000</td>\n",
              "    </tr>\n",
              "    <tr>\n",
              "      <th>50%</th>\n",
              "      <td>26.000000</td>\n",
              "    </tr>\n",
              "    <tr>\n",
              "      <th>75%</th>\n",
              "      <td>32.000000</td>\n",
              "    </tr>\n",
              "    <tr>\n",
              "      <th>max</th>\n",
              "      <td>35.000000</td>\n",
              "    </tr>\n",
              "  </tbody>\n",
              "</table>\n",
              "</div>"
            ],
            "text/plain": [
              "             age\n",
              "count   6.000000\n",
              "mean   26.833333\n",
              "std     6.400521\n",
              "min    20.000000\n",
              "25%    21.500000\n",
              "50%    26.000000\n",
              "75%    32.000000\n",
              "max    35.000000"
            ]
          },
          "metadata": {
            "tags": []
          },
          "execution_count": 159
        }
      ]
    },
    {
      "cell_type": "code",
      "metadata": {
        "id": "U6apvlGgbkjd",
        "colab_type": "code",
        "colab": {
          "base_uri": "https://localhost:8080/",
          "height": 87
        },
        "outputId": "895a81ef-ab92-4a1d-f527-19a4efa3619f"
      },
      "source": [
        "df.dtypes"
      ],
      "execution_count": 160,
      "outputs": [
        {
          "output_type": "execute_result",
          "data": {
            "text/plain": [
              "name      object\n",
              "gender    object\n",
              "age        int64\n",
              "dtype: object"
            ]
          },
          "metadata": {
            "tags": []
          },
          "execution_count": 160
        }
      ]
    },
    {
      "cell_type": "code",
      "metadata": {
        "id": "GJkRB-qEbqfy",
        "colab_type": "code",
        "colab": {
          "base_uri": "https://localhost:8080/",
          "height": 139
        },
        "outputId": "f93706d4-4c04-4453-b572-dcdba23267e7"
      },
      "source": [
        "df['name']"
      ],
      "execution_count": 161,
      "outputs": [
        {
          "output_type": "execute_result",
          "data": {
            "text/plain": [
              "0    frank\n",
              "1     mary\n",
              "2      tom\n",
              "3      ted\n",
              "4     jean\n",
              "5     lisa\n",
              "Name: name, dtype: object"
            ]
          },
          "metadata": {
            "tags": []
          },
          "execution_count": 161
        }
      ]
    },
    {
      "cell_type": "code",
      "metadata": {
        "id": "Nqqc1m08bt7n",
        "colab_type": "code",
        "colab": {
          "base_uri": "https://localhost:8080/",
          "height": 233
        },
        "outputId": "085b7ad2-d187-40c7-ca35-77d22f9d1f94"
      },
      "source": [
        "df[['name', 'age']]"
      ],
      "execution_count": 162,
      "outputs": [
        {
          "output_type": "execute_result",
          "data": {
            "text/html": [
              "<div>\n",
              "<style scoped>\n",
              "    .dataframe tbody tr th:only-of-type {\n",
              "        vertical-align: middle;\n",
              "    }\n",
              "\n",
              "    .dataframe tbody tr th {\n",
              "        vertical-align: top;\n",
              "    }\n",
              "\n",
              "    .dataframe thead th {\n",
              "        text-align: right;\n",
              "    }\n",
              "</style>\n",
              "<table border=\"1\" class=\"dataframe\">\n",
              "  <thead>\n",
              "    <tr style=\"text-align: right;\">\n",
              "      <th></th>\n",
              "      <th>name</th>\n",
              "      <th>age</th>\n",
              "    </tr>\n",
              "  </thead>\n",
              "  <tbody>\n",
              "    <tr>\n",
              "      <th>0</th>\n",
              "      <td>frank</td>\n",
              "      <td>29</td>\n",
              "    </tr>\n",
              "    <tr>\n",
              "      <th>1</th>\n",
              "      <td>mary</td>\n",
              "      <td>23</td>\n",
              "    </tr>\n",
              "    <tr>\n",
              "      <th>2</th>\n",
              "      <td>tom</td>\n",
              "      <td>35</td>\n",
              "    </tr>\n",
              "    <tr>\n",
              "      <th>3</th>\n",
              "      <td>ted</td>\n",
              "      <td>33</td>\n",
              "    </tr>\n",
              "    <tr>\n",
              "      <th>4</th>\n",
              "      <td>jean</td>\n",
              "      <td>21</td>\n",
              "    </tr>\n",
              "    <tr>\n",
              "      <th>5</th>\n",
              "      <td>lisa</td>\n",
              "      <td>20</td>\n",
              "    </tr>\n",
              "  </tbody>\n",
              "</table>\n",
              "</div>"
            ],
            "text/plain": [
              "    name  age\n",
              "0  frank   29\n",
              "1   mary   23\n",
              "2    tom   35\n",
              "3    ted   33\n",
              "4   jean   21\n",
              "5   lisa   20"
            ]
          },
          "metadata": {
            "tags": []
          },
          "execution_count": 162
        }
      ]
    },
    {
      "cell_type": "code",
      "metadata": {
        "id": "y6hehdPqbv2w",
        "colab_type": "code",
        "colab": {
          "base_uri": "https://localhost:8080/",
          "height": 139
        },
        "outputId": "9b5d53a5-e17c-4c9c-d855-e4c5e9a03ef4"
      },
      "source": [
        "df['gender'] == 'M'"
      ],
      "execution_count": 163,
      "outputs": [
        {
          "output_type": "execute_result",
          "data": {
            "text/plain": [
              "0     True\n",
              "1    False\n",
              "2     True\n",
              "3     True\n",
              "4    False\n",
              "5    False\n",
              "Name: gender, dtype: bool"
            ]
          },
          "metadata": {
            "tags": []
          },
          "execution_count": 163
        }
      ]
    },
    {
      "cell_type": "code",
      "metadata": {
        "id": "Ok-gBmCHbzfu",
        "colab_type": "code",
        "colab": {
          "base_uri": "https://localhost:8080/",
          "height": 141
        },
        "outputId": "0d0069cd-98a4-4abd-e921-456ec37beeb7"
      },
      "source": [
        "df[df['gender'] == 'M']"
      ],
      "execution_count": 164,
      "outputs": [
        {
          "output_type": "execute_result",
          "data": {
            "text/html": [
              "<div>\n",
              "<style scoped>\n",
              "    .dataframe tbody tr th:only-of-type {\n",
              "        vertical-align: middle;\n",
              "    }\n",
              "\n",
              "    .dataframe tbody tr th {\n",
              "        vertical-align: top;\n",
              "    }\n",
              "\n",
              "    .dataframe thead th {\n",
              "        text-align: right;\n",
              "    }\n",
              "</style>\n",
              "<table border=\"1\" class=\"dataframe\">\n",
              "  <thead>\n",
              "    <tr style=\"text-align: right;\">\n",
              "      <th></th>\n",
              "      <th>name</th>\n",
              "      <th>gender</th>\n",
              "      <th>age</th>\n",
              "    </tr>\n",
              "  </thead>\n",
              "  <tbody>\n",
              "    <tr>\n",
              "      <th>0</th>\n",
              "      <td>frank</td>\n",
              "      <td>M</td>\n",
              "      <td>29</td>\n",
              "    </tr>\n",
              "    <tr>\n",
              "      <th>2</th>\n",
              "      <td>tom</td>\n",
              "      <td>M</td>\n",
              "      <td>35</td>\n",
              "    </tr>\n",
              "    <tr>\n",
              "      <th>3</th>\n",
              "      <td>ted</td>\n",
              "      <td>M</td>\n",
              "      <td>33</td>\n",
              "    </tr>\n",
              "  </tbody>\n",
              "</table>\n",
              "</div>"
            ],
            "text/plain": [
              "    name gender  age\n",
              "0  frank      M   29\n",
              "2    tom      M   35\n",
              "3    ted      M   33"
            ]
          },
          "metadata": {
            "tags": []
          },
          "execution_count": 164
        }
      ]
    },
    {
      "cell_type": "code",
      "metadata": {
        "id": "chLTe0uyb5BU",
        "colab_type": "code",
        "colab": {
          "base_uri": "https://localhost:8080/",
          "height": 110
        },
        "outputId": "ab4c21f2-c8e5-4d71-c489-32d806a2ea85"
      },
      "source": [
        "df[(df['gender'] == 'M') & (df['age'] >= 30) ]"
      ],
      "execution_count": 165,
      "outputs": [
        {
          "output_type": "execute_result",
          "data": {
            "text/html": [
              "<div>\n",
              "<style scoped>\n",
              "    .dataframe tbody tr th:only-of-type {\n",
              "        vertical-align: middle;\n",
              "    }\n",
              "\n",
              "    .dataframe tbody tr th {\n",
              "        vertical-align: top;\n",
              "    }\n",
              "\n",
              "    .dataframe thead th {\n",
              "        text-align: right;\n",
              "    }\n",
              "</style>\n",
              "<table border=\"1\" class=\"dataframe\">\n",
              "  <thead>\n",
              "    <tr style=\"text-align: right;\">\n",
              "      <th></th>\n",
              "      <th>name</th>\n",
              "      <th>gender</th>\n",
              "      <th>age</th>\n",
              "    </tr>\n",
              "  </thead>\n",
              "  <tbody>\n",
              "    <tr>\n",
              "      <th>2</th>\n",
              "      <td>tom</td>\n",
              "      <td>M</td>\n",
              "      <td>35</td>\n",
              "    </tr>\n",
              "    <tr>\n",
              "      <th>3</th>\n",
              "      <td>ted</td>\n",
              "      <td>M</td>\n",
              "      <td>33</td>\n",
              "    </tr>\n",
              "  </tbody>\n",
              "</table>\n",
              "</div>"
            ],
            "text/plain": [
              "  name gender  age\n",
              "2  tom      M   35\n",
              "3  ted      M   33"
            ]
          },
          "metadata": {
            "tags": []
          },
          "execution_count": 165
        }
      ]
    },
    {
      "cell_type": "code",
      "metadata": {
        "id": "lVOiQ9RQb_su",
        "colab_type": "code",
        "colab": {
          "base_uri": "https://localhost:8080/",
          "height": 141
        },
        "outputId": "664bb051-cbdb-4b3b-8001-1a606a4364f0"
      },
      "source": [
        "df[(df['gender'] == 'M') | (df['age'] >= 30) ]"
      ],
      "execution_count": 166,
      "outputs": [
        {
          "output_type": "execute_result",
          "data": {
            "text/html": [
              "<div>\n",
              "<style scoped>\n",
              "    .dataframe tbody tr th:only-of-type {\n",
              "        vertical-align: middle;\n",
              "    }\n",
              "\n",
              "    .dataframe tbody tr th {\n",
              "        vertical-align: top;\n",
              "    }\n",
              "\n",
              "    .dataframe thead th {\n",
              "        text-align: right;\n",
              "    }\n",
              "</style>\n",
              "<table border=\"1\" class=\"dataframe\">\n",
              "  <thead>\n",
              "    <tr style=\"text-align: right;\">\n",
              "      <th></th>\n",
              "      <th>name</th>\n",
              "      <th>gender</th>\n",
              "      <th>age</th>\n",
              "    </tr>\n",
              "  </thead>\n",
              "  <tbody>\n",
              "    <tr>\n",
              "      <th>0</th>\n",
              "      <td>frank</td>\n",
              "      <td>M</td>\n",
              "      <td>29</td>\n",
              "    </tr>\n",
              "    <tr>\n",
              "      <th>2</th>\n",
              "      <td>tom</td>\n",
              "      <td>M</td>\n",
              "      <td>35</td>\n",
              "    </tr>\n",
              "    <tr>\n",
              "      <th>3</th>\n",
              "      <td>ted</td>\n",
              "      <td>M</td>\n",
              "      <td>33</td>\n",
              "    </tr>\n",
              "  </tbody>\n",
              "</table>\n",
              "</div>"
            ],
            "text/plain": [
              "    name gender  age\n",
              "0  frank      M   29\n",
              "2    tom      M   35\n",
              "3    ted      M   33"
            ]
          },
          "metadata": {
            "tags": []
          },
          "execution_count": 166
        }
      ]
    },
    {
      "cell_type": "code",
      "metadata": {
        "id": "ZN65zo8EcD7c",
        "colab_type": "code",
        "colab": {}
      },
      "source": [
        "df['employee']= True"
      ],
      "execution_count": 0,
      "outputs": []
    },
    {
      "cell_type": "code",
      "metadata": {
        "id": "rUUewXoqcO5U",
        "colab_type": "code",
        "colab": {
          "base_uri": "https://localhost:8080/",
          "height": 202
        },
        "outputId": "9b143934-2396-4148-ffe8-dff93494e265"
      },
      "source": [
        "df.head()"
      ],
      "execution_count": 168,
      "outputs": [
        {
          "output_type": "execute_result",
          "data": {
            "text/html": [
              "<div>\n",
              "<style scoped>\n",
              "    .dataframe tbody tr th:only-of-type {\n",
              "        vertical-align: middle;\n",
              "    }\n",
              "\n",
              "    .dataframe tbody tr th {\n",
              "        vertical-align: top;\n",
              "    }\n",
              "\n",
              "    .dataframe thead th {\n",
              "        text-align: right;\n",
              "    }\n",
              "</style>\n",
              "<table border=\"1\" class=\"dataframe\">\n",
              "  <thead>\n",
              "    <tr style=\"text-align: right;\">\n",
              "      <th></th>\n",
              "      <th>name</th>\n",
              "      <th>gender</th>\n",
              "      <th>age</th>\n",
              "      <th>employee</th>\n",
              "    </tr>\n",
              "  </thead>\n",
              "  <tbody>\n",
              "    <tr>\n",
              "      <th>0</th>\n",
              "      <td>frank</td>\n",
              "      <td>M</td>\n",
              "      <td>29</td>\n",
              "      <td>True</td>\n",
              "    </tr>\n",
              "    <tr>\n",
              "      <th>1</th>\n",
              "      <td>mary</td>\n",
              "      <td>F</td>\n",
              "      <td>23</td>\n",
              "      <td>True</td>\n",
              "    </tr>\n",
              "    <tr>\n",
              "      <th>2</th>\n",
              "      <td>tom</td>\n",
              "      <td>M</td>\n",
              "      <td>35</td>\n",
              "      <td>True</td>\n",
              "    </tr>\n",
              "    <tr>\n",
              "      <th>3</th>\n",
              "      <td>ted</td>\n",
              "      <td>M</td>\n",
              "      <td>33</td>\n",
              "      <td>True</td>\n",
              "    </tr>\n",
              "    <tr>\n",
              "      <th>4</th>\n",
              "      <td>jean</td>\n",
              "      <td>F</td>\n",
              "      <td>21</td>\n",
              "      <td>True</td>\n",
              "    </tr>\n",
              "  </tbody>\n",
              "</table>\n",
              "</div>"
            ],
            "text/plain": [
              "    name gender  age  employee\n",
              "0  frank      M   29      True\n",
              "1   mary      F   23      True\n",
              "2    tom      M   35      True\n",
              "3    ted      M   33      True\n",
              "4   jean      F   21      True"
            ]
          },
          "metadata": {
            "tags": []
          },
          "execution_count": 168
        }
      ]
    },
    {
      "cell_type": "code",
      "metadata": {
        "id": "kOoAoz4AcR8R",
        "colab_type": "code",
        "colab": {}
      },
      "source": [
        "del df['employee']"
      ],
      "execution_count": 0,
      "outputs": []
    },
    {
      "cell_type": "code",
      "metadata": {
        "id": "8pcsDExMcY5X",
        "colab_type": "code",
        "colab": {
          "base_uri": "https://localhost:8080/",
          "height": 202
        },
        "outputId": "3a63e758-e37e-40e5-999f-0fd469e808c1"
      },
      "source": [
        "df.head()"
      ],
      "execution_count": 170,
      "outputs": [
        {
          "output_type": "execute_result",
          "data": {
            "text/html": [
              "<div>\n",
              "<style scoped>\n",
              "    .dataframe tbody tr th:only-of-type {\n",
              "        vertical-align: middle;\n",
              "    }\n",
              "\n",
              "    .dataframe tbody tr th {\n",
              "        vertical-align: top;\n",
              "    }\n",
              "\n",
              "    .dataframe thead th {\n",
              "        text-align: right;\n",
              "    }\n",
              "</style>\n",
              "<table border=\"1\" class=\"dataframe\">\n",
              "  <thead>\n",
              "    <tr style=\"text-align: right;\">\n",
              "      <th></th>\n",
              "      <th>name</th>\n",
              "      <th>gender</th>\n",
              "      <th>age</th>\n",
              "    </tr>\n",
              "  </thead>\n",
              "  <tbody>\n",
              "    <tr>\n",
              "      <th>0</th>\n",
              "      <td>frank</td>\n",
              "      <td>M</td>\n",
              "      <td>29</td>\n",
              "    </tr>\n",
              "    <tr>\n",
              "      <th>1</th>\n",
              "      <td>mary</td>\n",
              "      <td>F</td>\n",
              "      <td>23</td>\n",
              "    </tr>\n",
              "    <tr>\n",
              "      <th>2</th>\n",
              "      <td>tom</td>\n",
              "      <td>M</td>\n",
              "      <td>35</td>\n",
              "    </tr>\n",
              "    <tr>\n",
              "      <th>3</th>\n",
              "      <td>ted</td>\n",
              "      <td>M</td>\n",
              "      <td>33</td>\n",
              "    </tr>\n",
              "    <tr>\n",
              "      <th>4</th>\n",
              "      <td>jean</td>\n",
              "      <td>F</td>\n",
              "      <td>21</td>\n",
              "    </tr>\n",
              "  </tbody>\n",
              "</table>\n",
              "</div>"
            ],
            "text/plain": [
              "    name gender  age\n",
              "0  frank      M   29\n",
              "1   mary      F   23\n",
              "2    tom      M   35\n",
              "3    ted      M   33\n",
              "4   jean      F   21"
            ]
          },
          "metadata": {
            "tags": []
          },
          "execution_count": 170
        }
      ]
    },
    {
      "cell_type": "code",
      "metadata": {
        "id": "erSL7_6HcaVR",
        "colab_type": "code",
        "colab": {
          "base_uri": "https://localhost:8080/",
          "height": 233
        },
        "outputId": "2110fd1a-b385-4497-e812-9ebf268834ff"
      },
      "source": [
        "df"
      ],
      "execution_count": 171,
      "outputs": [
        {
          "output_type": "execute_result",
          "data": {
            "text/html": [
              "<div>\n",
              "<style scoped>\n",
              "    .dataframe tbody tr th:only-of-type {\n",
              "        vertical-align: middle;\n",
              "    }\n",
              "\n",
              "    .dataframe tbody tr th {\n",
              "        vertical-align: top;\n",
              "    }\n",
              "\n",
              "    .dataframe thead th {\n",
              "        text-align: right;\n",
              "    }\n",
              "</style>\n",
              "<table border=\"1\" class=\"dataframe\">\n",
              "  <thead>\n",
              "    <tr style=\"text-align: right;\">\n",
              "      <th></th>\n",
              "      <th>name</th>\n",
              "      <th>gender</th>\n",
              "      <th>age</th>\n",
              "    </tr>\n",
              "  </thead>\n",
              "  <tbody>\n",
              "    <tr>\n",
              "      <th>0</th>\n",
              "      <td>frank</td>\n",
              "      <td>M</td>\n",
              "      <td>29</td>\n",
              "    </tr>\n",
              "    <tr>\n",
              "      <th>1</th>\n",
              "      <td>mary</td>\n",
              "      <td>F</td>\n",
              "      <td>23</td>\n",
              "    </tr>\n",
              "    <tr>\n",
              "      <th>2</th>\n",
              "      <td>tom</td>\n",
              "      <td>M</td>\n",
              "      <td>35</td>\n",
              "    </tr>\n",
              "    <tr>\n",
              "      <th>3</th>\n",
              "      <td>ted</td>\n",
              "      <td>M</td>\n",
              "      <td>33</td>\n",
              "    </tr>\n",
              "    <tr>\n",
              "      <th>4</th>\n",
              "      <td>jean</td>\n",
              "      <td>F</td>\n",
              "      <td>21</td>\n",
              "    </tr>\n",
              "    <tr>\n",
              "      <th>5</th>\n",
              "      <td>lisa</td>\n",
              "      <td>F</td>\n",
              "      <td>20</td>\n",
              "    </tr>\n",
              "  </tbody>\n",
              "</table>\n",
              "</div>"
            ],
            "text/plain": [
              "    name gender  age\n",
              "0  frank      M   29\n",
              "1   mary      F   23\n",
              "2    tom      M   35\n",
              "3    ted      M   33\n",
              "4   jean      F   21\n",
              "5   lisa      F   20"
            ]
          },
          "metadata": {
            "tags": []
          },
          "execution_count": 171
        }
      ]
    },
    {
      "cell_type": "code",
      "metadata": {
        "id": "POdVCPN7cgcy",
        "colab_type": "code",
        "colab": {}
      },
      "source": [
        "df.loc[6] = {'age':20,'gender':'F','name':'qoo'}"
      ],
      "execution_count": 0,
      "outputs": []
    },
    {
      "cell_type": "code",
      "metadata": {
        "id": "DgPK7cJGcjBy",
        "colab_type": "code",
        "colab": {
          "base_uri": "https://localhost:8080/",
          "height": 263
        },
        "outputId": "d7a48031-e310-4800-9c27-9ca238b5e989"
      },
      "source": [
        "df"
      ],
      "execution_count": 173,
      "outputs": [
        {
          "output_type": "execute_result",
          "data": {
            "text/html": [
              "<div>\n",
              "<style scoped>\n",
              "    .dataframe tbody tr th:only-of-type {\n",
              "        vertical-align: middle;\n",
              "    }\n",
              "\n",
              "    .dataframe tbody tr th {\n",
              "        vertical-align: top;\n",
              "    }\n",
              "\n",
              "    .dataframe thead th {\n",
              "        text-align: right;\n",
              "    }\n",
              "</style>\n",
              "<table border=\"1\" class=\"dataframe\">\n",
              "  <thead>\n",
              "    <tr style=\"text-align: right;\">\n",
              "      <th></th>\n",
              "      <th>name</th>\n",
              "      <th>gender</th>\n",
              "      <th>age</th>\n",
              "    </tr>\n",
              "  </thead>\n",
              "  <tbody>\n",
              "    <tr>\n",
              "      <th>0</th>\n",
              "      <td>frank</td>\n",
              "      <td>M</td>\n",
              "      <td>29</td>\n",
              "    </tr>\n",
              "    <tr>\n",
              "      <th>1</th>\n",
              "      <td>mary</td>\n",
              "      <td>F</td>\n",
              "      <td>23</td>\n",
              "    </tr>\n",
              "    <tr>\n",
              "      <th>2</th>\n",
              "      <td>tom</td>\n",
              "      <td>M</td>\n",
              "      <td>35</td>\n",
              "    </tr>\n",
              "    <tr>\n",
              "      <th>3</th>\n",
              "      <td>ted</td>\n",
              "      <td>M</td>\n",
              "      <td>33</td>\n",
              "    </tr>\n",
              "    <tr>\n",
              "      <th>4</th>\n",
              "      <td>jean</td>\n",
              "      <td>F</td>\n",
              "      <td>21</td>\n",
              "    </tr>\n",
              "    <tr>\n",
              "      <th>5</th>\n",
              "      <td>lisa</td>\n",
              "      <td>F</td>\n",
              "      <td>20</td>\n",
              "    </tr>\n",
              "    <tr>\n",
              "      <th>6</th>\n",
              "      <td>qoo</td>\n",
              "      <td>F</td>\n",
              "      <td>20</td>\n",
              "    </tr>\n",
              "  </tbody>\n",
              "</table>\n",
              "</div>"
            ],
            "text/plain": [
              "    name gender  age\n",
              "0  frank      M   29\n",
              "1   mary      F   23\n",
              "2    tom      M   35\n",
              "3    ted      M   33\n",
              "4   jean      F   21\n",
              "5   lisa      F   20\n",
              "6    qoo      F   20"
            ]
          },
          "metadata": {
            "tags": []
          },
          "execution_count": 173
        }
      ]
    },
    {
      "cell_type": "code",
      "metadata": {
        "id": "NZIq72YvckMT",
        "colab_type": "code",
        "colab": {
          "base_uri": "https://localhost:8080/",
          "height": 52
        },
        "outputId": "b95a62c4-cbd7-4559-87e2-1551abf12659"
      },
      "source": [
        "pd.DataFrame([{'age':20,'gender':'F','name':'qoo'}]),"
      ],
      "execution_count": 174,
      "outputs": [
        {
          "output_type": "execute_result",
          "data": {
            "text/plain": [
              "(   age gender name\n",
              " 0   20      F  qoo,)"
            ]
          },
          "metadata": {
            "tags": []
          },
          "execution_count": 174
        }
      ]
    },
    {
      "cell_type": "code",
      "metadata": {
        "id": "9zK7nENVcqE3",
        "colab_type": "code",
        "colab": {
          "base_uri": "https://localhost:8080/",
          "height": 294
        },
        "outputId": "e9653e46-dcc2-45ed-cee8-ba2f9673c9b0"
      },
      "source": [
        "df.append(pd.DataFrame([{'age':20,'gender':'F','name':'qoo'}]),\n",
        "ignore_index=True)"
      ],
      "execution_count": 175,
      "outputs": [
        {
          "output_type": "execute_result",
          "data": {
            "text/html": [
              "<div>\n",
              "<style scoped>\n",
              "    .dataframe tbody tr th:only-of-type {\n",
              "        vertical-align: middle;\n",
              "    }\n",
              "\n",
              "    .dataframe tbody tr th {\n",
              "        vertical-align: top;\n",
              "    }\n",
              "\n",
              "    .dataframe thead th {\n",
              "        text-align: right;\n",
              "    }\n",
              "</style>\n",
              "<table border=\"1\" class=\"dataframe\">\n",
              "  <thead>\n",
              "    <tr style=\"text-align: right;\">\n",
              "      <th></th>\n",
              "      <th>name</th>\n",
              "      <th>gender</th>\n",
              "      <th>age</th>\n",
              "    </tr>\n",
              "  </thead>\n",
              "  <tbody>\n",
              "    <tr>\n",
              "      <th>0</th>\n",
              "      <td>frank</td>\n",
              "      <td>M</td>\n",
              "      <td>29</td>\n",
              "    </tr>\n",
              "    <tr>\n",
              "      <th>1</th>\n",
              "      <td>mary</td>\n",
              "      <td>F</td>\n",
              "      <td>23</td>\n",
              "    </tr>\n",
              "    <tr>\n",
              "      <th>2</th>\n",
              "      <td>tom</td>\n",
              "      <td>M</td>\n",
              "      <td>35</td>\n",
              "    </tr>\n",
              "    <tr>\n",
              "      <th>3</th>\n",
              "      <td>ted</td>\n",
              "      <td>M</td>\n",
              "      <td>33</td>\n",
              "    </tr>\n",
              "    <tr>\n",
              "      <th>4</th>\n",
              "      <td>jean</td>\n",
              "      <td>F</td>\n",
              "      <td>21</td>\n",
              "    </tr>\n",
              "    <tr>\n",
              "      <th>5</th>\n",
              "      <td>lisa</td>\n",
              "      <td>F</td>\n",
              "      <td>20</td>\n",
              "    </tr>\n",
              "    <tr>\n",
              "      <th>6</th>\n",
              "      <td>qoo</td>\n",
              "      <td>F</td>\n",
              "      <td>20</td>\n",
              "    </tr>\n",
              "    <tr>\n",
              "      <th>7</th>\n",
              "      <td>qoo</td>\n",
              "      <td>F</td>\n",
              "      <td>20</td>\n",
              "    </tr>\n",
              "  </tbody>\n",
              "</table>\n",
              "</div>"
            ],
            "text/plain": [
              "    name gender  age\n",
              "0  frank      M   29\n",
              "1   mary      F   23\n",
              "2    tom      M   35\n",
              "3    ted      M   33\n",
              "4   jean      F   21\n",
              "5   lisa      F   20\n",
              "6    qoo      F   20\n",
              "7    qoo      F   20"
            ]
          },
          "metadata": {
            "tags": []
          },
          "execution_count": 175
        }
      ]
    },
    {
      "cell_type": "code",
      "metadata": {
        "id": "GlUTI8BbcsCv",
        "colab_type": "code",
        "colab": {}
      },
      "source": [
        "df.drop(6, axis = 0, inplace=True)"
      ],
      "execution_count": 0,
      "outputs": []
    },
    {
      "cell_type": "code",
      "metadata": {
        "id": "ipK7o5g6cvWV",
        "colab_type": "code",
        "colab": {
          "base_uri": "https://localhost:8080/",
          "height": 233
        },
        "outputId": "b933ae47-3061-4ac0-f9bd-3e02fefe43f7"
      },
      "source": [
        "df"
      ],
      "execution_count": 179,
      "outputs": [
        {
          "output_type": "execute_result",
          "data": {
            "text/html": [
              "<div>\n",
              "<style scoped>\n",
              "    .dataframe tbody tr th:only-of-type {\n",
              "        vertical-align: middle;\n",
              "    }\n",
              "\n",
              "    .dataframe tbody tr th {\n",
              "        vertical-align: top;\n",
              "    }\n",
              "\n",
              "    .dataframe thead th {\n",
              "        text-align: right;\n",
              "    }\n",
              "</style>\n",
              "<table border=\"1\" class=\"dataframe\">\n",
              "  <thead>\n",
              "    <tr style=\"text-align: right;\">\n",
              "      <th></th>\n",
              "      <th>name</th>\n",
              "      <th>gender</th>\n",
              "      <th>age</th>\n",
              "    </tr>\n",
              "  </thead>\n",
              "  <tbody>\n",
              "    <tr>\n",
              "      <th>0</th>\n",
              "      <td>frank</td>\n",
              "      <td>M</td>\n",
              "      <td>29</td>\n",
              "    </tr>\n",
              "    <tr>\n",
              "      <th>1</th>\n",
              "      <td>mary</td>\n",
              "      <td>F</td>\n",
              "      <td>23</td>\n",
              "    </tr>\n",
              "    <tr>\n",
              "      <th>2</th>\n",
              "      <td>tom</td>\n",
              "      <td>M</td>\n",
              "      <td>35</td>\n",
              "    </tr>\n",
              "    <tr>\n",
              "      <th>3</th>\n",
              "      <td>ted</td>\n",
              "      <td>M</td>\n",
              "      <td>33</td>\n",
              "    </tr>\n",
              "    <tr>\n",
              "      <th>4</th>\n",
              "      <td>jean</td>\n",
              "      <td>F</td>\n",
              "      <td>21</td>\n",
              "    </tr>\n",
              "    <tr>\n",
              "      <th>5</th>\n",
              "      <td>lisa</td>\n",
              "      <td>F</td>\n",
              "      <td>20</td>\n",
              "    </tr>\n",
              "  </tbody>\n",
              "</table>\n",
              "</div>"
            ],
            "text/plain": [
              "    name gender  age\n",
              "0  frank      M   29\n",
              "1   mary      F   23\n",
              "2    tom      M   35\n",
              "3    ted      M   33\n",
              "4   jean      F   21\n",
              "5   lisa      F   20"
            ]
          },
          "metadata": {
            "tags": []
          },
          "execution_count": 179
        }
      ]
    },
    {
      "cell_type": "code",
      "metadata": {
        "id": "-cvH0HUHczmV",
        "colab_type": "code",
        "colab": {}
      },
      "source": [
        "df['userid'] = range(101,107)\n"
      ],
      "execution_count": 0,
      "outputs": []
    },
    {
      "cell_type": "code",
      "metadata": {
        "id": "zTTt4OOTdFIQ",
        "colab_type": "code",
        "colab": {
          "base_uri": "https://localhost:8080/",
          "height": 233
        },
        "outputId": "91be0104-d379-46df-f711-8c15360022b3"
      },
      "source": [
        "df"
      ],
      "execution_count": 181,
      "outputs": [
        {
          "output_type": "execute_result",
          "data": {
            "text/html": [
              "<div>\n",
              "<style scoped>\n",
              "    .dataframe tbody tr th:only-of-type {\n",
              "        vertical-align: middle;\n",
              "    }\n",
              "\n",
              "    .dataframe tbody tr th {\n",
              "        vertical-align: top;\n",
              "    }\n",
              "\n",
              "    .dataframe thead th {\n",
              "        text-align: right;\n",
              "    }\n",
              "</style>\n",
              "<table border=\"1\" class=\"dataframe\">\n",
              "  <thead>\n",
              "    <tr style=\"text-align: right;\">\n",
              "      <th></th>\n",
              "      <th>name</th>\n",
              "      <th>gender</th>\n",
              "      <th>age</th>\n",
              "      <th>userid</th>\n",
              "    </tr>\n",
              "  </thead>\n",
              "  <tbody>\n",
              "    <tr>\n",
              "      <th>0</th>\n",
              "      <td>frank</td>\n",
              "      <td>M</td>\n",
              "      <td>29</td>\n",
              "      <td>101</td>\n",
              "    </tr>\n",
              "    <tr>\n",
              "      <th>1</th>\n",
              "      <td>mary</td>\n",
              "      <td>F</td>\n",
              "      <td>23</td>\n",
              "      <td>102</td>\n",
              "    </tr>\n",
              "    <tr>\n",
              "      <th>2</th>\n",
              "      <td>tom</td>\n",
              "      <td>M</td>\n",
              "      <td>35</td>\n",
              "      <td>103</td>\n",
              "    </tr>\n",
              "    <tr>\n",
              "      <th>3</th>\n",
              "      <td>ted</td>\n",
              "      <td>M</td>\n",
              "      <td>33</td>\n",
              "      <td>104</td>\n",
              "    </tr>\n",
              "    <tr>\n",
              "      <th>4</th>\n",
              "      <td>jean</td>\n",
              "      <td>F</td>\n",
              "      <td>21</td>\n",
              "      <td>105</td>\n",
              "    </tr>\n",
              "    <tr>\n",
              "      <th>5</th>\n",
              "      <td>lisa</td>\n",
              "      <td>F</td>\n",
              "      <td>20</td>\n",
              "      <td>106</td>\n",
              "    </tr>\n",
              "  </tbody>\n",
              "</table>\n",
              "</div>"
            ],
            "text/plain": [
              "    name gender  age  userid\n",
              "0  frank      M   29     101\n",
              "1   mary      F   23     102\n",
              "2    tom      M   35     103\n",
              "3    ted      M   33     104\n",
              "4   jean      F   21     105\n",
              "5   lisa      F   20     106"
            ]
          },
          "metadata": {
            "tags": []
          },
          "execution_count": 181
        }
      ]
    },
    {
      "cell_type": "code",
      "metadata": {
        "id": "xFa04J7BdF4t",
        "colab_type": "code",
        "colab": {}
      },
      "source": [
        "df.set_index('userid', inplace=True)"
      ],
      "execution_count": 0,
      "outputs": []
    },
    {
      "cell_type": "code",
      "metadata": {
        "id": "ivRDHztIdMka",
        "colab_type": "code",
        "colab": {
          "base_uri": "https://localhost:8080/",
          "height": 263
        },
        "outputId": "5c935238-5f88-44ac-caa7-65b5c4703a15"
      },
      "source": [
        "df"
      ],
      "execution_count": 183,
      "outputs": [
        {
          "output_type": "execute_result",
          "data": {
            "text/html": [
              "<div>\n",
              "<style scoped>\n",
              "    .dataframe tbody tr th:only-of-type {\n",
              "        vertical-align: middle;\n",
              "    }\n",
              "\n",
              "    .dataframe tbody tr th {\n",
              "        vertical-align: top;\n",
              "    }\n",
              "\n",
              "    .dataframe thead th {\n",
              "        text-align: right;\n",
              "    }\n",
              "</style>\n",
              "<table border=\"1\" class=\"dataframe\">\n",
              "  <thead>\n",
              "    <tr style=\"text-align: right;\">\n",
              "      <th></th>\n",
              "      <th>name</th>\n",
              "      <th>gender</th>\n",
              "      <th>age</th>\n",
              "    </tr>\n",
              "    <tr>\n",
              "      <th>userid</th>\n",
              "      <th></th>\n",
              "      <th></th>\n",
              "      <th></th>\n",
              "    </tr>\n",
              "  </thead>\n",
              "  <tbody>\n",
              "    <tr>\n",
              "      <th>101</th>\n",
              "      <td>frank</td>\n",
              "      <td>M</td>\n",
              "      <td>29</td>\n",
              "    </tr>\n",
              "    <tr>\n",
              "      <th>102</th>\n",
              "      <td>mary</td>\n",
              "      <td>F</td>\n",
              "      <td>23</td>\n",
              "    </tr>\n",
              "    <tr>\n",
              "      <th>103</th>\n",
              "      <td>tom</td>\n",
              "      <td>M</td>\n",
              "      <td>35</td>\n",
              "    </tr>\n",
              "    <tr>\n",
              "      <th>104</th>\n",
              "      <td>ted</td>\n",
              "      <td>M</td>\n",
              "      <td>33</td>\n",
              "    </tr>\n",
              "    <tr>\n",
              "      <th>105</th>\n",
              "      <td>jean</td>\n",
              "      <td>F</td>\n",
              "      <td>21</td>\n",
              "    </tr>\n",
              "    <tr>\n",
              "      <th>106</th>\n",
              "      <td>lisa</td>\n",
              "      <td>F</td>\n",
              "      <td>20</td>\n",
              "    </tr>\n",
              "  </tbody>\n",
              "</table>\n",
              "</div>"
            ],
            "text/plain": [
              "         name gender  age\n",
              "userid                   \n",
              "101     frank      M   29\n",
              "102      mary      F   23\n",
              "103       tom      M   35\n",
              "104       ted      M   33\n",
              "105      jean      F   21\n",
              "106      lisa      F   20"
            ]
          },
          "metadata": {
            "tags": []
          },
          "execution_count": 183
        }
      ]
    },
    {
      "cell_type": "code",
      "metadata": {
        "id": "rk8lIloCdNgN",
        "colab_type": "code",
        "colab": {
          "base_uri": "https://localhost:8080/",
          "height": 87
        },
        "outputId": "93d28047-16fc-41b0-8aff-7d91d16b1ca5"
      },
      "source": [
        "# iloc: by 位置\n",
        "df.iloc[1]"
      ],
      "execution_count": 184,
      "outputs": [
        {
          "output_type": "execute_result",
          "data": {
            "text/plain": [
              "name      mary\n",
              "gender       F\n",
              "age         23\n",
              "Name: 102, dtype: object"
            ]
          },
          "metadata": {
            "tags": []
          },
          "execution_count": 184
        }
      ]
    },
    {
      "cell_type": "code",
      "metadata": {
        "id": "cTMkLbw_dadN",
        "colab_type": "code",
        "colab": {
          "base_uri": "https://localhost:8080/",
          "height": 171
        },
        "outputId": "75e42a79-6986-4e23-95a1-8b7a88711013"
      },
      "source": [
        "df.iloc[[1,3,5]]"
      ],
      "execution_count": 185,
      "outputs": [
        {
          "output_type": "execute_result",
          "data": {
            "text/html": [
              "<div>\n",
              "<style scoped>\n",
              "    .dataframe tbody tr th:only-of-type {\n",
              "        vertical-align: middle;\n",
              "    }\n",
              "\n",
              "    .dataframe tbody tr th {\n",
              "        vertical-align: top;\n",
              "    }\n",
              "\n",
              "    .dataframe thead th {\n",
              "        text-align: right;\n",
              "    }\n",
              "</style>\n",
              "<table border=\"1\" class=\"dataframe\">\n",
              "  <thead>\n",
              "    <tr style=\"text-align: right;\">\n",
              "      <th></th>\n",
              "      <th>name</th>\n",
              "      <th>gender</th>\n",
              "      <th>age</th>\n",
              "    </tr>\n",
              "    <tr>\n",
              "      <th>userid</th>\n",
              "      <th></th>\n",
              "      <th></th>\n",
              "      <th></th>\n",
              "    </tr>\n",
              "  </thead>\n",
              "  <tbody>\n",
              "    <tr>\n",
              "      <th>102</th>\n",
              "      <td>mary</td>\n",
              "      <td>F</td>\n",
              "      <td>23</td>\n",
              "    </tr>\n",
              "    <tr>\n",
              "      <th>104</th>\n",
              "      <td>ted</td>\n",
              "      <td>M</td>\n",
              "      <td>33</td>\n",
              "    </tr>\n",
              "    <tr>\n",
              "      <th>106</th>\n",
              "      <td>lisa</td>\n",
              "      <td>F</td>\n",
              "      <td>20</td>\n",
              "    </tr>\n",
              "  </tbody>\n",
              "</table>\n",
              "</div>"
            ],
            "text/plain": [
              "        name gender  age\n",
              "userid                  \n",
              "102     mary      F   23\n",
              "104      ted      M   33\n",
              "106     lisa      F   20"
            ]
          },
          "metadata": {
            "tags": []
          },
          "execution_count": 185
        }
      ]
    },
    {
      "cell_type": "code",
      "metadata": {
        "id": "uN81ysf3ddwS",
        "colab_type": "code",
        "colab": {
          "base_uri": "https://localhost:8080/",
          "height": 87
        },
        "outputId": "812ba964-c6d7-46d7-9230-bbf6f90bcead"
      },
      "source": [
        "# loc: by 索引\n",
        "df.loc[103]"
      ],
      "execution_count": 186,
      "outputs": [
        {
          "output_type": "execute_result",
          "data": {
            "text/plain": [
              "name      tom\n",
              "gender      M\n",
              "age        35\n",
              "Name: 103, dtype: object"
            ]
          },
          "metadata": {
            "tags": []
          },
          "execution_count": 186
        }
      ]
    },
    {
      "cell_type": "code",
      "metadata": {
        "id": "TM-9AKNbdmW8",
        "colab_type": "code",
        "colab": {
          "base_uri": "https://localhost:8080/",
          "height": 141
        },
        "outputId": "bace5e65-a8b4-4f51-9f81-8f46e08b6fe0"
      },
      "source": [
        "df.loc[[103,105], ['name', 'age']]"
      ],
      "execution_count": 187,
      "outputs": [
        {
          "output_type": "execute_result",
          "data": {
            "text/html": [
              "<div>\n",
              "<style scoped>\n",
              "    .dataframe tbody tr th:only-of-type {\n",
              "        vertical-align: middle;\n",
              "    }\n",
              "\n",
              "    .dataframe tbody tr th {\n",
              "        vertical-align: top;\n",
              "    }\n",
              "\n",
              "    .dataframe thead th {\n",
              "        text-align: right;\n",
              "    }\n",
              "</style>\n",
              "<table border=\"1\" class=\"dataframe\">\n",
              "  <thead>\n",
              "    <tr style=\"text-align: right;\">\n",
              "      <th></th>\n",
              "      <th>name</th>\n",
              "      <th>age</th>\n",
              "    </tr>\n",
              "    <tr>\n",
              "      <th>userid</th>\n",
              "      <th></th>\n",
              "      <th></th>\n",
              "    </tr>\n",
              "  </thead>\n",
              "  <tbody>\n",
              "    <tr>\n",
              "      <th>103</th>\n",
              "      <td>tom</td>\n",
              "      <td>35</td>\n",
              "    </tr>\n",
              "    <tr>\n",
              "      <th>105</th>\n",
              "      <td>jean</td>\n",
              "      <td>21</td>\n",
              "    </tr>\n",
              "  </tbody>\n",
              "</table>\n",
              "</div>"
            ],
            "text/plain": [
              "        name  age\n",
              "userid           \n",
              "103      tom   35\n",
              "105     jean   21"
            ]
          },
          "metadata": {
            "tags": []
          },
          "execution_count": 187
        }
      ]
    },
    {
      "cell_type": "code",
      "metadata": {
        "id": "zJZ_Y8Jwdtgn",
        "colab_type": "code",
        "colab": {
          "base_uri": "https://localhost:8080/",
          "height": 141
        },
        "outputId": "1306dec0-60cf-4ee3-d782-89f02c0ea39e"
      },
      "source": [
        "df.iloc[[2,4], [0, 2]]"
      ],
      "execution_count": 188,
      "outputs": [
        {
          "output_type": "execute_result",
          "data": {
            "text/html": [
              "<div>\n",
              "<style scoped>\n",
              "    .dataframe tbody tr th:only-of-type {\n",
              "        vertical-align: middle;\n",
              "    }\n",
              "\n",
              "    .dataframe tbody tr th {\n",
              "        vertical-align: top;\n",
              "    }\n",
              "\n",
              "    .dataframe thead th {\n",
              "        text-align: right;\n",
              "    }\n",
              "</style>\n",
              "<table border=\"1\" class=\"dataframe\">\n",
              "  <thead>\n",
              "    <tr style=\"text-align: right;\">\n",
              "      <th></th>\n",
              "      <th>name</th>\n",
              "      <th>age</th>\n",
              "    </tr>\n",
              "    <tr>\n",
              "      <th>userid</th>\n",
              "      <th></th>\n",
              "      <th></th>\n",
              "    </tr>\n",
              "  </thead>\n",
              "  <tbody>\n",
              "    <tr>\n",
              "      <th>103</th>\n",
              "      <td>tom</td>\n",
              "      <td>35</td>\n",
              "    </tr>\n",
              "    <tr>\n",
              "      <th>105</th>\n",
              "      <td>jean</td>\n",
              "      <td>21</td>\n",
              "    </tr>\n",
              "  </tbody>\n",
              "</table>\n",
              "</div>"
            ],
            "text/plain": [
              "        name  age\n",
              "userid           \n",
              "103      tom   35\n",
              "105     jean   21"
            ]
          },
          "metadata": {
            "tags": []
          },
          "execution_count": 188
        }
      ]
    },
    {
      "cell_type": "markdown",
      "metadata": {
        "id": "QkXTp3a_d-sk",
        "colab_type": "text"
      },
      "source": [
        "## 小任務\n",
        "-　現在有三個客戶 David, Mary, John 購買了台積電的股票\n",
        "\n",
        "- David 的購買價格是200, 賣出價格是 250\n",
        "- Mary 的購買價格是 300, 賣出價格是 325\n",
        "- John 的購買價格是 300, 賣出價格是270\n",
        "\n",
        "- 請協助我將他們的名字, 購買價, 賣出價 建立一DataFrame df 並從中計算 每個人的投資報酬率, 最後篩選出有正報酬的投資者?"
      ]
    },
    {
      "cell_type": "code",
      "metadata": {
        "id": "BnxE--g4d28K",
        "colab_type": "code",
        "colab": {}
      },
      "source": [
        "df = pd.DataFrame([\n",
        " ['David', 200,250],\n",
        " ['Mary', 300,325], \n",
        " ['John', 300,270],   \n",
        "], columns = ['名字','購買價','賣出價'])"
      ],
      "execution_count": 0,
      "outputs": []
    },
    {
      "cell_type": "code",
      "metadata": {
        "id": "qdN7LzTzkAtK",
        "colab_type": "code",
        "colab": {}
      },
      "source": [
        "df['投資報酬率'] = (df['賣出價'] - df['購買價']) / df['購買價']"
      ],
      "execution_count": 0,
      "outputs": []
    },
    {
      "cell_type": "code",
      "metadata": {
        "id": "JOrLtqQ2kBXS",
        "colab_type": "code",
        "colab": {
          "base_uri": "https://localhost:8080/",
          "height": 110
        },
        "outputId": "f038bfc9-e414-40da-ce6c-1c88d6413686"
      },
      "source": [
        "df[df['投資報酬率'] > 0]"
      ],
      "execution_count": 194,
      "outputs": [
        {
          "output_type": "execute_result",
          "data": {
            "text/html": [
              "<div>\n",
              "<style scoped>\n",
              "    .dataframe tbody tr th:only-of-type {\n",
              "        vertical-align: middle;\n",
              "    }\n",
              "\n",
              "    .dataframe tbody tr th {\n",
              "        vertical-align: top;\n",
              "    }\n",
              "\n",
              "    .dataframe thead th {\n",
              "        text-align: right;\n",
              "    }\n",
              "</style>\n",
              "<table border=\"1\" class=\"dataframe\">\n",
              "  <thead>\n",
              "    <tr style=\"text-align: right;\">\n",
              "      <th></th>\n",
              "      <th>名字</th>\n",
              "      <th>購買價</th>\n",
              "      <th>賣出價</th>\n",
              "      <th>投資報酬率</th>\n",
              "    </tr>\n",
              "  </thead>\n",
              "  <tbody>\n",
              "    <tr>\n",
              "      <th>0</th>\n",
              "      <td>David</td>\n",
              "      <td>200</td>\n",
              "      <td>250</td>\n",
              "      <td>0.250000</td>\n",
              "    </tr>\n",
              "    <tr>\n",
              "      <th>1</th>\n",
              "      <td>Mary</td>\n",
              "      <td>300</td>\n",
              "      <td>325</td>\n",
              "      <td>0.083333</td>\n",
              "    </tr>\n",
              "  </tbody>\n",
              "</table>\n",
              "</div>"
            ],
            "text/plain": [
              "      名字  購買價  賣出價     投資報酬率\n",
              "0  David  200  250  0.250000\n",
              "1   Mary  300  325  0.083333"
            ]
          },
          "metadata": {
            "tags": []
          },
          "execution_count": 194
        }
      ]
    },
    {
      "cell_type": "code",
      "metadata": {
        "id": "CqIEGH0ekUnH",
        "colab_type": "code",
        "colab": {
          "base_uri": "https://localhost:8080/",
          "height": 69
        },
        "outputId": "c50b68af-5b5e-4cfa-f1ec-210c08ce8b91"
      },
      "source": [
        "df[df['投資報酬率'] > 0]['名字']\n"
      ],
      "execution_count": 195,
      "outputs": [
        {
          "output_type": "execute_result",
          "data": {
            "text/plain": [
              "0    David\n",
              "1     Mary\n",
              "Name: 名字, dtype: object"
            ]
          },
          "metadata": {
            "tags": []
          },
          "execution_count": 195
        }
      ]
    },
    {
      "cell_type": "code",
      "metadata": {
        "id": "e69FjTHGkgXm",
        "colab_type": "code",
        "colab": {
          "base_uri": "https://localhost:8080/",
          "height": 69
        },
        "outputId": "261af01f-6b85-4cbb-f5c6-3b3d81889d4c"
      },
      "source": [
        "df.loc[df['投資報酬率'] > 0, '名字']"
      ],
      "execution_count": 196,
      "outputs": [
        {
          "output_type": "execute_result",
          "data": {
            "text/plain": [
              "0    David\n",
              "1     Mary\n",
              "Name: 名字, dtype: object"
            ]
          },
          "metadata": {
            "tags": []
          },
          "execution_count": 196
        }
      ]
    },
    {
      "cell_type": "markdown",
      "metadata": {
        "id": "JA7gK0-Yla0F",
        "colab_type": "text"
      },
      "source": [
        "##處理缺失值"
      ]
    },
    {
      "cell_type": "code",
      "metadata": {
        "id": "t2NasAhvkkCu",
        "colab_type": "code",
        "colab": {
          "base_uri": "https://localhost:8080/",
          "height": 233
        },
        "outputId": "f6c00130-5789-45b3-c0f5-1cc906512e9f"
      },
      "source": [
        "import pandas as pd\n",
        "import numpy as np\n",
        "df = pd.DataFrame([\n",
        "['frank', 'M', np.nan], \n",
        "['mary', np.nan, np.nan], \n",
        "['tom' , 'M', 35], \n",
        "['ted' , 'M', 33], \n",
        "['jean' , np.nan, 21], \n",
        "['lisa', 'F', 20]])\n",
        "df.columns = ['name', 'gender', 'age']\n",
        "df"
      ],
      "execution_count": 197,
      "outputs": [
        {
          "output_type": "execute_result",
          "data": {
            "text/html": [
              "<div>\n",
              "<style scoped>\n",
              "    .dataframe tbody tr th:only-of-type {\n",
              "        vertical-align: middle;\n",
              "    }\n",
              "\n",
              "    .dataframe tbody tr th {\n",
              "        vertical-align: top;\n",
              "    }\n",
              "\n",
              "    .dataframe thead th {\n",
              "        text-align: right;\n",
              "    }\n",
              "</style>\n",
              "<table border=\"1\" class=\"dataframe\">\n",
              "  <thead>\n",
              "    <tr style=\"text-align: right;\">\n",
              "      <th></th>\n",
              "      <th>name</th>\n",
              "      <th>gender</th>\n",
              "      <th>age</th>\n",
              "    </tr>\n",
              "  </thead>\n",
              "  <tbody>\n",
              "    <tr>\n",
              "      <th>0</th>\n",
              "      <td>frank</td>\n",
              "      <td>M</td>\n",
              "      <td>NaN</td>\n",
              "    </tr>\n",
              "    <tr>\n",
              "      <th>1</th>\n",
              "      <td>mary</td>\n",
              "      <td>NaN</td>\n",
              "      <td>NaN</td>\n",
              "    </tr>\n",
              "    <tr>\n",
              "      <th>2</th>\n",
              "      <td>tom</td>\n",
              "      <td>M</td>\n",
              "      <td>35.0</td>\n",
              "    </tr>\n",
              "    <tr>\n",
              "      <th>3</th>\n",
              "      <td>ted</td>\n",
              "      <td>M</td>\n",
              "      <td>33.0</td>\n",
              "    </tr>\n",
              "    <tr>\n",
              "      <th>4</th>\n",
              "      <td>jean</td>\n",
              "      <td>NaN</td>\n",
              "      <td>21.0</td>\n",
              "    </tr>\n",
              "    <tr>\n",
              "      <th>5</th>\n",
              "      <td>lisa</td>\n",
              "      <td>F</td>\n",
              "      <td>20.0</td>\n",
              "    </tr>\n",
              "  </tbody>\n",
              "</table>\n",
              "</div>"
            ],
            "text/plain": [
              "    name gender   age\n",
              "0  frank      M   NaN\n",
              "1   mary    NaN   NaN\n",
              "2    tom      M  35.0\n",
              "3    ted      M  33.0\n",
              "4   jean    NaN  21.0\n",
              "5   lisa      F  20.0"
            ]
          },
          "metadata": {
            "tags": []
          },
          "execution_count": 197
        }
      ]
    },
    {
      "cell_type": "code",
      "metadata": {
        "id": "UoX255xnlhhe",
        "colab_type": "code",
        "colab": {
          "base_uri": "https://localhost:8080/",
          "height": 139
        },
        "outputId": "8f2f4b40-d2d7-4e37-d96f-819819ea334b"
      },
      "source": [
        "df['gender'].notnull()"
      ],
      "execution_count": 198,
      "outputs": [
        {
          "output_type": "execute_result",
          "data": {
            "text/plain": [
              "0     True\n",
              "1    False\n",
              "2     True\n",
              "3     True\n",
              "4    False\n",
              "5     True\n",
              "Name: gender, dtype: bool"
            ]
          },
          "metadata": {
            "tags": []
          },
          "execution_count": 198
        }
      ]
    },
    {
      "cell_type": "code",
      "metadata": {
        "id": "-1DeOu2-lv4m",
        "colab_type": "code",
        "colab": {
          "base_uri": "https://localhost:8080/",
          "height": 139
        },
        "outputId": "19997cbe-f1ab-49e1-925c-b6f717b9e967"
      },
      "source": [
        "df['gender'].isnull()"
      ],
      "execution_count": 199,
      "outputs": [
        {
          "output_type": "execute_result",
          "data": {
            "text/plain": [
              "0    False\n",
              "1     True\n",
              "2    False\n",
              "3    False\n",
              "4     True\n",
              "5    False\n",
              "Name: gender, dtype: bool"
            ]
          },
          "metadata": {
            "tags": []
          },
          "execution_count": 199
        }
      ]
    },
    {
      "cell_type": "code",
      "metadata": {
        "id": "gydiE36olzic",
        "colab_type": "code",
        "colab": {
          "base_uri": "https://localhost:8080/",
          "height": 35
        },
        "outputId": "48a82098-1248-4acf-8f79-d9af8efc4e1a"
      },
      "source": [
        "df['name'].isnull().values"
      ],
      "execution_count": 200,
      "outputs": [
        {
          "output_type": "execute_result",
          "data": {
            "text/plain": [
              "array([False, False, False, False, False, False])"
            ]
          },
          "metadata": {
            "tags": []
          },
          "execution_count": 200
        }
      ]
    },
    {
      "cell_type": "code",
      "metadata": {
        "id": "5KQw3V_rl7tg",
        "colab_type": "code",
        "colab": {
          "base_uri": "https://localhost:8080/",
          "height": 35
        },
        "outputId": "d6064f0e-00e5-44e0-d0d6-3adf85fab26d"
      },
      "source": [
        "df['name'].isnull().values.any()"
      ],
      "execution_count": 201,
      "outputs": [
        {
          "output_type": "execute_result",
          "data": {
            "text/plain": [
              "False"
            ]
          },
          "metadata": {
            "tags": []
          },
          "execution_count": 201
        }
      ]
    },
    {
      "cell_type": "code",
      "metadata": {
        "id": "wmsSMNp4l_dG",
        "colab_type": "code",
        "colab": {
          "base_uri": "https://localhost:8080/",
          "height": 35
        },
        "outputId": "0fa6a92f-52b2-4360-b2d9-81810f18a608"
      },
      "source": [
        "df.isnull().values.any()"
      ],
      "execution_count": 202,
      "outputs": [
        {
          "output_type": "execute_result",
          "data": {
            "text/plain": [
              "True"
            ]
          },
          "metadata": {
            "tags": []
          },
          "execution_count": 202
        }
      ]
    },
    {
      "cell_type": "code",
      "metadata": {
        "id": "VAKtAZ2hmEBi",
        "colab_type": "code",
        "colab": {
          "base_uri": "https://localhost:8080/",
          "height": 87
        },
        "outputId": "0f65b550-8994-4171-b7ca-5c4f409eb91e"
      },
      "source": [
        "df.isnull().sum()"
      ],
      "execution_count": 204,
      "outputs": [
        {
          "output_type": "execute_result",
          "data": {
            "text/plain": [
              "name      0\n",
              "gender    2\n",
              "age       2\n",
              "dtype: int64"
            ]
          },
          "metadata": {
            "tags": []
          },
          "execution_count": 204
        }
      ]
    },
    {
      "cell_type": "code",
      "metadata": {
        "id": "zsDpx0QxmJZa",
        "colab_type": "code",
        "colab": {
          "base_uri": "https://localhost:8080/",
          "height": 35
        },
        "outputId": "71a0c685-965d-4a44-e913-017d0df0c2e9"
      },
      "source": [
        "df.isnull().sum().sum()"
      ],
      "execution_count": 205,
      "outputs": [
        {
          "output_type": "execute_result",
          "data": {
            "text/plain": [
              "4"
            ]
          },
          "metadata": {
            "tags": []
          },
          "execution_count": 205
        }
      ]
    },
    {
      "cell_type": "code",
      "metadata": {
        "id": "Z0jr2B4_mTxu",
        "colab_type": "code",
        "colab": {
          "base_uri": "https://localhost:8080/",
          "height": 141
        },
        "outputId": "ce29504f-1267-4a0f-cd68-e24c791d4052"
      },
      "source": [
        "df.dropna()"
      ],
      "execution_count": 206,
      "outputs": [
        {
          "output_type": "execute_result",
          "data": {
            "text/html": [
              "<div>\n",
              "<style scoped>\n",
              "    .dataframe tbody tr th:only-of-type {\n",
              "        vertical-align: middle;\n",
              "    }\n",
              "\n",
              "    .dataframe tbody tr th {\n",
              "        vertical-align: top;\n",
              "    }\n",
              "\n",
              "    .dataframe thead th {\n",
              "        text-align: right;\n",
              "    }\n",
              "</style>\n",
              "<table border=\"1\" class=\"dataframe\">\n",
              "  <thead>\n",
              "    <tr style=\"text-align: right;\">\n",
              "      <th></th>\n",
              "      <th>name</th>\n",
              "      <th>gender</th>\n",
              "      <th>age</th>\n",
              "    </tr>\n",
              "  </thead>\n",
              "  <tbody>\n",
              "    <tr>\n",
              "      <th>2</th>\n",
              "      <td>tom</td>\n",
              "      <td>M</td>\n",
              "      <td>35.0</td>\n",
              "    </tr>\n",
              "    <tr>\n",
              "      <th>3</th>\n",
              "      <td>ted</td>\n",
              "      <td>M</td>\n",
              "      <td>33.0</td>\n",
              "    </tr>\n",
              "    <tr>\n",
              "      <th>5</th>\n",
              "      <td>lisa</td>\n",
              "      <td>F</td>\n",
              "      <td>20.0</td>\n",
              "    </tr>\n",
              "  </tbody>\n",
              "</table>\n",
              "</div>"
            ],
            "text/plain": [
              "   name gender   age\n",
              "2   tom      M  35.0\n",
              "3   ted      M  33.0\n",
              "5  lisa      F  20.0"
            ]
          },
          "metadata": {
            "tags": []
          },
          "execution_count": 206
        }
      ]
    },
    {
      "cell_type": "code",
      "metadata": {
        "id": "J2KH116Ongm2",
        "colab_type": "code",
        "colab": {
          "base_uri": "https://localhost:8080/",
          "height": 233
        },
        "outputId": "22c1e6a2-f5dd-4ed3-c0b4-acd43d205146"
      },
      "source": [
        "df.dropna(how= 'all')"
      ],
      "execution_count": 207,
      "outputs": [
        {
          "output_type": "execute_result",
          "data": {
            "text/html": [
              "<div>\n",
              "<style scoped>\n",
              "    .dataframe tbody tr th:only-of-type {\n",
              "        vertical-align: middle;\n",
              "    }\n",
              "\n",
              "    .dataframe tbody tr th {\n",
              "        vertical-align: top;\n",
              "    }\n",
              "\n",
              "    .dataframe thead th {\n",
              "        text-align: right;\n",
              "    }\n",
              "</style>\n",
              "<table border=\"1\" class=\"dataframe\">\n",
              "  <thead>\n",
              "    <tr style=\"text-align: right;\">\n",
              "      <th></th>\n",
              "      <th>name</th>\n",
              "      <th>gender</th>\n",
              "      <th>age</th>\n",
              "    </tr>\n",
              "  </thead>\n",
              "  <tbody>\n",
              "    <tr>\n",
              "      <th>0</th>\n",
              "      <td>frank</td>\n",
              "      <td>M</td>\n",
              "      <td>NaN</td>\n",
              "    </tr>\n",
              "    <tr>\n",
              "      <th>1</th>\n",
              "      <td>mary</td>\n",
              "      <td>NaN</td>\n",
              "      <td>NaN</td>\n",
              "    </tr>\n",
              "    <tr>\n",
              "      <th>2</th>\n",
              "      <td>tom</td>\n",
              "      <td>M</td>\n",
              "      <td>35.0</td>\n",
              "    </tr>\n",
              "    <tr>\n",
              "      <th>3</th>\n",
              "      <td>ted</td>\n",
              "      <td>M</td>\n",
              "      <td>33.0</td>\n",
              "    </tr>\n",
              "    <tr>\n",
              "      <th>4</th>\n",
              "      <td>jean</td>\n",
              "      <td>NaN</td>\n",
              "      <td>21.0</td>\n",
              "    </tr>\n",
              "    <tr>\n",
              "      <th>5</th>\n",
              "      <td>lisa</td>\n",
              "      <td>F</td>\n",
              "      <td>20.0</td>\n",
              "    </tr>\n",
              "  </tbody>\n",
              "</table>\n",
              "</div>"
            ],
            "text/plain": [
              "    name gender   age\n",
              "0  frank      M   NaN\n",
              "1   mary    NaN   NaN\n",
              "2    tom      M  35.0\n",
              "3    ted      M  33.0\n",
              "4   jean    NaN  21.0\n",
              "5   lisa      F  20.0"
            ]
          },
          "metadata": {
            "tags": []
          },
          "execution_count": 207
        }
      ]
    },
    {
      "cell_type": "code",
      "metadata": {
        "id": "uRFMsxXVnrYf",
        "colab_type": "code",
        "colab": {
          "base_uri": "https://localhost:8080/",
          "height": 202
        },
        "outputId": "eef06d21-51b8-43c2-855b-e0c0713e5fe6"
      },
      "source": [
        "df.dropna(thresh=2)"
      ],
      "execution_count": 208,
      "outputs": [
        {
          "output_type": "execute_result",
          "data": {
            "text/html": [
              "<div>\n",
              "<style scoped>\n",
              "    .dataframe tbody tr th:only-of-type {\n",
              "        vertical-align: middle;\n",
              "    }\n",
              "\n",
              "    .dataframe tbody tr th {\n",
              "        vertical-align: top;\n",
              "    }\n",
              "\n",
              "    .dataframe thead th {\n",
              "        text-align: right;\n",
              "    }\n",
              "</style>\n",
              "<table border=\"1\" class=\"dataframe\">\n",
              "  <thead>\n",
              "    <tr style=\"text-align: right;\">\n",
              "      <th></th>\n",
              "      <th>name</th>\n",
              "      <th>gender</th>\n",
              "      <th>age</th>\n",
              "    </tr>\n",
              "  </thead>\n",
              "  <tbody>\n",
              "    <tr>\n",
              "      <th>0</th>\n",
              "      <td>frank</td>\n",
              "      <td>M</td>\n",
              "      <td>NaN</td>\n",
              "    </tr>\n",
              "    <tr>\n",
              "      <th>2</th>\n",
              "      <td>tom</td>\n",
              "      <td>M</td>\n",
              "      <td>35.0</td>\n",
              "    </tr>\n",
              "    <tr>\n",
              "      <th>3</th>\n",
              "      <td>ted</td>\n",
              "      <td>M</td>\n",
              "      <td>33.0</td>\n",
              "    </tr>\n",
              "    <tr>\n",
              "      <th>4</th>\n",
              "      <td>jean</td>\n",
              "      <td>NaN</td>\n",
              "      <td>21.0</td>\n",
              "    </tr>\n",
              "    <tr>\n",
              "      <th>5</th>\n",
              "      <td>lisa</td>\n",
              "      <td>F</td>\n",
              "      <td>20.0</td>\n",
              "    </tr>\n",
              "  </tbody>\n",
              "</table>\n",
              "</div>"
            ],
            "text/plain": [
              "    name gender   age\n",
              "0  frank      M   NaN\n",
              "2    tom      M  35.0\n",
              "3    ted      M  33.0\n",
              "4   jean    NaN  21.0\n",
              "5   lisa      F  20.0"
            ]
          },
          "metadata": {
            "tags": []
          },
          "execution_count": 208
        }
      ]
    },
    {
      "cell_type": "code",
      "metadata": {
        "id": "qnDeNUzCnuVZ",
        "colab_type": "code",
        "colab": {}
      },
      "source": [
        "df['employee'] = np.nan"
      ],
      "execution_count": 0,
      "outputs": []
    },
    {
      "cell_type": "code",
      "metadata": {
        "id": "Pjq4JSSjnypt",
        "colab_type": "code",
        "colab": {
          "base_uri": "https://localhost:8080/",
          "height": 233
        },
        "outputId": "6c9e8e67-69e5-4b71-b7aa-49aab60435e8"
      },
      "source": [
        "df"
      ],
      "execution_count": 210,
      "outputs": [
        {
          "output_type": "execute_result",
          "data": {
            "text/html": [
              "<div>\n",
              "<style scoped>\n",
              "    .dataframe tbody tr th:only-of-type {\n",
              "        vertical-align: middle;\n",
              "    }\n",
              "\n",
              "    .dataframe tbody tr th {\n",
              "        vertical-align: top;\n",
              "    }\n",
              "\n",
              "    .dataframe thead th {\n",
              "        text-align: right;\n",
              "    }\n",
              "</style>\n",
              "<table border=\"1\" class=\"dataframe\">\n",
              "  <thead>\n",
              "    <tr style=\"text-align: right;\">\n",
              "      <th></th>\n",
              "      <th>name</th>\n",
              "      <th>gender</th>\n",
              "      <th>age</th>\n",
              "      <th>employee</th>\n",
              "    </tr>\n",
              "  </thead>\n",
              "  <tbody>\n",
              "    <tr>\n",
              "      <th>0</th>\n",
              "      <td>frank</td>\n",
              "      <td>M</td>\n",
              "      <td>NaN</td>\n",
              "      <td>NaN</td>\n",
              "    </tr>\n",
              "    <tr>\n",
              "      <th>1</th>\n",
              "      <td>mary</td>\n",
              "      <td>NaN</td>\n",
              "      <td>NaN</td>\n",
              "      <td>NaN</td>\n",
              "    </tr>\n",
              "    <tr>\n",
              "      <th>2</th>\n",
              "      <td>tom</td>\n",
              "      <td>M</td>\n",
              "      <td>35.0</td>\n",
              "      <td>NaN</td>\n",
              "    </tr>\n",
              "    <tr>\n",
              "      <th>3</th>\n",
              "      <td>ted</td>\n",
              "      <td>M</td>\n",
              "      <td>33.0</td>\n",
              "      <td>NaN</td>\n",
              "    </tr>\n",
              "    <tr>\n",
              "      <th>4</th>\n",
              "      <td>jean</td>\n",
              "      <td>NaN</td>\n",
              "      <td>21.0</td>\n",
              "      <td>NaN</td>\n",
              "    </tr>\n",
              "    <tr>\n",
              "      <th>5</th>\n",
              "      <td>lisa</td>\n",
              "      <td>F</td>\n",
              "      <td>20.0</td>\n",
              "      <td>NaN</td>\n",
              "    </tr>\n",
              "  </tbody>\n",
              "</table>\n",
              "</div>"
            ],
            "text/plain": [
              "    name gender   age  employee\n",
              "0  frank      M   NaN       NaN\n",
              "1   mary    NaN   NaN       NaN\n",
              "2    tom      M  35.0       NaN\n",
              "3    ted      M  33.0       NaN\n",
              "4   jean    NaN  21.0       NaN\n",
              "5   lisa      F  20.0       NaN"
            ]
          },
          "metadata": {
            "tags": []
          },
          "execution_count": 210
        }
      ]
    },
    {
      "cell_type": "code",
      "metadata": {
        "id": "x45x-M2Wn0vy",
        "colab_type": "code",
        "colab": {}
      },
      "source": [
        "df.dropna(axis = 1, how='all', inplace=True)"
      ],
      "execution_count": 0,
      "outputs": []
    },
    {
      "cell_type": "code",
      "metadata": {
        "id": "axXMllvDn40B",
        "colab_type": "code",
        "colab": {
          "base_uri": "https://localhost:8080/",
          "height": 233
        },
        "outputId": "9408850e-7c5e-44d8-a808-88592b404866"
      },
      "source": [
        "df"
      ],
      "execution_count": 214,
      "outputs": [
        {
          "output_type": "execute_result",
          "data": {
            "text/html": [
              "<div>\n",
              "<style scoped>\n",
              "    .dataframe tbody tr th:only-of-type {\n",
              "        vertical-align: middle;\n",
              "    }\n",
              "\n",
              "    .dataframe tbody tr th {\n",
              "        vertical-align: top;\n",
              "    }\n",
              "\n",
              "    .dataframe thead th {\n",
              "        text-align: right;\n",
              "    }\n",
              "</style>\n",
              "<table border=\"1\" class=\"dataframe\">\n",
              "  <thead>\n",
              "    <tr style=\"text-align: right;\">\n",
              "      <th></th>\n",
              "      <th>name</th>\n",
              "      <th>gender</th>\n",
              "      <th>age</th>\n",
              "    </tr>\n",
              "  </thead>\n",
              "  <tbody>\n",
              "    <tr>\n",
              "      <th>0</th>\n",
              "      <td>frank</td>\n",
              "      <td>M</td>\n",
              "      <td>NaN</td>\n",
              "    </tr>\n",
              "    <tr>\n",
              "      <th>1</th>\n",
              "      <td>mary</td>\n",
              "      <td>NaN</td>\n",
              "      <td>NaN</td>\n",
              "    </tr>\n",
              "    <tr>\n",
              "      <th>2</th>\n",
              "      <td>tom</td>\n",
              "      <td>M</td>\n",
              "      <td>35.0</td>\n",
              "    </tr>\n",
              "    <tr>\n",
              "      <th>3</th>\n",
              "      <td>ted</td>\n",
              "      <td>M</td>\n",
              "      <td>33.0</td>\n",
              "    </tr>\n",
              "    <tr>\n",
              "      <th>4</th>\n",
              "      <td>jean</td>\n",
              "      <td>NaN</td>\n",
              "      <td>21.0</td>\n",
              "    </tr>\n",
              "    <tr>\n",
              "      <th>5</th>\n",
              "      <td>lisa</td>\n",
              "      <td>F</td>\n",
              "      <td>20.0</td>\n",
              "    </tr>\n",
              "  </tbody>\n",
              "</table>\n",
              "</div>"
            ],
            "text/plain": [
              "    name gender   age\n",
              "0  frank      M   NaN\n",
              "1   mary    NaN   NaN\n",
              "2    tom      M  35.0\n",
              "3    ted      M  33.0\n",
              "4   jean    NaN  21.0\n",
              "5   lisa      F  20.0"
            ]
          },
          "metadata": {
            "tags": []
          },
          "execution_count": 214
        }
      ]
    },
    {
      "cell_type": "code",
      "metadata": {
        "id": "f0bKPc0un9hv",
        "colab_type": "code",
        "colab": {
          "base_uri": "https://localhost:8080/",
          "height": 233
        },
        "outputId": "3a51be5e-94d4-4ada-f93f-48a5e993172a"
      },
      "source": [
        "df.fillna(0)"
      ],
      "execution_count": 215,
      "outputs": [
        {
          "output_type": "execute_result",
          "data": {
            "text/html": [
              "<div>\n",
              "<style scoped>\n",
              "    .dataframe tbody tr th:only-of-type {\n",
              "        vertical-align: middle;\n",
              "    }\n",
              "\n",
              "    .dataframe tbody tr th {\n",
              "        vertical-align: top;\n",
              "    }\n",
              "\n",
              "    .dataframe thead th {\n",
              "        text-align: right;\n",
              "    }\n",
              "</style>\n",
              "<table border=\"1\" class=\"dataframe\">\n",
              "  <thead>\n",
              "    <tr style=\"text-align: right;\">\n",
              "      <th></th>\n",
              "      <th>name</th>\n",
              "      <th>gender</th>\n",
              "      <th>age</th>\n",
              "    </tr>\n",
              "  </thead>\n",
              "  <tbody>\n",
              "    <tr>\n",
              "      <th>0</th>\n",
              "      <td>frank</td>\n",
              "      <td>M</td>\n",
              "      <td>0.0</td>\n",
              "    </tr>\n",
              "    <tr>\n",
              "      <th>1</th>\n",
              "      <td>mary</td>\n",
              "      <td>0</td>\n",
              "      <td>0.0</td>\n",
              "    </tr>\n",
              "    <tr>\n",
              "      <th>2</th>\n",
              "      <td>tom</td>\n",
              "      <td>M</td>\n",
              "      <td>35.0</td>\n",
              "    </tr>\n",
              "    <tr>\n",
              "      <th>3</th>\n",
              "      <td>ted</td>\n",
              "      <td>M</td>\n",
              "      <td>33.0</td>\n",
              "    </tr>\n",
              "    <tr>\n",
              "      <th>4</th>\n",
              "      <td>jean</td>\n",
              "      <td>0</td>\n",
              "      <td>21.0</td>\n",
              "    </tr>\n",
              "    <tr>\n",
              "      <th>5</th>\n",
              "      <td>lisa</td>\n",
              "      <td>F</td>\n",
              "      <td>20.0</td>\n",
              "    </tr>\n",
              "  </tbody>\n",
              "</table>\n",
              "</div>"
            ],
            "text/plain": [
              "    name gender   age\n",
              "0  frank      M   0.0\n",
              "1   mary      0   0.0\n",
              "2    tom      M  35.0\n",
              "3    ted      M  33.0\n",
              "4   jean      0  21.0\n",
              "5   lisa      F  20.0"
            ]
          },
          "metadata": {
            "tags": []
          },
          "execution_count": 215
        }
      ]
    },
    {
      "cell_type": "code",
      "metadata": {
        "id": "R7Cxk_scoGdG",
        "colab_type": "code",
        "colab": {
          "base_uri": "https://localhost:8080/",
          "height": 35
        },
        "outputId": "e384105f-927b-42aa-e0a6-a3a8a4dfd47c"
      },
      "source": [
        "df[\"age\"].mean()"
      ],
      "execution_count": 216,
      "outputs": [
        {
          "output_type": "execute_result",
          "data": {
            "text/plain": [
              "27.25"
            ]
          },
          "metadata": {
            "tags": []
          },
          "execution_count": 216
        }
      ]
    },
    {
      "cell_type": "code",
      "metadata": {
        "id": "efUizx-yoLms",
        "colab_type": "code",
        "colab": {
          "base_uri": "https://localhost:8080/",
          "height": 139
        },
        "outputId": "2a32fcee-67bb-4110-a2d1-0c7a24615880"
      },
      "source": [
        "df['age'].fillna(df[\"age\"].mean())"
      ],
      "execution_count": 217,
      "outputs": [
        {
          "output_type": "execute_result",
          "data": {
            "text/plain": [
              "0    27.25\n",
              "1    27.25\n",
              "2    35.00\n",
              "3    33.00\n",
              "4    21.00\n",
              "5    20.00\n",
              "Name: age, dtype: float64"
            ]
          },
          "metadata": {
            "tags": []
          },
          "execution_count": 217
        }
      ]
    },
    {
      "cell_type": "code",
      "metadata": {
        "id": "Z4No5qxhobh4",
        "colab_type": "code",
        "colab": {
          "base_uri": "https://localhost:8080/",
          "height": 87
        },
        "outputId": "e556f157-3cd3-432b-ce8e-f2beac036693"
      },
      "source": [
        "df.groupby(\"gender\")[\"age\"].mean()"
      ],
      "execution_count": 220,
      "outputs": [
        {
          "output_type": "execute_result",
          "data": {
            "text/plain": [
              "gender\n",
              "F    20.0\n",
              "M    34.0\n",
              "Name: age, dtype: float64"
            ]
          },
          "metadata": {
            "tags": []
          },
          "execution_count": 220
        }
      ]
    },
    {
      "cell_type": "code",
      "metadata": {
        "id": "ARfDFHbdoNlZ",
        "colab_type": "code",
        "colab": {
          "base_uri": "https://localhost:8080/",
          "height": 139
        },
        "outputId": "461725b1-b5c9-465f-a0e0-26a7b8059709"
      },
      "source": [
        "df.groupby(\"gender\")[\"age\"].transform(\"mean\")"
      ],
      "execution_count": 221,
      "outputs": [
        {
          "output_type": "execute_result",
          "data": {
            "text/plain": [
              "0    34.0\n",
              "1     NaN\n",
              "2    34.0\n",
              "3    34.0\n",
              "4     NaN\n",
              "5    20.0\n",
              "Name: age, dtype: float64"
            ]
          },
          "metadata": {
            "tags": []
          },
          "execution_count": 221
        }
      ]
    },
    {
      "cell_type": "code",
      "metadata": {
        "id": "6erBBvnWoTCu",
        "colab_type": "code",
        "colab": {
          "base_uri": "https://localhost:8080/",
          "height": 139
        },
        "outputId": "2de92f9c-23eb-4d31-f10c-a44f8e1b7b47"
      },
      "source": [
        "df['age'].fillna(df.groupby(\"gender\")[\"age\"].transform(\"mean\"))\n"
      ],
      "execution_count": 222,
      "outputs": [
        {
          "output_type": "execute_result",
          "data": {
            "text/plain": [
              "0    34.0\n",
              "1     NaN\n",
              "2    35.0\n",
              "3    33.0\n",
              "4    21.0\n",
              "5    20.0\n",
              "Name: age, dtype: float64"
            ]
          },
          "metadata": {
            "tags": []
          },
          "execution_count": 222
        }
      ]
    },
    {
      "cell_type": "code",
      "metadata": {
        "id": "zq7SoqkuomXd",
        "colab_type": "code",
        "colab": {
          "base_uri": "https://localhost:8080/",
          "height": 233
        },
        "outputId": "fb30bd26-6f59-4769-8828-72915363424f"
      },
      "source": [
        "df.fillna(method='pad')"
      ],
      "execution_count": 223,
      "outputs": [
        {
          "output_type": "execute_result",
          "data": {
            "text/html": [
              "<div>\n",
              "<style scoped>\n",
              "    .dataframe tbody tr th:only-of-type {\n",
              "        vertical-align: middle;\n",
              "    }\n",
              "\n",
              "    .dataframe tbody tr th {\n",
              "        vertical-align: top;\n",
              "    }\n",
              "\n",
              "    .dataframe thead th {\n",
              "        text-align: right;\n",
              "    }\n",
              "</style>\n",
              "<table border=\"1\" class=\"dataframe\">\n",
              "  <thead>\n",
              "    <tr style=\"text-align: right;\">\n",
              "      <th></th>\n",
              "      <th>name</th>\n",
              "      <th>gender</th>\n",
              "      <th>age</th>\n",
              "    </tr>\n",
              "  </thead>\n",
              "  <tbody>\n",
              "    <tr>\n",
              "      <th>0</th>\n",
              "      <td>frank</td>\n",
              "      <td>M</td>\n",
              "      <td>NaN</td>\n",
              "    </tr>\n",
              "    <tr>\n",
              "      <th>1</th>\n",
              "      <td>mary</td>\n",
              "      <td>M</td>\n",
              "      <td>NaN</td>\n",
              "    </tr>\n",
              "    <tr>\n",
              "      <th>2</th>\n",
              "      <td>tom</td>\n",
              "      <td>M</td>\n",
              "      <td>35.0</td>\n",
              "    </tr>\n",
              "    <tr>\n",
              "      <th>3</th>\n",
              "      <td>ted</td>\n",
              "      <td>M</td>\n",
              "      <td>33.0</td>\n",
              "    </tr>\n",
              "    <tr>\n",
              "      <th>4</th>\n",
              "      <td>jean</td>\n",
              "      <td>M</td>\n",
              "      <td>21.0</td>\n",
              "    </tr>\n",
              "    <tr>\n",
              "      <th>5</th>\n",
              "      <td>lisa</td>\n",
              "      <td>F</td>\n",
              "      <td>20.0</td>\n",
              "    </tr>\n",
              "  </tbody>\n",
              "</table>\n",
              "</div>"
            ],
            "text/plain": [
              "    name gender   age\n",
              "0  frank      M   NaN\n",
              "1   mary      M   NaN\n",
              "2    tom      M  35.0\n",
              "3    ted      M  33.0\n",
              "4   jean      M  21.0\n",
              "5   lisa      F  20.0"
            ]
          },
          "metadata": {
            "tags": []
          },
          "execution_count": 223
        }
      ]
    },
    {
      "cell_type": "code",
      "metadata": {
        "id": "ut10rpLopSWc",
        "colab_type": "code",
        "colab": {
          "base_uri": "https://localhost:8080/",
          "height": 233
        },
        "outputId": "f214efbc-3f89-41c8-fc06-cc21e2446f93"
      },
      "source": [
        "df.fillna(method='bfill', limit=2)"
      ],
      "execution_count": 224,
      "outputs": [
        {
          "output_type": "execute_result",
          "data": {
            "text/html": [
              "<div>\n",
              "<style scoped>\n",
              "    .dataframe tbody tr th:only-of-type {\n",
              "        vertical-align: middle;\n",
              "    }\n",
              "\n",
              "    .dataframe tbody tr th {\n",
              "        vertical-align: top;\n",
              "    }\n",
              "\n",
              "    .dataframe thead th {\n",
              "        text-align: right;\n",
              "    }\n",
              "</style>\n",
              "<table border=\"1\" class=\"dataframe\">\n",
              "  <thead>\n",
              "    <tr style=\"text-align: right;\">\n",
              "      <th></th>\n",
              "      <th>name</th>\n",
              "      <th>gender</th>\n",
              "      <th>age</th>\n",
              "    </tr>\n",
              "  </thead>\n",
              "  <tbody>\n",
              "    <tr>\n",
              "      <th>0</th>\n",
              "      <td>frank</td>\n",
              "      <td>M</td>\n",
              "      <td>35.0</td>\n",
              "    </tr>\n",
              "    <tr>\n",
              "      <th>1</th>\n",
              "      <td>mary</td>\n",
              "      <td>M</td>\n",
              "      <td>35.0</td>\n",
              "    </tr>\n",
              "    <tr>\n",
              "      <th>2</th>\n",
              "      <td>tom</td>\n",
              "      <td>M</td>\n",
              "      <td>35.0</td>\n",
              "    </tr>\n",
              "    <tr>\n",
              "      <th>3</th>\n",
              "      <td>ted</td>\n",
              "      <td>M</td>\n",
              "      <td>33.0</td>\n",
              "    </tr>\n",
              "    <tr>\n",
              "      <th>4</th>\n",
              "      <td>jean</td>\n",
              "      <td>F</td>\n",
              "      <td>21.0</td>\n",
              "    </tr>\n",
              "    <tr>\n",
              "      <th>5</th>\n",
              "      <td>lisa</td>\n",
              "      <td>F</td>\n",
              "      <td>20.0</td>\n",
              "    </tr>\n",
              "  </tbody>\n",
              "</table>\n",
              "</div>"
            ],
            "text/plain": [
              "    name gender   age\n",
              "0  frank      M  35.0\n",
              "1   mary      M  35.0\n",
              "2    tom      M  35.0\n",
              "3    ted      M  33.0\n",
              "4   jean      F  21.0\n",
              "5   lisa      F  20.0"
            ]
          },
          "metadata": {
            "tags": []
          },
          "execution_count": 224
        }
      ]
    },
    {
      "cell_type": "code",
      "metadata": {
        "id": "OeaK3c3ZpesR",
        "colab_type": "code",
        "colab": {}
      },
      "source": [
        "df2 = pd.DataFrame([[1, 870],\\\n",
        "[2, 900],\n",
        "[np.nan, np.nan],\n",
        "[4, 950],\n",
        "[5,1080],\n",
        "[6,1200]])\n",
        "df2.columns = ['time','val']"
      ],
      "execution_count": 0,
      "outputs": []
    },
    {
      "cell_type": "code",
      "metadata": {
        "id": "hpJlDJawpp1c",
        "colab_type": "code",
        "colab": {
          "base_uri": "https://localhost:8080/",
          "height": 233
        },
        "outputId": "5c5aea57-c083-4b4c-e9de-89ec87e8c452"
      },
      "source": [
        "df2.interpolate()"
      ],
      "execution_count": 226,
      "outputs": [
        {
          "output_type": "execute_result",
          "data": {
            "text/html": [
              "<div>\n",
              "<style scoped>\n",
              "    .dataframe tbody tr th:only-of-type {\n",
              "        vertical-align: middle;\n",
              "    }\n",
              "\n",
              "    .dataframe tbody tr th {\n",
              "        vertical-align: top;\n",
              "    }\n",
              "\n",
              "    .dataframe thead th {\n",
              "        text-align: right;\n",
              "    }\n",
              "</style>\n",
              "<table border=\"1\" class=\"dataframe\">\n",
              "  <thead>\n",
              "    <tr style=\"text-align: right;\">\n",
              "      <th></th>\n",
              "      <th>time</th>\n",
              "      <th>val</th>\n",
              "    </tr>\n",
              "  </thead>\n",
              "  <tbody>\n",
              "    <tr>\n",
              "      <th>0</th>\n",
              "      <td>1.0</td>\n",
              "      <td>870.0</td>\n",
              "    </tr>\n",
              "    <tr>\n",
              "      <th>1</th>\n",
              "      <td>2.0</td>\n",
              "      <td>900.0</td>\n",
              "    </tr>\n",
              "    <tr>\n",
              "      <th>2</th>\n",
              "      <td>3.0</td>\n",
              "      <td>925.0</td>\n",
              "    </tr>\n",
              "    <tr>\n",
              "      <th>3</th>\n",
              "      <td>4.0</td>\n",
              "      <td>950.0</td>\n",
              "    </tr>\n",
              "    <tr>\n",
              "      <th>4</th>\n",
              "      <td>5.0</td>\n",
              "      <td>1080.0</td>\n",
              "    </tr>\n",
              "    <tr>\n",
              "      <th>5</th>\n",
              "      <td>6.0</td>\n",
              "      <td>1200.0</td>\n",
              "    </tr>\n",
              "  </tbody>\n",
              "</table>\n",
              "</div>"
            ],
            "text/plain": [
              "   time     val\n",
              "0   1.0   870.0\n",
              "1   2.0   900.0\n",
              "2   3.0   925.0\n",
              "3   4.0   950.0\n",
              "4   5.0  1080.0\n",
              "5   6.0  1200.0"
            ]
          },
          "metadata": {
            "tags": []
          },
          "execution_count": 226
        }
      ]
    },
    {
      "cell_type": "markdown",
      "metadata": {
        "id": "vL3pyqQMqBFb",
        "colab_type": "text"
      },
      "source": [
        "## 數據轉換"
      ]
    },
    {
      "cell_type": "code",
      "metadata": {
        "id": "sttYyy8Hprvo",
        "colab_type": "code",
        "colab": {
          "base_uri": "https://localhost:8080/",
          "height": 202
        },
        "outputId": "4f5e9acd-5e21-49d1-cce9-00b5d8a28480"
      },
      "source": [
        "import pandas as pd\n",
        "df = pd.read_csv('https://raw.githubusercontent.com/ywchiu/tibamepy/master/data/rent_591_sample.csv',index_col=0)\n",
        "df.head()"
      ],
      "execution_count": 231,
      "outputs": [
        {
          "output_type": "execute_result",
          "data": {
            "text/html": [
              "<div>\n",
              "<style scoped>\n",
              "    .dataframe tbody tr th:only-of-type {\n",
              "        vertical-align: middle;\n",
              "    }\n",
              "\n",
              "    .dataframe tbody tr th {\n",
              "        vertical-align: top;\n",
              "    }\n",
              "\n",
              "    .dataframe thead th {\n",
              "        text-align: right;\n",
              "    }\n",
              "</style>\n",
              "<table border=\"1\" class=\"dataframe\">\n",
              "  <thead>\n",
              "    <tr style=\"text-align: right;\">\n",
              "      <th></th>\n",
              "      <th>id</th>\n",
              "      <th>address</th>\n",
              "      <th>floor</th>\n",
              "      <th>allfloor</th>\n",
              "      <th>layout</th>\n",
              "      <th>area</th>\n",
              "      <th>price</th>\n",
              "      <th>browsenum_all</th>\n",
              "    </tr>\n",
              "  </thead>\n",
              "  <tbody>\n",
              "    <tr>\n",
              "      <th>0</th>\n",
              "      <td>6032971</td>\n",
              "      <td>永康街47巷永康街五樓頂加..</td>\n",
              "      <td>5</td>\n",
              "      <td>5</td>\n",
              "      <td>5房3廳3衛</td>\n",
              "      <td>46.8</td>\n",
              "      <td>60,000</td>\n",
              "      <td>751</td>\n",
              "    </tr>\n",
              "    <tr>\n",
              "      <th>1</th>\n",
              "      <td>6054083</td>\n",
              "      <td>仁愛路四段仁愛路樹海景觀..</td>\n",
              "      <td>7</td>\n",
              "      <td>12</td>\n",
              "      <td>4房2廳2衛</td>\n",
              "      <td>76.9</td>\n",
              "      <td>100,000</td>\n",
              "      <td>162</td>\n",
              "    </tr>\n",
              "    <tr>\n",
              "      <th>2</th>\n",
              "      <td>5957980</td>\n",
              "      <td>光復南路高樓層大巨蛋正對..</td>\n",
              "      <td>10</td>\n",
              "      <td>13</td>\n",
              "      <td>4房2廳2衛</td>\n",
              "      <td>71.3</td>\n",
              "      <td>150,000</td>\n",
              "      <td>2385</td>\n",
              "    </tr>\n",
              "    <tr>\n",
              "      <th>3</th>\n",
              "      <td>6043839</td>\n",
              "      <td>永康街23巷永康商圈..</td>\n",
              "      <td>3</td>\n",
              "      <td>4</td>\n",
              "      <td>2房1廳1衛</td>\n",
              "      <td>18.0</td>\n",
              "      <td>29,000</td>\n",
              "      <td>1323</td>\n",
              "    </tr>\n",
              "    <tr>\n",
              "      <th>4</th>\n",
              "      <td>5181793</td>\n",
              "      <td>雲和街師大*已收訂..</td>\n",
              "      <td>5</td>\n",
              "      <td>5</td>\n",
              "      <td>2房2廳1衛</td>\n",
              "      <td>28.0</td>\n",
              "      <td>31,800</td>\n",
              "      <td>2303</td>\n",
              "    </tr>\n",
              "  </tbody>\n",
              "</table>\n",
              "</div>"
            ],
            "text/plain": [
              "        id          address  floor  ...  area    price  browsenum_all\n",
              "0  6032971  永康街47巷永康街五樓頂加..      5  ...  46.8   60,000            751\n",
              "1  6054083   仁愛路四段仁愛路樹海景觀..      7  ...  76.9  100,000            162\n",
              "2  5957980   光復南路高樓層大巨蛋正對..     10  ...  71.3  150,000           2385\n",
              "3  6043839     永康街23巷永康商圈..      3  ...  18.0   29,000           1323\n",
              "4  5181793      雲和街師大*已收訂..      5  ...  28.0   31,800           2303\n",
              "\n",
              "[5 rows x 8 columns]"
            ]
          },
          "metadata": {
            "tags": []
          },
          "execution_count": 231
        }
      ]
    },
    {
      "cell_type": "code",
      "metadata": {
        "id": "CLdR_51pqKa8",
        "colab_type": "code",
        "colab": {}
      },
      "source": [
        "df['square_feet'] = df['area'] / 0.3025"
      ],
      "execution_count": 0,
      "outputs": []
    },
    {
      "cell_type": "code",
      "metadata": {
        "id": "ebP1WFYGqpdo",
        "colab_type": "code",
        "colab": {
          "base_uri": "https://localhost:8080/",
          "height": 289
        },
        "outputId": "ba84d26e-f209-4e31-9dc8-342c8d2ba757"
      },
      "source": [
        "df.head()"
      ],
      "execution_count": 235,
      "outputs": [
        {
          "output_type": "execute_result",
          "data": {
            "text/html": [
              "<div>\n",
              "<style scoped>\n",
              "    .dataframe tbody tr th:only-of-type {\n",
              "        vertical-align: middle;\n",
              "    }\n",
              "\n",
              "    .dataframe tbody tr th {\n",
              "        vertical-align: top;\n",
              "    }\n",
              "\n",
              "    .dataframe thead th {\n",
              "        text-align: right;\n",
              "    }\n",
              "</style>\n",
              "<table border=\"1\" class=\"dataframe\">\n",
              "  <thead>\n",
              "    <tr style=\"text-align: right;\">\n",
              "      <th></th>\n",
              "      <th>id</th>\n",
              "      <th>address</th>\n",
              "      <th>floor</th>\n",
              "      <th>allfloor</th>\n",
              "      <th>layout</th>\n",
              "      <th>area</th>\n",
              "      <th>price</th>\n",
              "      <th>browsenum_all</th>\n",
              "      <th>square_feet</th>\n",
              "    </tr>\n",
              "  </thead>\n",
              "  <tbody>\n",
              "    <tr>\n",
              "      <th>0</th>\n",
              "      <td>6032971</td>\n",
              "      <td>永康街47巷永康街五樓頂加..</td>\n",
              "      <td>5</td>\n",
              "      <td>5</td>\n",
              "      <td>5房3廳3衛</td>\n",
              "      <td>46.8</td>\n",
              "      <td>60,000</td>\n",
              "      <td>751</td>\n",
              "      <td>154.710744</td>\n",
              "    </tr>\n",
              "    <tr>\n",
              "      <th>1</th>\n",
              "      <td>6054083</td>\n",
              "      <td>仁愛路四段仁愛路樹海景觀..</td>\n",
              "      <td>7</td>\n",
              "      <td>12</td>\n",
              "      <td>4房2廳2衛</td>\n",
              "      <td>76.9</td>\n",
              "      <td>100,000</td>\n",
              "      <td>162</td>\n",
              "      <td>254.214876</td>\n",
              "    </tr>\n",
              "    <tr>\n",
              "      <th>2</th>\n",
              "      <td>5957980</td>\n",
              "      <td>光復南路高樓層大巨蛋正對..</td>\n",
              "      <td>10</td>\n",
              "      <td>13</td>\n",
              "      <td>4房2廳2衛</td>\n",
              "      <td>71.3</td>\n",
              "      <td>150,000</td>\n",
              "      <td>2385</td>\n",
              "      <td>235.702479</td>\n",
              "    </tr>\n",
              "    <tr>\n",
              "      <th>3</th>\n",
              "      <td>6043839</td>\n",
              "      <td>永康街23巷永康商圈..</td>\n",
              "      <td>3</td>\n",
              "      <td>4</td>\n",
              "      <td>2房1廳1衛</td>\n",
              "      <td>18.0</td>\n",
              "      <td>29,000</td>\n",
              "      <td>1323</td>\n",
              "      <td>59.504132</td>\n",
              "    </tr>\n",
              "    <tr>\n",
              "      <th>4</th>\n",
              "      <td>5181793</td>\n",
              "      <td>雲和街師大*已收訂..</td>\n",
              "      <td>5</td>\n",
              "      <td>5</td>\n",
              "      <td>2房2廳1衛</td>\n",
              "      <td>28.0</td>\n",
              "      <td>31,800</td>\n",
              "      <td>2303</td>\n",
              "      <td>92.561983</td>\n",
              "    </tr>\n",
              "  </tbody>\n",
              "</table>\n",
              "</div>"
            ],
            "text/plain": [
              "        id          address  floor  ...    price browsenum_all  square_feet\n",
              "0  6032971  永康街47巷永康街五樓頂加..      5  ...   60,000           751   154.710744\n",
              "1  6054083   仁愛路四段仁愛路樹海景觀..      7  ...  100,000           162   254.214876\n",
              "2  5957980   光復南路高樓層大巨蛋正對..     10  ...  150,000          2385   235.702479\n",
              "3  6043839     永康街23巷永康商圈..      3  ...   29,000          1323    59.504132\n",
              "4  5181793      雲和街師大*已收訂..      5  ...   31,800          2303    92.561983\n",
              "\n",
              "[5 rows x 9 columns]"
            ]
          },
          "metadata": {
            "tags": []
          },
          "execution_count": 235
        }
      ]
    },
    {
      "cell_type": "code",
      "metadata": {
        "id": "bGIAv6Rdq17N",
        "colab_type": "code",
        "colab": {
          "base_uri": "https://localhost:8080/",
          "height": 453
        },
        "outputId": "3350bcef-150e-45cd-87b4-9674d681d75a"
      },
      "source": [
        "df['price'] / df['area']"
      ],
      "execution_count": 236,
      "outputs": [
        {
          "output_type": "error",
          "ename": "TypeError",
          "evalue": "ignored",
          "traceback": [
            "\u001b[0;31m---------------------------------------------------------------------------\u001b[0m",
            "\u001b[0;31mTypeError\u001b[0m                                 Traceback (most recent call last)",
            "\u001b[0;32m/usr/local/lib/python3.6/dist-packages/pandas/core/ops/array_ops.py\u001b[0m in \u001b[0;36mna_arithmetic_op\u001b[0;34m(left, right, op, str_rep)\u001b[0m\n\u001b[1;32m    148\u001b[0m     \u001b[0;32mtry\u001b[0m\u001b[0;34m:\u001b[0m\u001b[0;34m\u001b[0m\u001b[0;34m\u001b[0m\u001b[0m\n\u001b[0;32m--> 149\u001b[0;31m         \u001b[0mresult\u001b[0m \u001b[0;34m=\u001b[0m \u001b[0mexpressions\u001b[0m\u001b[0;34m.\u001b[0m\u001b[0mevaluate\u001b[0m\u001b[0;34m(\u001b[0m\u001b[0mop\u001b[0m\u001b[0;34m,\u001b[0m \u001b[0mstr_rep\u001b[0m\u001b[0;34m,\u001b[0m \u001b[0mleft\u001b[0m\u001b[0;34m,\u001b[0m \u001b[0mright\u001b[0m\u001b[0;34m)\u001b[0m\u001b[0;34m\u001b[0m\u001b[0;34m\u001b[0m\u001b[0m\n\u001b[0m\u001b[1;32m    150\u001b[0m     \u001b[0;32mexcept\u001b[0m \u001b[0mTypeError\u001b[0m\u001b[0;34m:\u001b[0m\u001b[0;34m\u001b[0m\u001b[0;34m\u001b[0m\u001b[0m\n",
            "\u001b[0;32m/usr/local/lib/python3.6/dist-packages/pandas/core/computation/expressions.py\u001b[0m in \u001b[0;36mevaluate\u001b[0;34m(op, op_str, a, b, use_numexpr)\u001b[0m\n\u001b[1;32m    207\u001b[0m     \u001b[0;32mif\u001b[0m \u001b[0muse_numexpr\u001b[0m\u001b[0;34m:\u001b[0m\u001b[0;34m\u001b[0m\u001b[0;34m\u001b[0m\u001b[0m\n\u001b[0;32m--> 208\u001b[0;31m         \u001b[0;32mreturn\u001b[0m \u001b[0m_evaluate\u001b[0m\u001b[0;34m(\u001b[0m\u001b[0mop\u001b[0m\u001b[0;34m,\u001b[0m \u001b[0mop_str\u001b[0m\u001b[0;34m,\u001b[0m \u001b[0ma\u001b[0m\u001b[0;34m,\u001b[0m \u001b[0mb\u001b[0m\u001b[0;34m)\u001b[0m\u001b[0;34m\u001b[0m\u001b[0;34m\u001b[0m\u001b[0m\n\u001b[0m\u001b[1;32m    209\u001b[0m     \u001b[0;32mreturn\u001b[0m \u001b[0m_evaluate_standard\u001b[0m\u001b[0;34m(\u001b[0m\u001b[0mop\u001b[0m\u001b[0;34m,\u001b[0m \u001b[0mop_str\u001b[0m\u001b[0;34m,\u001b[0m \u001b[0ma\u001b[0m\u001b[0;34m,\u001b[0m \u001b[0mb\u001b[0m\u001b[0;34m)\u001b[0m\u001b[0;34m\u001b[0m\u001b[0;34m\u001b[0m\u001b[0m\n",
            "\u001b[0;32m/usr/local/lib/python3.6/dist-packages/pandas/core/computation/expressions.py\u001b[0m in \u001b[0;36m_evaluate_numexpr\u001b[0;34m(op, op_str, a, b)\u001b[0m\n\u001b[1;32m    120\u001b[0m     \u001b[0;32mif\u001b[0m \u001b[0mresult\u001b[0m \u001b[0;32mis\u001b[0m \u001b[0;32mNone\u001b[0m\u001b[0;34m:\u001b[0m\u001b[0;34m\u001b[0m\u001b[0;34m\u001b[0m\u001b[0m\n\u001b[0;32m--> 121\u001b[0;31m         \u001b[0mresult\u001b[0m \u001b[0;34m=\u001b[0m \u001b[0m_evaluate_standard\u001b[0m\u001b[0;34m(\u001b[0m\u001b[0mop\u001b[0m\u001b[0;34m,\u001b[0m \u001b[0mop_str\u001b[0m\u001b[0;34m,\u001b[0m \u001b[0ma\u001b[0m\u001b[0;34m,\u001b[0m \u001b[0mb\u001b[0m\u001b[0;34m)\u001b[0m\u001b[0;34m\u001b[0m\u001b[0;34m\u001b[0m\u001b[0m\n\u001b[0m\u001b[1;32m    122\u001b[0m \u001b[0;34m\u001b[0m\u001b[0m\n",
            "\u001b[0;32m/usr/local/lib/python3.6/dist-packages/pandas/core/computation/expressions.py\u001b[0m in \u001b[0;36m_evaluate_standard\u001b[0;34m(op, op_str, a, b)\u001b[0m\n\u001b[1;32m     69\u001b[0m     \u001b[0;32mwith\u001b[0m \u001b[0mnp\u001b[0m\u001b[0;34m.\u001b[0m\u001b[0merrstate\u001b[0m\u001b[0;34m(\u001b[0m\u001b[0mall\u001b[0m\u001b[0;34m=\u001b[0m\u001b[0;34m\"ignore\"\u001b[0m\u001b[0;34m)\u001b[0m\u001b[0;34m:\u001b[0m\u001b[0;34m\u001b[0m\u001b[0;34m\u001b[0m\u001b[0m\n\u001b[0;32m---> 70\u001b[0;31m         \u001b[0;32mreturn\u001b[0m \u001b[0mop\u001b[0m\u001b[0;34m(\u001b[0m\u001b[0ma\u001b[0m\u001b[0;34m,\u001b[0m \u001b[0mb\u001b[0m\u001b[0;34m)\u001b[0m\u001b[0;34m\u001b[0m\u001b[0;34m\u001b[0m\u001b[0m\n\u001b[0m\u001b[1;32m     71\u001b[0m \u001b[0;34m\u001b[0m\u001b[0m\n",
            "\u001b[0;31mTypeError\u001b[0m: unsupported operand type(s) for /: 'str' and 'float'",
            "\nDuring handling of the above exception, another exception occurred:\n",
            "\u001b[0;31mTypeError\u001b[0m                                 Traceback (most recent call last)",
            "\u001b[0;32m<ipython-input-236-dec59ebf8bf8>\u001b[0m in \u001b[0;36m<module>\u001b[0;34m()\u001b[0m\n\u001b[0;32m----> 1\u001b[0;31m \u001b[0mdf\u001b[0m\u001b[0;34m[\u001b[0m\u001b[0;34m'price'\u001b[0m\u001b[0;34m]\u001b[0m \u001b[0;34m/\u001b[0m \u001b[0mdf\u001b[0m\u001b[0;34m[\u001b[0m\u001b[0;34m'area'\u001b[0m\u001b[0;34m]\u001b[0m\u001b[0;34m\u001b[0m\u001b[0;34m\u001b[0m\u001b[0m\n\u001b[0m",
            "\u001b[0;32m/usr/local/lib/python3.6/dist-packages/pandas/core/ops/common.py\u001b[0m in \u001b[0;36mnew_method\u001b[0;34m(self, other)\u001b[0m\n\u001b[1;32m     62\u001b[0m         \u001b[0mother\u001b[0m \u001b[0;34m=\u001b[0m \u001b[0mitem_from_zerodim\u001b[0m\u001b[0;34m(\u001b[0m\u001b[0mother\u001b[0m\u001b[0;34m)\u001b[0m\u001b[0;34m\u001b[0m\u001b[0;34m\u001b[0m\u001b[0m\n\u001b[1;32m     63\u001b[0m \u001b[0;34m\u001b[0m\u001b[0m\n\u001b[0;32m---> 64\u001b[0;31m         \u001b[0;32mreturn\u001b[0m \u001b[0mmethod\u001b[0m\u001b[0;34m(\u001b[0m\u001b[0mself\u001b[0m\u001b[0;34m,\u001b[0m \u001b[0mother\u001b[0m\u001b[0;34m)\u001b[0m\u001b[0;34m\u001b[0m\u001b[0;34m\u001b[0m\u001b[0m\n\u001b[0m\u001b[1;32m     65\u001b[0m \u001b[0;34m\u001b[0m\u001b[0m\n\u001b[1;32m     66\u001b[0m     \u001b[0;32mreturn\u001b[0m \u001b[0mnew_method\u001b[0m\u001b[0;34m\u001b[0m\u001b[0;34m\u001b[0m\u001b[0m\n",
            "\u001b[0;32m/usr/local/lib/python3.6/dist-packages/pandas/core/ops/__init__.py\u001b[0m in \u001b[0;36mwrapper\u001b[0;34m(left, right)\u001b[0m\n\u001b[1;32m    501\u001b[0m         \u001b[0mlvalues\u001b[0m \u001b[0;34m=\u001b[0m \u001b[0mextract_array\u001b[0m\u001b[0;34m(\u001b[0m\u001b[0mleft\u001b[0m\u001b[0;34m,\u001b[0m \u001b[0mextract_numpy\u001b[0m\u001b[0;34m=\u001b[0m\u001b[0;32mTrue\u001b[0m\u001b[0;34m)\u001b[0m\u001b[0;34m\u001b[0m\u001b[0;34m\u001b[0m\u001b[0m\n\u001b[1;32m    502\u001b[0m         \u001b[0mrvalues\u001b[0m \u001b[0;34m=\u001b[0m \u001b[0mextract_array\u001b[0m\u001b[0;34m(\u001b[0m\u001b[0mright\u001b[0m\u001b[0;34m,\u001b[0m \u001b[0mextract_numpy\u001b[0m\u001b[0;34m=\u001b[0m\u001b[0;32mTrue\u001b[0m\u001b[0;34m)\u001b[0m\u001b[0;34m\u001b[0m\u001b[0;34m\u001b[0m\u001b[0m\n\u001b[0;32m--> 503\u001b[0;31m         \u001b[0mresult\u001b[0m \u001b[0;34m=\u001b[0m \u001b[0marithmetic_op\u001b[0m\u001b[0;34m(\u001b[0m\u001b[0mlvalues\u001b[0m\u001b[0;34m,\u001b[0m \u001b[0mrvalues\u001b[0m\u001b[0;34m,\u001b[0m \u001b[0mop\u001b[0m\u001b[0;34m,\u001b[0m \u001b[0mstr_rep\u001b[0m\u001b[0;34m)\u001b[0m\u001b[0;34m\u001b[0m\u001b[0;34m\u001b[0m\u001b[0m\n\u001b[0m\u001b[1;32m    504\u001b[0m \u001b[0;34m\u001b[0m\u001b[0m\n\u001b[1;32m    505\u001b[0m         \u001b[0;32mreturn\u001b[0m \u001b[0m_construct_result\u001b[0m\u001b[0;34m(\u001b[0m\u001b[0mleft\u001b[0m\u001b[0;34m,\u001b[0m \u001b[0mresult\u001b[0m\u001b[0;34m,\u001b[0m \u001b[0mindex\u001b[0m\u001b[0;34m=\u001b[0m\u001b[0mleft\u001b[0m\u001b[0;34m.\u001b[0m\u001b[0mindex\u001b[0m\u001b[0;34m,\u001b[0m \u001b[0mname\u001b[0m\u001b[0;34m=\u001b[0m\u001b[0mres_name\u001b[0m\u001b[0;34m)\u001b[0m\u001b[0;34m\u001b[0m\u001b[0;34m\u001b[0m\u001b[0m\n",
            "\u001b[0;32m/usr/local/lib/python3.6/dist-packages/pandas/core/ops/array_ops.py\u001b[0m in \u001b[0;36marithmetic_op\u001b[0;34m(left, right, op, str_rep)\u001b[0m\n\u001b[1;32m    195\u001b[0m     \u001b[0;32melse\u001b[0m\u001b[0;34m:\u001b[0m\u001b[0;34m\u001b[0m\u001b[0;34m\u001b[0m\u001b[0m\n\u001b[1;32m    196\u001b[0m         \u001b[0;32mwith\u001b[0m \u001b[0mnp\u001b[0m\u001b[0;34m.\u001b[0m\u001b[0merrstate\u001b[0m\u001b[0;34m(\u001b[0m\u001b[0mall\u001b[0m\u001b[0;34m=\u001b[0m\u001b[0;34m\"ignore\"\u001b[0m\u001b[0;34m)\u001b[0m\u001b[0;34m:\u001b[0m\u001b[0;34m\u001b[0m\u001b[0;34m\u001b[0m\u001b[0m\n\u001b[0;32m--> 197\u001b[0;31m             \u001b[0mres_values\u001b[0m \u001b[0;34m=\u001b[0m \u001b[0mna_arithmetic_op\u001b[0m\u001b[0;34m(\u001b[0m\u001b[0mlvalues\u001b[0m\u001b[0;34m,\u001b[0m \u001b[0mrvalues\u001b[0m\u001b[0;34m,\u001b[0m \u001b[0mop\u001b[0m\u001b[0;34m,\u001b[0m \u001b[0mstr_rep\u001b[0m\u001b[0;34m)\u001b[0m\u001b[0;34m\u001b[0m\u001b[0;34m\u001b[0m\u001b[0m\n\u001b[0m\u001b[1;32m    198\u001b[0m \u001b[0;34m\u001b[0m\u001b[0m\n\u001b[1;32m    199\u001b[0m     \u001b[0;32mreturn\u001b[0m \u001b[0mres_values\u001b[0m\u001b[0;34m\u001b[0m\u001b[0;34m\u001b[0m\u001b[0m\n",
            "\u001b[0;32m/usr/local/lib/python3.6/dist-packages/pandas/core/ops/array_ops.py\u001b[0m in \u001b[0;36mna_arithmetic_op\u001b[0;34m(left, right, op, str_rep)\u001b[0m\n\u001b[1;32m    149\u001b[0m         \u001b[0mresult\u001b[0m \u001b[0;34m=\u001b[0m \u001b[0mexpressions\u001b[0m\u001b[0;34m.\u001b[0m\u001b[0mevaluate\u001b[0m\u001b[0;34m(\u001b[0m\u001b[0mop\u001b[0m\u001b[0;34m,\u001b[0m \u001b[0mstr_rep\u001b[0m\u001b[0;34m,\u001b[0m \u001b[0mleft\u001b[0m\u001b[0;34m,\u001b[0m \u001b[0mright\u001b[0m\u001b[0;34m)\u001b[0m\u001b[0;34m\u001b[0m\u001b[0;34m\u001b[0m\u001b[0m\n\u001b[1;32m    150\u001b[0m     \u001b[0;32mexcept\u001b[0m \u001b[0mTypeError\u001b[0m\u001b[0;34m:\u001b[0m\u001b[0;34m\u001b[0m\u001b[0;34m\u001b[0m\u001b[0m\n\u001b[0;32m--> 151\u001b[0;31m         \u001b[0mresult\u001b[0m \u001b[0;34m=\u001b[0m \u001b[0mmasked_arith_op\u001b[0m\u001b[0;34m(\u001b[0m\u001b[0mleft\u001b[0m\u001b[0;34m,\u001b[0m \u001b[0mright\u001b[0m\u001b[0;34m,\u001b[0m \u001b[0mop\u001b[0m\u001b[0;34m)\u001b[0m\u001b[0;34m\u001b[0m\u001b[0;34m\u001b[0m\u001b[0m\n\u001b[0m\u001b[1;32m    152\u001b[0m \u001b[0;34m\u001b[0m\u001b[0m\n\u001b[1;32m    153\u001b[0m     \u001b[0;32mreturn\u001b[0m \u001b[0mmissing\u001b[0m\u001b[0;34m.\u001b[0m\u001b[0mdispatch_fill_zeros\u001b[0m\u001b[0;34m(\u001b[0m\u001b[0mop\u001b[0m\u001b[0;34m,\u001b[0m \u001b[0mleft\u001b[0m\u001b[0;34m,\u001b[0m \u001b[0mright\u001b[0m\u001b[0;34m,\u001b[0m \u001b[0mresult\u001b[0m\u001b[0;34m)\u001b[0m\u001b[0;34m\u001b[0m\u001b[0;34m\u001b[0m\u001b[0m\n",
            "\u001b[0;32m/usr/local/lib/python3.6/dist-packages/pandas/core/ops/array_ops.py\u001b[0m in \u001b[0;36mmasked_arith_op\u001b[0;34m(x, y, op)\u001b[0m\n\u001b[1;32m     92\u001b[0m         \u001b[0;32mif\u001b[0m \u001b[0mmask\u001b[0m\u001b[0;34m.\u001b[0m\u001b[0many\u001b[0m\u001b[0;34m(\u001b[0m\u001b[0;34m)\u001b[0m\u001b[0;34m:\u001b[0m\u001b[0;34m\u001b[0m\u001b[0;34m\u001b[0m\u001b[0m\n\u001b[1;32m     93\u001b[0m             \u001b[0;32mwith\u001b[0m \u001b[0mnp\u001b[0m\u001b[0;34m.\u001b[0m\u001b[0merrstate\u001b[0m\u001b[0;34m(\u001b[0m\u001b[0mall\u001b[0m\u001b[0;34m=\u001b[0m\u001b[0;34m\"ignore\"\u001b[0m\u001b[0;34m)\u001b[0m\u001b[0;34m:\u001b[0m\u001b[0;34m\u001b[0m\u001b[0;34m\u001b[0m\u001b[0m\n\u001b[0;32m---> 94\u001b[0;31m                 \u001b[0mresult\u001b[0m\u001b[0;34m[\u001b[0m\u001b[0mmask\u001b[0m\u001b[0;34m]\u001b[0m \u001b[0;34m=\u001b[0m \u001b[0mop\u001b[0m\u001b[0;34m(\u001b[0m\u001b[0mxrav\u001b[0m\u001b[0;34m[\u001b[0m\u001b[0mmask\u001b[0m\u001b[0;34m]\u001b[0m\u001b[0;34m,\u001b[0m \u001b[0myrav\u001b[0m\u001b[0;34m[\u001b[0m\u001b[0mmask\u001b[0m\u001b[0;34m]\u001b[0m\u001b[0;34m)\u001b[0m\u001b[0;34m\u001b[0m\u001b[0;34m\u001b[0m\u001b[0m\n\u001b[0m\u001b[1;32m     95\u001b[0m \u001b[0;34m\u001b[0m\u001b[0m\n\u001b[1;32m     96\u001b[0m     \u001b[0;32melse\u001b[0m\u001b[0;34m:\u001b[0m\u001b[0;34m\u001b[0m\u001b[0;34m\u001b[0m\u001b[0m\n",
            "\u001b[0;31mTypeError\u001b[0m: unsupported operand type(s) for /: 'str' and 'float'"
          ]
        }
      ]
    },
    {
      "cell_type": "code",
      "metadata": {
        "id": "xW2ojKxerMs0",
        "colab_type": "code",
        "colab": {
          "base_uri": "https://localhost:8080/",
          "height": 295
        },
        "outputId": "e1bd7efd-b58b-4931-bd9d-b32e842e284f"
      },
      "source": [
        "df.info()"
      ],
      "execution_count": 237,
      "outputs": [
        {
          "output_type": "stream",
          "text": [
            "<class 'pandas.core.frame.DataFrame'>\n",
            "Int64Index: 720 entries, 0 to 29\n",
            "Data columns (total 9 columns):\n",
            " #   Column         Non-Null Count  Dtype  \n",
            "---  ------         --------------  -----  \n",
            " 0   id             720 non-null    int64  \n",
            " 1   address        720 non-null    object \n",
            " 2   floor          720 non-null    int64  \n",
            " 3   allfloor       720 non-null    int64  \n",
            " 4   layout         720 non-null    object \n",
            " 5   area           720 non-null    float64\n",
            " 6   price          720 non-null    object \n",
            " 7   browsenum_all  720 non-null    int64  \n",
            " 8   square_feet    720 non-null    float64\n",
            "dtypes: float64(2), int64(4), object(3)\n",
            "memory usage: 56.2+ KB\n"
          ],
          "name": "stdout"
        }
      ]
    },
    {
      "cell_type": "code",
      "metadata": {
        "id": "CMmgLdKJrPe4",
        "colab_type": "code",
        "colab": {
          "base_uri": "https://localhost:8080/",
          "height": 35
        },
        "outputId": "5e4cb6ca-b2a6-49d4-a040-3f257b29a311"
      },
      "source": [
        "s = '60,000'\n",
        "int(s.replace(',', ''))"
      ],
      "execution_count": 239,
      "outputs": [
        {
          "output_type": "execute_result",
          "data": {
            "text/plain": [
              "60000"
            ]
          },
          "metadata": {
            "tags": []
          },
          "execution_count": 239
        }
      ]
    },
    {
      "cell_type": "code",
      "metadata": {
        "id": "nyLMPOkprcs6",
        "colab_type": "code",
        "colab": {}
      },
      "source": [
        "def normalizePrice(ele):\n",
        "  return int(ele.replace(',', ''))"
      ],
      "execution_count": 0,
      "outputs": []
    },
    {
      "cell_type": "code",
      "metadata": {
        "id": "XeCLe1U6roj6",
        "colab_type": "code",
        "colab": {
          "base_uri": "https://localhost:8080/",
          "height": 35
        },
        "outputId": "8b1fa2fc-6848-4683-d2c2-00b6379a4aeb"
      },
      "source": [
        "normalizePrice(s)"
      ],
      "execution_count": 241,
      "outputs": [
        {
          "output_type": "execute_result",
          "data": {
            "text/plain": [
              "60000"
            ]
          },
          "metadata": {
            "tags": []
          },
          "execution_count": 241
        }
      ]
    },
    {
      "cell_type": "code",
      "metadata": {
        "id": "8Cxv_mCmrpxj",
        "colab_type": "code",
        "colab": {
          "base_uri": "https://localhost:8080/",
          "height": 225
        },
        "outputId": "83f996ba-b409-4d01-ac4f-92dcc0e4683d"
      },
      "source": [
        "df['price'].map(normalizePrice)"
      ],
      "execution_count": 243,
      "outputs": [
        {
          "output_type": "execute_result",
          "data": {
            "text/plain": [
              "0      60000\n",
              "1     100000\n",
              "2     150000\n",
              "3      29000\n",
              "4      31800\n",
              "       ...  \n",
              "25     55000\n",
              "26     50000\n",
              "27     30000\n",
              "28     48000\n",
              "29     43000\n",
              "Name: price, Length: 720, dtype: int64"
            ]
          },
          "metadata": {
            "tags": []
          },
          "execution_count": 243
        }
      ]
    },
    {
      "cell_type": "code",
      "metadata": {
        "id": "8inJAEajrtFM",
        "colab_type": "code",
        "colab": {}
      },
      "source": [
        "def square2(e):\n",
        "  return e ** 2"
      ],
      "execution_count": 0,
      "outputs": []
    },
    {
      "cell_type": "code",
      "metadata": {
        "id": "uZqmzNKnr6OG",
        "colab_type": "code",
        "colab": {}
      },
      "source": [
        "s2 = lambda e: e ** 2"
      ],
      "execution_count": 0,
      "outputs": []
    },
    {
      "cell_type": "code",
      "metadata": {
        "id": "JfuvZxMrr_44",
        "colab_type": "code",
        "colab": {
          "base_uri": "https://localhost:8080/",
          "height": 35
        },
        "outputId": "bdf6eec1-6dbd-4049-a3cd-3eef3fb4aa7c"
      },
      "source": [
        "s2(3)"
      ],
      "execution_count": 246,
      "outputs": [
        {
          "output_type": "execute_result",
          "data": {
            "text/plain": [
              "9"
            ]
          },
          "metadata": {
            "tags": []
          },
          "execution_count": 246
        }
      ]
    },
    {
      "cell_type": "code",
      "metadata": {
        "id": "r-yWlrEDsBMk",
        "colab_type": "code",
        "colab": {}
      },
      "source": [
        "def normalizePrice(ele):\n",
        "  return int(ele.replace(',', ''))\n",
        "normalizePrice = lambda ele : int(ele.replace(',', ''))"
      ],
      "execution_count": 0,
      "outputs": []
    },
    {
      "cell_type": "code",
      "metadata": {
        "id": "pk1nviFAsHfM",
        "colab_type": "code",
        "colab": {}
      },
      "source": [
        "df['price'] = df['price'].map(lambda ele : int(ele.replace(',', '')))"
      ],
      "execution_count": 0,
      "outputs": []
    },
    {
      "cell_type": "code",
      "metadata": {
        "id": "Q1YPQvtMsMKD",
        "colab_type": "code",
        "colab": {
          "base_uri": "https://localhost:8080/",
          "height": 289
        },
        "outputId": "e7ba6fcd-97f4-4d5c-f860-a335bca7942c"
      },
      "source": [
        "df.head()"
      ],
      "execution_count": 251,
      "outputs": [
        {
          "output_type": "execute_result",
          "data": {
            "text/html": [
              "<div>\n",
              "<style scoped>\n",
              "    .dataframe tbody tr th:only-of-type {\n",
              "        vertical-align: middle;\n",
              "    }\n",
              "\n",
              "    .dataframe tbody tr th {\n",
              "        vertical-align: top;\n",
              "    }\n",
              "\n",
              "    .dataframe thead th {\n",
              "        text-align: right;\n",
              "    }\n",
              "</style>\n",
              "<table border=\"1\" class=\"dataframe\">\n",
              "  <thead>\n",
              "    <tr style=\"text-align: right;\">\n",
              "      <th></th>\n",
              "      <th>id</th>\n",
              "      <th>address</th>\n",
              "      <th>floor</th>\n",
              "      <th>allfloor</th>\n",
              "      <th>layout</th>\n",
              "      <th>area</th>\n",
              "      <th>price</th>\n",
              "      <th>browsenum_all</th>\n",
              "      <th>square_feet</th>\n",
              "    </tr>\n",
              "  </thead>\n",
              "  <tbody>\n",
              "    <tr>\n",
              "      <th>0</th>\n",
              "      <td>6032971</td>\n",
              "      <td>永康街47巷永康街五樓頂加..</td>\n",
              "      <td>5</td>\n",
              "      <td>5</td>\n",
              "      <td>5房3廳3衛</td>\n",
              "      <td>46.8</td>\n",
              "      <td>60000</td>\n",
              "      <td>751</td>\n",
              "      <td>154.710744</td>\n",
              "    </tr>\n",
              "    <tr>\n",
              "      <th>1</th>\n",
              "      <td>6054083</td>\n",
              "      <td>仁愛路四段仁愛路樹海景觀..</td>\n",
              "      <td>7</td>\n",
              "      <td>12</td>\n",
              "      <td>4房2廳2衛</td>\n",
              "      <td>76.9</td>\n",
              "      <td>100000</td>\n",
              "      <td>162</td>\n",
              "      <td>254.214876</td>\n",
              "    </tr>\n",
              "    <tr>\n",
              "      <th>2</th>\n",
              "      <td>5957980</td>\n",
              "      <td>光復南路高樓層大巨蛋正對..</td>\n",
              "      <td>10</td>\n",
              "      <td>13</td>\n",
              "      <td>4房2廳2衛</td>\n",
              "      <td>71.3</td>\n",
              "      <td>150000</td>\n",
              "      <td>2385</td>\n",
              "      <td>235.702479</td>\n",
              "    </tr>\n",
              "    <tr>\n",
              "      <th>3</th>\n",
              "      <td>6043839</td>\n",
              "      <td>永康街23巷永康商圈..</td>\n",
              "      <td>3</td>\n",
              "      <td>4</td>\n",
              "      <td>2房1廳1衛</td>\n",
              "      <td>18.0</td>\n",
              "      <td>29000</td>\n",
              "      <td>1323</td>\n",
              "      <td>59.504132</td>\n",
              "    </tr>\n",
              "    <tr>\n",
              "      <th>4</th>\n",
              "      <td>5181793</td>\n",
              "      <td>雲和街師大*已收訂..</td>\n",
              "      <td>5</td>\n",
              "      <td>5</td>\n",
              "      <td>2房2廳1衛</td>\n",
              "      <td>28.0</td>\n",
              "      <td>31800</td>\n",
              "      <td>2303</td>\n",
              "      <td>92.561983</td>\n",
              "    </tr>\n",
              "  </tbody>\n",
              "</table>\n",
              "</div>"
            ],
            "text/plain": [
              "        id          address  floor  ...   price browsenum_all  square_feet\n",
              "0  6032971  永康街47巷永康街五樓頂加..      5  ...   60000           751   154.710744\n",
              "1  6054083   仁愛路四段仁愛路樹海景觀..      7  ...  100000           162   254.214876\n",
              "2  5957980   光復南路高樓層大巨蛋正對..     10  ...  150000          2385   235.702479\n",
              "3  6043839     永康街23巷永康商圈..      3  ...   29000          1323    59.504132\n",
              "4  5181793      雲和街師大*已收訂..      5  ...   31800          2303    92.561983\n",
              "\n",
              "[5 rows x 9 columns]"
            ]
          },
          "metadata": {
            "tags": []
          },
          "execution_count": 251
        }
      ]
    },
    {
      "cell_type": "code",
      "metadata": {
        "id": "IqO8fArZsSbt",
        "colab_type": "code",
        "colab": {
          "base_uri": "https://localhost:8080/",
          "height": 295
        },
        "outputId": "c4a6131d-7c58-4246-ae72-a4974284af3b"
      },
      "source": [
        "df.info()"
      ],
      "execution_count": 252,
      "outputs": [
        {
          "output_type": "stream",
          "text": [
            "<class 'pandas.core.frame.DataFrame'>\n",
            "Int64Index: 720 entries, 0 to 29\n",
            "Data columns (total 9 columns):\n",
            " #   Column         Non-Null Count  Dtype  \n",
            "---  ------         --------------  -----  \n",
            " 0   id             720 non-null    int64  \n",
            " 1   address        720 non-null    object \n",
            " 2   floor          720 non-null    int64  \n",
            " 3   allfloor       720 non-null    int64  \n",
            " 4   layout         720 non-null    object \n",
            " 5   area           720 non-null    float64\n",
            " 6   price          720 non-null    int64  \n",
            " 7   browsenum_all  720 non-null    int64  \n",
            " 8   square_feet    720 non-null    float64\n",
            "dtypes: float64(2), int64(5), object(2)\n",
            "memory usage: 56.2+ KB\n"
          ],
          "name": "stdout"
        }
      ]
    },
    {
      "cell_type": "code",
      "metadata": {
        "id": "2X7-zDlMsT3p",
        "colab_type": "code",
        "colab": {}
      },
      "source": [
        "df = pd.DataFrame(\n",
        "[[60,70,50],\n",
        "[80,79,68],\n",
        "[63,66,82]], \n",
        "columns = ['First', 'Second', 'Third'])"
      ],
      "execution_count": 0,
      "outputs": []
    },
    {
      "cell_type": "code",
      "metadata": {
        "id": "7L0UPCHIsc7I",
        "colab_type": "code",
        "colab": {
          "base_uri": "https://localhost:8080/",
          "height": 87
        },
        "outputId": "09a85954-6520-42cd-8a02-c3999d9d6fb6"
      },
      "source": [
        "df.apply(lambda e: e.max() - e.min(), axis = 0)"
      ],
      "execution_count": 254,
      "outputs": [
        {
          "output_type": "execute_result",
          "data": {
            "text/plain": [
              "First     20\n",
              "Second    13\n",
              "Third     32\n",
              "dtype: int64"
            ]
          },
          "metadata": {
            "tags": []
          },
          "execution_count": 254
        }
      ]
    },
    {
      "cell_type": "code",
      "metadata": {
        "id": "fMxBH0C8sjwk",
        "colab_type": "code",
        "colab": {
          "base_uri": "https://localhost:8080/",
          "height": 87
        },
        "outputId": "edd9638e-2ac0-42de-edc8-3ef98f1963a2"
      },
      "source": [
        "df.apply(lambda e: e.max() - e.min(), axis = 1)"
      ],
      "execution_count": 255,
      "outputs": [
        {
          "output_type": "execute_result",
          "data": {
            "text/plain": [
              "0    20\n",
              "1    12\n",
              "2    19\n",
              "dtype: int64"
            ]
          },
          "metadata": {
            "tags": []
          },
          "execution_count": 255
        }
      ]
    },
    {
      "cell_type": "code",
      "metadata": {
        "id": "LooPZp4BsrAq",
        "colab_type": "code",
        "colab": {
          "base_uri": "https://localhost:8080/",
          "height": 141
        },
        "outputId": "bcc8accd-ae1e-4eb3-f5eb-6f1aa20c4699"
      },
      "source": [
        "import numpy as np\n",
        "df.applymap(lambda e: '-' if pandas.isnull(e)else e)\n"
      ],
      "execution_count": 256,
      "outputs": [
        {
          "output_type": "execute_result",
          "data": {
            "text/html": [
              "<div>\n",
              "<style scoped>\n",
              "    .dataframe tbody tr th:only-of-type {\n",
              "        vertical-align: middle;\n",
              "    }\n",
              "\n",
              "    .dataframe tbody tr th {\n",
              "        vertical-align: top;\n",
              "    }\n",
              "\n",
              "    .dataframe thead th {\n",
              "        text-align: right;\n",
              "    }\n",
              "</style>\n",
              "<table border=\"1\" class=\"dataframe\">\n",
              "  <thead>\n",
              "    <tr style=\"text-align: right;\">\n",
              "      <th></th>\n",
              "      <th>First</th>\n",
              "      <th>Second</th>\n",
              "      <th>Third</th>\n",
              "    </tr>\n",
              "  </thead>\n",
              "  <tbody>\n",
              "    <tr>\n",
              "      <th>0</th>\n",
              "      <td>60</td>\n",
              "      <td>70</td>\n",
              "      <td>50</td>\n",
              "    </tr>\n",
              "    <tr>\n",
              "      <th>1</th>\n",
              "      <td>80</td>\n",
              "      <td>79</td>\n",
              "      <td>68</td>\n",
              "    </tr>\n",
              "    <tr>\n",
              "      <th>2</th>\n",
              "      <td>63</td>\n",
              "      <td>66</td>\n",
              "      <td>82</td>\n",
              "    </tr>\n",
              "  </tbody>\n",
              "</table>\n",
              "</div>"
            ],
            "text/plain": [
              "   First  Second  Third\n",
              "0     60      70     50\n",
              "1     80      79     68\n",
              "2     63      66     82"
            ]
          },
          "metadata": {
            "tags": []
          },
          "execution_count": 256
        }
      ]
    },
    {
      "cell_type": "code",
      "metadata": {
        "id": "8cQgKGEas0KE",
        "colab_type": "code",
        "colab": {
          "base_uri": "https://localhost:8080/",
          "height": 141
        },
        "outputId": "aae0a53b-606f-4a98-89b9-19b59a8f2185"
      },
      "source": [
        "import numpy as np\n",
        "df.applymap(lambda e:  'good' if e >=80 else 'bad')"
      ],
      "execution_count": 257,
      "outputs": [
        {
          "output_type": "execute_result",
          "data": {
            "text/html": [
              "<div>\n",
              "<style scoped>\n",
              "    .dataframe tbody tr th:only-of-type {\n",
              "        vertical-align: middle;\n",
              "    }\n",
              "\n",
              "    .dataframe tbody tr th {\n",
              "        vertical-align: top;\n",
              "    }\n",
              "\n",
              "    .dataframe thead th {\n",
              "        text-align: right;\n",
              "    }\n",
              "</style>\n",
              "<table border=\"1\" class=\"dataframe\">\n",
              "  <thead>\n",
              "    <tr style=\"text-align: right;\">\n",
              "      <th></th>\n",
              "      <th>First</th>\n",
              "      <th>Second</th>\n",
              "      <th>Third</th>\n",
              "    </tr>\n",
              "  </thead>\n",
              "  <tbody>\n",
              "    <tr>\n",
              "      <th>0</th>\n",
              "      <td>bad</td>\n",
              "      <td>bad</td>\n",
              "      <td>bad</td>\n",
              "    </tr>\n",
              "    <tr>\n",
              "      <th>1</th>\n",
              "      <td>good</td>\n",
              "      <td>bad</td>\n",
              "      <td>bad</td>\n",
              "    </tr>\n",
              "    <tr>\n",
              "      <th>2</th>\n",
              "      <td>bad</td>\n",
              "      <td>bad</td>\n",
              "      <td>good</td>\n",
              "    </tr>\n",
              "  </tbody>\n",
              "</table>\n",
              "</div>"
            ],
            "text/plain": [
              "  First Second Third\n",
              "0   bad    bad   bad\n",
              "1  good    bad   bad\n",
              "2   bad    bad  good"
            ]
          },
          "metadata": {
            "tags": []
          },
          "execution_count": 257
        }
      ]
    },
    {
      "cell_type": "markdown",
      "metadata": {
        "id": "FdRERAuH74Ai",
        "colab_type": "text"
      },
      "source": [
        "## 時間格式轉換"
      ]
    },
    {
      "cell_type": "code",
      "metadata": {
        "id": "cNzv6k-b7z5n",
        "colab_type": "code",
        "colab": {}
      },
      "source": [
        "import pandas\n",
        "df = pandas.read_csv('https://raw.githubusercontent.com/ywchiu/tibamepy/master/data/rent_591_sample2.csv')"
      ],
      "execution_count": 0,
      "outputs": []
    },
    {
      "cell_type": "code",
      "metadata": {
        "id": "rKWt6wbFtJPh",
        "colab_type": "code",
        "colab": {
          "base_uri": "https://localhost:8080/",
          "height": 759
        },
        "outputId": "1464ca28-aa29-431d-fda7-0c748eb80627"
      },
      "source": [
        "df.head()"
      ],
      "execution_count": 259,
      "outputs": [
        {
          "output_type": "execute_result",
          "data": {
            "text/html": [
              "<div>\n",
              "<style scoped>\n",
              "    .dataframe tbody tr th:only-of-type {\n",
              "        vertical-align: middle;\n",
              "    }\n",
              "\n",
              "    .dataframe tbody tr th {\n",
              "        vertical-align: top;\n",
              "    }\n",
              "\n",
              "    .dataframe thead th {\n",
              "        text-align: right;\n",
              "    }\n",
              "</style>\n",
              "<table border=\"1\" class=\"dataframe\">\n",
              "  <thead>\n",
              "    <tr style=\"text-align: right;\">\n",
              "      <th></th>\n",
              "      <th>Unnamed: 0</th>\n",
              "      <th>detail_url</th>\n",
              "      <th>search_date</th>\n",
              "      <th>title</th>\n",
              "      <th>address</th>\n",
              "      <th>floor_info</th>\n",
              "      <th>price</th>\n",
              "      <th>layout</th>\n",
              "      <th>building_area</th>\n",
              "      <th>building_use</th>\n",
              "      <th>latitude</th>\n",
              "      <th>longitude</th>\n",
              "    </tr>\n",
              "  </thead>\n",
              "  <tbody>\n",
              "    <tr>\n",
              "      <th>0</th>\n",
              "      <td>0</td>\n",
              "      <td>https://rent.591.com.tw/rent-detail-1050934.html</td>\n",
              "      <td>2017-05-14</td>\n",
              "      <td>套房出租-近東方學院(六~八月可入住)</td>\n",
              "      <td>高雄市湖內區民生街</td>\n",
              "      <td>3F/3F</td>\n",
              "      <td>4,500元/月</td>\n",
              "      <td>NaN</td>\n",
              "      <td>6.0</td>\n",
              "      <td>透天厝/獨立套房</td>\n",
              "      <td>22.878436</td>\n",
              "      <td>120.250810</td>\n",
              "    </tr>\n",
              "    <tr>\n",
              "      <th>1</th>\n",
              "      <td>1</td>\n",
              "      <td>https://rent.591.com.tw/rent-detail-1008046.html</td>\n",
              "      <td>2017-05-14</td>\n",
              "      <td>好房子【聰明的你、妳快來租吧】</td>\n",
              "      <td>新北市蘆洲區長安街</td>\n",
              "      <td>4F/5F</td>\n",
              "      <td>7,500元/月</td>\n",
              "      <td>NaN</td>\n",
              "      <td>10.0</td>\n",
              "      <td>透天厝/獨立套房</td>\n",
              "      <td>25.081558</td>\n",
              "      <td>121.461868</td>\n",
              "    </tr>\n",
              "    <tr>\n",
              "      <th>2</th>\n",
              "      <td>2</td>\n",
              "      <td>https://rent.591.com.tw/rent-detail-1586266.html</td>\n",
              "      <td>2017-05-12</td>\n",
              "      <td>陽台大套房(獨立洗衣機)近頂溪捷運站</td>\n",
              "      <td>新北市永和區中山路一段</td>\n",
              "      <td>8F/12F</td>\n",
              "      <td>11,000元/月</td>\n",
              "      <td>NaN</td>\n",
              "      <td>8.0</td>\n",
              "      <td>電梯大樓/分租套房</td>\n",
              "      <td>25.010293</td>\n",
              "      <td>121.511328</td>\n",
              "    </tr>\n",
              "    <tr>\n",
              "      <th>3</th>\n",
              "      <td>3</td>\n",
              "      <td>https://rent.591.com.tw/rent-detail-1699948.html</td>\n",
              "      <td>2017-05-13</td>\n",
              "      <td>火車站附近~~優質套房</td>\n",
              "      <td>屏東縣潮州鎮六合路</td>\n",
              "      <td>3F/3F</td>\n",
              "      <td>5,000元/月</td>\n",
              "      <td>NaN</td>\n",
              "      <td>8.0</td>\n",
              "      <td>透天厝/獨立套房</td>\n",
              "      <td>22.551346</td>\n",
              "      <td>120.538032</td>\n",
              "    </tr>\n",
              "    <tr>\n",
              "      <th>4</th>\n",
              "      <td>4</td>\n",
              "      <td>https://rent.591.com.tw/rent-detail-1404725.html</td>\n",
              "      <td>2017-05-12</td>\n",
              "      <td>觀音四維路優質陽台套房</td>\n",
              "      <td>桃園市觀音區四維路</td>\n",
              "      <td>4F/5F</td>\n",
              "      <td>5,000元/月</td>\n",
              "      <td>NaN</td>\n",
              "      <td>7.0</td>\n",
              "      <td>透天厝/分租套房</td>\n",
              "      <td>25.043652</td>\n",
              "      <td>121.141518</td>\n",
              "    </tr>\n",
              "  </tbody>\n",
              "</table>\n",
              "</div>"
            ],
            "text/plain": [
              "   Unnamed: 0  ...   longitude\n",
              "0           0  ...  120.250810\n",
              "1           1  ...  121.461868\n",
              "2           2  ...  121.511328\n",
              "3           3  ...  120.538032\n",
              "4           4  ...  121.141518\n",
              "\n",
              "[5 rows x 12 columns]"
            ]
          },
          "metadata": {
            "tags": []
          },
          "execution_count": 259
        }
      ]
    },
    {
      "cell_type": "code",
      "metadata": {
        "id": "dgj_zueP77d6",
        "colab_type": "code",
        "colab": {}
      },
      "source": [
        "from datetime import datetime, date\n",
        "current_time = datetime.now()\n",
        "current_date = date(2020,5,9)"
      ],
      "execution_count": 0,
      "outputs": []
    },
    {
      "cell_type": "code",
      "metadata": {
        "id": "Z4zZdrg-8X13",
        "colab_type": "code",
        "colab": {
          "base_uri": "https://localhost:8080/",
          "height": 35
        },
        "outputId": "73ec1116-c569-4d64-e269-f10b9bcfc6ea"
      },
      "source": [
        "current_time"
      ],
      "execution_count": 264,
      "outputs": [
        {
          "output_type": "execute_result",
          "data": {
            "text/plain": [
              "datetime.datetime(2020, 5, 9, 5, 39, 32, 894792)"
            ]
          },
          "metadata": {
            "tags": []
          },
          "execution_count": 264
        }
      ]
    },
    {
      "cell_type": "code",
      "metadata": {
        "id": "zkRnWD5z8jcS",
        "colab_type": "code",
        "colab": {
          "base_uri": "https://localhost:8080/",
          "height": 35
        },
        "outputId": "ae8fc0bd-8a14-4ba4-807d-7ba2ce631db5"
      },
      "source": [
        "current_date"
      ],
      "execution_count": 265,
      "outputs": [
        {
          "output_type": "execute_result",
          "data": {
            "text/plain": [
              "datetime.date(2020, 5, 9)"
            ]
          },
          "metadata": {
            "tags": []
          },
          "execution_count": 265
        }
      ]
    },
    {
      "cell_type": "code",
      "metadata": {
        "id": "w_GDldTD8leK",
        "colab_type": "code",
        "colab": {
          "base_uri": "https://localhost:8080/",
          "height": 35
        },
        "outputId": "f88c7d04-4c06-477f-badb-3f2849ab5f6c"
      },
      "source": [
        "current_time.strftime('%Y-%m-%d')"
      ],
      "execution_count": 266,
      "outputs": [
        {
          "output_type": "execute_result",
          "data": {
            "text/plain": [
              "'2020-05-09'"
            ]
          },
          "metadata": {
            "tags": []
          },
          "execution_count": 266
        }
      ]
    },
    {
      "cell_type": "code",
      "metadata": {
        "id": "GDChj4-I8tpg",
        "colab_type": "code",
        "colab": {}
      },
      "source": [
        "dt  = datetime.strptime('2020-05-01', '%Y-%m-%d')"
      ],
      "execution_count": 0,
      "outputs": []
    },
    {
      "cell_type": "code",
      "metadata": {
        "id": "zMLNMOF_84VY",
        "colab_type": "code",
        "colab": {
          "base_uri": "https://localhost:8080/",
          "height": 35
        },
        "outputId": "4e300366-5685-4c4e-b30b-b0707baa347b"
      },
      "source": [
        "current_time - dt"
      ],
      "execution_count": 269,
      "outputs": [
        {
          "output_type": "execute_result",
          "data": {
            "text/plain": [
              "datetime.timedelta(8, 20372, 894792)"
            ]
          },
          "metadata": {
            "tags": []
          },
          "execution_count": 269
        }
      ]
    },
    {
      "cell_type": "code",
      "metadata": {
        "id": "22SWLIux8_0I",
        "colab_type": "code",
        "colab": {
          "base_uri": "https://localhost:8080/",
          "height": 35
        },
        "outputId": "a71f553e-4126-4df2-e37c-b0a39db8a131"
      },
      "source": [
        "from datetime import timedelta\n",
        "dt = date(2020,5,1)\n",
        "dt - timedelta(days = 1)"
      ],
      "execution_count": 272,
      "outputs": [
        {
          "output_type": "execute_result",
          "data": {
            "text/plain": [
              "datetime.date(2020, 4, 30)"
            ]
          },
          "metadata": {
            "tags": []
          },
          "execution_count": 272
        }
      ]
    },
    {
      "cell_type": "code",
      "metadata": {
        "id": "WpMNvM6Z9QPn",
        "colab_type": "code",
        "colab": {
          "base_uri": "https://localhost:8080/",
          "height": 191
        },
        "outputId": "5b7351b9-4237-4b74-8e67-bfff473afc6c"
      },
      "source": [
        "for i in range(10):\n",
        "  dtstr = dt - timedelta(days = i)\n",
        "  print(dtstr.strftime('%Y-%m-%d'))"
      ],
      "execution_count": 274,
      "outputs": [
        {
          "output_type": "stream",
          "text": [
            "2020-05-01\n",
            "2020-04-30\n",
            "2020-04-29\n",
            "2020-04-28\n",
            "2020-04-27\n",
            "2020-04-26\n",
            "2020-04-25\n",
            "2020-04-24\n",
            "2020-04-23\n",
            "2020-04-22\n"
          ],
          "name": "stdout"
        }
      ]
    },
    {
      "cell_type": "code",
      "metadata": {
        "id": "sxYXSeah9qGT",
        "colab_type": "code",
        "colab": {}
      },
      "source": [
        "import requests\n",
        "import time\n",
        "ary = []\n",
        "for i in range(10):\n",
        "  dtstr = dt - timedelta(days = i)\n",
        "  datestr = dtstr.strftime('%Y%m%d')\n",
        "  res = requests.get('https://www.twse.com.tw/exchangeReport/MI_INDEX?response=json&date={}&type=24'.format(datestr))\n",
        "  jd = res.json()\n",
        "  ary.append(jd)\n",
        "  time.sleep(3)\n"
      ],
      "execution_count": 0,
      "outputs": []
    },
    {
      "cell_type": "code",
      "metadata": {
        "id": "w_LibeKO-eYy",
        "colab_type": "code",
        "colab": {}
      },
      "source": [
        "import pandas\n",
        "df = pandas.DataFrame(ary[1]['data1'], columns = ary[1]['fields1'])"
      ],
      "execution_count": 0,
      "outputs": []
    },
    {
      "cell_type": "code",
      "metadata": {
        "id": "YjmlUTC5-fag",
        "colab_type": "code",
        "colab": {}
      },
      "source": [
        "dfary = []\n",
        "for ele in ary:\n",
        "  if ele.get('data1'):\n",
        "    df = pandas.DataFrame(ele['data1'], columns = ele['fields1'])\n",
        "    dfary.append(df)"
      ],
      "execution_count": 0,
      "outputs": []
    },
    {
      "cell_type": "code",
      "metadata": {
        "id": "fFaQVw9P_mJo",
        "colab_type": "code",
        "colab": {
          "base_uri": "https://localhost:8080/",
          "height": 334
        },
        "outputId": "a0dd1e97-6ac7-4b61-b2ea-4a914982a91d"
      },
      "source": [
        "stockdf = pandas.concat(dfary)\n",
        "stockdf.head(3)"
      ],
      "execution_count": 289,
      "outputs": [
        {
          "output_type": "execute_result",
          "data": {
            "text/html": [
              "<div>\n",
              "<style scoped>\n",
              "    .dataframe tbody tr th:only-of-type {\n",
              "        vertical-align: middle;\n",
              "    }\n",
              "\n",
              "    .dataframe tbody tr th {\n",
              "        vertical-align: top;\n",
              "    }\n",
              "\n",
              "    .dataframe thead th {\n",
              "        text-align: right;\n",
              "    }\n",
              "</style>\n",
              "<table border=\"1\" class=\"dataframe\">\n",
              "  <thead>\n",
              "    <tr style=\"text-align: right;\">\n",
              "      <th></th>\n",
              "      <th>證券代號</th>\n",
              "      <th>證券名稱</th>\n",
              "      <th>成交股數</th>\n",
              "      <th>成交筆數</th>\n",
              "      <th>成交金額</th>\n",
              "      <th>開盤價</th>\n",
              "      <th>最高價</th>\n",
              "      <th>最低價</th>\n",
              "      <th>收盤價</th>\n",
              "      <th>漲跌(+/-)</th>\n",
              "      <th>漲跌價差</th>\n",
              "      <th>最後揭示買價</th>\n",
              "      <th>最後揭示買量</th>\n",
              "      <th>最後揭示賣價</th>\n",
              "      <th>最後揭示賣量</th>\n",
              "      <th>本益比</th>\n",
              "    </tr>\n",
              "  </thead>\n",
              "  <tbody>\n",
              "    <tr>\n",
              "      <th>0</th>\n",
              "      <td>2302</td>\n",
              "      <td>麗正</td>\n",
              "      <td>139,714</td>\n",
              "      <td>82</td>\n",
              "      <td>1,035,122</td>\n",
              "      <td>7.45</td>\n",
              "      <td>7.46</td>\n",
              "      <td>7.33</td>\n",
              "      <td>7.45</td>\n",
              "      <td></td>\n",
              "      <td>0.00</td>\n",
              "      <td>7.41</td>\n",
              "      <td>5</td>\n",
              "      <td>7.45</td>\n",
              "      <td>52</td>\n",
              "      <td></td>\n",
              "    </tr>\n",
              "    <tr>\n",
              "      <th>1</th>\n",
              "      <td>2303</td>\n",
              "      <td>聯電</td>\n",
              "      <td>64,768,656</td>\n",
              "      <td>11,380</td>\n",
              "      <td>1,003,539,346</td>\n",
              "      <td>15.45</td>\n",
              "      <td>15.60</td>\n",
              "      <td>15.35</td>\n",
              "      <td>15.55</td>\n",
              "      <td>&lt;p style= color:red&gt;+&lt;/p&gt;</td>\n",
              "      <td>0.25</td>\n",
              "      <td>15.50</td>\n",
              "      <td>4,097</td>\n",
              "      <td>15.55</td>\n",
              "      <td>569</td>\n",
              "      <td>17.67</td>\n",
              "    </tr>\n",
              "    <tr>\n",
              "      <th>2</th>\n",
              "      <td>2329</td>\n",
              "      <td>華泰</td>\n",
              "      <td>7,250,143</td>\n",
              "      <td>2,091</td>\n",
              "      <td>89,675,396</td>\n",
              "      <td>12.45</td>\n",
              "      <td>12.55</td>\n",
              "      <td>12.25</td>\n",
              "      <td>12.35</td>\n",
              "      <td>&lt;p style= color:red&gt;+&lt;/p&gt;</td>\n",
              "      <td>0.10</td>\n",
              "      <td>12.30</td>\n",
              "      <td>55</td>\n",
              "      <td>12.35</td>\n",
              "      <td>206</td>\n",
              "      <td>11.76</td>\n",
              "    </tr>\n",
              "  </tbody>\n",
              "</table>\n",
              "</div>"
            ],
            "text/plain": [
              "   證券代號 證券名稱        成交股數    成交筆數  ... 最後揭示買量 最後揭示賣價 最後揭示賣量    本益比\n",
              "0  2302   麗正     139,714      82  ...      5   7.45     52       \n",
              "1  2303   聯電  64,768,656  11,380  ...  4,097  15.55    569  17.67\n",
              "2  2329   華泰   7,250,143   2,091  ...     55  12.35    206  11.76\n",
              "\n",
              "[3 rows x 16 columns]"
            ]
          },
          "metadata": {
            "tags": []
          },
          "execution_count": 289
        }
      ]
    },
    {
      "cell_type": "code",
      "metadata": {
        "id": "iYaeFgPM__K3",
        "colab_type": "code",
        "colab": {
          "base_uri": "https://localhost:8080/",
          "height": 35
        },
        "outputId": "3d1965ad-c427-4edb-9c69-310d8c92aa09"
      },
      "source": [
        "from time import mktime\n",
        "current_time = datetime.now()\n",
        "current_time.timetuple()\n",
        "mktime(current_time.timetuple())"
      ],
      "execution_count": 291,
      "outputs": [
        {
          "output_type": "execute_result",
          "data": {
            "text/plain": [
              "1589003777.0"
            ]
          },
          "metadata": {
            "tags": []
          },
          "execution_count": 291
        }
      ]
    },
    {
      "cell_type": "code",
      "metadata": {
        "id": "jhN0X-GKAT4W",
        "colab_type": "code",
        "colab": {
          "base_uri": "https://localhost:8080/",
          "height": 35
        },
        "outputId": "3c8b0ac8-1e61-4b71-9a7e-386436830a05"
      },
      "source": [
        "datetime.fromtimestamp(1555860118)"
      ],
      "execution_count": 292,
      "outputs": [
        {
          "output_type": "execute_result",
          "data": {
            "text/plain": [
              "datetime.datetime(2019, 4, 21, 15, 21, 58)"
            ]
          },
          "metadata": {
            "tags": []
          },
          "execution_count": 292
        }
      ]
    },
    {
      "cell_type": "code",
      "metadata": {
        "id": "MWc1RHhaAnS2",
        "colab_type": "code",
        "colab": {
          "base_uri": "https://localhost:8080/",
          "height": 742
        },
        "outputId": "f67bf908-3c0e-496c-91f7-9878bcb7cbca"
      },
      "source": [
        "import pandas\n",
        "df = pandas.read_csv('https://raw.githubusercontent.com/ywchiu/tibamepy/master/data/rent_591_sample2.csv', index_col = 0)\n",
        "df.head()"
      ],
      "execution_count": 294,
      "outputs": [
        {
          "output_type": "execute_result",
          "data": {
            "text/html": [
              "<div>\n",
              "<style scoped>\n",
              "    .dataframe tbody tr th:only-of-type {\n",
              "        vertical-align: middle;\n",
              "    }\n",
              "\n",
              "    .dataframe tbody tr th {\n",
              "        vertical-align: top;\n",
              "    }\n",
              "\n",
              "    .dataframe thead th {\n",
              "        text-align: right;\n",
              "    }\n",
              "</style>\n",
              "<table border=\"1\" class=\"dataframe\">\n",
              "  <thead>\n",
              "    <tr style=\"text-align: right;\">\n",
              "      <th></th>\n",
              "      <th>detail_url</th>\n",
              "      <th>search_date</th>\n",
              "      <th>title</th>\n",
              "      <th>address</th>\n",
              "      <th>floor_info</th>\n",
              "      <th>price</th>\n",
              "      <th>layout</th>\n",
              "      <th>building_area</th>\n",
              "      <th>building_use</th>\n",
              "      <th>latitude</th>\n",
              "      <th>longitude</th>\n",
              "    </tr>\n",
              "  </thead>\n",
              "  <tbody>\n",
              "    <tr>\n",
              "      <th>0</th>\n",
              "      <td>https://rent.591.com.tw/rent-detail-1050934.html</td>\n",
              "      <td>2017-05-14</td>\n",
              "      <td>套房出租-近東方學院(六~八月可入住)</td>\n",
              "      <td>高雄市湖內區民生街</td>\n",
              "      <td>3F/3F</td>\n",
              "      <td>4,500元/月</td>\n",
              "      <td>NaN</td>\n",
              "      <td>6.0</td>\n",
              "      <td>透天厝/獨立套房</td>\n",
              "      <td>22.878436</td>\n",
              "      <td>120.250810</td>\n",
              "    </tr>\n",
              "    <tr>\n",
              "      <th>1</th>\n",
              "      <td>https://rent.591.com.tw/rent-detail-1008046.html</td>\n",
              "      <td>2017-05-14</td>\n",
              "      <td>好房子【聰明的你、妳快來租吧】</td>\n",
              "      <td>新北市蘆洲區長安街</td>\n",
              "      <td>4F/5F</td>\n",
              "      <td>7,500元/月</td>\n",
              "      <td>NaN</td>\n",
              "      <td>10.0</td>\n",
              "      <td>透天厝/獨立套房</td>\n",
              "      <td>25.081558</td>\n",
              "      <td>121.461868</td>\n",
              "    </tr>\n",
              "    <tr>\n",
              "      <th>2</th>\n",
              "      <td>https://rent.591.com.tw/rent-detail-1586266.html</td>\n",
              "      <td>2017-05-12</td>\n",
              "      <td>陽台大套房(獨立洗衣機)近頂溪捷運站</td>\n",
              "      <td>新北市永和區中山路一段</td>\n",
              "      <td>8F/12F</td>\n",
              "      <td>11,000元/月</td>\n",
              "      <td>NaN</td>\n",
              "      <td>8.0</td>\n",
              "      <td>電梯大樓/分租套房</td>\n",
              "      <td>25.010293</td>\n",
              "      <td>121.511328</td>\n",
              "    </tr>\n",
              "    <tr>\n",
              "      <th>3</th>\n",
              "      <td>https://rent.591.com.tw/rent-detail-1699948.html</td>\n",
              "      <td>2017-05-13</td>\n",
              "      <td>火車站附近~~優質套房</td>\n",
              "      <td>屏東縣潮州鎮六合路</td>\n",
              "      <td>3F/3F</td>\n",
              "      <td>5,000元/月</td>\n",
              "      <td>NaN</td>\n",
              "      <td>8.0</td>\n",
              "      <td>透天厝/獨立套房</td>\n",
              "      <td>22.551346</td>\n",
              "      <td>120.538032</td>\n",
              "    </tr>\n",
              "    <tr>\n",
              "      <th>4</th>\n",
              "      <td>https://rent.591.com.tw/rent-detail-1404725.html</td>\n",
              "      <td>2017-05-12</td>\n",
              "      <td>觀音四維路優質陽台套房</td>\n",
              "      <td>桃園市觀音區四維路</td>\n",
              "      <td>4F/5F</td>\n",
              "      <td>5,000元/月</td>\n",
              "      <td>NaN</td>\n",
              "      <td>7.0</td>\n",
              "      <td>透天厝/分租套房</td>\n",
              "      <td>25.043652</td>\n",
              "      <td>121.141518</td>\n",
              "    </tr>\n",
              "  </tbody>\n",
              "</table>\n",
              "</div>"
            ],
            "text/plain": [
              "                                         detail_url  ...   longitude\n",
              "0  https://rent.591.com.tw/rent-detail-1050934.html  ...  120.250810\n",
              "1  https://rent.591.com.tw/rent-detail-1008046.html  ...  121.461868\n",
              "2  https://rent.591.com.tw/rent-detail-1586266.html  ...  121.511328\n",
              "3  https://rent.591.com.tw/rent-detail-1699948.html  ...  120.538032\n",
              "4  https://rent.591.com.tw/rent-detail-1404725.html  ...  121.141518\n",
              "\n",
              "[5 rows x 11 columns]"
            ]
          },
          "metadata": {
            "tags": []
          },
          "execution_count": 294
        }
      ]
    },
    {
      "cell_type": "code",
      "metadata": {
        "id": "5coBhOmTAwvW",
        "colab_type": "code",
        "colab": {}
      },
      "source": [
        "import pandas\n",
        "df['search_date'] = pandas.to_datetime(df['search_date'], format = '%Y-%m-%d')"
      ],
      "execution_count": 0,
      "outputs": []
    },
    {
      "cell_type": "code",
      "metadata": {
        "id": "CIS67_mXBFa9",
        "colab_type": "code",
        "colab": {
          "base_uri": "https://localhost:8080/",
          "height": 329
        },
        "outputId": "e6ce57bd-d540-4604-c68e-25680ada8964"
      },
      "source": [
        "df.info()"
      ],
      "execution_count": 297,
      "outputs": [
        {
          "output_type": "stream",
          "text": [
            "<class 'pandas.core.frame.DataFrame'>\n",
            "Int64Index: 70315 entries, 0 to 70314\n",
            "Data columns (total 11 columns):\n",
            " #   Column         Non-Null Count  Dtype         \n",
            "---  ------         --------------  -----         \n",
            " 0   detail_url     70315 non-null  object        \n",
            " 1   search_date    70315 non-null  datetime64[ns]\n",
            " 2   title          70315 non-null  object        \n",
            " 3   address        70315 non-null  object        \n",
            " 4   floor_info     69686 non-null  object        \n",
            " 5   price          70315 non-null  object        \n",
            " 6   layout         22630 non-null  object        \n",
            " 7   building_area  70315 non-null  float64       \n",
            " 8   building_use   65330 non-null  object        \n",
            " 9   latitude       70315 non-null  float64       \n",
            " 10  longitude      70315 non-null  float64       \n",
            "dtypes: datetime64[ns](1), float64(3), object(7)\n",
            "memory usage: 6.4+ MB\n"
          ],
          "name": "stdout"
        }
      ]
    },
    {
      "cell_type": "code",
      "metadata": {
        "id": "3RGBP7hqBJoR",
        "colab_type": "code",
        "colab": {
          "base_uri": "https://localhost:8080/",
          "height": 777
        },
        "outputId": "e67e97f2-f22a-406e-f86e-b1b919f1e0ed"
      },
      "source": [
        "df[df['search_date'] >= '2017-05-13'].head()"
      ],
      "execution_count": 301,
      "outputs": [
        {
          "output_type": "execute_result",
          "data": {
            "text/html": [
              "<div>\n",
              "<style scoped>\n",
              "    .dataframe tbody tr th:only-of-type {\n",
              "        vertical-align: middle;\n",
              "    }\n",
              "\n",
              "    .dataframe tbody tr th {\n",
              "        vertical-align: top;\n",
              "    }\n",
              "\n",
              "    .dataframe thead th {\n",
              "        text-align: right;\n",
              "    }\n",
              "</style>\n",
              "<table border=\"1\" class=\"dataframe\">\n",
              "  <thead>\n",
              "    <tr style=\"text-align: right;\">\n",
              "      <th></th>\n",
              "      <th>detail_url</th>\n",
              "      <th>search_date</th>\n",
              "      <th>title</th>\n",
              "      <th>address</th>\n",
              "      <th>floor_info</th>\n",
              "      <th>price</th>\n",
              "      <th>layout</th>\n",
              "      <th>building_area</th>\n",
              "      <th>building_use</th>\n",
              "      <th>latitude</th>\n",
              "      <th>longitude</th>\n",
              "    </tr>\n",
              "  </thead>\n",
              "  <tbody>\n",
              "    <tr>\n",
              "      <th>0</th>\n",
              "      <td>https://rent.591.com.tw/rent-detail-1050934.html</td>\n",
              "      <td>2017-05-14</td>\n",
              "      <td>套房出租-近東方學院(六~八月可入住)</td>\n",
              "      <td>高雄市湖內區民生街</td>\n",
              "      <td>3F/3F</td>\n",
              "      <td>4,500元/月</td>\n",
              "      <td>NaN</td>\n",
              "      <td>6.0</td>\n",
              "      <td>透天厝/獨立套房</td>\n",
              "      <td>22.878436</td>\n",
              "      <td>120.250810</td>\n",
              "    </tr>\n",
              "    <tr>\n",
              "      <th>1</th>\n",
              "      <td>https://rent.591.com.tw/rent-detail-1008046.html</td>\n",
              "      <td>2017-05-14</td>\n",
              "      <td>好房子【聰明的你、妳快來租吧】</td>\n",
              "      <td>新北市蘆洲區長安街</td>\n",
              "      <td>4F/5F</td>\n",
              "      <td>7,500元/月</td>\n",
              "      <td>NaN</td>\n",
              "      <td>10.0</td>\n",
              "      <td>透天厝/獨立套房</td>\n",
              "      <td>25.081558</td>\n",
              "      <td>121.461868</td>\n",
              "    </tr>\n",
              "    <tr>\n",
              "      <th>3</th>\n",
              "      <td>https://rent.591.com.tw/rent-detail-1699948.html</td>\n",
              "      <td>2017-05-13</td>\n",
              "      <td>火車站附近~~優質套房</td>\n",
              "      <td>屏東縣潮州鎮六合路</td>\n",
              "      <td>3F/3F</td>\n",
              "      <td>5,000元/月</td>\n",
              "      <td>NaN</td>\n",
              "      <td>8.0</td>\n",
              "      <td>透天厝/獨立套房</td>\n",
              "      <td>22.551346</td>\n",
              "      <td>120.538032</td>\n",
              "    </tr>\n",
              "    <tr>\n",
              "      <th>6</th>\n",
              "      <td>https://rent.591.com.tw/rent-detail-1299940.html</td>\n",
              "      <td>2017-05-14</td>\n",
              "      <td>近明新、台元/全新完工/飯店式電梯套房</td>\n",
              "      <td>新竹縣新豐鄉康樂路一段</td>\n",
              "      <td>3F/5F</td>\n",
              "      <td>6,500元/月</td>\n",
              "      <td>NaN</td>\n",
              "      <td>7.0</td>\n",
              "      <td>電梯大樓/雅房</td>\n",
              "      <td>24.871279</td>\n",
              "      <td>120.986334</td>\n",
              "    </tr>\n",
              "    <tr>\n",
              "      <th>7</th>\n",
              "      <td>https://rent.591.com.tw/rent-detail-1051432.html</td>\n",
              "      <td>2017-05-14</td>\n",
              "      <td>附網路電視包水費!離逢甲商圈近</td>\n",
              "      <td>台中市西屯區西屯路二段</td>\n",
              "      <td>3F/5F</td>\n",
              "      <td>3,000元/月</td>\n",
              "      <td>NaN</td>\n",
              "      <td>4.0</td>\n",
              "      <td>透天厝/雅房</td>\n",
              "      <td>24.173195</td>\n",
              "      <td>120.645027</td>\n",
              "    </tr>\n",
              "  </tbody>\n",
              "</table>\n",
              "</div>"
            ],
            "text/plain": [
              "                                         detail_url  ...   longitude\n",
              "0  https://rent.591.com.tw/rent-detail-1050934.html  ...  120.250810\n",
              "1  https://rent.591.com.tw/rent-detail-1008046.html  ...  121.461868\n",
              "3  https://rent.591.com.tw/rent-detail-1699948.html  ...  120.538032\n",
              "6  https://rent.591.com.tw/rent-detail-1299940.html  ...  120.986334\n",
              "7  https://rent.591.com.tw/rent-detail-1051432.html  ...  120.645027\n",
              "\n",
              "[5 rows x 11 columns]"
            ]
          },
          "metadata": {
            "tags": []
          },
          "execution_count": 301
        }
      ]
    },
    {
      "cell_type": "code",
      "metadata": {
        "id": "wS27z6FNBRdY",
        "colab_type": "code",
        "colab": {
          "base_uri": "https://localhost:8080/",
          "height": 329
        },
        "outputId": "41683048-d11c-4091-f620-44934b13f407"
      },
      "source": [
        "import pandas\n",
        "df = pandas.read_csv('https://raw.githubusercontent.com/ywchiu/tibamepy/master/data/rent_591_sample2.csv', index_col = 0,parse_dates =['search_date'])\n",
        "df.info()"
      ],
      "execution_count": 303,
      "outputs": [
        {
          "output_type": "stream",
          "text": [
            "<class 'pandas.core.frame.DataFrame'>\n",
            "Int64Index: 70315 entries, 0 to 70314\n",
            "Data columns (total 11 columns):\n",
            " #   Column         Non-Null Count  Dtype         \n",
            "---  ------         --------------  -----         \n",
            " 0   detail_url     70315 non-null  object        \n",
            " 1   search_date    70315 non-null  datetime64[ns]\n",
            " 2   title          70315 non-null  object        \n",
            " 3   address        70315 non-null  object        \n",
            " 4   floor_info     69686 non-null  object        \n",
            " 5   price          70315 non-null  object        \n",
            " 6   layout         22630 non-null  object        \n",
            " 7   building_area  70315 non-null  float64       \n",
            " 8   building_use   65330 non-null  object        \n",
            " 9   latitude       70315 non-null  float64       \n",
            " 10  longitude      70315 non-null  float64       \n",
            "dtypes: datetime64[ns](1), float64(3), object(7)\n",
            "memory usage: 6.4+ MB\n"
          ],
          "name": "stdout"
        }
      ]
    },
    {
      "cell_type": "markdown",
      "metadata": {
        "id": "q_YPs5RICHoS",
        "colab_type": "text"
      },
      "source": [
        "## 虛擬變量"
      ]
    },
    {
      "cell_type": "code",
      "metadata": {
        "id": "5ZooRV6BBniS",
        "colab_type": "code",
        "colab": {
          "base_uri": "https://localhost:8080/",
          "height": 742
        },
        "outputId": "b6caceea-4de2-474d-8ab6-d29470214863"
      },
      "source": [
        "df.head()"
      ],
      "execution_count": 304,
      "outputs": [
        {
          "output_type": "execute_result",
          "data": {
            "text/html": [
              "<div>\n",
              "<style scoped>\n",
              "    .dataframe tbody tr th:only-of-type {\n",
              "        vertical-align: middle;\n",
              "    }\n",
              "\n",
              "    .dataframe tbody tr th {\n",
              "        vertical-align: top;\n",
              "    }\n",
              "\n",
              "    .dataframe thead th {\n",
              "        text-align: right;\n",
              "    }\n",
              "</style>\n",
              "<table border=\"1\" class=\"dataframe\">\n",
              "  <thead>\n",
              "    <tr style=\"text-align: right;\">\n",
              "      <th></th>\n",
              "      <th>detail_url</th>\n",
              "      <th>search_date</th>\n",
              "      <th>title</th>\n",
              "      <th>address</th>\n",
              "      <th>floor_info</th>\n",
              "      <th>price</th>\n",
              "      <th>layout</th>\n",
              "      <th>building_area</th>\n",
              "      <th>building_use</th>\n",
              "      <th>latitude</th>\n",
              "      <th>longitude</th>\n",
              "    </tr>\n",
              "  </thead>\n",
              "  <tbody>\n",
              "    <tr>\n",
              "      <th>0</th>\n",
              "      <td>https://rent.591.com.tw/rent-detail-1050934.html</td>\n",
              "      <td>2017-05-14</td>\n",
              "      <td>套房出租-近東方學院(六~八月可入住)</td>\n",
              "      <td>高雄市湖內區民生街</td>\n",
              "      <td>3F/3F</td>\n",
              "      <td>4,500元/月</td>\n",
              "      <td>NaN</td>\n",
              "      <td>6.0</td>\n",
              "      <td>透天厝/獨立套房</td>\n",
              "      <td>22.878436</td>\n",
              "      <td>120.250810</td>\n",
              "    </tr>\n",
              "    <tr>\n",
              "      <th>1</th>\n",
              "      <td>https://rent.591.com.tw/rent-detail-1008046.html</td>\n",
              "      <td>2017-05-14</td>\n",
              "      <td>好房子【聰明的你、妳快來租吧】</td>\n",
              "      <td>新北市蘆洲區長安街</td>\n",
              "      <td>4F/5F</td>\n",
              "      <td>7,500元/月</td>\n",
              "      <td>NaN</td>\n",
              "      <td>10.0</td>\n",
              "      <td>透天厝/獨立套房</td>\n",
              "      <td>25.081558</td>\n",
              "      <td>121.461868</td>\n",
              "    </tr>\n",
              "    <tr>\n",
              "      <th>2</th>\n",
              "      <td>https://rent.591.com.tw/rent-detail-1586266.html</td>\n",
              "      <td>2017-05-12</td>\n",
              "      <td>陽台大套房(獨立洗衣機)近頂溪捷運站</td>\n",
              "      <td>新北市永和區中山路一段</td>\n",
              "      <td>8F/12F</td>\n",
              "      <td>11,000元/月</td>\n",
              "      <td>NaN</td>\n",
              "      <td>8.0</td>\n",
              "      <td>電梯大樓/分租套房</td>\n",
              "      <td>25.010293</td>\n",
              "      <td>121.511328</td>\n",
              "    </tr>\n",
              "    <tr>\n",
              "      <th>3</th>\n",
              "      <td>https://rent.591.com.tw/rent-detail-1699948.html</td>\n",
              "      <td>2017-05-13</td>\n",
              "      <td>火車站附近~~優質套房</td>\n",
              "      <td>屏東縣潮州鎮六合路</td>\n",
              "      <td>3F/3F</td>\n",
              "      <td>5,000元/月</td>\n",
              "      <td>NaN</td>\n",
              "      <td>8.0</td>\n",
              "      <td>透天厝/獨立套房</td>\n",
              "      <td>22.551346</td>\n",
              "      <td>120.538032</td>\n",
              "    </tr>\n",
              "    <tr>\n",
              "      <th>4</th>\n",
              "      <td>https://rent.591.com.tw/rent-detail-1404725.html</td>\n",
              "      <td>2017-05-12</td>\n",
              "      <td>觀音四維路優質陽台套房</td>\n",
              "      <td>桃園市觀音區四維路</td>\n",
              "      <td>4F/5F</td>\n",
              "      <td>5,000元/月</td>\n",
              "      <td>NaN</td>\n",
              "      <td>7.0</td>\n",
              "      <td>透天厝/分租套房</td>\n",
              "      <td>25.043652</td>\n",
              "      <td>121.141518</td>\n",
              "    </tr>\n",
              "  </tbody>\n",
              "</table>\n",
              "</div>"
            ],
            "text/plain": [
              "                                         detail_url  ...   longitude\n",
              "0  https://rent.591.com.tw/rent-detail-1050934.html  ...  120.250810\n",
              "1  https://rent.591.com.tw/rent-detail-1008046.html  ...  121.461868\n",
              "2  https://rent.591.com.tw/rent-detail-1586266.html  ...  121.511328\n",
              "3  https://rent.591.com.tw/rent-detail-1699948.html  ...  120.538032\n",
              "4  https://rent.591.com.tw/rent-detail-1404725.html  ...  121.141518\n",
              "\n",
              "[5 rows x 11 columns]"
            ]
          },
          "metadata": {
            "tags": []
          },
          "execution_count": 304
        }
      ]
    },
    {
      "cell_type": "code",
      "metadata": {
        "id": "4HZpK-ZMCL4x",
        "colab_type": "code",
        "colab": {
          "base_uri": "https://localhost:8080/",
          "height": 139
        },
        "outputId": "61cd64cd-a3fc-4e13-bef4-2da069fe68b3"
      },
      "source": [
        "df['building_use'].unique()"
      ],
      "execution_count": 306,
      "outputs": [
        {
          "output_type": "execute_result",
          "data": {
            "text/plain": [
              "array(['透天厝/獨立套房', '電梯大樓/分租套房', '透天厝/分租套房', '電梯大樓/整層住家', '電梯大樓/雅房',\n",
              "       '透天厝/雅房', '電梯大樓/獨立套房', '公寓/獨立套房', '透天厝/辦公', '透天厝/住辦', '透天厝/整層住家',\n",
              "       '透天厝/店面', '公寓/整層住家', '電梯大樓/店面', '別墅/獨立套房', '公寓/分租套房', nan,\n",
              "       '電梯大樓/住辦', '電梯大樓/辦公', '公寓/店面', '公寓/辦公', '公寓/雅房', '別墅/分租套房',\n",
              "       '別墅/整層住家', '公寓/住辦', '別墅/店面', '別墅/住辦', '倉庫/其他', '透天厝/其他', '電梯大樓/其他',\n",
              "       '廠房/其他', '別墅/辦公', '別墅/其他', '廠辦/其他', '別墅/雅房', '公寓/其他', '其他/其他'],\n",
              "      dtype=object)"
            ]
          },
          "metadata": {
            "tags": []
          },
          "execution_count": 306
        }
      ]
    },
    {
      "cell_type": "code",
      "metadata": {
        "id": "xuvZVqWZCa0u",
        "colab_type": "code",
        "colab": {}
      },
      "source": [
        "import pandas\n",
        "building_use = pandas.get_dummies(df['building_use'])"
      ],
      "execution_count": 0,
      "outputs": []
    },
    {
      "cell_type": "code",
      "metadata": {
        "id": "lQ-2KQSPClhq",
        "colab_type": "code",
        "colab": {}
      },
      "source": [
        "df = pd.concat([df, pandas.get_dummies(df['building_use'])], axis=1)"
      ],
      "execution_count": 0,
      "outputs": []
    },
    {
      "cell_type": "code",
      "metadata": {
        "id": "WK86tuihDJZx",
        "colab_type": "code",
        "colab": {
          "base_uri": "https://localhost:8080/",
          "height": 646
        },
        "outputId": "451f029d-6910-4fe9-ce08-a0331eee4625"
      },
      "source": [
        "df.head(3)"
      ],
      "execution_count": 311,
      "outputs": [
        {
          "output_type": "execute_result",
          "data": {
            "text/html": [
              "<div>\n",
              "<style scoped>\n",
              "    .dataframe tbody tr th:only-of-type {\n",
              "        vertical-align: middle;\n",
              "    }\n",
              "\n",
              "    .dataframe tbody tr th {\n",
              "        vertical-align: top;\n",
              "    }\n",
              "\n",
              "    .dataframe thead th {\n",
              "        text-align: right;\n",
              "    }\n",
              "</style>\n",
              "<table border=\"1\" class=\"dataframe\">\n",
              "  <thead>\n",
              "    <tr style=\"text-align: right;\">\n",
              "      <th></th>\n",
              "      <th>detail_url</th>\n",
              "      <th>search_date</th>\n",
              "      <th>title</th>\n",
              "      <th>address</th>\n",
              "      <th>floor_info</th>\n",
              "      <th>price</th>\n",
              "      <th>layout</th>\n",
              "      <th>building_area</th>\n",
              "      <th>building_use</th>\n",
              "      <th>latitude</th>\n",
              "      <th>longitude</th>\n",
              "      <th>倉庫/其他</th>\n",
              "      <th>公寓/住辦</th>\n",
              "      <th>公寓/其他</th>\n",
              "      <th>公寓/分租套房</th>\n",
              "      <th>公寓/店面</th>\n",
              "      <th>公寓/整層住家</th>\n",
              "      <th>公寓/獨立套房</th>\n",
              "      <th>公寓/辦公</th>\n",
              "      <th>公寓/雅房</th>\n",
              "      <th>其他/其他</th>\n",
              "      <th>別墅/住辦</th>\n",
              "      <th>別墅/其他</th>\n",
              "      <th>別墅/分租套房</th>\n",
              "      <th>別墅/店面</th>\n",
              "      <th>別墅/整層住家</th>\n",
              "      <th>別墅/獨立套房</th>\n",
              "      <th>別墅/辦公</th>\n",
              "      <th>別墅/雅房</th>\n",
              "      <th>廠房/其他</th>\n",
              "      <th>廠辦/其他</th>\n",
              "      <th>透天厝/住辦</th>\n",
              "      <th>透天厝/其他</th>\n",
              "      <th>透天厝/分租套房</th>\n",
              "      <th>透天厝/店面</th>\n",
              "      <th>透天厝/整層住家</th>\n",
              "      <th>透天厝/獨立套房</th>\n",
              "      <th>透天厝/辦公</th>\n",
              "      <th>透天厝/雅房</th>\n",
              "      <th>電梯大樓/住辦</th>\n",
              "      <th>電梯大樓/其他</th>\n",
              "      <th>電梯大樓/分租套房</th>\n",
              "      <th>電梯大樓/店面</th>\n",
              "      <th>電梯大樓/整層住家</th>\n",
              "      <th>電梯大樓/獨立套房</th>\n",
              "      <th>電梯大樓/辦公</th>\n",
              "      <th>電梯大樓/雅房</th>\n",
              "    </tr>\n",
              "  </thead>\n",
              "  <tbody>\n",
              "    <tr>\n",
              "      <th>0</th>\n",
              "      <td>https://rent.591.com.tw/rent-detail-1050934.html</td>\n",
              "      <td>2017-05-14</td>\n",
              "      <td>套房出租-近東方學院(六~八月可入住)</td>\n",
              "      <td>高雄市湖內區民生街</td>\n",
              "      <td>3F/3F</td>\n",
              "      <td>4,500元/月</td>\n",
              "      <td>NaN</td>\n",
              "      <td>6.0</td>\n",
              "      <td>透天厝/獨立套房</td>\n",
              "      <td>22.878436</td>\n",
              "      <td>120.250810</td>\n",
              "      <td>0</td>\n",
              "      <td>0</td>\n",
              "      <td>0</td>\n",
              "      <td>0</td>\n",
              "      <td>0</td>\n",
              "      <td>0</td>\n",
              "      <td>0</td>\n",
              "      <td>0</td>\n",
              "      <td>0</td>\n",
              "      <td>0</td>\n",
              "      <td>0</td>\n",
              "      <td>0</td>\n",
              "      <td>0</td>\n",
              "      <td>0</td>\n",
              "      <td>0</td>\n",
              "      <td>0</td>\n",
              "      <td>0</td>\n",
              "      <td>0</td>\n",
              "      <td>0</td>\n",
              "      <td>0</td>\n",
              "      <td>0</td>\n",
              "      <td>0</td>\n",
              "      <td>0</td>\n",
              "      <td>0</td>\n",
              "      <td>0</td>\n",
              "      <td>1</td>\n",
              "      <td>0</td>\n",
              "      <td>0</td>\n",
              "      <td>0</td>\n",
              "      <td>0</td>\n",
              "      <td>0</td>\n",
              "      <td>0</td>\n",
              "      <td>0</td>\n",
              "      <td>0</td>\n",
              "      <td>0</td>\n",
              "      <td>0</td>\n",
              "    </tr>\n",
              "    <tr>\n",
              "      <th>1</th>\n",
              "      <td>https://rent.591.com.tw/rent-detail-1008046.html</td>\n",
              "      <td>2017-05-14</td>\n",
              "      <td>好房子【聰明的你、妳快來租吧】</td>\n",
              "      <td>新北市蘆洲區長安街</td>\n",
              "      <td>4F/5F</td>\n",
              "      <td>7,500元/月</td>\n",
              "      <td>NaN</td>\n",
              "      <td>10.0</td>\n",
              "      <td>透天厝/獨立套房</td>\n",
              "      <td>25.081558</td>\n",
              "      <td>121.461868</td>\n",
              "      <td>0</td>\n",
              "      <td>0</td>\n",
              "      <td>0</td>\n",
              "      <td>0</td>\n",
              "      <td>0</td>\n",
              "      <td>0</td>\n",
              "      <td>0</td>\n",
              "      <td>0</td>\n",
              "      <td>0</td>\n",
              "      <td>0</td>\n",
              "      <td>0</td>\n",
              "      <td>0</td>\n",
              "      <td>0</td>\n",
              "      <td>0</td>\n",
              "      <td>0</td>\n",
              "      <td>0</td>\n",
              "      <td>0</td>\n",
              "      <td>0</td>\n",
              "      <td>0</td>\n",
              "      <td>0</td>\n",
              "      <td>0</td>\n",
              "      <td>0</td>\n",
              "      <td>0</td>\n",
              "      <td>0</td>\n",
              "      <td>0</td>\n",
              "      <td>1</td>\n",
              "      <td>0</td>\n",
              "      <td>0</td>\n",
              "      <td>0</td>\n",
              "      <td>0</td>\n",
              "      <td>0</td>\n",
              "      <td>0</td>\n",
              "      <td>0</td>\n",
              "      <td>0</td>\n",
              "      <td>0</td>\n",
              "      <td>0</td>\n",
              "    </tr>\n",
              "    <tr>\n",
              "      <th>2</th>\n",
              "      <td>https://rent.591.com.tw/rent-detail-1586266.html</td>\n",
              "      <td>2017-05-12</td>\n",
              "      <td>陽台大套房(獨立洗衣機)近頂溪捷運站</td>\n",
              "      <td>新北市永和區中山路一段</td>\n",
              "      <td>8F/12F</td>\n",
              "      <td>11,000元/月</td>\n",
              "      <td>NaN</td>\n",
              "      <td>8.0</td>\n",
              "      <td>電梯大樓/分租套房</td>\n",
              "      <td>25.010293</td>\n",
              "      <td>121.511328</td>\n",
              "      <td>0</td>\n",
              "      <td>0</td>\n",
              "      <td>0</td>\n",
              "      <td>0</td>\n",
              "      <td>0</td>\n",
              "      <td>0</td>\n",
              "      <td>0</td>\n",
              "      <td>0</td>\n",
              "      <td>0</td>\n",
              "      <td>0</td>\n",
              "      <td>0</td>\n",
              "      <td>0</td>\n",
              "      <td>0</td>\n",
              "      <td>0</td>\n",
              "      <td>0</td>\n",
              "      <td>0</td>\n",
              "      <td>0</td>\n",
              "      <td>0</td>\n",
              "      <td>0</td>\n",
              "      <td>0</td>\n",
              "      <td>0</td>\n",
              "      <td>0</td>\n",
              "      <td>0</td>\n",
              "      <td>0</td>\n",
              "      <td>0</td>\n",
              "      <td>0</td>\n",
              "      <td>0</td>\n",
              "      <td>0</td>\n",
              "      <td>0</td>\n",
              "      <td>0</td>\n",
              "      <td>1</td>\n",
              "      <td>0</td>\n",
              "      <td>0</td>\n",
              "      <td>0</td>\n",
              "      <td>0</td>\n",
              "      <td>0</td>\n",
              "    </tr>\n",
              "  </tbody>\n",
              "</table>\n",
              "</div>"
            ],
            "text/plain": [
              "                                         detail_url  ... 電梯大樓/雅房\n",
              "0  https://rent.591.com.tw/rent-detail-1050934.html  ...       0\n",
              "1  https://rent.591.com.tw/rent-detail-1008046.html  ...       0\n",
              "2  https://rent.591.com.tw/rent-detail-1586266.html  ...       0\n",
              "\n",
              "[3 rows x 47 columns]"
            ]
          },
          "metadata": {
            "tags": []
          },
          "execution_count": 311
        }
      ]
    },
    {
      "cell_type": "code",
      "metadata": {
        "id": "LysvdneKDKVS",
        "colab_type": "code",
        "colab": {}
      },
      "source": [
        "df.drop('building_use', axis=1, inplace=True)"
      ],
      "execution_count": 0,
      "outputs": []
    },
    {
      "cell_type": "code",
      "metadata": {
        "id": "-dGDR7P5DRN9",
        "colab_type": "code",
        "colab": {
          "base_uri": "https://localhost:8080/",
          "height": 329
        },
        "outputId": "fe052204-ea3b-4dc3-c89d-1dc74af3939b"
      },
      "source": [
        "import pandas\n",
        "df = pandas.read_csv('https://raw.githubusercontent.com/ywchiu/tibamepy/master/data/rent_591_sample2.csv', index_col = 0,parse_dates =['search_date'])\n",
        "df.info()"
      ],
      "execution_count": 313,
      "outputs": [
        {
          "output_type": "stream",
          "text": [
            "<class 'pandas.core.frame.DataFrame'>\n",
            "Int64Index: 70315 entries, 0 to 70314\n",
            "Data columns (total 11 columns):\n",
            " #   Column         Non-Null Count  Dtype         \n",
            "---  ------         --------------  -----         \n",
            " 0   detail_url     70315 non-null  object        \n",
            " 1   search_date    70315 non-null  datetime64[ns]\n",
            " 2   title          70315 non-null  object        \n",
            " 3   address        70315 non-null  object        \n",
            " 4   floor_info     69686 non-null  object        \n",
            " 5   price          70315 non-null  object        \n",
            " 6   layout         22630 non-null  object        \n",
            " 7   building_area  70315 non-null  float64       \n",
            " 8   building_use   65330 non-null  object        \n",
            " 9   latitude       70315 non-null  float64       \n",
            " 10  longitude      70315 non-null  float64       \n",
            "dtypes: datetime64[ns](1), float64(3), object(7)\n",
            "memory usage: 6.4+ MB\n"
          ],
          "name": "stdout"
        }
      ]
    },
    {
      "cell_type": "code",
      "metadata": {
        "id": "xNtgAylpD6js",
        "colab_type": "code",
        "colab": {
          "base_uri": "https://localhost:8080/",
          "height": 35
        },
        "outputId": "ad91568b-0cb5-46c0-a252-d93c6ebed053"
      },
      "source": [
        "s = '透天厝/獨立套房'\n",
        "s.split('/')[0]"
      ],
      "execution_count": 315,
      "outputs": [
        {
          "output_type": "execute_result",
          "data": {
            "text/plain": [
              "'透天厝'"
            ]
          },
          "metadata": {
            "tags": []
          },
          "execution_count": 315
        }
      ]
    },
    {
      "cell_type": "code",
      "metadata": {
        "id": "-jajygxADwhA",
        "colab_type": "code",
        "colab": {}
      },
      "source": [
        "df.dropna(inplace=True)\n",
        "df['btype'] = df['building_use'].map(lambda s: s.split('/')[0])\n",
        "df['buse'] = df['building_use'].map(lambda s: s.split('/')[1])"
      ],
      "execution_count": 0,
      "outputs": []
    },
    {
      "cell_type": "code",
      "metadata": {
        "id": "we3Qf2xFErJc",
        "colab_type": "code",
        "colab": {}
      },
      "source": [
        "df['price'] = df['price'].map(lambda s: int(s.replace('元/月','').replace(',','')))"
      ],
      "execution_count": 0,
      "outputs": []
    },
    {
      "cell_type": "code",
      "metadata": {
        "id": "463mwDpyDzOX",
        "colab_type": "code",
        "colab": {
          "base_uri": "https://localhost:8080/",
          "height": 325
        },
        "outputId": "90b59092-58b0-4fec-c0a0-e0b6828d4e88"
      },
      "source": [
        "df.pivot_table(index = 'btype', columns = 'buse', values = 'price', aggfunc=sum)"
      ],
      "execution_count": 324,
      "outputs": [
        {
          "output_type": "execute_result",
          "data": {
            "text/html": [
              "<div>\n",
              "<style scoped>\n",
              "    .dataframe tbody tr th:only-of-type {\n",
              "        vertical-align: middle;\n",
              "    }\n",
              "\n",
              "    .dataframe tbody tr th {\n",
              "        vertical-align: top;\n",
              "    }\n",
              "\n",
              "    .dataframe thead th {\n",
              "        text-align: right;\n",
              "    }\n",
              "</style>\n",
              "<table border=\"1\" class=\"dataframe\">\n",
              "  <thead>\n",
              "    <tr style=\"text-align: right;\">\n",
              "      <th>buse</th>\n",
              "      <th>住辦</th>\n",
              "      <th>其他</th>\n",
              "      <th>整層住家</th>\n",
              "    </tr>\n",
              "    <tr>\n",
              "      <th>btype</th>\n",
              "      <th></th>\n",
              "      <th></th>\n",
              "      <th></th>\n",
              "    </tr>\n",
              "  </thead>\n",
              "  <tbody>\n",
              "    <tr>\n",
              "      <th>倉庫</th>\n",
              "      <td>NaN</td>\n",
              "      <td>1346415.0</td>\n",
              "      <td>NaN</td>\n",
              "    </tr>\n",
              "    <tr>\n",
              "      <th>公寓</th>\n",
              "      <td>5873999.0</td>\n",
              "      <td>556799.0</td>\n",
              "      <td>57290660.0</td>\n",
              "    </tr>\n",
              "    <tr>\n",
              "      <th>其他</th>\n",
              "      <td>NaN</td>\n",
              "      <td>17100.0</td>\n",
              "      <td>NaN</td>\n",
              "    </tr>\n",
              "    <tr>\n",
              "      <th>別墅</th>\n",
              "      <td>940100.0</td>\n",
              "      <td>2311700.0</td>\n",
              "      <td>22684795.0</td>\n",
              "    </tr>\n",
              "    <tr>\n",
              "      <th>廠房</th>\n",
              "      <td>NaN</td>\n",
              "      <td>2598200.0</td>\n",
              "      <td>NaN</td>\n",
              "    </tr>\n",
              "    <tr>\n",
              "      <th>廠辦</th>\n",
              "      <td>NaN</td>\n",
              "      <td>2195000.0</td>\n",
              "      <td>NaN</td>\n",
              "    </tr>\n",
              "    <tr>\n",
              "      <th>透天厝</th>\n",
              "      <td>8044798.0</td>\n",
              "      <td>3680399.0</td>\n",
              "      <td>33155785.0</td>\n",
              "    </tr>\n",
              "    <tr>\n",
              "      <th>電梯大樓</th>\n",
              "      <td>25806079.0</td>\n",
              "      <td>15918990.0</td>\n",
              "      <td>536152115.0</td>\n",
              "    </tr>\n",
              "  </tbody>\n",
              "</table>\n",
              "</div>"
            ],
            "text/plain": [
              "buse           住辦          其他         整層住家\n",
              "btype                                     \n",
              "倉庫            NaN   1346415.0          NaN\n",
              "公寓      5873999.0    556799.0   57290660.0\n",
              "其他            NaN     17100.0          NaN\n",
              "別墅       940100.0   2311700.0   22684795.0\n",
              "廠房            NaN   2598200.0          NaN\n",
              "廠辦            NaN   2195000.0          NaN\n",
              "透天厝     8044798.0   3680399.0   33155785.0\n",
              "電梯大樓   25806079.0  15918990.0  536152115.0"
            ]
          },
          "metadata": {
            "tags": []
          },
          "execution_count": 324
        }
      ]
    },
    {
      "cell_type": "code",
      "metadata": {
        "id": "aZuq76ANEf45",
        "colab_type": "code",
        "colab": {
          "base_uri": "https://localhost:8080/",
          "height": 171
        },
        "outputId": "e4c1c9cb-66db-4f4c-9d41-07fa286f78f7"
      },
      "source": [
        "df.pivot_table(index = 'buse', columns = 'btype', values = 'price', aggfunc=sum)"
      ],
      "execution_count": 325,
      "outputs": [
        {
          "output_type": "execute_result",
          "data": {
            "text/html": [
              "<div>\n",
              "<style scoped>\n",
              "    .dataframe tbody tr th:only-of-type {\n",
              "        vertical-align: middle;\n",
              "    }\n",
              "\n",
              "    .dataframe tbody tr th {\n",
              "        vertical-align: top;\n",
              "    }\n",
              "\n",
              "    .dataframe thead th {\n",
              "        text-align: right;\n",
              "    }\n",
              "</style>\n",
              "<table border=\"1\" class=\"dataframe\">\n",
              "  <thead>\n",
              "    <tr style=\"text-align: right;\">\n",
              "      <th>btype</th>\n",
              "      <th>倉庫</th>\n",
              "      <th>公寓</th>\n",
              "      <th>其他</th>\n",
              "      <th>別墅</th>\n",
              "      <th>廠房</th>\n",
              "      <th>廠辦</th>\n",
              "      <th>透天厝</th>\n",
              "      <th>電梯大樓</th>\n",
              "    </tr>\n",
              "    <tr>\n",
              "      <th>buse</th>\n",
              "      <th></th>\n",
              "      <th></th>\n",
              "      <th></th>\n",
              "      <th></th>\n",
              "      <th></th>\n",
              "      <th></th>\n",
              "      <th></th>\n",
              "      <th></th>\n",
              "    </tr>\n",
              "  </thead>\n",
              "  <tbody>\n",
              "    <tr>\n",
              "      <th>住辦</th>\n",
              "      <td>NaN</td>\n",
              "      <td>5873999.0</td>\n",
              "      <td>NaN</td>\n",
              "      <td>940100.0</td>\n",
              "      <td>NaN</td>\n",
              "      <td>NaN</td>\n",
              "      <td>8044798.0</td>\n",
              "      <td>25806079.0</td>\n",
              "    </tr>\n",
              "    <tr>\n",
              "      <th>其他</th>\n",
              "      <td>1346415.0</td>\n",
              "      <td>556799.0</td>\n",
              "      <td>17100.0</td>\n",
              "      <td>2311700.0</td>\n",
              "      <td>2598200.0</td>\n",
              "      <td>2195000.0</td>\n",
              "      <td>3680399.0</td>\n",
              "      <td>15918990.0</td>\n",
              "    </tr>\n",
              "    <tr>\n",
              "      <th>整層住家</th>\n",
              "      <td>NaN</td>\n",
              "      <td>57290660.0</td>\n",
              "      <td>NaN</td>\n",
              "      <td>22684795.0</td>\n",
              "      <td>NaN</td>\n",
              "      <td>NaN</td>\n",
              "      <td>33155785.0</td>\n",
              "      <td>536152115.0</td>\n",
              "    </tr>\n",
              "  </tbody>\n",
              "</table>\n",
              "</div>"
            ],
            "text/plain": [
              "btype         倉庫          公寓       其他  ...         廠辦         透天厝         電梯大樓\n",
              "buse                                   ...                                    \n",
              "住辦           NaN   5873999.0      NaN  ...        NaN   8044798.0   25806079.0\n",
              "其他     1346415.0    556799.0  17100.0  ...  2195000.0   3680399.0   15918990.0\n",
              "整層住家         NaN  57290660.0      NaN  ...        NaN  33155785.0  536152115.0\n",
              "\n",
              "[3 rows x 8 columns]"
            ]
          },
          "metadata": {
            "tags": []
          },
          "execution_count": 325
        }
      ]
    },
    {
      "cell_type": "markdown",
      "metadata": {
        "id": "pPDYiV1HFseD",
        "colab_type": "text"
      },
      "source": [
        "## Pandas Aggregation"
      ]
    },
    {
      "cell_type": "code",
      "metadata": {
        "id": "pWb425xxFQml",
        "colab_type": "code",
        "colab": {
          "base_uri": "https://localhost:8080/",
          "height": 577
        },
        "outputId": "eb844bfc-0cff-4622-b948-279c95edc1fd"
      },
      "source": [
        "df.head(3)  "
      ],
      "execution_count": 326,
      "outputs": [
        {
          "output_type": "execute_result",
          "data": {
            "text/html": [
              "<div>\n",
              "<style scoped>\n",
              "    .dataframe tbody tr th:only-of-type {\n",
              "        vertical-align: middle;\n",
              "    }\n",
              "\n",
              "    .dataframe tbody tr th {\n",
              "        vertical-align: top;\n",
              "    }\n",
              "\n",
              "    .dataframe thead th {\n",
              "        text-align: right;\n",
              "    }\n",
              "</style>\n",
              "<table border=\"1\" class=\"dataframe\">\n",
              "  <thead>\n",
              "    <tr style=\"text-align: right;\">\n",
              "      <th></th>\n",
              "      <th>detail_url</th>\n",
              "      <th>search_date</th>\n",
              "      <th>title</th>\n",
              "      <th>address</th>\n",
              "      <th>floor_info</th>\n",
              "      <th>price</th>\n",
              "      <th>layout</th>\n",
              "      <th>building_area</th>\n",
              "      <th>building_use</th>\n",
              "      <th>latitude</th>\n",
              "      <th>longitude</th>\n",
              "      <th>btype</th>\n",
              "      <th>buse</th>\n",
              "    </tr>\n",
              "  </thead>\n",
              "  <tbody>\n",
              "    <tr>\n",
              "      <th>5</th>\n",
              "      <td>https://rent.591.com.tw/rent-detail-1633388.html</td>\n",
              "      <td>2017-05-12</td>\n",
              "      <td>近捷運，採光佳，有景觀，全新家電裝潢</td>\n",
              "      <td>新北市淡水區民族路</td>\n",
              "      <td>9F/11F</td>\n",
              "      <td>22000</td>\n",
              "      <td>2房1廳1衛1陽臺</td>\n",
              "      <td>24.0</td>\n",
              "      <td>電梯大樓/整層住家</td>\n",
              "      <td>25.136948</td>\n",
              "      <td>121.462779</td>\n",
              "      <td>電梯大樓</td>\n",
              "      <td>整層住家</td>\n",
              "    </tr>\n",
              "    <tr>\n",
              "      <th>9</th>\n",
              "      <td>https://rent.591.com.tw/rent-detail-1245175.html</td>\n",
              "      <td>2017-05-14</td>\n",
              "      <td>大衛營優質社區管理好，交通便利、裝潢佳</td>\n",
              "      <td>基隆市安樂區樂利三街</td>\n",
              "      <td>14F/18F</td>\n",
              "      <td>17000</td>\n",
              "      <td>2房1廳2衛2陽臺</td>\n",
              "      <td>32.0</td>\n",
              "      <td>電梯大樓/整層住家</td>\n",
              "      <td>25.130052</td>\n",
              "      <td>121.720788</td>\n",
              "      <td>電梯大樓</td>\n",
              "      <td>整層住家</td>\n",
              "    </tr>\n",
              "    <tr>\n",
              "      <th>13</th>\n",
              "      <td>https://rent.591.com.tw/rent-detail-2042141.html</td>\n",
              "      <td>2017-05-14</td>\n",
              "      <td>家樂福夜市附近，雅房出租2房2廳</td>\n",
              "      <td>嘉義市西區興業西路</td>\n",
              "      <td>7F/8F</td>\n",
              "      <td>7500</td>\n",
              "      <td>2房2廳1衛1陽臺</td>\n",
              "      <td>24.0</td>\n",
              "      <td>電梯大樓/整層住家</td>\n",
              "      <td>23.468374</td>\n",
              "      <td>120.434201</td>\n",
              "      <td>電梯大樓</td>\n",
              "      <td>整層住家</td>\n",
              "    </tr>\n",
              "  </tbody>\n",
              "</table>\n",
              "</div>"
            ],
            "text/plain": [
              "                                          detail_url search_date  ... btype  buse\n",
              "5   https://rent.591.com.tw/rent-detail-1633388.html  2017-05-12  ...  電梯大樓  整層住家\n",
              "9   https://rent.591.com.tw/rent-detail-1245175.html  2017-05-14  ...  電梯大樓  整層住家\n",
              "13  https://rent.591.com.tw/rent-detail-2042141.html  2017-05-14  ...  電梯大樓  整層住家\n",
              "\n",
              "[3 rows x 13 columns]"
            ]
          },
          "metadata": {
            "tags": []
          },
          "execution_count": 326
        }
      ]
    },
    {
      "cell_type": "code",
      "metadata": {
        "id": "uAGDfWkLFxhA",
        "colab_type": "code",
        "colab": {}
      },
      "source": [
        "# SELECT btype, AVG(price) FROM df GROUP BY btype;"
      ],
      "execution_count": 0,
      "outputs": []
    },
    {
      "cell_type": "code",
      "metadata": {
        "id": "WrZOGg0yF_Oa",
        "colab_type": "code",
        "colab": {
          "base_uri": "https://localhost:8080/",
          "height": 191
        },
        "outputId": "085a56e2-86c4-4425-eae5-5a25e251b3a8"
      },
      "source": [
        "df.groupby('btype')['price'].mean()"
      ],
      "execution_count": 328,
      "outputs": [
        {
          "output_type": "execute_result",
          "data": {
            "text/plain": [
              "btype\n",
              "倉庫       25404.056604\n",
              "公寓       19906.734770\n",
              "其他        5700.000000\n",
              "別墅       52716.656504\n",
              "廠房       76417.647059\n",
              "廠辦      104523.809524\n",
              "透天厝      23796.915164\n",
              "電梯大樓     35167.793574\n",
              "Name: price, dtype: float64"
            ]
          },
          "metadata": {
            "tags": []
          },
          "execution_count": 328
        }
      ]
    },
    {
      "cell_type": "code",
      "metadata": {
        "id": "vpkpW5EsGDcz",
        "colab_type": "code",
        "colab": {
          "base_uri": "https://localhost:8080/",
          "height": 329
        },
        "outputId": "88bc4d46-aa9f-4bf3-9f73-600e5dca4b69"
      },
      "source": [
        "df.groupby(['btype', 'buse'])['price'].mean()"
      ],
      "execution_count": 329,
      "outputs": [
        {
          "output_type": "execute_result",
          "data": {
            "text/plain": [
              "btype  buse\n",
              "倉庫     其他       25404.056604\n",
              "公寓     住辦       28105.258373\n",
              "       其他       18559.966667\n",
              "       整層住家     19341.883862\n",
              "其他     其他        5700.000000\n",
              "別墅     住辦       58756.250000\n",
              "       其他       59274.358974\n",
              "       整層住家     51910.286041\n",
              "廠房     其他       76417.647059\n",
              "廠辦     其他      104523.809524\n",
              "透天厝    住辦       35596.451327\n",
              "       其他       32284.201754\n",
              "       整層住家     21446.173997\n",
              "電梯大樓   住辦       42305.047541\n",
              "       其他       85128.288770\n",
              "       整層住家     34291.788615\n",
              "Name: price, dtype: float64"
            ]
          },
          "metadata": {
            "tags": []
          },
          "execution_count": 329
        }
      ]
    },
    {
      "cell_type": "code",
      "metadata": {
        "id": "GZOgiEocGLtd",
        "colab_type": "code",
        "colab": {
          "base_uri": "https://localhost:8080/",
          "height": 329
        },
        "outputId": "23fc6c0c-93bd-496f-fc43-9fdd8cbe267d"
      },
      "source": [
        "df.groupby(['btype', 'buse'])['price'].sum()"
      ],
      "execution_count": 330,
      "outputs": [
        {
          "output_type": "execute_result",
          "data": {
            "text/plain": [
              "btype  buse\n",
              "倉庫     其他        1346415\n",
              "公寓     住辦        5873999\n",
              "       其他         556799\n",
              "       整層住家     57290660\n",
              "其他     其他          17100\n",
              "別墅     住辦         940100\n",
              "       其他        2311700\n",
              "       整層住家     22684795\n",
              "廠房     其他        2598200\n",
              "廠辦     其他        2195000\n",
              "透天厝    住辦        8044798\n",
              "       其他        3680399\n",
              "       整層住家     33155785\n",
              "電梯大樓   住辦       25806079\n",
              "       其他       15918990\n",
              "       整層住家    536152115\n",
              "Name: price, dtype: int64"
            ]
          },
          "metadata": {
            "tags": []
          },
          "execution_count": 330
        }
      ]
    },
    {
      "cell_type": "code",
      "metadata": {
        "id": "-41M1p_ZGXCm",
        "colab_type": "code",
        "colab": {
          "base_uri": "https://localhost:8080/",
          "height": 329
        },
        "outputId": "19f289a3-b728-4710-9c8e-4f22d91772e5"
      },
      "source": [
        "df.groupby(['btype', 'buse'])['price'].std()"
      ],
      "execution_count": 331,
      "outputs": [
        {
          "output_type": "execute_result",
          "data": {
            "text/plain": [
              "btype  buse\n",
              "倉庫     其他       39361.417227\n",
              "公寓     住辦       17006.354076\n",
              "       其他       11587.334228\n",
              "       整層住家     12681.761829\n",
              "其他     其他        2066.397832\n",
              "別墅     住辦       96429.103275\n",
              "       其他       45813.671356\n",
              "       整層住家     56040.851310\n",
              "廠房     其他      111988.961768\n",
              "廠辦     其他      128244.539473\n",
              "透天厝    住辦       40912.738009\n",
              "       其他       40159.674238\n",
              "       整層住家     20980.709398\n",
              "電梯大樓   住辦       39623.699360\n",
              "       其他      173998.690249\n",
              "       整層住家     32224.674029\n",
              "Name: price, dtype: float64"
            ]
          },
          "metadata": {
            "tags": []
          },
          "execution_count": 331
        }
      ]
    },
    {
      "cell_type": "code",
      "metadata": {
        "id": "u5YbqJqcGZW1",
        "colab_type": "code",
        "colab": {
          "base_uri": "https://localhost:8080/",
          "height": 191
        },
        "outputId": "1d261a01-114f-4fbc-a819-d31b385a396a"
      },
      "source": [
        "df.groupby('btype')['price'].mean().sort_values(ascending= False)"
      ],
      "execution_count": 334,
      "outputs": [
        {
          "output_type": "execute_result",
          "data": {
            "text/plain": [
              "btype\n",
              "廠辦      104523.809524\n",
              "廠房       76417.647059\n",
              "別墅       52716.656504\n",
              "電梯大樓     35167.793574\n",
              "倉庫       25404.056604\n",
              "透天厝      23796.915164\n",
              "公寓       19906.734770\n",
              "其他        5700.000000\n",
              "Name: price, dtype: float64"
            ]
          },
          "metadata": {
            "tags": []
          },
          "execution_count": 334
        }
      ]
    },
    {
      "cell_type": "markdown",
      "metadata": {
        "id": "9GvaAWxdG-VA",
        "colab_type": "text"
      },
      "source": [
        "## 小任務\n",
        "- 請幫我統計\n",
        "- 哪個商品的銷量最好?\n",
        "- 哪個商品賣出的金額最高?"
      ]
    },
    {
      "cell_type": "code",
      "metadata": {
        "id": "lsfPYqHrG14l",
        "colab_type": "code",
        "colab": {
          "base_uri": "https://localhost:8080/",
          "height": 202
        },
        "outputId": "1d45dc71-726b-4dee-c8d4-ee1a6bbcc321"
      },
      "source": [
        "import pandas\n",
        "df = pandas.read_csv('https://raw.githubusercontent.com/ywchiu/tibamepy/master/data/purchase_order.tab', header = None,sep = '\\t', )\n",
        "df.columns = ['date', 'action', 'uid', 'pid', 'qty', 'price']\n",
        "df.head()"
      ],
      "execution_count": 341,
      "outputs": [
        {
          "output_type": "execute_result",
          "data": {
            "text/html": [
              "<div>\n",
              "<style scoped>\n",
              "    .dataframe tbody tr th:only-of-type {\n",
              "        vertical-align: middle;\n",
              "    }\n",
              "\n",
              "    .dataframe tbody tr th {\n",
              "        vertical-align: top;\n",
              "    }\n",
              "\n",
              "    .dataframe thead th {\n",
              "        text-align: right;\n",
              "    }\n",
              "</style>\n",
              "<table border=\"1\" class=\"dataframe\">\n",
              "  <thead>\n",
              "    <tr style=\"text-align: right;\">\n",
              "      <th></th>\n",
              "      <th>date</th>\n",
              "      <th>action</th>\n",
              "      <th>uid</th>\n",
              "      <th>pid</th>\n",
              "      <th>qty</th>\n",
              "      <th>price</th>\n",
              "    </tr>\n",
              "  </thead>\n",
              "  <tbody>\n",
              "    <tr>\n",
              "      <th>0</th>\n",
              "      <td>2015-07-01 00:00:01</td>\n",
              "      <td>order</td>\n",
              "      <td>U312622727</td>\n",
              "      <td>P0006944501</td>\n",
              "      <td>1</td>\n",
              "      <td>1069.0</td>\n",
              "    </tr>\n",
              "    <tr>\n",
              "      <th>1</th>\n",
              "      <td>2015-07-01 00:00:03</td>\n",
              "      <td>order</td>\n",
              "      <td>U239012343</td>\n",
              "      <td>P0006018073</td>\n",
              "      <td>1</td>\n",
              "      <td>1680.0</td>\n",
              "    </tr>\n",
              "    <tr>\n",
              "      <th>2</th>\n",
              "      <td>2015-07-01 00:00:19</td>\n",
              "      <td>order</td>\n",
              "      <td>U10007697373</td>\n",
              "      <td>P0002267974</td>\n",
              "      <td>1</td>\n",
              "      <td>285.0</td>\n",
              "    </tr>\n",
              "    <tr>\n",
              "      <th>3</th>\n",
              "      <td>2015-07-01 00:01:10</td>\n",
              "      <td>order</td>\n",
              "      <td>U296328517</td>\n",
              "      <td>P0016144236</td>\n",
              "      <td>1</td>\n",
              "      <td>550.0</td>\n",
              "    </tr>\n",
              "    <tr>\n",
              "      <th>4</th>\n",
              "      <td>2015-07-01 00:01:36</td>\n",
              "      <td>order</td>\n",
              "      <td>U300884570</td>\n",
              "      <td>P0014516980122</td>\n",
              "      <td>1</td>\n",
              "      <td>249.0</td>\n",
              "    </tr>\n",
              "  </tbody>\n",
              "</table>\n",
              "</div>"
            ],
            "text/plain": [
              "                  date action           uid             pid  qty   price\n",
              "0  2015-07-01 00:00:01  order    U312622727     P0006944501    1  1069.0\n",
              "1  2015-07-01 00:00:03  order    U239012343     P0006018073    1  1680.0\n",
              "2  2015-07-01 00:00:19  order  U10007697373     P0002267974    1   285.0\n",
              "3  2015-07-01 00:01:10  order    U296328517     P0016144236    1   550.0\n",
              "4  2015-07-01 00:01:36  order    U300884570  P0014516980122    1   249.0"
            ]
          },
          "metadata": {
            "tags": []
          },
          "execution_count": 341
        }
      ]
    },
    {
      "cell_type": "code",
      "metadata": {
        "id": "8Zh7KAt_HEkQ",
        "colab_type": "code",
        "colab": {}
      },
      "source": [
        ""
      ],
      "execution_count": 0,
      "outputs": []
    }
  ]
}